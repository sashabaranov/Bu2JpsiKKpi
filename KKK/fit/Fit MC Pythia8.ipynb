{
 "metadata": {
  "name": "",
  "signature": "sha256:a5309a5fdc75c228032cabf74a29230b5fd3b44cb5fc4f8e5107e6eb03437742"
 },
 "nbformat": 3,
 "nbformat_minor": 0,
 "worksheets": [
  {
   "cells": [
    {
     "cell_type": "heading",
     "level": 1,
     "metadata": {},
     "source": [
      "$B_{u} \\to J/\\psi \\, KKK$ MC Pythia8 fit"
     ]
    },
    {
     "cell_type": "markdown",
     "metadata": {},
     "source": [
      "Basic imports:"
     ]
    },
    {
     "cell_type": "code",
     "collapsed": false,
     "input": [
      "import ROOT, random\n",
      "from   PyPAW import *\n",
      "from   PyPAW.PyRoUts import *\n",
      "import PyPAW.FitModels as Models\n",
      "\n",
      "from ostap import rootnotes"
     ],
     "language": "python",
     "metadata": {},
     "outputs": [
      {
       "output_type": "stream",
       "stream": "stdout",
       "text": [
        "# PyPAW.PyRoUts             INFO    Zillions of decorations for ROOT   objects\n"
       ]
      },
      {
       "output_type": "stream",
       "stream": "stdout",
       "text": [
        "# PyPAW.TreeDeco            INFO    Some useful decorations for Tree/Chain objects\n"
       ]
      },
      {
       "output_type": "stream",
       "stream": "stdout",
       "text": [
        "# PyPAW.MinuitDeco          INFO    Some useful decorations for (T)Minuit functions\n"
       ]
      },
      {
       "output_type": "stream",
       "stream": "stdout",
       "text": [
        "# PyPAW.RooFitDeco          INFO    Some useful decorations for RooFit objects\n"
       ]
      },
      {
       "output_type": "stream",
       "stream": "stdout",
       "text": [
        "# PyPAW.HTextDeco           INFO    Some useful decorations for Histo&Text objects\n"
       ]
      },
      {
       "output_type": "stream",
       "stream": "stdout",
       "text": [
        "# setting LC_ALL to \"C\"\n",
        "# PyPAW.HTextDeco           INFO    Histogram utilities from GaudiPython.HistoUtils\n"
       ]
      },
      {
       "output_type": "stream",
       "stream": "stdout",
       "text": [
        "# PyPAW.HParamDeco          INFO    Some parameterization utilities for Histo objects\n"
       ]
      },
      {
       "output_type": "stream",
       "stream": "stdout",
       "text": [
        "# PyPAW.HCmpDeco            INFO    Some specific comparison of histo-objects\n"
       ]
      },
      {
       "output_type": "stream",
       "stream": "stdout",
       "text": [
        "# PyPAW.MiscDeco            INFO    Some useful decorations for File/Canvas objects\n"
       ]
      }
     ],
     "prompt_number": 1
    },
    {
     "cell_type": "markdown",
     "metadata": {},
     "source": [
      "Variables to work with:"
     ]
    },
    {
     "cell_type": "code",
     "collapsed": false,
     "input": [
      "# Bu meson\n",
      "m_Bu = ROOT.RooRealVar('m_Bu', 'mass(J/\\psi K \\pi \\pi)', 5.15, 5.45)\n",
      "nbin_Bu = 100\n",
      "binning_b = (m_Bu.getMax() - m_Bu.getMin()) / nbin_Bu * 1000\n",
      "\n",
      "\n",
      "selector_variables = [(m_Bu, lambda s: s.DTFm_b )]"
     ],
     "language": "python",
     "metadata": {},
     "outputs": [],
     "prompt_number": 2
    },
    {
     "cell_type": "markdown",
     "metadata": {},
     "source": [
      "Project nTuple to Roofit's dataset:"
     ]
    },
    {
     "cell_type": "code",
     "collapsed": false,
     "input": [
      "from PyPAW.Selectors import SelectorWithVars\n",
      "\n",
      "from cuts import *\n",
      "from data import mc_Pythia6, mc_Pythia8, mc_total\n",
      "\n",
      "cuts_Bu += mctrue\n",
      "\n",
      "sel_Bu = SelectorWithVars(\n",
      "    variables=selector_variables,\n",
      "    selection=cuts_Bu\n",
      ")\n",
      "\n",
      "\n",
      "mc_Pythia8.data.process(sel_Bu)\n",
      "\n",
      "ds_Bu = sel_Bu.dataset()"
     ],
     "language": "python",
     "metadata": {},
     "outputs": [
      {
       "output_type": "stream",
       "stream": "stdout",
       "text": [
        "# PyPAW.ZipShelve           INFO    Simple generic (c)Pickle-based ``zipped''-database\n"
       ]
      },
      {
       "output_type": "stream",
       "stream": "stdout",
       "text": [
        "# PyPAW.shelve_ext          INFO    Decorate shelve.open method\n"
       ]
      },
      {
       "output_type": "stream",
       "stream": "stdout",
       "text": [
        "# PyPAW.shelve_ext          INFO    Add 'ls' method for shelve.Shelf class\n"
       ]
      },
      {
       "output_type": "stream",
       "stream": "stdout",
       "text": [
        "DEFINE default storage type to be TTree! \n",
        "# data                      INFO    Selection 7: <Luminosity: ( 3082.18 +- 61.9831 ); #files: 46; Entries: 514454>\n"
       ]
      },
      {
       "output_type": "stream",
       "stream": "stdout",
       "text": [
        "# PyPAW.Selectors/ds_1000   INFO    TChain entries: 94924\n"
       ]
      },
      {
       "output_type": "stream",
       "stream": "stdout",
       "text": [
        "[                                                                                ] 0% \r",
        "[ ##                                                                             ] 3%"
       ]
      },
      {
       "output_type": "stream",
       "stream": "stdout",
       "text": [
        " \r",
        "[ ###                                                                            ] 5%"
       ]
      },
      {
       "output_type": "stream",
       "stream": "stdout",
       "text": [
        " \r",
        "[ #####                                                                          ] 7% \r",
        "[ #######                                                                        ] 10%"
       ]
      },
      {
       "output_type": "stream",
       "stream": "stdout",
       "text": [
        " \r",
        "[ #########                                                                      ] 12%"
       ]
      },
      {
       "output_type": "stream",
       "stream": "stdout",
       "text": [
        " \r",
        "[ ###########                                                                    ] 15%"
       ]
      },
      {
       "output_type": "stream",
       "stream": "stdout",
       "text": [
        " \r",
        "[ #############                                                                  ] 17%"
       ]
      },
      {
       "output_type": "stream",
       "stream": "stdout",
       "text": [
        " \r",
        "[ ###############                                                                ] 20%"
       ]
      },
      {
       "output_type": "stream",
       "stream": "stdout",
       "text": [
        " \r",
        "[ #################                                                              ] 22% \r",
        "[ ###################                                                            ] 25%"
       ]
      },
      {
       "output_type": "stream",
       "stream": "stdout",
       "text": [
        " \r",
        "[ #####################                                                          ] 27%"
       ]
      },
      {
       "output_type": "stream",
       "stream": "stdout",
       "text": [
        " \r",
        "[ #######################                                                        ] 30%"
       ]
      },
      {
       "output_type": "stream",
       "stream": "stdout",
       "text": [
        " \r",
        "[ #########################                                                      ] 33%"
       ]
      },
      {
       "output_type": "stream",
       "stream": "stdout",
       "text": [
        " \r",
        "[ ###########################                                                    ] 35%"
       ]
      },
      {
       "output_type": "stream",
       "stream": "stdout",
       "text": [
        " \r",
        "[ #############################                                                  ] 38%"
       ]
      },
      {
       "output_type": "stream",
       "stream": "stdout",
       "text": [
        " \r",
        "[ ###############################                                                ] 41%"
       ]
      },
      {
       "output_type": "stream",
       "stream": "stdout",
       "text": [
        " \r",
        "[ #################################                                              ] 43%"
       ]
      },
      {
       "output_type": "stream",
       "stream": "stdout",
       "text": [
        " \r",
        "[ ###################################                                            ] 46%"
       ]
      },
      {
       "output_type": "stream",
       "stream": "stdout",
       "text": [
        " \r",
        "[ ######################################                                         ] 49%"
       ]
      },
      {
       "output_type": "stream",
       "stream": "stdout",
       "text": [
        " \r",
        "[ #######################################                                        ] 51%"
       ]
      },
      {
       "output_type": "stream",
       "stream": "stdout",
       "text": [
        " \r",
        "[ ##########################################                                     ] 54% \r",
        "[ ###########################################                                    ] 56%"
       ]
      },
      {
       "output_type": "stream",
       "stream": "stdout",
       "text": [
        " \r",
        "[ ##############################################                                 ] 59%"
       ]
      },
      {
       "output_type": "stream",
       "stream": "stdout",
       "text": [
        " \r",
        "[ ################################################                               ] 62%"
       ]
      },
      {
       "output_type": "stream",
       "stream": "stdout",
       "text": [
        " \r",
        "[ #################################################                              ] 64%"
       ]
      },
      {
       "output_type": "stream",
       "stream": "stdout",
       "text": [
        " \r",
        "[ ####################################################                           ] 67%"
       ]
      },
      {
       "output_type": "stream",
       "stream": "stdout",
       "text": [
        " \r",
        "[ ######################################################                         ] 70% \r",
        "[ ########################################################                       ] 73%"
       ]
      },
      {
       "output_type": "stream",
       "stream": "stdout",
       "text": [
        " \r",
        "[ ##########################################################                     ] 75%"
       ]
      },
      {
       "output_type": "stream",
       "stream": "stdout",
       "text": [
        " \r",
        "[ ############################################################                   ] 78%"
       ]
      },
      {
       "output_type": "stream",
       "stream": "stdout",
       "text": [
        " \r",
        "[ ##############################################################                 ] 80%"
       ]
      },
      {
       "output_type": "stream",
       "stream": "stdout",
       "text": [
        " \r",
        "[ ################################################################               ] 83%"
       ]
      },
      {
       "output_type": "stream",
       "stream": "stdout",
       "text": [
        " \r",
        "[ ###################################################################            ] 86%"
       ]
      },
      {
       "output_type": "stream",
       "stream": "stdout",
       "text": [
        " \r",
        "[ #####################################################################          ] 89%"
       ]
      },
      {
       "output_type": "stream",
       "stream": "stdout",
       "text": [
        " \r",
        "[ ######################################################################         ] 91%"
       ]
      },
      {
       "output_type": "stream",
       "stream": "stdout",
       "text": [
        " \r",
        "[ #########################################################################      ] 94%"
       ]
      },
      {
       "output_type": "stream",
       "stream": "stdout",
       "text": [
        " \r",
        "[ ###########################################################################    ] 97% \r",
        "[ #############################################################################  ] 99%"
       ]
      },
      {
       "output_type": "stream",
       "stream": "stdout",
       "text": [
        " \r",
        "[ ############################################################################## ] 100% \r",
        "[ ############################################################################## ] 100% \r\n",
        "# PyPAW.Selectors/ds_1000   INFO    Events Processed/Total/Skept 19136/94924/1\n",
        "CUTS: \" DTFchi2ndof > 0&& DTFchi2ndof < 5&& DTFctau > 0.25&& pt_b > 4.&& pt_kaon[0] > 0.7 && pt_kaon[1] > 0.7  && pt_kaon[2] > 0.7&& m_jpsi    > 3.020 && m_jpsi    < 3.135&& minann_K  > 0.3&& ((psi_l0tos & 2) == 2)&& ((psi_l1tos & 2) == 2)&& ((psi_l2tos & 2) == 2)&& MIPCHI2DV_k1 > 16. && MIPCHI2DV_k2 > 16. && MIPCHI2DV_k3 > 16. && mcTrueB && mcTruePsi && mcTrueK1 && mcTrueK2 && mcTrueK3 && mcTrueMu1 && mcTrueMu2\"\n"
       ]
      }
     ],
     "prompt_number": 3
    },
    {
     "cell_type": "markdown",
     "metadata": {},
     "source": [
      "Fit model(Double-sided Crystal Ball width exponent fixed to 0):"
     ]
    },
    {
     "cell_type": "code",
     "collapsed": false,
     "input": [
      "s1_Bu = Models.CB2_pdf(\n",
      "    'Bu1',\n",
      "    m_Bu.getMin(),\n",
      "    m_Bu.getMax(),\n",
      "    fixMass=5.2792e+0,\n",
      "    fixSigma=0.008499e+0,\n",
      "    fixAlphaL=2.1005,\n",
      "    fixAlphaR=1.8805,\n",
      "    fixNL=1.215,\n",
      "    fixNR=2.765,\n",
      "    mass=m_Bu\n",
      ")\n",
      "\n",
      "\n",
      "model_Bu = Models.Fit1D(\n",
      "    signal=s1_Bu,\n",
      "    background=Models.Bkg_pdf('BBu', mass=m_Bu), suffix='Bu'\n",
      ")\n",
      "\n",
      "model_Bu.b.fix(0)\n",
      "model_Bu.background.tau.fix(0)"
     ],
     "language": "python",
     "metadata": {},
     "outputs": [
      {
       "metadata": {},
       "output_type": "pyout",
       "prompt_number": 4,
       "text": [
        "( 0 +- 0 )"
       ]
      }
     ],
     "prompt_number": 4
    },
    {
     "cell_type": "markdown",
     "metadata": {},
     "source": [
      "Do fitting:"
     ]
    },
    {
     "cell_type": "code",
     "collapsed": false,
     "input": [
      "model_Bu.s.setMax(1.2 * len(ds_Bu))\n",
      "ru, fu = model_Bu.fitTo(ds_Bu, draw=True, nbins=nbin_Bu)\n",
      "\n",
      "model_Bu.signal.sigma.release()\n",
      "model_Bu.signal.mean.release()\n",
      "ru, fu = model_Bu.fitTo(ds_Bu, draw=True, nbins=nbin_Bu)\n",
      "\n",
      "model_Bu.signal.aR.release()\n",
      "model_Bu.signal.aL.release()\n",
      "ru, fu = model_Bu.fitTo(ds_Bu, draw=True, nbins=nbin_Bu)\n",
      "\n",
      "model_Bu.signal.nR.release()\n",
      "model_Bu.signal.nL.release()\n",
      "\n",
      "ru, fu = model_Bu.fitTo(ds_Bu, draw=True, nbins=nbin_Bu)"
     ],
     "language": "python",
     "metadata": {},
     "outputs": [],
     "prompt_number": 5
    },
    {
     "cell_type": "markdown",
     "metadata": {},
     "source": [
      "Plot results(log scale):"
     ]
    },
    {
     "cell_type": "code",
     "collapsed": false,
     "input": [
      "canvas = rootnotes.random_canvas(size=(1024, 768))\n",
      "\n",
      "fu.SetXTitle(\"Inv.\\,mass(J/\\psi\\,KKK), GeV/c^{2}}\")\n",
      "fu.SetYTitle(\"Events / %.1f MeV/c^{2}\" % binning_b)\n",
      "\n",
      "fu.SetAxisRange(0.5, 5500, 'Y')\n",
      "\n",
      "fu.Draw()\n",
      "\n",
      "\n",
      "canvas.SetLogy()\n",
      "canvas"
     ],
     "language": "python",
     "metadata": {},
     "outputs": [
      {
       "metadata": {},
       "output_type": "pyout",
       "png": "[encoded data removed]",
       "prompt_number": 11,
       "text": [
        "<ROOT.TCanvas object (\"fb5932b2-e0fc-4b12-a200-19611928d917\") at 0x8784e40>"
       ]
      }
     ],
     "prompt_number": 11
    },
    {
     "cell_type": "markdown",
     "metadata": {},
     "source": [
      "Plot results(linear scale):"
     ]
    },
    {
     "cell_type": "code",
     "collapsed": false,
     "input": [
      "canvas = rootnotes.random_canvas(size=(1024, 768))\n",
      "\n",
      "fu.SetXTitle(\"Inv.\\,mass(J/\\psi\\,KKK), GeV/c^{2}}\")\n",
      "fu.SetYTitle(\"Events / %.1f MeV/c^{2}\" % binning_b)\n",
      "\n",
      "y_axis = fu.GetYaxis()\n",
      "y_axis.SetTitleOffset(1.3)\n",
      "\n",
      "fu.Draw()\n",
      "\n",
      "canvas"
     ],
     "language": "python",
     "metadata": {},
     "outputs": [
      {
       "metadata": {},
       "output_type": "pyout",
       "png": "[encoded data removed]",
       "prompt_number": 12,
       "text": [
        "<ROOT.TCanvas object (\"8e32a28c-2bbf-486e-8bd9-0fa83feb8c3d\") at 0x8784490>"
       ]
      }
     ],
     "prompt_number": 12
    },
    {
     "cell_type": "markdown",
     "metadata": {},
     "source": [
      "__Print fit result status:__"
     ]
    },
    {
     "cell_type": "code",
     "collapsed": false,
     "input": [
      "statuses = {\n",
      "    -1 : \"Unknown, matrix was externally provided\",\n",
      "    0  : \"Not calculated at all\",\n",
      "    1  : \"Approximation only, not accurate\",\n",
      "    2  : \"Full matrix, but forced positive-definite\",\n",
      "    3  : \"Full, accurate covariance matrix\"\n",
      "} # see http://root.cern.ch/root/html/src/RooFitResult.cxx.html\n",
      "\n",
      "print statuses[ru.covQual()]"
     ],
     "language": "python",
     "metadata": {},
     "outputs": [
      {
       "output_type": "stream",
       "stream": "stdout",
       "text": [
        "Full, accurate covariance matrix\n"
       ]
      }
     ],
     "prompt_number": 8
    },
    {
     "cell_type": "markdown",
     "metadata": {},
     "source": [
      "__Print fit resulting parameters:__"
     ]
    },
    {
     "cell_type": "code",
     "collapsed": false,
     "input": [
      "from IPython.display import HTML\n",
      "s = \"<table><tr><th>Name</th> <th>Value</th> <th>Min</th> <th>Max</th> </tr>\"\n",
      "\n",
      "\n",
      "for name, val in ru.parameters().items():\n",
      "    s += \"<tr><th>{}</th> <th>{}</th> <th>{}</th> <th>{}</th> </tr>\".format(name, val[0], val[1].getMin(), val[1].getMax())\n",
      "\n",
      "s += \"</table>\"\n",
      "html = HTML(s); html"
     ],
     "language": "python",
     "metadata": {},
     "outputs": [
      {
       "html": [
        "<table><tr><th>Name</th> <th>Value</th> <th>Min</th> <th>Max</th> </tr><tr><th>aR_Bu1</th> <th>( 1.88907 +- 0.0586498 )</th> <th>0.0</th> <th>10.0</th> </tr><tr><th>SBu</th> <th>( 19135.2 +- 138.326 )</th> <th>0.0</th> <th>22962.0</th> </tr><tr><th>aL_Bu1</th> <th>( 2.09182 +- 0.0622621 )</th> <th>0.0</th> <th>10.0</th> </tr><tr><th>sigma_Bu1</th> <th>( 0.00415789 +- 3.64939e-05 )</th> <th>0.0</th> <th>0.103923048454</th> </tr><tr><th>nR_Bu1</th> <th>( 2.88112 +- 0.350757 )</th> <th>0.0</th> <th>10.0</th> </tr><tr><th>nL_Bu1</th> <th>( 1.28999 +- 0.165104 )</th> <th>0.0</th> <th>10.0</th> </tr><tr><th>mean_Bu1</th> <th>( 5.2796 +- 3.52212e-05 )</th> <th>5.15</th> <th>5.45</th> </tr></table>"
       ],
       "metadata": {},
       "output_type": "pyout",
       "prompt_number": 9,
       "text": [
        "<IPython.core.display.HTML at 0x820a390>"
       ]
      }
     ],
     "prompt_number": 9
    },
    {
     "cell_type": "code",
     "collapsed": false,
     "input": [
      "print ru # output goes to terminal"
     ],
     "language": "python",
     "metadata": {},
     "outputs": [
      {
       "output_type": "stream",
       "stream": "stdout",
       "text": [
        "RooFitResult\n"
       ]
      }
     ],
     "prompt_number": 10
    }
   ],
   "metadata": {}
  }
 ]
}