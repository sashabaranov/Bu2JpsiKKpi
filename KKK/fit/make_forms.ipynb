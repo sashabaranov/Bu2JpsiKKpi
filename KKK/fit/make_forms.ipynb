{
 "metadata": {
  "name": "",
  "signature": "sha256:a0482c8e6bf83c95aac61d16be0a5ee2869e17afed0bbcf93f37e31a22a4a39b"
 },
 "nbformat": 3,
 "nbformat_minor": 0,
 "worksheets": [
  {
   "cells": [
    {
     "cell_type": "code",
     "collapsed": false,
     "input": [
      "from tools import *\n",
      "from ostap import *\n",
      "from fit_rd import ds_Bu\n",
      "from data import mc_Pythia6, mc_Pythia8\n",
      "import shelve"
     ],
     "language": "python",
     "metadata": {},
     "outputs": [],
     "prompt_number": 25
    },
    {
     "cell_type": "markdown",
     "metadata": {},
     "source": [
      "Open db:"
     ]
    },
    {
     "cell_type": "code",
     "collapsed": false,
     "input": [
      "db = shelve.open('$KKpidir/fit/histos.shelve')"
     ],
     "language": "python",
     "metadata": {},
     "outputs": [],
     "prompt_number": 26
    },
    {
     "cell_type": "markdown",
     "metadata": {},
     "source": [
      "RD hists:"
     ]
    },
    {
     "cell_type": "code",
     "collapsed": false,
     "input": [
      "\n",
      "hists = [\n",
      "    (\"k1\", \"mass_k1aspi\", \"SBu_sw\"),\n",
      "    (\"k2\", \"mass_k2aspi\", \"SBu_sw\"),\n",
      "]\n",
      "\n",
      "d = {\n",
      "    'RD': {param[0]: make_hist(ds_Bu, *param) for param in hists}\n",
      "}\n",
      "\n"
     ],
     "language": "python",
     "metadata": {},
     "outputs": [
      {
       "output_type": "stream",
       "stream": "stderr",
       "text": [
        "TROOT::Append:0: RuntimeWarning: Replacing existing TH1: k1 (Potential memory leak).\n"
       ]
      }
     ],
     "prompt_number": 27
    },
    {
     "cell_type": "markdown",
     "metadata": {},
     "source": [
      "MC hists:"
     ]
    },
    {
     "cell_type": "code",
     "collapsed": false,
     "input": [
      "hists = [\n",
      "    [\"k1\", \"mass_k1aspi\", \"\"],\n",
      "    [\"k2\", \"mass_k2aspi\", \"\"],\n",
      "]\n",
      "\n",
      "\n",
      "d['MC'] = {}\n",
      "\n",
      "for param in hists:\n",
      "    default = param[0]\n",
      "\n",
      "    param[0] = \"p6_\" + default\n",
      "    d['MC'][param[0]] = make_hist_mc(mc_Pythia6.chain, *param)\n",
      "\n",
      "    param[0] = \"p8_\" + default\n",
      "    d['MC'][param[0]] = make_hist_mc(mc_Pythia8.chain, *param)\n",
      "\n",
      "\n",
      "\n",
      "db['KKK'] = d\n",
      "\n",
      "db.sync()\n",
      "db.close()"
     ],
     "language": "python",
     "metadata": {},
     "outputs": [],
     "prompt_number": 28
    },
    {
     "cell_type": "code",
     "collapsed": false,
     "input": [
      "db = shelve.open('$KKpidir/fit/histos.shelve')"
     ],
     "language": "python",
     "metadata": {},
     "outputs": [],
     "prompt_number": 29
    },
    {
     "cell_type": "code",
     "collapsed": false,
     "input": [
      "titleX = 'Inv. mass(J/#psi KKK) with misid, GeV/c^{2}'\n",
      "# titleY = \"Events / (%.1f \\, MeV/c^{2})\" % (histos[0][0].GetBinWidth(0) * 1000)\n",
      "titleY = \"Shape(normailzed)\" "
     ],
     "language": "python",
     "metadata": {},
     "outputs": [],
     "prompt_number": 30
    },
    {
     "cell_type": "code",
     "collapsed": false,
     "input": [
      "# histos = [(x, True) for x in db['KKK']['MC'].values()]\n",
      "histos = [(x, False) for x in db['KKK']['RD'].values()] + [(x, True) for x in db['KKK']['MC'].values()]\n",
      "\n",
      "for el in histos:\n",
      "    h, MC = el\n",
      "    h.Sumw2()\n",
      "    h.Scale(1.0/h.Integral())\n",
      "    h.Smooth(50)\n",
      "\n",
      "histos = sorted(histos, key=lambda el: -el[0].GetMaximum())\n",
      "\n",
      "canvas = rootnotes.random_canvas(size=(1024,768))\n",
      "\n",
      "legend = ROOT.TLegend(0.6, 0.7, 0.9, 0.9)\n",
      "legend.SetFillColor(ROOT.kWhite)\n",
      "\n",
      "\n",
      "\n",
      "for i, el in enumerate(histos):\n",
      "    h, MC = el\n",
      "    col = i + 2\n",
      "\n",
      "    y_axis = h.GetYaxis()\n",
      "    y_axis.SetTitleOffset(1.1)\n",
      "\n",
      "    h.SetLineWidth(3)\n",
      "    h.SetLineColor(col)\n",
      "    # h.SetFillColor(col)\n",
      "    h.SetMarkerColor(col)\n",
      "\n",
      "    h.SetXTitle(titleX)\n",
      "    h.SetYTitle(titleY)\n",
      "    h.SetStats(0)\n",
      "    y_axis = h.GetYaxis()\n",
      "    y_axis.SetTitleOffset(1.3)\n",
      "    \n",
      "    h.Draw('hist same c ')\n",
      "    h.SetMarkerSize(0.01)\n",
      "    legend.AddEntry(h.GetName(), make_legend(h.GetName(), mc=MC), \"l\")\n",
      "\n",
      "legend.Draw()\n",
      "\n",
      "canvas"
     ],
     "language": "python",
     "metadata": {},
     "outputs": [
      {
       "output_type": "stream",
       "stream": "stderr",
       "text": [
        "TH1F::Sumw2:0: RuntimeWarning: Sum of squares of weights structure already created\n",
        "TH1F::Sumw2:0: RuntimeWarning: Sum of squares of weights structure already created\n",
        "TH1F::Sumw2:0: RuntimeWarning: Sum of squares of weights structure already created\n",
        "TH1F::Sumw2:0: RuntimeWarning: Sum of squares of weights structure already created\n",
        "TH1F::Sumw2:0: RuntimeWarning: Sum of squares of weights structure already created\n",
        "TH1F::Sumw2:0: RuntimeWarning: Sum of squares of weights structure already created\n"
       ]
      },
      {
       "metadata": {},
       "output_type": "pyout",
       "png": "[encoded data removed]",
       "prompt_number": 48,
       "text": [
        "<ROOT.TCanvas object (\"44cbfbcb-78ad-4074-b3b4-fbc7783b5dab\") at 0x87c2d90>"
       ]
      }
     ],
     "prompt_number": 48
    },
    {
     "cell_type": "code",
     "collapsed": false,
     "input": [
      "\n",
      "\n",
      "for h in histos:\n",
      "    delim = h[0].FindBin(5.22)\n",
      "    total_bins = h[0].GetNbinsX()\n",
      "    \n",
      "    print h[0].Integral(delim, total_bins) / (h[0].Integral(0, delim) + h[0].Integral(delim, total_bins))"
     ],
     "language": "python",
     "metadata": {},
     "outputs": [
      {
       "output_type": "stream",
       "stream": "stdout",
       "text": [
        "-0.00111866342722\n",
        "-0.00339756537306\n",
        "0.0326368523482\n",
        "0.0288977979102\n",
        "0.0420527685587\n",
        "0.0367396695983\n"
       ]
      }
     ],
     "prompt_number": 47
    },
    {
     "cell_type": "code",
     "collapsed": false,
     "input": [],
     "language": "python",
     "metadata": {},
     "outputs": []
    }
   ],
   "metadata": {}
  }
 ]
}