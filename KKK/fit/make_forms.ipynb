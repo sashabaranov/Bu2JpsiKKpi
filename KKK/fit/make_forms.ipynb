{
 "metadata": {
  "name": "",
  "signature": "sha256:b2a3894a40640aaf52846149a1c4c535e8e1a7640da8172004fbf1c0ac3f4ebc"
 },
 "nbformat": 3,
 "nbformat_minor": 0,
 "worksheets": [
  {
   "cells": [
    {
     "cell_type": "code",
     "collapsed": false,
     "input": [
      "from tools import *\n",
      "from ostap import *\n",
      "from fit_rd import ds_Bu\n",
      "from data import mc_Pythia6, mc_Pythia8\n",
      "import shelve"
     ],
     "language": "python",
     "metadata": {},
     "outputs": [
      {
       "output_type": "stream",
       "stream": "stdout",
       "text": [
        "importing IPython notebook from fit_rd.ipynb\n",
        "# Ostap.PyRoUts             INFO    Zillions of decorations for ROOT   objects\n"
       ]
      },
      {
       "output_type": "stream",
       "stream": "stdout",
       "text": [
        "# setting LC_ALL to \"C\"\n",
        "importing IPython notebook from mc_average.ipynb"
       ]
      },
      {
       "output_type": "stream",
       "stream": "stdout",
       "text": [
        "\n",
        "importing IPython notebook from fit_mc_p6.ipynb\n",
        "DEFINE default storage type to be TTree! "
       ]
      },
      {
       "output_type": "stream",
       "stream": "stdout",
       "text": [
        "\n",
        "# data                      INFO    Selection 7: <Luminosity: ( 3081.23 +- 61.9479 )pb-1; #files: 46; Entries: 514281>\n"
       ]
      },
      {
       "output_type": "stream",
       "stream": "stdout",
       "text": [
        "# Ostap.ZipShelve           INFO    Open DB: /home/sashab1/.ostap/cache/455b1e5d62194ec873d161d19db88e3774f8875d2e036dd88ac9cd62e772462205e4d1d46d1462e38cf9f5f3bd469db40230fe2031e6b8548d005160650d53d6.shelve\n"
       ]
      },
      {
       "output_type": "stream",
       "stream": "stdout",
       "text": [
        "importing IPython notebook from fit_mc_p8.ipynb\n",
        "# Ostap.ZipShelve           INFO    Open DB: /home/sashab1/.ostap/cache/fb44ca3cd009ec31bc0ac83b3cb4cd09e8775e71410acc3b72e27eb278a4bd4879dd6f666ee73fcb6fd42b7f3af5947eff9744e3d0284583cb072e681fc62e48.shelve\n"
       ]
      },
      {
       "output_type": "stream",
       "stream": "stdout",
       "text": [
        "# Ostap.ZipShelve           INFO    Open DB: /home/sashab1/.ostap/cache/f6f1357ed32ac28d5163697f8abda6d6af29473d90bd9e8410609433e804c532c9d2ee1f413c103bb3baa73505e1b11e8c888b0649c2d164067e053bf5d8ad23.shelve\n"
       ]
      },
      {
       "output_type": "stream",
       "stream": "stderr",
       "text": [
        "TClass::TClass:0: RuntimeWarning: no dictionary for class stack<RooAbsArg*,deque<RooAbsArg*> > is available\n"
       ]
      }
     ],
     "prompt_number": 1
    },
    {
     "cell_type": "markdown",
     "metadata": {},
     "source": [
      "Open db:"
     ]
    },
    {
     "cell_type": "code",
     "collapsed": false,
     "input": [
      "db = shelve.open('$KKpidir/fit/histos.shelve')"
     ],
     "language": "python",
     "metadata": {},
     "outputs": [],
     "prompt_number": 2
    },
    {
     "cell_type": "markdown",
     "metadata": {},
     "source": [
      "RD hists:"
     ]
    },
    {
     "cell_type": "code",
     "collapsed": false,
     "input": [
      "\n",
      "hists = [\n",
      "    (\"k1\", \"mass_k1aspi\", \"SBu_sw\"),\n",
      "    (\"k2\", \"mass_k2aspi\", \"SBu_sw\"),\n",
      "]\n",
      "\n",
      "d = {\n",
      "    'RD': {param[0]: make_hist(ds_Bu, *param) for param in hists}\n",
      "}\n",
      "\n"
     ],
     "language": "python",
     "metadata": {},
     "outputs": [],
     "prompt_number": 3
    },
    {
     "cell_type": "markdown",
     "metadata": {},
     "source": [
      "MC hists:"
     ]
    },
    {
     "cell_type": "code",
     "collapsed": false,
     "input": [
      "hists = [\n",
      "    [\"k1\", \"mass_k1aspi\", \"\"],\n",
      "    [\"k2\", \"mass_k2aspi\", \"\"],\n",
      "]\n",
      "\n",
      "\n",
      "d['MC'] = {}\n",
      "\n",
      "for param in hists:\n",
      "    default = param[0]\n",
      "\n",
      "    param[0] = \"p6_\" + default\n",
      "    d['MC'][param[0]] = make_hist_mc(mc_Pythia6.chain, *param)\n",
      "\n",
      "    param[0] = \"p8_\" + default\n",
      "    d['MC'][param[0]] = make_hist_mc(mc_Pythia8.chain, *param)\n",
      "\n",
      "\n",
      "\n",
      "db['KKK'] = d\n",
      "\n",
      "db.sync()\n",
      "db.close()"
     ],
     "language": "python",
     "metadata": {},
     "outputs": [],
     "prompt_number": 4
    },
    {
     "cell_type": "code",
     "collapsed": false,
     "input": [
      "db = shelve.open('$KKpidir/fit/histos.shelve')"
     ],
     "language": "python",
     "metadata": {},
     "outputs": [],
     "prompt_number": 5
    },
    {
     "cell_type": "code",
     "collapsed": false,
     "input": [
      "titleX = 'Inv. mass(J/#psi KKK) with misid, GeV/c^{2}'\n",
      "# titleY = \"Events / (%.1f \\, MeV/c^{2})\" % (histos[0][0].GetBinWidth(0) * 1000)\n",
      "titleY = \"Shape(normailzed)\" "
     ],
     "language": "python",
     "metadata": {},
     "outputs": [],
     "prompt_number": 6
    },
    {
     "cell_type": "code",
     "collapsed": false,
     "input": [
      "# histos = [(x, True) for x in db['KKK']['MC'].values()]\n",
      "histos = [(x, False) for x in db['KKK']['RD'].values()] + [(x, True) for x in db['KKK']['MC'].values()]\n",
      "\n",
      "for el in histos:\n",
      "    h, MC = el\n",
      "    h.Sumw2()\n",
      "    h.Scale(1.0/h.Integral())\n",
      "    h.Smooth(50)\n",
      "\n",
      "histos = sorted(histos, key=lambda el: -el[0].GetMaximum())\n",
      "\n",
      "canvas = rootnotes.random_canvas(size=(1024,768))\n",
      "\n",
      "legend = ROOT.TLegend(0.6, 0.7, 0.9, 0.9)\n",
      "legend.SetFillColor(ROOT.kWhite)\n",
      "\n",
      "\n",
      "\n",
      "for i, el in enumerate(histos):\n",
      "    h, MC = el\n",
      "    col = i + 2\n",
      "\n",
      "    y_axis = h.GetYaxis()\n",
      "    y_axis.SetTitleOffset(1.1)\n",
      "\n",
      "    h.SetLineWidth(3)\n",
      "    h.SetLineColor(col)\n",
      "    # h.SetFillColor(col)\n",
      "    h.SetMarkerColor(col)\n",
      "\n",
      "    h.SetXTitle(titleX)\n",
      "    h.SetYTitle(titleY)\n",
      "    h.SetStats(0)\n",
      "    y_axis = h.GetYaxis()\n",
      "    y_axis.SetTitleOffset(1.3)\n",
      "    \n",
      "    h.Draw('hist same c ')\n",
      "    h.SetMarkerSize(0.01)\n",
      "    legend.AddEntry(h.GetName(), make_legend(h.GetName(), mc=MC), \"l\")\n",
      "\n",
      "    \n",
      "line1 = ROOT.TLine(5.22, 0.03, 5.22, 0)\n",
      "line1.SetLineColor(ROOT.kRed)\n",
      "line1.Draw('same')\n",
      "line1.SetLineWidth(3)\n",
      "\n",
      "line2 = ROOT.TLine(5.42, 0.03, 5.42, 0)\n",
      "line2.SetLineColor(ROOT.kRed)\n",
      "line2.Draw('same')\n",
      "line2.SetLineWidth(3)\n",
      "\n",
      "\n",
      "legend.Draw()\n",
      "\n",
      "canvas"
     ],
     "language": "python",
     "metadata": {},
     "outputs": [
      {
       "output_type": "stream",
       "stream": "stderr",
       "text": [
        "TH1F::Sumw2:0: RuntimeWarning: Sum of squares of weights structure already created\n",
        "TH1F::Sumw2:0: RuntimeWarning: Sum of squares of weights structure already created\n",
        "TH1F::Sumw2:0: RuntimeWarning: Sum of squares of weights structure already created\n",
        "TH1F::Sumw2:0: RuntimeWarning: Sum of squares of weights structure already created\n",
        "TH1F::Sumw2:0: RuntimeWarning: Sum of squares of weights structure already created\n",
        "TH1F::Sumw2:0: RuntimeWarning: Sum of squares of weights structure already created\n"
       ]
      },
      {
       "metadata": {},
       "output_type": "pyout",
       "png": "[encoded data removed]",
       "prompt_number": 13,
       "text": [
        "<ROOT.TCanvas object (\"23d81cce-8aa8-43cf-a95e-f6105ded2bfd\") at 0xd46ba70>"
       ]
      }
     ],
     "prompt_number": 13
    },
    {
     "cell_type": "code",
     "collapsed": false,
     "input": [
      "\n",
      "\n",
      "for h in histos:\n",
      "    delim = h[0].FindBin(5.22)\n",
      "    total_bins = h[0].GetNbinsX()\n",
      "    \n",
      "    print h[0].Integral(delim, total_bins) / (h[0].Integral(0, delim) + h[0].Integral(delim, total_bins))"
     ],
     "language": "python",
     "metadata": {},
     "outputs": [
      {
       "output_type": "stream",
       "stream": "stdout",
       "text": [
        "-0.00111866342722\n",
        "-0.00339756537306\n",
        "0.0326368523482\n",
        "0.0288977979102\n",
        "0.0420527685587\n",
        "0.0367396695983\n"
       ]
      }
     ],
     "prompt_number": 47
    },
    {
     "cell_type": "code",
     "collapsed": false,
     "input": [],
     "language": "python",
     "metadata": {},
     "outputs": []
    }
   ],
   "metadata": {}
  }
 ]
}