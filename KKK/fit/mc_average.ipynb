{
 "metadata": {
  "name": "",
  "signature": "sha256:bdcbd9106388a41e6d57167dca9e3023f156b973cf71b0456dc88fbaadc5c265"
 },
 "nbformat": 3,
 "nbformat_minor": 0,
 "worksheets": [
  {
   "cells": [
    {
     "cell_type": "code",
     "collapsed": false,
     "input": [
      "from ostap import *\n",
      "\n",
      "from fit_mc_p6 import ru as ru_p6\n",
      "from fit_mc_p8 import ru as ru_p8"
     ],
     "language": "python",
     "metadata": {},
     "outputs": [
      {
       "output_type": "stream",
       "stream": "stdout",
       "text": [
        "importing IPython notebook from fit_mc_p6.ipynb\n",
        "# Ostap.PyRoUts             INFO    Zillions of decorations for ROOT   objects\n"
       ]
      },
      {
       "output_type": "stream",
       "stream": "stdout",
       "text": [
        "# setting LC_ALL to \"C\"\n",
        "DEFINE default storage type to be TTree! "
       ]
      },
      {
       "output_type": "stream",
       "stream": "stdout",
       "text": [
        "\n",
        "# data                      INFO    Selection 7: <Luminosity: ( 3081.23 +- 61.9479 )pb-1; #files: 46; Entries: 514281>\n"
       ]
      },
      {
       "output_type": "stream",
       "stream": "stdout",
       "text": [
        "# Ostap.ZipShelve           INFO    Open DB: /home/sashab1/.ostap/cache/455b1e5d62194ec873d161d19db88e3774f8875d2e036dd88ac9cd62e772462205e4d1d46d1462e38cf9f5f3bd469db40230fe2031e6b8548d005160650d53d6.shelve\n"
       ]
      },
      {
       "output_type": "stream",
       "stream": "stdout",
       "text": [
        "importing IPython notebook from fit_mc_p8.ipynb\n",
        "# Ostap.ZipShelve           INFO    Open DB: /home/sashab1/.ostap/cache/fb44ca3cd009ec31bc0ac83b3cb4cd09e8775e71410acc3b72e27eb278a4bd4879dd6f666ee73fcb6fd42b7f3af5947eff9744e3d0284583cb072e681fc62e48.shelve\n"
       ]
      },
      {
       "output_type": "stream",
       "stream": "stderr",
       "text": [
        "TClass::TClass:0: RuntimeWarning: no dictionary for class stack<RooAbsArg*,deque<RooAbsArg*> > is available\n"
       ]
      }
     ],
     "prompt_number": 2
    },
    {
     "cell_type": "code",
     "collapsed": false,
     "input": [
      "def avg(*args):\n",
      "    return sum([float(_) for _ in args]) / len(args)\n",
      "\n",
      "def avg_mc(param_name):\n",
      "    global ru_p6, ru_p8\n",
      "    return avg(ru_p6(param_name)[0], ru_p8(param_name)[0])\n",
      "\n",
      "def delta_mc(param_name):\n",
      "    global ru_p6, ru_p8\n",
      "    return abs(float(ru_p6(param_name)[0] - ru_p8(param_name)[0])) / avg_mc(param_name)"
     ],
     "language": "python",
     "metadata": {},
     "outputs": [],
     "prompt_number": 3
    },
    {
     "cell_type": "code",
     "collapsed": false,
     "input": [
      "deltas = [\n",
      "    delta_mc(\"sigma_Bu1\"),\n",
      "    delta_mc(\"aL_Bu1\"),\n",
      "    delta_mc(\"aR_Bu1\"),\n",
      "    delta_mc(\"nL_Bu1\"),\n",
      "    delta_mc(\"nR_Bu1\"),\n",
      "]"
     ],
     "language": "python",
     "metadata": {},
     "outputs": [],
     "prompt_number": 4
    },
    {
     "cell_type": "code",
     "collapsed": false,
     "input": [],
     "language": "python",
     "metadata": {},
     "outputs": []
    }
   ],
   "metadata": {}
  }
 ]
}