{
 "metadata": {
  "name": "",
  "signature": "sha256:fadf03acc103cfbaa98cbfd40200472910ec0e577a7b68d2273248f53b825b31"
 },
 "nbformat": 3,
 "nbformat_minor": 0,
 "worksheets": [
  {
   "cells": [
    {
     "cell_type": "code",
     "collapsed": false,
     "input": [
      "from tools import *\n",
      "import ROOT, random\n",
      "from Ostap import *\n",
      "from Ostap.PyRoUts import *\n",
      "from Ostap.Selectors import *\n",
      "\n",
      "import Ostap.FitModels as Models\n",
      "from MyFitModels import Charm3_pdf\n",
      "\n",
      "\n",
      "from data import selection7\n",
      "\n",
      "from ostap import rootnotes\n",
      "\n",
      "def variate(var, minval=None, maxval=None, startval=None):\n",
      "    if minval: var.setMin(minval)\n",
      "    if maxval: var.setMax(maxval)\n",
      "    if startval: var.setVal(startval)"
     ],
     "language": "python",
     "metadata": {},
     "outputs": [
      {
       "output_type": "stream",
       "stream": "stdout",
       "text": [
        "# Ostap Bender              INFO    Welcome to Ostap\n",
        "\n",
        " \n",
        "     .oooooo.                .                        \n",
        "    d8P'  `Y8b             .o8                        \n",
        "   888      888  .oooo.o .o888oo  .oooo.   oo.ooooo.  \n",
        "   888      888 d88(  \"8   888   `P  )88b   888' `88b \n",
        "   888      888 `\"Y88b.    888    .oP\"888   888   888 \n",
        "   `88b    d88' o.  )88b   888 . d8(  888   888   888 \n",
        "    `Y8bood8P'  8\"\"888P'   \"888\" `Y888\"\"8o  888bod8P' \n",
        "                                            888\n",
        "                                           o888o      \n",
        "\n"
       ]
      },
      {
       "output_type": "stream",
       "stream": "stdout",
       "text": [
        "# Ostap Bender              INFO     Simple interactive PyRoot-based analysis environment\n",
        "to provide access to zillions useful decorators for ROOT (and not only ROOT) objects&classes\n",
        "    \n",
        "    This file is a part of BENDER project:\n",
        "\n",
        "  ``Python-based Interactive Environment for Smart and Friendly Physics Analysis''\n",
        "\n",
        "The project has been designed with the kind help from Pere MATO and Andrey TSAREGORODTSEV. \n",
        "\n",
        "And it is based on the LoKi project:\n",
        " \n",
        "   ``C++ ToolKit for Smart and Friendly Physics Analysis''\n",
        "\n",
        "By usage of this code one clearly states the disagreement with the smear campaign \n",
        "of Dr.O.Callot et al.:\n",
        "\n",
        "   ``No Vanya's lines are allowed in LHCb/Gaudi software''\n",
        "\n"
       ]
      },
      {
       "output_type": "stream",
       "stream": "stdout",
       "text": [
        "# Ostap Bender              INFO    Set 'IsBatch' to be False \n"
       ]
      },
      {
       "output_type": "stream",
       "stream": "stdout",
       "text": [
        "# Ostap.PyRoUts             INFO    Zillions of decorations for ROOT   objects\n"
       ]
      },
      {
       "output_type": "stream",
       "stream": "stdout",
       "text": [
        "# setting LC_ALL to \"C\"\n",
        "DEFINE default storage type to be TTree! "
       ]
      },
      {
       "output_type": "stream",
       "stream": "stdout",
       "text": [
        "\n",
        "# data                      INFO    Selection 7: <Luminosity: ( 3082.18 +- 61.9831 )pb-1; #files: 27; Entries: 4020930>\n"
       ]
      },
      {
       "output_type": "stream",
       "stream": "stdout",
       "text": [
        "# data                      INFO    MC Pythia 6: <#files: 94; Entries: 28552>\n"
       ]
      },
      {
       "output_type": "stream",
       "stream": "stdout",
       "text": [
        "# data                      INFO    MC Pythia 8: <#files: 103; Entries: 29552>\n"
       ]
      }
     ],
     "prompt_number": 1
    },
    {
     "cell_type": "code",
     "collapsed": false,
     "input": [
      "# Bu meson\n",
      "m_Bu = ROOT.RooRealVar('DTFm_b', 'mass(J/psiKKpi)', 5.22, 5.42)\n",
      "nbin_Bu = 50\n",
      "binning_b = (m_Bu.getMax() - m_Bu.getMin()) / nbin_Bu * 1000"
     ],
     "language": "python",
     "metadata": {},
     "outputs": [],
     "prompt_number": 37
    },
    {
     "cell_type": "code",
     "collapsed": false,
     "input": [
      "db = shelve.open(\"$KKpidir/fit/histos.shelve\")\n",
      "\n",
      "kkk_hist = db['KKK']['RD']['k3']\n",
      "kpipi_hist = db['Kpipi']['MC']['p8_pi1']\n",
      "kkk = Models.H1D_pdf(name=kkk_hist.GetName(), mass=m_Bu, histo=smear_kkk(kkk_hist))\n",
      "kpipi = Models.H1D_pdf(name=kpipi_hist.GetName(), mass=m_Bu, histo=smear_kpipi(kpipi_hist))\n"
     ],
     "language": "python",
     "metadata": {},
     "outputs": [],
     "prompt_number": 38
    },
    {
     "cell_type": "code",
     "collapsed": false,
     "input": [
      "# Bu meson\n",
      "m_Bu = ROOT.RooRealVar('DTFm_b', 'mass(J/psiKKpi)', 5.22, 5.42)\n",
      "nbin_Bu = 50\n",
      "binning_b = (m_Bu.getMax() - m_Bu.getMin()) / nbin_Bu * 1000\n",
      "selector_variables = [(m_Bu, lambda s: s.DTFm_b )]"
     ],
     "language": "python",
     "metadata": {},
     "outputs": [],
     "prompt_number": 39
    },
    {
     "cell_type": "markdown",
     "metadata": {},
     "source": [
      "Basically, select all needed variables:"
     ]
    },
    {
     "cell_type": "code",
     "collapsed": false,
     "input": [
      "# Trigger\n",
      "cuts_trg =  \"((psi_l0tos & 2) == 2)\"\n",
      "cuts_trg += \"&& ((psi_l1tos & 2) == 2)\"\n",
      "cuts_trg += \"&& ((psi_l2tos & 2) == 2)\"\n",
      "\n",
      "# Cuts\n",
      "cuts_ = \" DTFchi2ndof > 0\"\n",
      "cuts_ += \"&& DTFchi2ndof < 5\"\n",
      "cuts_ += \"&& DTFctau > 0.25\"\n",
      "cuts_ += \"&& vchi2_b < 20\"\n",
      "cuts_ += \"&& pt_kaon[0] > 0.6 && pt_kaon[1] > 0.6\"\n",
      "cuts_ += \"&& pt_pion > 0.3\"\n",
      "cuts_ += \"&& m_jpsi    > 3.020 && m_jpsi    < 3.135\"\n",
      "cuts_ += \"&& minann_K  > 0.3\"\n",
      "cuts_ += \"&& ann_pion[0] > 0.3\"\n",
      "cuts_ += \"&& ann_kaon_PI[1] < 0.9 && ann_pion_K < 0.9\"\n",
      "cuts_ += \"&& MIPCHI2DV_k1 > 12. && MIPCHI2DV_k2 > 12. && MIPCHI2DV_pi > 12.\"\n",
      "\n",
      "cuts_ += \"&& \" + cuts_trg"
     ],
     "language": "python",
     "metadata": {},
     "outputs": [],
     "prompt_number": 76
    },
    {
     "cell_type": "code",
     "collapsed": false,
     "input": [
      "sel_Bu = SelectorWithVarsCached(\n",
      "    variables=selector_variables,\n",
      "    selection=cuts_,\n",
      "    files=selection7.files\n",
      ")\n",
      "\n",
      "if not sel_Bu._loaded_from_cache:\n",
      "    selection7.chain.process(sel_Bu)\n",
      "ds_Bu = sel_Bu.dataset()\n",
      "ds_Bu.Print('v')"
     ],
     "language": "python",
     "metadata": {},
     "outputs": [
      {
       "output_type": "stream",
       "stream": "stdout",
       "text": [
        "# Ostap.ZipShelve           INFO    Open DB: /home/sashab1/.ostap/cache/c38c60ce4c1eae255b112a0eda751c3650073c1eade8478ee2a1b0f2addc712c8d5de92e858b9e8704b09b578c6a42e48ee855b390be739601f3d4679dc906e7.shelve\n"
       ]
      }
     ],
     "prompt_number": 77
    },
    {
     "cell_type": "code",
     "collapsed": false,
     "input": [
      "s1_Bu = Models.CB2_pdf(\n",
      "    'Bu1',\n",
      "    m_Bu.getMin(),\n",
      "    m_Bu.getMax(),\n",
      "    fixMass=5.2792e+0,\n",
      "    fixSigma=0.006,\n",
      "    fixAlphaL=2.1018e+00,\n",
      "    fixAlphaR=1.9818e+00,\n",
      "    fixNL=6.1464e-01,\n",
      "    fixNR=2.1291e+00,\n",
      "    mass=m_Bu\n",
      ")\n",
      "\n",
      "bkg_Bu = Models.Bkg_pdf('BBu', mass=m_Bu, power=1)\n",
      "\n",
      "# model_B = Models.Fit1D(\n",
      "#     signal=s1_Bu,\n",
      "#     background=bkg_Bu,\n",
      "#     components=[kkk]\n",
      "# )\n",
      "\n",
      "\n",
      "model_B = Charm3_pdf(\n",
      "    signal=s1_Bu,\n",
      "    signal2=kkk,\n",
      "    signal3=kpipi,\n",
      "    background=bkg_Bu,\n",
      ")\n",
      "\n",
      "\n",
      "# bkg_Bu.tau.setMax(-2)"
     ],
     "language": "python",
     "metadata": {},
     "outputs": [],
     "prompt_number": 78
    },
    {
     "cell_type": "code",
     "collapsed": false,
     "input": [
      "c1 = rootnotes.random_canvas()\n",
      "\n",
      "ru, fu = model_B.fitTo(ds_Bu, draw=True, nbins=nbin_Bu)\n",
      "\n",
      "model_B.signal.mean.release()\n",
      "model_B.signal.sigma.release()\n",
      "\n",
      "ru, fu = model_B.fitTo(ds_Bu, draw=True, nbins=nbin_Bu)\n",
      "\n",
      "\n",
      "\n",
      "fu.SetXTitle(\"Inv.\\,mass(J/\\psi\\,KK\\pi), GeV/c^{2}}\")\n",
      "fu.SetYTitle(\"Events / %.1f MeV/c^{2}\" % binning_b)\n",
      "\n",
      "fu.Draw()\n",
      "model_B.legend.Draw()\n",
      "\n",
      "c1"
     ],
     "language": "python",
     "metadata": {},
     "outputs": [
      {
       "metadata": {},
       "output_type": "pyout",
       "png": "[encoded data removed]",
       "prompt_number": 80,
       "text": [
        "<ROOT.TCanvas object (\"bb6edba7-d5b9-4157-bcde-8466012c126e\") at 0xc9a3310>"
       ]
      }
     ],
     "prompt_number": 80
    },
    {
     "cell_type": "code",
     "collapsed": false,
     "input": [
      "ru(\"S\")[0].prec()"
     ],
     "language": "python",
     "metadata": {},
     "outputs": [
      {
       "metadata": {},
       "output_type": "pyout",
       "prompt_number": 75,
       "text": [
        "( 0.110991 +- 0.012319 )"
       ]
      }
     ],
     "prompt_number": 75
    },
    {
     "cell_type": "code",
     "collapsed": false,
     "input": [
      "from IPython.display import HTML\n",
      "s = \"<table><tr><th>Name</th> <th>Value</th> <th>Min</th> <th>Max</th> </tr>\"\n",
      "\n",
      "\n",
      "for name, val in ru.parameters().items():\n",
      "    s += \"<tr><th>{}</th> <th>{}</th> <th>{}</th> <th>{}</th> </tr>\".format(name, val[0], val[1].getMin(), val[1].getMax())\n",
      "\n",
      "s += \"</table>\"\n",
      "html = HTML(s); html"
     ],
     "language": "python",
     "metadata": {},
     "outputs": [
      {
       "html": [
        "<table><tr><th>Name</th> <th>Value</th> <th>Min</th> <th>Max</th> </tr><tr><th>B</th> <th>( 1095.65 +- 67.544 )</th> <th>0.0</th> <th>2683.87014794</th> </tr><tr><th>phi1_BBu</th> <th>( -0.0026377 +- 0.71383 )</th> <th>-3.5</th> <th>3.5</th> </tr><tr><th>S3</th> <th>( 520.572 +- 56.0118 )</th> <th>0.0</th> <th>2683.87014794</th> </tr><tr><th>S2</th> <th>( 3.6704e-10 +- 0.498347 )</th> <th>0.0</th> <th>50.0</th> </tr><tr><th>S</th> <th>( 194.965 +- 22.5918 )</th> <th>0.0</th> <th>2683.87014794</th> </tr><tr><th>sigma_Bu1</th> <th>( 0.00504553 +- 0.000618219 )</th> <th>0.0</th> <th>0.0692820323028</th> </tr><tr><th>tau_BBu</th> <th>( -7.16421 +- 13.9799 )</th> <th>-184.20680744</th> <th>-1.0</th> </tr><tr><th>mean_Bu1</th> <th>( 5.2812 +- 0.000623344 )</th> <th>5.22</th> <th>5.42</th> </tr></table>"
       ],
       "metadata": {},
       "output_type": "pyout",
       "prompt_number": 65,
       "text": [
        "<IPython.core.display.HTML at 0x725a290>"
       ]
      }
     ],
     "prompt_number": 65
    },
    {
     "cell_type": "code",
     "collapsed": false,
     "input": [],
     "language": "python",
     "metadata": {},
     "outputs": []
    }
   ],
   "metadata": {}
  }
 ]
}