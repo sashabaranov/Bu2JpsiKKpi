{
 "metadata": {
  "name": "",
  "signature": "sha256:3e53d90626089f8040b164c4714ed0d82e1c612631a9b71a628031edca509710"
 },
 "nbformat": 3,
 "nbformat_minor": 0,
 "worksheets": [
  {
   "cells": [
    {
     "cell_type": "code",
     "collapsed": false,
     "input": [
      "from tools import *\n",
      "import ROOT, random\n",
      "from Ostap import *\n",
      "from Ostap.PyRoUts import *\n",
      "from Ostap.Selectors import *\n",
      "\n",
      "import Ostap.FitModels as Models\n",
      "from MyFitModels import Charm3_pdf\n",
      "\n",
      "\n",
      "from data import selection7\n",
      "\n",
      "from ostap import rootnotes\n",
      "\n",
      "def variate(var, minval=None, maxval=None, startval=None):\n",
      "    if minval: var.setMin(minval)\n",
      "    if maxval: var.setMax(maxval)\n",
      "    if startval: var.setVal(startval)"
     ],
     "language": "python",
     "metadata": {},
     "outputs": [
      {
       "output_type": "stream",
       "stream": "stdout",
       "text": [
        "# Ostap Bender              INFO    Welcome to Ostap\n",
        "\n",
        " \n",
        "     .oooooo.                .                        \n",
        "    d8P'  `Y8b             .o8                        \n",
        "   888      888  .oooo.o .o888oo  .oooo.   oo.ooooo.  \n",
        "   888      888 d88(  \"8   888   `P  )88b   888' `88b \n",
        "   888      888 `\"Y88b.    888    .oP\"888   888   888 \n",
        "   `88b    d88' o.  )88b   888 . d8(  888   888   888 \n",
        "    `Y8bood8P'  8\"\"888P'   \"888\" `Y888\"\"8o  888bod8P' \n",
        "                                            888\n",
        "                                           o888o      \n",
        "\n"
       ]
      },
      {
       "output_type": "stream",
       "stream": "stdout",
       "text": [
        "# Ostap Bender              INFO     Simple interactive PyRoot-based analysis environment\n",
        "to provide access to zillions useful decorators for ROOT (and not only ROOT) objects&classes\n",
        "    \n",
        "    This file is a part of BENDER project:\n",
        "\n",
        "  ``Python-based Interactive Environment for Smart and Friendly Physics Analysis''\n",
        "\n",
        "The project has been designed with the kind help from Pere MATO and Andrey TSAREGORODTSEV. \n",
        "\n",
        "And it is based on the LoKi project:\n",
        " \n",
        "   ``C++ ToolKit for Smart and Friendly Physics Analysis''\n",
        "\n",
        "By usage of this code one clearly states the disagreement with the smear campaign \n",
        "of Dr.O.Callot et al.:\n",
        "\n",
        "   ``No Vanya's lines are allowed in LHCb/Gaudi software''\n",
        "\n"
       ]
      },
      {
       "output_type": "stream",
       "stream": "stdout",
       "text": [
        "# Ostap Bender              INFO    Set 'IsBatch' to be False \n"
       ]
      },
      {
       "output_type": "stream",
       "stream": "stdout",
       "text": [
        "# Ostap.PyRoUts             INFO    Zillions of decorations for ROOT   objects\n"
       ]
      },
      {
       "output_type": "stream",
       "stream": "stdout",
       "text": [
        "# setting LC_ALL to \"C\"\n",
        "DEFINE default storage type to be TTree! "
       ]
      },
      {
       "output_type": "stream",
       "stream": "stdout",
       "text": [
        "\n",
        "# data                      INFO    Selection 7: <Luminosity: ( 3082.18 +- 61.9831 )pb-1; #files: 27; Entries: 4020930>\n"
       ]
      },
      {
       "output_type": "stream",
       "stream": "stdout",
       "text": [
        "# data                      INFO    MC Pythia 6: <#files: 94; Entries: 28552>\n"
       ]
      },
      {
       "output_type": "stream",
       "stream": "stdout",
       "text": [
        "# data                      INFO    MC Pythia 8: <#files: 103; Entries: 29552>\n"
       ]
      }
     ],
     "prompt_number": 2
    },
    {
     "cell_type": "code",
     "collapsed": false,
     "input": [
      "# Bu meson\n",
      "m_Bu = ROOT.RooRealVar('DTFm_b', 'mass(J/psiKKpi)', 5.22, 5.42)\n",
      "nbin_Bu = 50\n",
      "binning_b = (m_Bu.getMax() - m_Bu.getMin()) / nbin_Bu * 1000"
     ],
     "language": "python",
     "metadata": {},
     "outputs": [],
     "prompt_number": 3
    },
    {
     "cell_type": "code",
     "collapsed": false,
     "input": [
      "db = shelve.open(\"$KKpidir/fit/histos.shelve\")\n",
      "\n",
      "kkk_hist = db['KKK']['RD']['k3']\n",
      "kpipi_hist = db['Kpipi']['MC']['p8_pi1']\n",
      "kkk = Models.H1D_pdf(name=kkk_hist.GetName(), mass=m_Bu, histo=smear_kkk(kkk_hist))\n",
      "kpipi = Models.H1D_pdf(name=kpipi_hist.GetName(), mass=m_Bu, histo=smear_kpipi(kpipi_hist))\n"
     ],
     "language": "python",
     "metadata": {},
     "outputs": [],
     "prompt_number": 4
    },
    {
     "cell_type": "code",
     "collapsed": false,
     "input": [
      "# Bu meson\n",
      "m_Bu = ROOT.RooRealVar('DTFm_b', 'mass(J/psiKKpi)', 5.22, 5.42)\n",
      "nbin_Bu = 50\n",
      "binning_b = (m_Bu.getMax() - m_Bu.getMin()) / nbin_Bu * 1000\n",
      "selector_variables = [(m_Bu, lambda s: s.DTFm_b )]"
     ],
     "language": "python",
     "metadata": {},
     "outputs": [],
     "prompt_number": 5
    },
    {
     "cell_type": "markdown",
     "metadata": {},
     "source": [
      "Basically, select all needed variables:"
     ]
    },
    {
     "cell_type": "code",
     "collapsed": false,
     "input": [
      "# Trigger\n",
      "cuts_trg =  \"((psi_l0tos & 2) == 2)\"\n",
      "cuts_trg += \"&& ((psi_l1tos & 2) == 2)\"\n",
      "cuts_trg += \"&& ((psi_l2tos & 2) == 2)\"\n",
      "\n",
      "# Cuts\n",
      "cuts_ = \" DTFchi2ndof > 0\"\n",
      "cuts_ += \"&& DTFchi2ndof < 5\"\n",
      "cuts_ += \"&& DTFctau > 0.25\"\n",
      "cuts_ += \"&& vchi2_b < 20\"\n",
      "cuts_ += \"&& pt_kaon[0] > 0.6 && pt_kaon[1] > 0.6\"\n",
      "cuts_ += \"&& pt_pion > 0.3\"\n",
      "cuts_ += \"&& m_jpsi    > 3.020 && m_jpsi    < 3.135\"\n",
      "cuts_ += \"&& minann_K  > 0.3\"\n",
      "cuts_ += \"&& ann_pion[0] > 0.3\"\n",
      "cuts_ += \"&& MIPCHI2DV_k1 > 12. && MIPCHI2DV_k2 > 12. && MIPCHI2DV_pi > 12.\"\n",
      "\n",
      "cuts_ += \"&& \" + cuts_trg"
     ],
     "language": "python",
     "metadata": {},
     "outputs": [],
     "prompt_number": 6
    },
    {
     "cell_type": "code",
     "collapsed": false,
     "input": [
      "sel_Bu = SelectorWithVarsCached(\n",
      "    variables=selector_variables,\n",
      "    selection=cuts_,\n",
      "    files=selection7.files\n",
      ")\n",
      "\n",
      "if not sel_Bu._loaded_from_cache:\n",
      "    selection7.chain.process(sel_Bu)\n",
      "ds_Bu = sel_Bu.dataset()\n",
      "ds_Bu.Print('v')"
     ],
     "language": "python",
     "metadata": {},
     "outputs": [
      {
       "output_type": "stream",
       "stream": "stdout",
       "text": [
        "# Ostap.ZipShelve           INFO    Open DB: /home/sashab1/.ostap/cache/823d7d417894a20d6920ee8f4e2a1a38cb34022c56a8d854d1fcd2400bc4d0e6f88f609c5255202a6161f95d1ef148d09ccd07fde7110417d229f32e291ce049.shelve\n"
       ]
      }
     ],
     "prompt_number": 7
    },
    {
     "cell_type": "code",
     "collapsed": false,
     "input": [
      "s1_Bu = Models.CB2_pdf(\n",
      "    'Bu1',\n",
      "    m_Bu.getMin(),\n",
      "    m_Bu.getMax(),\n",
      "    fixMass=5.2792e+0,\n",
      "    fixSigma=0.006,\n",
      "    fixAlphaL=2.1018e+00,\n",
      "    fixAlphaR=1.9818e+00,\n",
      "    fixNL=6.1464e-01,\n",
      "    fixNR=2.1291e+00,\n",
      "    mass=m_Bu\n",
      ")\n",
      "\n",
      "bkg_Bu = Models.Bkg_pdf('BBu', mass=m_Bu, power=1)\n",
      "\n",
      "# model_B = Models.Fit1D(\n",
      "#     signal=s1_Bu,\n",
      "#     background=bkg_Bu,\n",
      "#     components=[kkk]\n",
      "# )\n",
      "\n",
      "\n",
      "model_B = Charm3_pdf(\n",
      "    signal=s1_Bu,\n",
      "    signal2=kpipi,\n",
      "    background=bkg_Bu,\n",
      ")\n",
      "\n",
      "\n",
      "bkg_Bu.tau.setMax(-2)"
     ],
     "language": "python",
     "metadata": {},
     "outputs": [],
     "prompt_number": 8
    },
    {
     "cell_type": "code",
     "collapsed": false,
     "input": [
      "c1 = rootnotes.random_canvas()\n",
      "\n",
      "\n",
      "ru, fu = model_B.fitTo(ds_Bu, draw=True, nbins=nbin_Bu)\n",
      "\n",
      "model_B.signal.mean.release()\n",
      "model_B.signal.sigma.release()\n",
      "\n",
      "ru, fu = model_B.fitTo(ds_Bu, draw=True, nbins=nbin_Bu)\n",
      "\n",
      "\n",
      "\n",
      "fu.SetXTitle(\"Inv.\\,mass(J/#psi KK#pi), GeV/c^{2}}\")\n",
      "fu.SetYTitle(\"Events / %.1f MeV/c^{2}\" % binning_b)\n",
      "\n",
      "fu.Draw()\n",
      "model_B.legend.Draw()\n",
      "\n",
      "c1"
     ],
     "language": "python",
     "metadata": {},
     "outputs": [
      {
       "metadata": {},
       "output_type": "pyout",
       "png": "[encoded data removed]",
       "prompt_number": 12,
       "text": [
        "<ROOT.TCanvas object (\"42b847b1-e1a0-450b-a9b9-41b3a3506ead\") at 0x8ac35f0>"
       ]
      }
     ],
     "prompt_number": 12
    },
    {
     "cell_type": "code",
     "collapsed": false,
     "input": [
      "ru(\"S\")[0].prec()"
     ],
     "language": "python",
     "metadata": {},
     "outputs": [
      {
       "metadata": {},
       "output_type": "pyout",
       "prompt_number": 13,
       "text": [
        "( 0.112906 +- 0.0127478 )"
       ]
      }
     ],
     "prompt_number": 13
    },
    {
     "cell_type": "code",
     "collapsed": false,
     "input": [
      "from IPython.display import HTML\n",
      "s = \"<table><tr><th>Name</th> <th>Value</th> <th>Min</th> <th>Max</th> </tr>\"\n",
      "\n",
      "\n",
      "for name, val in ru.parameters().items():\n",
      "    s += \"<tr><th>{}</th> <th>{}</th> <th>{}</th> <th>{}</th> </tr>\".format(name, val[0], val[1].getMin(), val[1].getMax())\n",
      "\n",
      "s += \"</table>\"\n",
      "html = HTML(s); html"
     ],
     "language": "python",
     "metadata": {},
     "outputs": [
      {
       "html": [
        "<table><tr><th>Name</th> <th>Value</th> <th>Min</th> <th>Max</th> </tr><tr><th>B</th> <th>( 1422.18 +- 77.947 )</th> <th>0.0</th> <th>3355.37336274</th> </tr><tr><th>phi1_BBu</th> <th>( 1.57567 +- 0.294838 )</th> <th>-3.5</th> <th>3.5</th> </tr><tr><th>S2</th> <th>( 676.281 +- 65.2901 )</th> <th>0.0</th> <th>3355.37336274</th> </tr><tr><th>S</th> <th>( 216.528 +- 24.4474 )</th> <th>0.0</th> <th>3355.37336274</th> </tr><tr><th>sigma_Bu1</th> <th>( 0.00517982 +- 0.000560326 )</th> <th>0.0</th> <th>0.0692820323028</th> </tr><tr><th>tau_BBu</th> <th>( -7.04135 +- 5.9056 )</th> <th>-184.20680744</th> <th>-2.0</th> </tr><tr><th>mean_Bu1</th> <th>( 5.28118 +- 0.000628217 )</th> <th>5.22</th> <th>5.42</th> </tr></table>"
       ],
       "metadata": {},
       "output_type": "pyout",
       "prompt_number": 14,
       "text": [
        "<IPython.core.display.HTML at 0x8369e50>"
       ]
      }
     ],
     "prompt_number": 14
    },
    {
     "cell_type": "code",
     "collapsed": false,
     "input": [
      "statuses = {\n",
      "    -1 : \"Unknown, matrix was externally provided\",\n",
      "    0  : \"Not calculated at all\",\n",
      "    1  : \"Approximation only, not accurate\",\n",
      "    2  : \"Full matrix, but forced positive-definite\",\n",
      "    3  : \"Full, accurate covariance matrix\"\n",
      "} # see http://root.cern.ch/root/html/src/RooFitResult.cxx.html\n",
      "\n",
      "print statuses[ru.covQual()]"
     ],
     "language": "python",
     "metadata": {},
     "outputs": [
      {
       "output_type": "stream",
       "stream": "stdout",
       "text": [
        "Full, accurate covariance matrix\n"
       ]
      }
     ],
     "prompt_number": 15
    },
    {
     "cell_type": "code",
     "collapsed": false,
     "input": [],
     "language": "python",
     "metadata": {},
     "outputs": []
    }
   ],
   "metadata": {}
  }
 ]
}