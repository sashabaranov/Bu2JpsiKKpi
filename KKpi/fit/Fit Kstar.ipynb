{
 "metadata": {
  "name": "",
  "signature": "sha256:dffb317e9702980b9e4a1ca5a0ce927a644c76e92fae56bf20a64200f3696ea4"
 },
 "nbformat": 3,
 "nbformat_minor": 0,
 "worksheets": [
  {
   "cells": [
    {
     "cell_type": "code",
     "collapsed": false,
     "input": [
      "from tools import *\n",
      "from histograms import h3\n",
      "from fit7 import ds_Bu\n",
      "from ostap import rootnotes\n",
      "import PyPAW.FitModels as Models"
     ],
     "language": "python",
     "metadata": {},
     "outputs": [
      {
       "output_type": "stream",
       "stream": "stdout",
       "text": [
        "# PyPAW.PyPaw               INFO    Welcome to PyPAW\n",
        "\n",
        "\n",
        "ooooooooo.               ooooooooo.                              \n",
        "`888   `Y88.             `888   `Y88.                            \n",
        " 888   .d88' oooo    ooo  888   .d88'  .oooo.   oooo oooo    ooo \n",
        " 888ooo88P'   `88.  .8'   888ooo88P'  `P  )88b   `88. `88.  .8'  \n",
        " 888           `88..8'    888          .oP\"888    `88..]88..8'   \n",
        " 888            `888'     888         d8(  888     `888'`888'    \n",
        "o888o            .8'     o888o        `Y888\"\"8o     `8'  `8'     \n",
        "             .o..P'                                              \n",
        "             `Y8P'\n",
        "\n",
        "Simple PyPaw-analysis environment to provide access to zillions\n",
        "   useful decorators for ROOT (and not only ROOT) objects&classes  \n",
        "\n",
        "\n"
       ]
      },
      {
       "output_type": "stream",
       "stream": "stdout",
       "text": [
        "# PyPAW.LHCbStyle           INFO    New style LHCbStyle is created\n"
       ]
      },
      {
       "output_type": "stream",
       "stream": "stdout",
       "text": [
        "# PyPAW.LHCbStyle           INFO    The style LHCbStyle is forced\n"
       ]
      },
      {
       "output_type": "stream",
       "stream": "stdout",
       "text": [
        "# PyPAW.PyPaw               INFO    Set 'IsBatch' to be False \n"
       ]
      },
      {
       "output_type": "stream",
       "stream": "stdout",
       "text": [
        "# PyPAW.PyPaw               INFO    Create the default canvas\n"
       ]
      },
      {
       "output_type": "stream",
       "stream": "stdout",
       "text": [
        "# PyPAW.PyRoUts             INFO    Zillions of decorations for ROOT   objects\n"
       ]
      },
      {
       "output_type": "stream",
       "stream": "stdout",
       "text": [
        "# PyPAW.TreeDeco            INFO    Some useful decorations for Tree/Chain objects\n"
       ]
      },
      {
       "output_type": "stream",
       "stream": "stdout",
       "text": [
        "# PyPAW.MinuitDeco          INFO    Some useful decorations for (T)Minuit functions\n"
       ]
      },
      {
       "output_type": "stream",
       "stream": "stdout",
       "text": [
        "# PyPAW.RooFitDeco          INFO    Some useful decorations for RooFit objects\n"
       ]
      },
      {
       "output_type": "stream",
       "stream": "stdout",
       "text": [
        "# PyPAW.HTextDeco           INFO    Some useful decorations for Histo&Text objects\n"
       ]
      },
      {
       "output_type": "stream",
       "stream": "stdout",
       "text": [
        "# setting LC_ALL to \"C\"\n",
        "# PyPAW.HTextDeco           INFO    Histogram utilities from GaudiPython.HistoUtils\n"
       ]
      },
      {
       "output_type": "stream",
       "stream": "stdout",
       "text": [
        "# PyPAW.HParamDeco          INFO    Some parameterization utilities for Histo objects\n"
       ]
      },
      {
       "output_type": "stream",
       "stream": "stdout",
       "text": [
        "# PyPAW.HCmpDeco            INFO    Some specific comparison of histo-objects\n"
       ]
      },
      {
       "output_type": "stream",
       "stream": "stdout",
       "text": [
        "# PyPAW.MiscDeco            INFO    Some useful decorations for File/Canvas objects\n"
       ]
      },
      {
       "output_type": "stream",
       "stream": "stdout",
       "text": [
        "# PyPAW.ZipShelve           INFO    Simple generic (c)Pickle-based ``zipped''-database\n"
       ]
      },
      {
       "output_type": "stream",
       "stream": "stdout",
       "text": [
        "# PyPAW.shelve_ext          INFO    Decorate shelve.open method\n"
       ]
      },
      {
       "output_type": "stream",
       "stream": "stdout",
       "text": [
        "# PyPAW.shelve_ext          INFO    Add 'ls' method for shelve.Shelf class\n"
       ]
      },
      {
       "output_type": "stream",
       "stream": "stdout",
       "text": [
        "# PyPAW.PyPaw               INFO    Prepend sys.path with $PWD\n"
       ]
      },
      {
       "output_type": "stream",
       "stream": "stdout",
       "text": [
        "DEFINE default storage type to be TTree! \n",
        "# data                      INFO    Selection 7: <Luminosity: ( 3082.18 +- 61.9831 ); #files: 27; Entries: 4020930>\n"
       ]
      },
      {
       "output_type": "stream",
       "stream": "stdout",
       "text": [
        "# data                      INFO    MC Pythia 6: <#files: 94; Entries: 28552>\n"
       ]
      },
      {
       "output_type": "stream",
       "stream": "stdout",
       "text": [
        "# data                      INFO    MC Pythia 8: <#files: 103; Entries: 29552>\n"
       ]
      },
      {
       "output_type": "stream",
       "stream": "stdout",
       "text": [
        "# cuts                      INFO      CUTS B+   DTFchi2ndof > 0\n"
       ]
      },
      {
       "output_type": "stream",
       "stream": "stdout",
       "text": [
        "# cuts                      INFO      CUTS B+   DTFchi2ndof < 5\n"
       ]
      },
      {
       "output_type": "stream",
       "stream": "stdout",
       "text": [
        "# cuts                      INFO      CUTS B+   DTFctau > 0.25\n"
       ]
      },
      {
       "output_type": "stream",
       "stream": "stdout",
       "text": [
        "# cuts                      INFO      CUTS B+   pt_b > 4.\n"
       ]
      },
      {
       "output_type": "stream",
       "stream": "stdout",
       "text": [
        "# cuts                      INFO      CUTS B+   pt_kaon[0] > 0.7 \n"
       ]
      },
      {
       "output_type": "stream",
       "stream": "stdout",
       "text": [
        "# cuts                      INFO      CUTS B+   pt_kaon[1] > 0.7\n"
       ]
      },
      {
       "output_type": "stream",
       "stream": "stdout",
       "text": [
        "# cuts                      INFO      CUTS B+   pt_pion > 0.3\n"
       ]
      },
      {
       "output_type": "stream",
       "stream": "stdout",
       "text": [
        "# cuts                      INFO      CUTS B+   m_jpsi    > 3.020 \n"
       ]
      },
      {
       "output_type": "stream",
       "stream": "stdout",
       "text": [
        "# cuts                      INFO      CUTS B+   m_jpsi    < 3.135\n"
       ]
      },
      {
       "output_type": "stream",
       "stream": "stdout",
       "text": [
        "# cuts                      INFO      CUTS B+   minann_K  > 0.3 \n"
       ]
      },
      {
       "output_type": "stream",
       "stream": "stdout",
       "text": [
        "# cuts                      INFO      CUTS B+   minann_pi > 0.3\n"
       ]
      },
      {
       "output_type": "stream",
       "stream": "stdout",
       "text": [
        "# cuts                      INFO      CUTS B+   ((psi_l0tos & 2) == 2)\n"
       ]
      },
      {
       "output_type": "stream",
       "stream": "stdout",
       "text": [
        "# cuts                      INFO      CUTS B+   ((psi_l1tos & 2) == 2)\n"
       ]
      },
      {
       "output_type": "stream",
       "stream": "stdout",
       "text": [
        "# cuts                      INFO      CUTS B+   ((psi_l2tos & 2) == 2)\n"
       ]
      },
      {
       "output_type": "stream",
       "stream": "stdout",
       "text": [
        "# cuts                      INFO      CUTS B+   ann_pion > 0.15 \n"
       ]
      },
      {
       "output_type": "stream",
       "stream": "stdout",
       "text": [
        "# cuts                      INFO      CUTS B+   minann_K > 0.15 \n"
       ]
      },
      {
       "output_type": "stream",
       "stream": "stdout",
       "text": [
        "# cuts                      INFO      CUTS B+   MIPCHI2DV_k1 > 16. \n"
       ]
      },
      {
       "output_type": "stream",
       "stream": "stdout",
       "text": [
        "# cuts                      INFO      CUTS B+   MIPCHI2DV_k2 > 16. \n"
       ]
      },
      {
       "output_type": "stream",
       "stream": "stdout",
       "text": [
        "# cuts                      INFO      CUTS B+   MIPCHI2DV_pi > 16.\n"
       ]
      },
      {
       "output_type": "stream",
       "stream": "stdout",
       "text": [
        " Time   4.52846312523 \n",
        "# PyPAW.Selectors/ds_1000   INFO    TChain entries: 4020930\n"
       ]
      },
      {
       "output_type": "stream",
       "stream": "stdout",
       "text": [
        "[                                                                                ] 0% \r",
        "[ ######                                                                         ] 8%"
       ]
      },
      {
       "output_type": "stream",
       "stream": "stdout",
       "text": [
        " \r",
        "[ ###########                                                                    ] 15%"
       ]
      },
      {
       "output_type": "stream",
       "stream": "stdout",
       "text": [
        " \r",
        "[ #################                                                              ] 22%"
       ]
      },
      {
       "output_type": "stream",
       "stream": "stdout",
       "text": [
        " \r",
        "[ #######################                                                        ] 30%"
       ]
      },
      {
       "output_type": "stream",
       "stream": "stdout",
       "text": [
        " \r",
        "[ ###############################                                                ] 41%"
       ]
      },
      {
       "output_type": "stream",
       "stream": "stdout",
       "text": [
        " \r",
        "[ #######################################                                        ] 51%"
       ]
      },
      {
       "output_type": "stream",
       "stream": "stdout",
       "text": [
        " \r",
        "[ ###############################################                                ] 61%"
       ]
      },
      {
       "output_type": "stream",
       "stream": "stdout",
       "text": [
        " \r",
        "[ #######################################################                        ] 71%"
       ]
      },
      {
       "output_type": "stream",
       "stream": "stdout",
       "text": [
        " \r",
        "[ ##############################################################                 ] 80%"
       ]
      },
      {
       "output_type": "stream",
       "stream": "stdout",
       "text": [
        " \r",
        "[ #####################################################################          ] 89%"
       ]
      },
      {
       "output_type": "stream",
       "stream": "stdout",
       "text": [
        " \r",
        "[ ############################################################################   ] 98%"
       ]
      },
      {
       "output_type": "stream",
       "stream": "stdout",
       "text": [
        " \r",
        "[ ############################################################################## ] 100%"
       ]
      },
      {
       "output_type": "stream",
       "stream": "stdout",
       "text": [
        " \r",
        "[ ############################################################################## ] 100% \r\n",
        "# PyPAW.Selectors/ds_1000   INFO    Events Processed/Total/Skept 5614/4020930/3614\n",
        "CUTS: \" DTFchi2ndof > 0&& DTFchi2ndof < 5&& DTFctau > 0.25&& pt_b > 4.&& pt_kaon[0] > 0.7 && pt_kaon[1] > 0.7&& pt_pion > 0.3&& m_jpsi    > 3.020 && m_jpsi    < 3.135&& minann_K  > 0.3 && minann_pi > 0.3&& ((psi_l0tos & 2) == 2)&& ((psi_l1tos & 2) == 2)&& ((psi_l2tos & 2) == 2)&& ann_pion > 0.15 && minann_K > 0.15 && MIPCHI2DV_k1 > 16. && MIPCHI2DV_k2 > 16. && MIPCHI2DV_pi > 16.\"\n"
       ]
      },
      {
       "output_type": "stream",
       "stream": "stdout",
       "text": [
        "# cuts                      INFO    Make unbinned fit for B+\n"
       ]
      }
     ],
     "prompt_number": 1
    },
    {
     "cell_type": "code",
     "collapsed": false,
     "input": [
      "m_Kstar = ROOT.RooRealVar('DTFm_kpi', 'mass(K \\pi)', 0.6, 1.2)\n",
      "nbin_Kstar = 20\n",
      "events_binning = (m_Kstar.getMax() - m_Kstar.getMin()) / nbin_Kstar * 1000\n",
      "\n",
      "# For Breit-Wigner\n",
      "mean_Kstar = ROOT.RooRealVar('mean_Kstar', 'mean(K*)', 0.85, 0.9)\n",
      "mean_Kstar.fix(0.892)\n",
      "\n",
      "width_Kstar = ROOT.RooRealVar('width_Kstar', 'width(Kstar0)', 0.0, 1.0)\n",
      "\n",
      "# PhaseSpace range\n",
      "low_kpi = ROOT.RooRealVar('low', 'low_KstarBg', 0.6, 0.7)\n",
      "low_kpi.fix(0.634)\n",
      "\n",
      "high_kpi = ROOT.RooRealVar('high', 'high_KstarBg', 1.3, 2.0)\n"
     ],
     "language": "python",
     "metadata": {},
     "outputs": [],
     "prompt_number": 2
    },
    {
     "cell_type": "code",
     "collapsed": false,
     "input": [
      "hist = ROOT.TH1F(hID(), '', nbin_Kstar, m_Kstar.getMin(), m_Kstar.getMax())\n",
      "hist.Sumw2()"
     ],
     "language": "python",
     "metadata": {},
     "outputs": [],
     "prompt_number": 3
    },
    {
     "cell_type": "code",
     "collapsed": false,
     "input": [
      "m = VE(1.02, 0.02**2)\n",
      "bw = cpp.Gaudi.Math.BreitWigner(m.value(), m.error(), 0.493, 0.139, 1, 1)\n",
      "\n",
      "\n",
      "s_Ks =  Models.BreitWigner_pdf(\n",
      "   \"Ks1\",\n",
      "   m_Kstar.getMin(),\n",
      "   m_Kstar.getMin(),\n",
      "   bw,\n",
      "   mass=m_Kstar,\n",
      "   mean        = mean_Kstar , \n",
      "   gamma       = width_Kstar)\n",
      "\n",
      "\n",
      "ps = cpp.Gaudi.Math.PhaseSpaceNL(low_kpi, high_kpi, 2, 4) \n",
      "\n",
      "\n",
      "model_Ks = Models.Fit1D(\n",
      "    signal=s_Ks,\n",
      "    background=Models.PSPol_pdf( 'Bkg' , m_Kstar, ps , 0 ),\n",
      "    suffix='Ks'\n",
      ")\n",
      "\n",
      "model_Ks.signal.mean.fix(1.020)\n",
      "model_Ks.signal.gamma.fix(4.26e-2)\n",
      "\n"
     ],
     "language": "python",
     "metadata": {},
     "outputs": [
      {
       "metadata": {},
       "output_type": "pyout",
       "prompt_number": 4,
       "text": [
        "( 0.0426 +- 0 )"
       ]
      }
     ],
     "prompt_number": 4
    },
    {
     "cell_type": "code",
     "collapsed": false,
     "input": [
      "canvas = rootnotes.random_canvas()\n",
      "\n",
      "ds_Bu.project(hist, \"DTFm_kpi\", \"SBu_sw\")\n",
      "hist.Sumw2()\n",
      "hist.Draw()\n",
      "\n",
      "    \n",
      "canvas"
     ],
     "language": "python",
     "metadata": {},
     "outputs": [
      {
       "metadata": {},
       "output_type": "pyout",
       "png": "[encoded data removed]",
       "prompt_number": 5,
       "text": [
        "<ROOT.TCanvas object (\"2fdb91e5-987b-403f-80c3-9eafc8848ee5\") at 0x9fc1300>"
       ]
      }
     ],
     "prompt_number": 5
    },
    {
     "cell_type": "code",
     "collapsed": false,
     "input": [
      "canvas = rootnotes.random_canvas(size=(1024, 768))\n",
      "\n",
      "r, f = model_Ks.fitHisto(hist, draw=True)\n",
      "model_Ks.signal.mean.release()\n",
      "r, f = model_Ks.fitHisto(hist, draw=True)\n",
      "\n",
      "model_Ks.signal.gamma.release()\n",
      "model_Ks.signal.gamma.setMin(1e-3)\n",
      "r, f = model_Ks.fitHisto(hist, draw=True)\n",
      "\n",
      "f.SetXTitle(\"Inv.\\,mass(K\\pi), GeV/c^{2}}\")\n",
      "f.SetYTitle(\"Events / %.1f MeV/c^{2}\" % events_binning)\n",
      "\n",
      "\n",
      "\n",
      "canvas"
     ],
     "language": "python",
     "metadata": {},
     "outputs": [
      {
       "metadata": {},
       "output_type": "pyout",
       "png": "[encoded data removed]",
       "prompt_number": 8,
       "text": [
        "<ROOT.TCanvas object (\"69c4460a-be20-40aa-b534-8d9b8d224efc\") at 0xd092740>"
       ]
      }
     ],
     "prompt_number": 8
    },
    {
     "cell_type": "code",
     "collapsed": false,
     "input": [
      "r"
     ],
     "language": "python",
     "metadata": {},
     "outputs": [
      {
       "metadata": {},
       "output_type": "pyout",
       "prompt_number": 9,
       "text": [
        "RooFitResult"
       ]
      }
     ],
     "prompt_number": 9
    },
    {
     "cell_type": "code",
     "collapsed": false,
     "input": [],
     "language": "python",
     "metadata": {},
     "outputs": [],
     "prompt_number": 7
    }
   ],
   "metadata": {}
  }
 ]
}