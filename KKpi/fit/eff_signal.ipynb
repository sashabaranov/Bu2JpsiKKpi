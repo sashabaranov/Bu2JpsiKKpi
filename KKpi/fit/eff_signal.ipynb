{
 "metadata": {
  "name": "",
  "signature": "sha256:6944478a49b10d79b9f38d5b55f7b883188c3f285cb8bdb1c450eabafb5217a4"
 },
 "nbformat": 3,
 "nbformat_minor": 0,
 "worksheets": [
  {
   "cells": [
    {
     "cell_type": "heading",
     "level": 1,
     "metadata": {},
     "source": [
      "\u041f\u043e\u0434\u0441\u0447\u0451\u0442 $\\epsilon^{trig\\&reco\\&sel}$ \u0438 $\\epsilon^{reco\\&sel}$ \u0434\u043b\u044f \u0441\u0438\u0433\u043d\u0430\u043b\u044c\u043d\u043e\u0433\u043e \u043a\u0430\u043d\u0430\u043b\u0430 $B_{u} \\to J/\\psi KK\\pi$"
     ]
    },
    {
     "cell_type": "markdown",
     "metadata": {},
     "source": [
      "\u0411\u0430\u0437\u043e\u0432\u044b\u0435 \u0432\u0435\u0449\u0438:"
     ]
    },
    {
     "cell_type": "code",
     "collapsed": false,
     "input": [
      "import ROOT, random\n",
      "from   Ostap import *\n",
      "from   Ostap.PyRoUts import *\n",
      "from Ostap.Selectors import SelectorWithVarsCached\n",
      "\n",
      "import Ostap.FitModels as Models\n",
      "\n",
      "\n",
      "\n",
      "from ostap import *\n",
      "from data import *\n",
      "from cuts import *"
     ],
     "language": "python",
     "metadata": {},
     "outputs": [
      {
       "output_type": "stream",
       "stream": "stdout",
       "text": [
        "# Ostap.PyRoUts             INFO    Zillions of decorations for ROOT   objects\n"
       ]
      },
      {
       "output_type": "stream",
       "stream": "stdout",
       "text": [
        "# setting LC_ALL to \"C\"\n",
        "DEFINE default storage type to be TTree! "
       ]
      },
      {
       "output_type": "stream",
       "stream": "stdout",
       "text": [
        "\n",
        "# data                      INFO    Selection 7: <Luminosity: ( 3082.18 +- 61.9831 )pb-1; #files: 27; Entries: 4020930>\n"
       ]
      },
      {
       "output_type": "stream",
       "stream": "stdout",
       "text": [
        "# data                      INFO    MC Pythia 6: <#files: 95; Entries: 116227>\n"
       ]
      },
      {
       "output_type": "stream",
       "stream": "stdout",
       "text": [
        "# data                      INFO    MC Pythia 8: <#files: 104; Entries: 112489>\n"
       ]
      }
     ],
     "prompt_number": 1
    },
    {
     "cell_type": "code",
     "collapsed": false,
     "input": [
      "# Bu meson\n",
      "m_Bu = ROOT.RooRealVar('m_Bu', 'mass(J/#psi K K #pi)', 5.15, 5.45)\n",
      "nbin_Bu = 150\n",
      "binning_b = (m_Bu.getMax() - m_Bu.getMin()) / nbin_Bu * 1000\n",
      "selector_variables = [(m_Bu, lambda s: s.DTFm_b )]"
     ],
     "language": "python",
     "metadata": {},
     "outputs": [],
     "prompt_number": 2
    },
    {
     "cell_type": "heading",
     "level": 3,
     "metadata": {},
     "source": [
      "\u042d\u0444\u0444\u0435\u043a\u0442\u0438\u0432\u043d\u043e\u0441\u0442\u044c \u0440\u0435\u043a\u043e\u043d\u0441\u0442\u0440\u0443\u043a\u0446\u0438\u0438 \u0438 \u043e\u0442\u0431\u043e\u0440\u0430 $\\epsilon^{reco\\&sel}$"
     ]
    },
    {
     "cell_type": "code",
     "collapsed": false,
     "input": [
      "cuts_rs = cuts_ + mctrue\n",
      "\n",
      "for cut in prntCuts(cuts_rs):\n",
      "    print cut\n",
      "\n",
      "sel_Bu = SelectorWithVarsCached(\n",
      "    variables=selector_variables,\n",
      "    selection=cuts_rs,\n",
      "    files=mc_Pythia8.files\n",
      ")\n",
      "\n",
      "if not sel_Bu._loaded_from_cache:\n",
      "    mc_Pythia8.chain.process(sel_Bu)\n",
      "    \n",
      "ds_Bu = sel_Bu.dataset()"
     ],
     "language": "python",
     "metadata": {},
     "outputs": [
      {
       "output_type": "stream",
       "stream": "stdout",
       "text": [
        " DTFchi2ndof > 0\n",
        " DTFchi2ndof < 5\n",
        " DTFctau > 0.25\n",
        " vchi2_b < 20\n",
        " pt_kaon[0] > 0.6 \n",
        " pt_kaon[1] > 0.6\n",
        " pt_pion > 0.3\n",
        " m_jpsi    > 3.020 \n",
        " m_jpsi    < 3.135\n",
        " minann_K  > 0.3\n",
        " ann_pion[0] > 0.3\n",
        " MIPCHI2DV_k1 > 12. \n",
        " MIPCHI2DV_k2 > 12. \n",
        " MIPCHI2DV_pi > 12.\n",
        " mcTrueB \n",
        " mcTruePsi \n",
        " mcTrueK1 \n",
        " mcTrueK2 \n",
        " mcTruePi \n",
        " mcTrueMu1 \n",
        " mcTrueMu2\n",
        "# Ostap.ZipShelve           INFO    Open DB: /home/sashab1/.ostap/cache/ed88825d11c9a32c5e997fc26cd50f6606c8f1ade7fade5b06f3f2f5931c391a3de4c5f58d3d68629ad568b65505bc873cf31ddf666373864505d3b0cf412042.shelve\n"
       ]
      }
     ],
     "prompt_number": 3
    },
    {
     "cell_type": "code",
     "collapsed": false,
     "input": [
      "s1_Bu = Models.CB2_pdf(\n",
      "    'Bu1',\n",
      "    m_Bu.getMin(),\n",
      "    m_Bu.getMax(),\n",
      "    fixMass=5.2792e+0,\n",
      "    fixSigma=0.008499e+0,\n",
      "    fixAlphaL=2.1005,\n",
      "    fixAlphaR=1.8805,\n",
      "    fixNL=1.215,\n",
      "    fixNR=2.765,\n",
      "    mass=m_Bu\n",
      ")\n",
      "\n",
      "\n",
      "model_Bu = Models.Fit1D(\n",
      "    signal=s1_Bu,\n",
      "    background=Models.Bkg_pdf('BBu', mass=m_Bu), suffix='Bu'\n",
      ")\n",
      "\n",
      "model_Bu.b.fix(0)\n",
      "model_Bu.background.tau.fix(0)\n"
     ],
     "language": "python",
     "metadata": {},
     "outputs": [
      {
       "metadata": {},
       "output_type": "pyout",
       "prompt_number": 4,
       "text": [
        "( 0 +- 0 )"
       ]
      }
     ],
     "prompt_number": 4
    },
    {
     "cell_type": "code",
     "collapsed": false,
     "input": [
      "model_Bu.s.setMax(1.2 * len(ds_Bu))\n",
      "ru, fu = model_Bu.fitTo(ds_Bu, draw=True, nbins=nbin_Bu)\n",
      "\n",
      "model_Bu.signal.sigma.release()\n",
      "model_Bu.signal.mean.release()\n",
      "ru, fu = model_Bu.fitTo(ds_Bu, draw=True, nbins=nbin_Bu)\n",
      "\n",
      "model_Bu.signal.aR.release()\n",
      "model_Bu.signal.aL.release()\n",
      "ru, fu = model_Bu.fitTo(ds_Bu, draw=True, nbins=nbin_Bu)\n",
      "\n",
      "model_Bu.signal.nR.release()\n",
      "model_Bu.signal.nL.release()\n",
      "\n",
      "ru, fu = model_Bu.fitTo(ds_Bu, draw=True, nbins=nbin_Bu)"
     ],
     "language": "python",
     "metadata": {},
     "outputs": [],
     "prompt_number": 5
    },
    {
     "cell_type": "code",
     "collapsed": false,
     "input": [
      "canvas = rootnotes.random_canvas(size=(1024, 768))\n",
      "\n",
      "fu.SetTitle(\"\")\n",
      "fu.SetXTitle(\"Inv. mass(J/#psi K K #pi), GeV/c^{2}\")\n",
      "fu.SetYTitle(\"Events / %.1f MeV/c^{2}\" % binning_b)\n",
      "\n",
      "# fu.SetAxisRange(0.5, 5500, 'Y')\n",
      "\n",
      "fu.Draw()\n",
      "\n",
      "\n",
      "canvas.SetLogy()\n",
      "canvas"
     ],
     "language": "python",
     "metadata": {},
     "outputs": [
      {
       "metadata": {},
       "output_type": "pyout",
       "png": "[encoded data removed]",
       "prompt_number": 6,
       "text": [
        "<ROOT.TCanvas object (\"e64f25be-3723-4433-854a-eaf2600acb16\") at 0x7725f70>"
       ]
      }
     ],
     "prompt_number": 6
    },
    {
     "cell_type": "code",
     "collapsed": false,
     "input": [
      "ipython_tools.params_table(ru)"
     ],
     "language": "python",
     "metadata": {},
     "outputs": [
      {
       "html": [
        "Fit status: <b>Full, accurate covariance matrix</b><br/>minNll: <b>-322635.483378</b><br/><table><tr><th>Name</th> <th>Value</th> <th>Min</th> <th>Max</th> </tr><tr><th>aR_Bu1</th> <th>( 2.05443 +- 0.0621244 )</th> <th>0.0</th> <th>10.0</th></tr><tr><th>SBu</th> <th>( 25220.2 +- 158.805 )</th> <th>0.0</th> <th>30264.0</th></tr><tr><th>aL_Bu1</th> <th>( 2.12624 +- 0.0419347 )</th> <th>0.0</th> <th>10.0</th></tr><tr><th>sigma_Bu1</th> <th>( 0.00516391 +- 3.63904e-05 )</th> <th>0.0</th> <th>0.103923048454</th></tr><tr><th>nR_Bu1</th> <th>( 2.28437 +- 0.279823 )</th> <th>0.0</th> <th>10.0</th></tr><tr><th>nL_Bu1</th> <th>( 0.768412 +- 0.0906302 )</th> <th>0.0</th> <th>10.0</th></tr><tr><th>mean_Bu1</th> <th>( 5.27973 +- 3.72978e-05 )</th> <th>5.15</th> <th>5.45</th></tr></table>"
       ],
       "metadata": {},
       "output_type": "pyout",
       "prompt_number": 7,
       "text": [
        "<IPython.core.display.HTML at 0x2ebcc90>"
       ]
      }
     ],
     "prompt_number": 7
    },
    {
     "cell_type": "markdown",
     "metadata": {},
     "source": [
      "\u041e\u0442\u043b\u0438\u0447\u043d\u043e, \u0442\u0435\u043f\u0435\u0440\u044c \u043f\u043e\u0441\u0447\u0438\u0442\u0430\u0435\u043c \u0442\u0440\u0438\u0433\u0433\u0435\u0440\u043d\u0443\u044e \u044d\u0444\u0444\u0435\u043a\u0442\u0438\u0432\u043d\u043e\u0441\u0442\u044c:"
     ]
    },
    {
     "cell_type": "code",
     "collapsed": false,
     "input": [
      "from eff_acc import N_gen_sig\n",
      "print \" ---------------------------------- \"\n",
      "print \"Total number of generated events: \", N_gen_sig\n",
      "print \" ---------------------------------- \""
     ],
     "language": "python",
     "metadata": {},
     "outputs": [
      {
       "output_type": "stream",
       "stream": "stdout",
       "text": [
        "importing IPython notebook from eff_acc.ipynb\n",
        "Sim08-Beam4000GeV-md100-2012-nu2.5-Pythia8 ( 1.03009 +- 0.00871295 )\n",
        "Sim08-Beam3500GeV-mu100-2011-nu2-Pythia8 ( 1.02099 +- 0.00362158 )\n",
        "Sim08-Beam3500GeV-md100-2011-nu2-Pythia8 ( 1.02397 +- 0.00373813 )\n",
        "Sim08-Beam4000GeV-mu100-2012-nu2.5-Pythia8 ( 1.03752 +- 0.00465321 )\n",
        "( 1.02814 +- 0.00279125 )\n",
        " ---------------------------------- \n",
        "Total number of generated events:  ( 1.53825e+06 +- 1240.26 )\n",
        " ---------------------------------- \n"
       ]
      }
     ],
     "prompt_number": 8
    },
    {
     "cell_type": "code",
     "collapsed": false,
     "input": [
      "e_reco_sel = ru(\"SBu\")[0] /  N_gen_sig\n",
      "print e_reco_sel"
     ],
     "language": "python",
     "metadata": {},
     "outputs": [
      {
       "output_type": "stream",
       "stream": "stdout",
       "text": [
        "( 0.0163954 +- 0.000104081 )\n"
       ]
      }
     ],
     "prompt_number": 9
    },
    {
     "cell_type": "heading",
     "level": 2,
     "metadata": {},
     "source": [
      "\u041f\u043e\u043b\u043d\u0430\u044f \u044d\u0444\u0444\u0435\u043a\u0442\u0438\u0432\u043d\u043e\u0441\u0442\u044c $\\epsilon^{trig\\&reco\\&sel}$"
     ]
    },
    {
     "cell_type": "code",
     "collapsed": false,
     "input": [
      "cuts_full = cuts_mc\n",
      "\n",
      "for cut in prntCuts(cuts_full):\n",
      "    print cut"
     ],
     "language": "python",
     "metadata": {},
     "outputs": [
      {
       "output_type": "stream",
       "stream": "stdout",
       "text": [
        " DTFchi2ndof > 0\n",
        " DTFchi2ndof < 5\n",
        " DTFctau > 0.25\n",
        " vchi2_b < 20\n",
        " pt_kaon[0] > 0.6 \n",
        " pt_kaon[1] > 0.6\n",
        " pt_pion > 0.3\n",
        " m_jpsi    > 3.020 \n",
        " m_jpsi    < 3.135\n",
        " minann_K  > 0.3\n",
        " ann_pion[0] > 0.3\n",
        " MIPCHI2DV_k1 > 12. \n",
        " MIPCHI2DV_k2 > 12. \n",
        " MIPCHI2DV_pi > 12.\n",
        " ((psi_l0tos & 2) == 2)\n",
        " ((psi_l1tos & 2) == 2)\n",
        " ((psi_l2tos & 2) == 2)\n",
        " mcTrueB \n",
        " mcTruePsi \n",
        " mcTrueK1 \n",
        " mcTrueK2 \n",
        " mcTruePi \n",
        " mcTrueMu1 \n",
        " mcTrueMu2\n"
       ]
      }
     ],
     "prompt_number": 10
    },
    {
     "cell_type": "code",
     "collapsed": false,
     "input": [
      "sel_Bu = SelectorWithVarsCached(\n",
      "    variables=selector_variables,\n",
      "    selection=cuts_full,\n",
      "    files=mc_Pythia8.files\n",
      ")\n",
      "\n",
      "if not sel_Bu._loaded_from_cache:\n",
      "    mc_Pythia8.chain.process(sel_Bu)\n",
      "    \n",
      "ds_Bu = sel_Bu.dataset()"
     ],
     "language": "python",
     "metadata": {},
     "outputs": [
      {
       "output_type": "stream",
       "stream": "stdout",
       "text": [
        "# Ostap.ZipShelve           INFO    Open DB: /home/sashab1/.ostap/cache/87091a4c3dd444a15e5e94a1227a652e1b5d9556c1fb1b0129366721b2797831ebf3cc294c7ec1c311e38abbe85fd3e4b72c56f5840eb91ff2fdd0a35d12eb66.shelve\n"
       ]
      }
     ],
     "prompt_number": 11
    },
    {
     "cell_type": "code",
     "collapsed": false,
     "input": [
      "ru_trig, fu_trig = model_Bu.fitTo(ds_Bu, draw=True, nbins=nbin_Bu)"
     ],
     "language": "python",
     "metadata": {},
     "outputs": [],
     "prompt_number": 12
    },
    {
     "cell_type": "code",
     "collapsed": false,
     "input": [
      "canvas = rootnotes.random_canvas(size=(1024, 768))\n",
      "\n",
      "fu_trig.SetTitle(\"\")\n",
      "fu_trig.SetXTitle(\"Inv. mass(J/#psi K #pi#pi), GeV/c^{2}\")\n",
      "fu_trig.SetYTitle(\"Events / %.1f MeV/c^{2}\" % binning_b)\n",
      "\n",
      "# fu.SetAxisRange(0.5, 5500, 'Y')\n",
      "\n",
      "fu_trig.Draw()\n",
      "\n",
      "\n",
      "canvas.SetLogy()\n",
      "canvas"
     ],
     "language": "python",
     "metadata": {},
     "outputs": [
      {
       "metadata": {},
       "output_type": "pyout",
       "png": "[encoded data removed]",
       "prompt_number": 13,
       "text": [
        "<ROOT.TCanvas object (\"9a5fdaef-bc3e-4786-b0e0-b4a4cf98a0f5\") at 0x799eba0>"
       ]
      }
     ],
     "prompt_number": 13
    },
    {
     "cell_type": "code",
     "collapsed": false,
     "input": [
      "ipython_tools.params_table(ru_trig)"
     ],
     "language": "python",
     "metadata": {},
     "outputs": [
      {
       "html": [
        "Fit status: <b>Full, accurate covariance matrix</b><br/>minNll: <b>-283685.978729</b><br/><table><tr><th>Name</th> <th>Value</th> <th>Min</th> <th>Max</th> </tr><tr><th>aR_Bu1</th> <th>( 2.07705 +- 0.0621777 )</th> <th>0.0</th> <th>10.0</th></tr><tr><th>SBu</th> <th>( 22394.1 +- 149.644 )</th> <th>0.0</th> <th>30264.0</th></tr><tr><th>aL_Bu1</th> <th>( 2.11199 +- 0.0445972 )</th> <th>0.0</th> <th>10.0</th></tr><tr><th>sigma_Bu1</th> <th>( 0.0051982 +- 3.79171e-05 )</th> <th>0.0</th> <th>0.103923048454</th></tr><tr><th>nR_Bu1</th> <th>( 2.13723 +- 0.266404 )</th> <th>0.0</th> <th>10.0</th></tr><tr><th>nL_Bu1</th> <th>( 0.81201 +- 0.0989192 )</th> <th>0.0</th> <th>10.0</th></tr><tr><th>mean_Bu1</th> <th>( 5.27972 +- 3.9554e-05 )</th> <th>5.15</th> <th>5.45</th></tr></table>"
       ],
       "metadata": {},
       "output_type": "pyout",
       "prompt_number": 14,
       "text": [
        "<IPython.core.display.HTML at 0x6c9d9d0>"
       ]
      }
     ],
     "prompt_number": 14
    },
    {
     "cell_type": "code",
     "collapsed": false,
     "input": [
      "e_full = ru_trig(\"SBu\")[0] /  N_gen_sig\n",
      "print e_full"
     ],
     "language": "python",
     "metadata": {},
     "outputs": [
      {
       "output_type": "stream",
       "stream": "stdout",
       "text": [
        "( 0.0145582 +- 9.79878e-05 )\n"
       ]
      }
     ],
     "prompt_number": 15
    },
    {
     "cell_type": "heading",
     "level": 3,
     "metadata": {},
     "source": [
      "\u0422\u0440\u0438\u0433\u0433\u0435\u0440\u043d\u0430\u044f \u044d\u0444\u0444\u0435\u043a\u0442\u0438\u0432\u043d\u043e\u0441\u0442\u044c:"
     ]
    },
    {
     "cell_type": "code",
     "collapsed": false,
     "input": [
      "e_trig = e_full / e_reco_sel\n",
      "\n",
      "print \"Signal:\"\n",
      "print \"Full:    \", e_full\n",
      "print \"Rec&Sel: \", e_reco_sel\n",
      "print \"Trigger: \", e_trig"
     ],
     "language": "python",
     "metadata": {},
     "outputs": [
      {
       "output_type": "stream",
       "stream": "stdout",
       "text": [
        "Signal:\n",
        "Full:     ( 0.0145582 +- 9.79878e-05 )\n",
        "Rec&Sel:  ( 0.0163954 +- 0.000104081 )\n",
        "Trigger:  ( 0.887943 +- 0.00821539 )\n"
       ]
      }
     ],
     "prompt_number": 17
    },
    {
     "cell_type": "code",
     "collapsed": false,
     "input": [
      "0.0145582 / 0.0145398"
     ],
     "language": "python",
     "metadata": {},
     "outputs": [],
     "prompt_number": 16
    }
   ],
   "metadata": {}
  }
 ]
}