{
 "metadata": {
  "name": "",
  "signature": "sha256:3fbcb4e14faf34486a137e7a3a3bc9a3df893e602fd53a78625f9439d0a317c1"
 },
 "nbformat": 3,
 "nbformat_minor": 0,
 "worksheets": [
  {
   "cells": [
    {
     "cell_type": "heading",
     "level": 1,
     "metadata": {},
     "source": [
      "\u041f\u043e\u043b\u0443\u0447\u0435\u043d\u0438\u0435 \u0441\u043e\u043e\u0442\u043d\u043e\u0448\u0435\u043d\u0438\u044f $\\mathcal{B}(B_{u} \\to J/\\psi KK\\pi) / \\mathcal{B}(B_{u} \\to \\psi(2S) K)$"
     ]
    },
    {
     "cell_type": "code",
     "collapsed": false,
     "input": [
      "from LoKiCore.basic import Gaudi\n",
      "import LHCbMath.Types\n",
      " \n",
      "VE = Gaudi.Math.ValueWithError\n",
      "\n",
      "from ostap import *\n",
      "from eff_acc import e_acc_ratio"
     ],
     "language": "python",
     "metadata": {},
     "outputs": [
      {
       "output_type": "stream",
       "stream": "stdout",
       "text": [
        "importing IPython notebook from eff_acc.ipynb\n"
       ]
      }
     ],
     "prompt_number": 2
    },
    {
     "cell_type": "code",
     "collapsed": false,
     "input": [
      "N_sig = VE(224, 26**2)\n",
      "N_norm = (VE(9210, 97**2) + VE(9097, 96**2)) / 2.0"
     ],
     "language": "python",
     "metadata": {},
     "outputs": [],
     "prompt_number": 3
    },
    {
     "cell_type": "code",
     "collapsed": false,
     "input": [
      "e_full_sig = VE(0.00183025, 2.23395e-05**2)\n",
      "e_full_norm = VE(0.00895655, 4.9599e-05**2)"
     ],
     "language": "python",
     "metadata": {},
     "outputs": [],
     "prompt_number": 4
    },
    {
     "cell_type": "code",
     "collapsed": false,
     "input": [
      "braching_ratio = (N_sig/N_norm) * (e_full_sig/e_full_norm)\n",
      "print braching_ratio"
     ],
     "language": "python",
     "metadata": {},
     "outputs": [
      {
       "output_type": "stream",
       "stream": "stdout",
       "text": [
        "( 0.0050007 +- 0.000585483 )\n"
       ]
      }
     ],
     "prompt_number": 8
    },
    {
     "cell_type": "code",
     "collapsed": false,
     "input": [
      "braching = 6.27e-4 * 0.34 * braching_ratio"
     ],
     "language": "python",
     "metadata": {},
     "outputs": [],
     "prompt_number": 9
    },
    {
     "cell_type": "code",
     "collapsed": false,
     "input": [
      "braching"
     ],
     "language": "python",
     "metadata": {},
     "outputs": [
      {
       "output_type": "stream",
       "stream": "stdout",
       "text": [
        "( 1.06605e-06 +- 1.24813e-07 )\n"
       ]
      }
     ],
     "prompt_number": 7
    },
    {
     "cell_type": "code",
     "collapsed": false,
     "input": [],
     "language": "python",
     "metadata": {},
     "outputs": []
    }
   ],
   "metadata": {}
  }
 ]
}