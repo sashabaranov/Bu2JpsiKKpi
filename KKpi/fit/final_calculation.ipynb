{
 "metadata": {
  "name": "",
  "signature": "sha256:42d49890f453b01eca92c95da3cf508524613a73416db0aa04c556676d004ebf"
 },
 "nbformat": 3,
 "nbformat_minor": 0,
 "worksheets": [
  {
   "cells": [
    {
     "cell_type": "heading",
     "level": 1,
     "metadata": {},
     "source": [
      "\u041f\u043e\u043b\u0443\u0447\u0435\u043d\u0438\u0435 \u0441\u043e\u043e\u0442\u043d\u043e\u0448\u0435\u043d\u0438\u044f $\\mathcal{B}(B_{u} \\to J/\\psi KK\\pi) / \\mathcal{B}(B_{u} \\to \\psi(2S) K)$"
     ]
    },
    {
     "cell_type": "code",
     "collapsed": false,
     "input": [
      "from LoKiCore.basic import Gaudi\n",
      "import LHCbMath.Types\n",
      " \n",
      "VE = Gaudi.Math.ValueWithError\n",
      "\n",
      "from ostap import *\n",
      "from eff_acc import e_acc_ratio"
     ],
     "language": "python",
     "metadata": {},
     "outputs": [
      {
       "output_type": "stream",
       "stream": "stdout",
       "text": [
        "importing IPython notebook from eff_acc.ipynb\n",
        "Sim08-Beam4000GeV-md100-2012-nu2.5-Pythia8 ( 1.03009 +- 0.00871295 )\n",
        "Sim08-Beam3500GeV-mu100-2011-nu2-Pythia8 ( 1.02099 +- 0.00362158 )\n",
        "Sim08-Beam3500GeV-md100-2011-nu2-Pythia8 ( 1.02397 +- 0.00373813 )\n",
        "Sim08-Beam4000GeV-mu100-2012-nu2.5-Pythia8 ( 1.03752 +- 0.00465321 )\n",
        "( 1.02814 +- 0.00279125 )\n"
       ]
      }
     ],
     "prompt_number": 1
    },
    {
     "cell_type": "code",
     "collapsed": false,
     "input": [
      "N_sig = VE(224, 26**2)\n",
      "N_norm = (VE(9210, 97**2) + VE(9097, 96**2)) / 2.0"
     ],
     "language": "python",
     "metadata": {},
     "outputs": [],
     "prompt_number": 2
    },
    {
     "cell_type": "code",
     "collapsed": false,
     "input": [
      "# Signal:\n",
      "# Full:\t    ( 0.015298 +- 0.000100484 )\n",
      "# Rec&Sel:\t( 0.0172308 +- 0.000106743 )\n",
      "# Trigger:\t( 0.887832 +- 0.00801615 )\n",
      "\n",
      "# Norm:\n",
      "# Full:\t( 0.00895655 +- 4.9599e-05 )\n",
      "# Rec&Sel:\t( 0.00978664 +- 5.18679e-05 )\n",
      "# Trigger:\t( 0.915182 +- 0.00701504 )\n",
      "\n",
      "#Signal:\n",
      "e_full_sig = VE(0.015298, 0.000100484**2)\n",
      "e_reco_sel_sig = VE(0.0172308, 0.000106743**2)\n",
      "\n",
      "\n",
      "#Norm\n",
      "e_full_norm = VE(0.00895655, 4.9599e-05**2)\n",
      "e_reco_sel_norm = VE(0.00978664, 5.18679e-05**2)"
     ],
     "language": "python",
     "metadata": {},
     "outputs": [],
     "prompt_number": 36
    },
    {
     "cell_type": "code",
     "collapsed": false,
     "input": [
      "braching_ratio = (N_sig/N_norm) * (e_full_sig/e_full_norm) * e_acc_ratio\n",
      "print braching_ratio"
     ],
     "language": "python",
     "metadata": {},
     "outputs": [
      {
       "output_type": "stream",
       "stream": "stdout",
       "text": [
        "( 0.0429742 +- 0.00501333 )\n"
       ]
      }
     ],
     "prompt_number": 30
    },
    {
     "cell_type": "code",
     "collapsed": false,
     "input": [
      "braching = 6.27e-4 * 0.34 * braching_ratio"
     ],
     "language": "python",
     "metadata": {},
     "outputs": [],
     "prompt_number": 31
    },
    {
     "cell_type": "code",
     "collapsed": false,
     "input": [
      "braching"
     ],
     "language": "python",
     "metadata": {},
     "outputs": [
      {
       "metadata": {},
       "output_type": "pyout",
       "prompt_number": 32,
       "text": [
        "( 9.16125e-06 +- 1.06874e-06 )"
       ]
      }
     ],
     "prompt_number": 32
    },
    {
     "cell_type": "code",
     "collapsed": false,
     "input": [
      "e_full_sig / e_reco_sel_sig"
     ],
     "language": "python",
     "metadata": {},
     "outputs": [
      {
       "metadata": {},
       "output_type": "pyout",
       "prompt_number": 34,
       "text": [
        "( 0.887829 +- 0.00801612 )"
       ]
      }
     ],
     "prompt_number": 34
    },
    {
     "cell_type": "code",
     "collapsed": false,
     "input": [
      "e_reco_sel_sig/ e_reco_sel_norm"
     ],
     "language": "python",
     "metadata": {},
     "outputs": [
      {
       "metadata": {},
       "output_type": "pyout",
       "prompt_number": 35,
       "text": [
        "( 1.76065 +- 0.0143539 )"
       ]
      }
     ],
     "prompt_number": 35
    },
    {
     "cell_type": "code",
     "collapsed": false,
     "input": [],
     "language": "python",
     "metadata": {},
     "outputs": []
    }
   ],
   "metadata": {}
  }
 ]
}