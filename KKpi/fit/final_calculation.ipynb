{
 "metadata": {
  "name": "",
  "signature": "sha256:611e7c2faf9a17f36b166258d31335f03acf3357980b311b7bfb1246a848efc4"
 },
 "nbformat": 3,
 "nbformat_minor": 0,
 "worksheets": [
  {
   "cells": [
    {
     "cell_type": "heading",
     "level": 1,
     "metadata": {},
     "source": [
      "\u041f\u043e\u043b\u0443\u0447\u0435\u043d\u0438\u0435 \u0441\u043e\u043e\u0442\u043d\u043e\u0448\u0435\u043d\u0438\u044f $\\mathcal{B}(B_{u} \\to J/\\psi KK\\pi) / \\mathcal{B}(B_{u} \\to \\psi(2S) K)$"
     ]
    },
    {
     "cell_type": "code",
     "collapsed": false,
     "input": [
      "from LoKiCore.basic import Gaudi\n",
      "import LHCbMath.Types\n",
      " \n",
      "VE = Gaudi.Math.ValueWithError\n",
      "\n",
      "from ostap import *\n",
      "from eff_acc import e_acc_ratio"
     ],
     "language": "python",
     "metadata": {},
     "outputs": [
      {
       "output_type": "stream",
       "stream": "stdout",
       "text": [
        "importing IPython notebook from eff_acc.ipynb\n",
        "Sim08-Beam4000GeV-md100-2012-nu2.5-Pythia8 ( 1.03009 +- 0.00871295 )\n",
        "Sim08-Beam3500GeV-mu100-2011-nu2-Pythia8 ( 1.02099 +- 0.00362158 )\n",
        "Sim08-Beam3500GeV-md100-2011-nu2-Pythia8 ( 1.02397 +- 0.00373813 )\n",
        "Sim08-Beam4000GeV-mu100-2012-nu2.5-Pythia8 ( 1.03752 +- 0.00465321 )\n",
        "( 1.02814 +- 0.00279125 )\n"
       ]
      }
     ],
     "prompt_number": 1
    },
    {
     "cell_type": "code",
     "collapsed": false,
     "input": [
      "N_sig = VE(224, 26**2)\n",
      "N_norm = (VE(9210, 97**2) + VE(9097, 96**2)) / 2.0"
     ],
     "language": "python",
     "metadata": {},
     "outputs": [],
     "prompt_number": 2
    },
    {
     "cell_type": "code",
     "collapsed": false,
     "input": [
      "# Signal:\n",
      "# Full:     ( 0.0145582 +- 9.79878e-05 )\n",
      "# Rec&Sel:  ( 0.0163954 +- 0.000104081 )\n",
      "# Trigger:  ( 0.887943 +- 0.00821539 )\n",
      "\n",
      "# Norm:\n",
      "# Full:     ( 0.00892241 +- 5.0148e-05 )\n",
      "# Rec&Sel:  ( 0.00974997 +- 5.24259e-05 )\n",
      "# Trigger:  ( 0.915122 +- 0.00711809 )\n",
      "\n",
      "\n",
      "#Signal:\n",
      "e_full_sig = VE(0.0145582, 9.79878e-05**2)\n",
      "e_reco_sel_sig = VE(0.0163954, 0.000104081**2)\n",
      "\n",
      "\n",
      "#Norm\n",
      "e_full_norm = VE(0.00892241, 5.0148e-05**2)\n",
      "e_reco_sel_norm = VE(0.00974997, 5.24259e-05**2)"
     ],
     "language": "python",
     "metadata": {},
     "outputs": [],
     "prompt_number": 3
    },
    {
     "cell_type": "code",
     "collapsed": false,
     "input": [
      "braching_ratio = (N_sig/N_norm) * (e_full_sig/e_full_norm) * e_acc_ratio\n",
      "print braching_ratio"
     ],
     "language": "python",
     "metadata": {},
     "outputs": [
      {
       "output_type": "stream",
       "stream": "stdout",
       "text": [
        "( 0.0410525 +- 0.00478969 )\n"
       ]
      }
     ],
     "prompt_number": 4
    },
    {
     "cell_type": "code",
     "collapsed": false,
     "input": [
      "braching = 6.27e-4 * 0.34 * braching_ratio"
     ],
     "language": "python",
     "metadata": {},
     "outputs": [],
     "prompt_number": 5
    },
    {
     "cell_type": "code",
     "collapsed": false,
     "input": [
      "braching"
     ],
     "language": "python",
     "metadata": {},
     "outputs": [
      {
       "metadata": {},
       "output_type": "pyout",
       "prompt_number": 6,
       "text": [
        "( 8.75157e-06 +- 1.02107e-06 )"
       ]
      }
     ],
     "prompt_number": 6
    },
    {
     "cell_type": "code",
     "collapsed": false,
     "input": [
      "e_full_sig / e_reco_sel_sig"
     ],
     "language": "python",
     "metadata": {},
     "outputs": [
      {
       "metadata": {},
       "output_type": "pyout",
       "prompt_number": 7,
       "text": [
        "( 0.887944 +- 0.00821541 )"
       ]
      }
     ],
     "prompt_number": 7
    },
    {
     "cell_type": "code",
     "collapsed": false,
     "input": [
      "e_reco_sel_sig/ e_reco_sel_norm"
     ],
     "language": "python",
     "metadata": {},
     "outputs": [
      {
       "metadata": {},
       "output_type": "pyout",
       "prompt_number": 8,
       "text": [
        "( 1.68158 +- 0.0139897 )"
       ]
      }
     ],
     "prompt_number": 8
    },
    {
     "cell_type": "code",
     "collapsed": false,
     "input": [],
     "language": "python",
     "metadata": {},
     "outputs": []
    }
   ],
   "metadata": {}
  }
 ]
}