{
 "metadata": {
  "name": "",
  "signature": "sha256:7611684ef65e0c5c9bec654e1ec868a1a9dafad58a579fa78a1990aa3ded27e4"
 },
 "nbformat": 3,
 "nbformat_minor": 0,
 "worksheets": [
  {
   "cells": [
    {
     "cell_type": "heading",
     "level": 1,
     "metadata": {},
     "source": [
      "$B_{u} \\to J/\\psi KK\\pi$ MC Pythia6 fit"
     ]
    },
    {
     "cell_type": "markdown",
     "metadata": {},
     "source": [
      "__Basic imports__:"
     ]
    },
    {
     "cell_type": "code",
     "collapsed": false,
     "input": [
      "import ROOT, random\n",
      "from   Ostap import *\n",
      "from   Ostap.PyRoUts import *\n",
      "import Ostap.FitModels as Models\n",
      "\n",
      "from ostap import *"
     ],
     "language": "python",
     "metadata": {},
     "outputs": [],
     "prompt_number": 2
    },
    {
     "cell_type": "markdown",
     "metadata": {},
     "source": [
      "__Variables__:"
     ]
    },
    {
     "cell_type": "code",
     "collapsed": false,
     "input": [
      "# Bu meson\n",
      "m_Bu = ROOT.RooRealVar('m_Bu', 'mass(J/\\psi K K \\pi)', 5.2, 5.4)\n",
      "nbin_Bu = 150\n",
      "binning_b = (m_Bu.getMax() - m_Bu.getMin()) / nbin_Bu * 1000\n",
      "\n",
      "\n",
      "selector_variables = [(m_Bu, lambda s: s.DTFm_b )]"
     ],
     "language": "python",
     "metadata": {},
     "outputs": [],
     "prompt_number": 3
    },
    {
     "cell_type": "markdown",
     "metadata": {},
     "source": [
      "__Project nTuple to RooFit's dataset__"
     ]
    },
    {
     "cell_type": "code",
     "collapsed": false,
     "input": [
      "from cuts import cuts_Bu, mctrue\n",
      "from data import mc_Pythia6, mc_Pythia8, mc_total\n",
      "\n",
      "from Ostap.Selectors import SelectorWithVarsCached\n",
      "\n",
      "cuts_Bu += mctrue\n",
      "\n",
      "sel_Bu = SelectorWithVarsCached(\n",
      "    variables=selector_variables,\n",
      "    selection=cuts_Bu,\n",
      "    files=mc_Pythia6.files\n",
      ")\n",
      "if not sel_Bu._loaded_from_cache:\n",
      "    mc_Pythia6.chain.process(sel_Bu)\n",
      "\n",
      "ds_Bu = sel_Bu.dataset()"
     ],
     "language": "python",
     "metadata": {},
     "outputs": [
      {
       "output_type": "stream",
       "stream": "stdout",
       "text": [
        "DEFINE default storage type to be TTree! \n",
        "# data                      INFO    Selection 7: <Luminosity: ( 3082.18 +- 61.9831 )pb-1; #files: 27; Entries: 4020930>\n"
       ]
      },
      {
       "output_type": "stream",
       "stream": "stdout",
       "text": [
        "# data                      INFO    MC Pythia 6: <#files: 94; Entries: 28552>\n"
       ]
      },
      {
       "output_type": "stream",
       "stream": "stdout",
       "text": [
        "# data                      INFO    MC Pythia 8: <#files: 103; Entries: 29552>\n"
       ]
      },
      {
       "output_type": "stream",
       "stream": "stdout",
       "text": [
        "# Ostap.Selectors/ds_1000   INFO    TChain entries: 28552\n"
       ]
      },
      {
       "output_type": "stream",
       "stream": "stdout",
       "text": [
        "[                                                                                ] 0% \r",
        "[ #######                                                                        ] 9%"
       ]
      },
      {
       "output_type": "stream",
       "stream": "stdout",
       "text": [
        " \r",
        "[ ##############                                                                 ] 18%"
       ]
      },
      {
       "output_type": "stream",
       "stream": "stdout",
       "text": [
        " \r",
        "[ #####################                                                          ] 27%"
       ]
      },
      {
       "output_type": "stream",
       "stream": "stdout",
       "text": [
        " \r",
        "[ ############################                                                   ] 36%"
       ]
      },
      {
       "output_type": "stream",
       "stream": "stdout",
       "text": [
        " \r",
        "[ ###################################                                            ] 46%"
       ]
      },
      {
       "output_type": "stream",
       "stream": "stdout",
       "text": [
        " \r",
        "[ ###########################################                                    ] 56%"
       ]
      },
      {
       "output_type": "stream",
       "stream": "stdout",
       "text": [
        " \r",
        "[ ###################################################                            ] 66%"
       ]
      },
      {
       "output_type": "stream",
       "stream": "stdout",
       "text": [
        " \r",
        "[ ###########################################################                    ] 76%"
       ]
      },
      {
       "output_type": "stream",
       "stream": "stdout",
       "text": [
        " \r",
        "[ ###################################################################            ] 86%"
       ]
      },
      {
       "output_type": "stream",
       "stream": "stdout",
       "text": [
        " \r",
        "[ ##########################################################################     ] 96%"
       ]
      },
      {
       "output_type": "stream",
       "stream": "stdout",
       "text": [
        " \r",
        "[ ############################################################################## ] 100% \r",
        "[ ############################################################################## ] 100% \r\n",
        "# Ostap.Selectors/ds_1000   INFO    Events Processed/Total/Skept 5192/28552/18\n",
        "CUTS: \" DTFchi2ndof > 0&& DTFchi2ndof < 5&& DTFctau > 0.25&& vchi2_b < 20&& pt_kaon[0] > 0.6 && pt_kaon[1] > 0.6&& pt_pion > 0.3&& m_jpsi    > 3.020 && m_jpsi    < 3.135&& minann_K  > 0.3&& ann_pion[0] > 0.3&& MIPCHI2DV_k1 > 12. && MIPCHI2DV_k2 > 12. && MIPCHI2DV_pi > 12.&& ((psi_l0tos & 2) == 2)&& ((psi_l1tos & 2) == 2)&& ((psi_l2tos & 2) == 2)&& mcTrueB && mcTruePsi && mcTrueK1 && mcTrueK2 && mcTruePi && mcTrueMu1 && mcTrueMu2\"\n"
       ]
      },
      {
       "output_type": "stream",
       "stream": "stdout",
       "text": [
        "# Ostap.ZipShelve           INFO    Open DB: /home/sashab1/.ostap/cache/369b81b132885b97bf5c495f0f1ef18b4c0640098695e9af02583a9b29d40206f497f7df494bb870b982d9bfa421dbed4443ac37e9c09b1fcf718d535f26d274.shelve\n"
       ]
      }
     ],
     "prompt_number": 4
    },
    {
     "cell_type": "code",
     "collapsed": false,
     "input": [
      "s1_Bu = Models.CB2_pdf(\n",
      "    'Bu1',\n",
      "    m_Bu.getMin(),\n",
      "    m_Bu.getMax(),\n",
      "    fixMass=5.2792e+0,\n",
      "    fixSigma=0.008499e+0,\n",
      "    fixAlphaL=2.1005,\n",
      "    fixAlphaR=1.8805,\n",
      "    fixNL=1.215,\n",
      "    fixNR=2.765,\n",
      "    mass=m_Bu\n",
      ")\n",
      "\n",
      "\n",
      "model_Bu = Models.Fit1D(\n",
      "    signal=s1_Bu,\n",
      "    background=Models.Bkg_pdf('BBu', mass=m_Bu), suffix='Bu'\n",
      ")\n",
      "\n",
      "model_Bu.b.fix(0)\n",
      "model_Bu.background.tau.fix(0)"
     ],
     "language": "python",
     "metadata": {},
     "outputs": [
      {
       "metadata": {},
       "output_type": "pyout",
       "prompt_number": 5,
       "text": [
        "( 0 +- 0 )"
       ]
      }
     ],
     "prompt_number": 5
    },
    {
     "cell_type": "code",
     "collapsed": false,
     "input": [
      "model_Bu.s.setMax(1.2 * len(ds_Bu))\n",
      "ru, fu = model_Bu.fitTo(ds_Bu, draw=True, nbins=nbin_Bu)\n",
      "\n",
      "model_Bu.signal.sigma.release()\n",
      "model_Bu.signal.mean.release()\n",
      "ru, fu = model_Bu.fitTo(ds_Bu, draw=True, nbins=nbin_Bu)\n",
      "\n",
      "model_Bu.signal.aR.release()\n",
      "model_Bu.signal.aL.release()\n",
      "ru, fu = model_Bu.fitTo(ds_Bu, draw=True, nbins=nbin_Bu)\n",
      "\n",
      "model_Bu.signal.nR.release()\n",
      "model_Bu.signal.nL.release()\n",
      "\n",
      "ru, fu = model_Bu.fitTo(ds_Bu, draw=True, nbins=nbin_Bu)"
     ],
     "language": "python",
     "metadata": {},
     "outputs": [],
     "prompt_number": 6
    },
    {
     "cell_type": "code",
     "collapsed": false,
     "input": [
      "canvas = rootnotes.random_canvas(size=(1024, 768))\n",
      "\n",
      "fu.SetXTitle(\"Inv.\\,mass(J/\\psi\\,K\\pi\\pi), GeV/c^{2}}\")\n",
      "fu.SetYTitle(\"Events / %.1f MeV/c^{2}\" % binning_b)\n",
      "\n",
      "# fu.SetAxisRange(0.5, 5500, 'Y')\n",
      "\n",
      "fu.Draw()\n",
      "\n",
      "\n",
      "canvas.SetLogy()\n",
      "canvas"
     ],
     "language": "python",
     "metadata": {},
     "outputs": [
      {
       "metadata": {},
       "output_type": "pyout",
       "png": "[encoded data removed]",
       "prompt_number": 13,
       "text": [
        "<ROOT.TCanvas object (\"95baf4be-ae0f-41be-a5be-edab65a96291\") at 0x923a040>"
       ]
      }
     ],
     "prompt_number": 13
    },
    {
     "cell_type": "code",
     "collapsed": false,
     "input": [
      "canvas = rootnotes.random_canvas(size=(1024, 768))\n",
      "\n",
      "fu.SetXTitle(\"Inv.\\,mass(J/\\psi\\,K\\pi\\pi), GeV/c^{2}}\")\n",
      "fu.SetYTitle(\"Events / %.1f MeV/c^{2}\" % binning_b)\n",
      "\n",
      "fu.SetAxisRange(0, 700, 'Y')\n",
      "y_axis = fu.GetYaxis()\n",
      "y_axis.SetTitleOffset(1.3)\n",
      "fu.Draw()\n",
      "\n",
      "canvas"
     ],
     "language": "python",
     "metadata": {},
     "outputs": [
      {
       "metadata": {},
       "output_type": "pyout",
       "png": "[encoded data removed]",
       "prompt_number": 12,
       "text": [
        "<ROOT.TCanvas object (\"7622b368-f1ea-4240-9100-ad0e79d4b79a\") at 0x923d680>"
       ]
      }
     ],
     "prompt_number": 12
    },
    {
     "cell_type": "code",
     "collapsed": false,
     "input": [
      "ipython_tools.params_table(ru)"
     ],
     "language": "python",
     "metadata": {},
     "outputs": [
      {
       "html": [
        "Fit status: <b>Full, accurate covariance matrix</b><br/>minNll: <b>-57901.2135491</b><br/><table><tr><th>Name</th> <th>Value</th> <th>Min</th> <th>Max</th> </tr><tr><th>aR_Bu1</th> <th>( 1.81794 +- 0.126596 )</th> <th>0.0</th> <th>10.0</th></tr><tr><th>SBu</th> <th>( 5174.04 +- 71.92 )</th> <th>0.0</th> <th>6208.8</th></tr><tr><th>aL_Bu1</th> <th>( 1.97083 +- 0.128045 )</th> <th>0.0</th> <th>10.0</th></tr><tr><th>sigma_Bu1</th> <th>( 0.0050664 +- 0.000104593 )</th> <th>0.0</th> <th>0.0692820323028</th></tr><tr><th>nR_Bu1</th> <th>( 3.08674 +- 0.801117 )</th> <th>0.0</th> <th>10.0</th></tr><tr><th>nL_Bu1</th> <th>( 0.88419 +- 0.306204 )</th> <th>0.0</th> <th>10.0</th></tr><tr><th>mean_Bu1</th> <th>( 5.27951 +- 8.75601e-05 )</th> <th>5.2</th> <th>5.4</th></tr></table>"
       ],
       "metadata": {},
       "output_type": "pyout",
       "prompt_number": 10,
       "text": [
        "<IPython.core.display.HTML at 0x7e39410>"
       ]
      }
     ],
     "prompt_number": 10
    },
    {
     "cell_type": "code",
     "collapsed": false,
     "input": [],
     "language": "python",
     "metadata": {},
     "outputs": []
    }
   ],
   "metadata": {}
  }
 ]
}