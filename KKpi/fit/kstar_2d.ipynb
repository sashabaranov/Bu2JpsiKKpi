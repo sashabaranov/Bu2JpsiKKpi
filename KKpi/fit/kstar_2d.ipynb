{
 "metadata": {
  "name": "",
  "signature": "sha256:8e61b9d58c4d8c8b068fe9bca622be60e15654114808ef26c423551a7b411ef9"
 },
 "nbformat": 3,
 "nbformat_minor": 0,
 "worksheets": [
  {
   "cells": [
    {
     "cell_type": "heading",
     "level": 1,
     "metadata": {},
     "source": [
      "2D-fitting of $K^{*}(892)$ resonanse in $B_u \\to J/\\psi KK \\pi$"
     ]
    },
    {
     "cell_type": "markdown",
     "metadata": {},
     "source": [
      "__Import things:__"
     ]
    },
    {
     "cell_type": "code",
     "collapsed": false,
     "input": [
      "import ROOT, random\n",
      "from   Ostap import *\n",
      "from   Ostap.PyRoUts import *\n",
      "import Ostap.FitModels as Models\n",
      "\n",
      "from ostap import *\n",
      "from mc_average import *\n",
      "\n",
      "\n",
      "def variate(var, minval=None, maxval=None, startval=None):\n",
      "    if minval: var.setMin(minval)\n",
      "    if maxval: var.setMax(maxval)\n",
      "    if startval: var.setVal(startval)"
     ],
     "language": "python",
     "metadata": {},
     "outputs": [
      {
       "output_type": "stream",
       "stream": "stdout",
       "text": [
        "# Ostap.PyRoUts             INFO    Zillions of decorations for ROOT   objects\n"
       ]
      },
      {
       "output_type": "stream",
       "stream": "stdout",
       "text": [
        "# setting LC_ALL to \"C\"\n",
        "importing IPython notebook from mc_average.ipynb"
       ]
      },
      {
       "output_type": "stream",
       "stream": "stdout",
       "text": [
        "\n",
        "importing IPython notebook from fit_mc_p6.ipynb\n",
        "DEFINE default storage type to be TTree! \n",
        "# data                      INFO    Selection 7: <Luminosity: ( 3082.18 +- 61.9831 )pb-1; #files: 27; Entries: 4020930>\n"
       ]
      },
      {
       "output_type": "stream",
       "stream": "stdout",
       "text": [
        "# data                      INFO    MC Pythia 6: <#files: 94; Entries: 28552>\n"
       ]
      },
      {
       "output_type": "stream",
       "stream": "stdout",
       "text": [
        "# data                      INFO    MC Pythia 8: <#files: 103; Entries: 29552>\n"
       ]
      },
      {
       "output_type": "stream",
       "stream": "stdout",
       "text": [
        "# Ostap.ZipShelve           INFO    Open DB: /home/sashab1/.ostap/cache/369b81b132885b97bf5c495f0f1ef18b4c0640098695e9af02583a9b29d40206f497f7df494bb870b982d9bfa421dbed4443ac37e9c09b1fcf718d535f26d274.shelve\n"
       ]
      },
      {
       "output_type": "stream",
       "stream": "stdout",
       "text": [
        "importing IPython notebook from fit_mc_p8.ipynb\n",
        "# Ostap.ZipShelve           INFO    Open DB: /home/sashab1/.ostap/cache/00fcf3508771f77cf418c32f5f10977e7e7029fc033a1de790fea920369ec5cd0596ccbf7482d75d4da3d999c511b3fed4411b517df68507ab19a101f47164ec.shelve\n"
       ]
      },
      {
       "output_type": "stream",
       "stream": "stdout",
       "text": [
        "[0.04157750941455392, 0.04592375372020926, 0.15777699864105776, 0.12403129732213726, 0.4123788224857029]\n"
       ]
      }
     ],
     "prompt_number": 1
    },
    {
     "cell_type": "markdown",
     "metadata": {},
     "source": [
      "__Define variables and their binning:__"
     ]
    },
    {
     "cell_type": "code",
     "collapsed": false,
     "input": [
      "# Bu meson\n",
      "m_Bu = ROOT.RooRealVar('DTFm_b', 'mass(J/psiKKpi)', 5.22, 5.34)\n",
      "nbin_Bu = 30\n",
      "binning_b = (m_Bu.getMax() - m_Bu.getMin()) / nbin_Bu * 1000\n",
      "\n",
      "\n",
      "# Resonanse\n",
      "m_Kstar = ROOT.RooRealVar('DTFm_kpi', 'mass(K \\pi)', 0.65, 1.25)\n",
      "nbin_Kstar = 30\n",
      "binning_kstar = (m_Kstar.getMax() - m_Kstar.getMin()) / nbin_Kstar * 1000\n",
      "\n",
      "# For Breit-Wigner\n",
      "mean_Kstar = ROOT.RooRealVar('mean_Kstar', 'mean(K*)', 0.85, 0.9)\n",
      "mean_Kstar.fix(0.892)\n",
      "\n",
      "width_Kstar = ROOT.RooRealVar('width_Kstar', 'width(Kstar0)', 0.0, 1.0)\n",
      "\n",
      "# PhaseSpace range\n",
      "low_kpi = ROOT.RooRealVar('low', 'low_KstarBg', 0.6, 0.7)\n",
      "low_kpi.fix(0.634)\n",
      "\n",
      "high_kpi = ROOT.RooRealVar('high', 'high_KstarBg', 1.3, 2.0)\n",
      "\n",
      "\n",
      "selector_variables = [(m_Bu, lambda s: s.DTFm_b ), (m_Kstar, lambda s: s.DTFm_kpi )]"
     ],
     "language": "python",
     "metadata": {},
     "outputs": [],
     "prompt_number": 2
    },
    {
     "cell_type": "markdown",
     "metadata": {},
     "source": [
      "__Get dataset:__"
     ]
    },
    {
     "cell_type": "code",
     "collapsed": false,
     "input": [
      "from Ostap.Selectors import SelectorWithVarsCached\n",
      "\n",
      "from cuts import *\n",
      "from data import selection7\n",
      "\n",
      "sel_Bu = SelectorWithVarsCached(\n",
      "    variables=selector_variables,\n",
      "    selection=cuts_,\n",
      "    files=selection7.files\n",
      ")\n",
      "\n",
      "if not sel_Bu._loaded_from_cache:\n",
      "    selection7.chain.process(sel_Bu)\n",
      "\n",
      "\n",
      "ds_Bu = sel_Bu.dataset()\n",
      "ds_Bu.Print('v')"
     ],
     "language": "python",
     "metadata": {},
     "outputs": [
      {
       "output_type": "stream",
       "stream": "stdout",
       "text": [
        "# Ostap.Selectors/ds_1000   INFO    TChain entries: 4020930\n"
       ]
      },
      {
       "output_type": "stream",
       "stream": "stdout",
       "text": [
        "[                                                                                ] 0% \r",
        "[ ####                                                                           ] 6%"
       ]
      },
      {
       "output_type": "stream",
       "stream": "stdout",
       "text": [
        " \r",
        "[ ########                                                                       ] 11%"
       ]
      },
      {
       "output_type": "stream",
       "stream": "stdout",
       "text": [
        " \r",
        "[ #############                                                                  ] 17%"
       ]
      },
      {
       "output_type": "stream",
       "stream": "stdout",
       "text": [
        " \r",
        "[ #################                                                              ] 23%"
       ]
      },
      {
       "output_type": "stream",
       "stream": "stdout",
       "text": [
        " \r",
        "[ ######################                                                         ] 29%"
       ]
      },
      {
       "output_type": "stream",
       "stream": "stdout",
       "text": [
        " \r",
        "[ ############################                                                   ] 37%"
       ]
      },
      {
       "output_type": "stream",
       "stream": "stdout",
       "text": [
        " \r",
        "[ ###################################                                            ] 45%"
       ]
      },
      {
       "output_type": "stream",
       "stream": "stdout",
       "text": [
        " \r",
        "[ #########################################                                      ] 53%"
       ]
      },
      {
       "output_type": "stream",
       "stream": "stdout",
       "text": [
        " \r",
        "[ ###############################################                                ] 61%"
       ]
      },
      {
       "output_type": "stream",
       "stream": "stdout",
       "text": [
        " \r",
        "[ #####################################################                          ] 68%"
       ]
      },
      {
       "output_type": "stream",
       "stream": "stdout",
       "text": [
        " \r",
        "[ ###########################################################                    ] 76%"
       ]
      },
      {
       "output_type": "stream",
       "stream": "stdout",
       "text": [
        " \r",
        "[ ###############################################################                ] 82%"
       ]
      },
      {
       "output_type": "stream",
       "stream": "stdout",
       "text": [
        " \r",
        "[ ######################################################################         ] 90%"
       ]
      },
      {
       "output_type": "stream",
       "stream": "stdout",
       "text": [
        " \r",
        "[ ###########################################################################    ] 97%"
       ]
      },
      {
       "output_type": "stream",
       "stream": "stdout",
       "text": [
        " \r",
        "[ ############################################################################## ] 100%"
       ]
      },
      {
       "output_type": "stream",
       "stream": "stdout",
       "text": [
        " \r",
        "[ ############################################################################## ] 100% \r\n",
        "# Ostap.Selectors/ds_1000   INFO    Events Processed/Total/Skept 7213/4020930/6024\n",
        "CUTS: \" DTFchi2ndof > 0&& DTFchi2ndof < 5&& DTFctau > 0.25&& vchi2_b < 20&& pt_kaon[0] > 0.6 && pt_kaon[1] > 0.6&& pt_pion > 0.3&& m_jpsi    > 3.020 && m_jpsi    < 3.135&& minann_K  > 0.3&& ann_pion[0] > 0.3&& MIPCHI2DV_k1 > 12. && MIPCHI2DV_k2 > 12. && MIPCHI2DV_pi > 12.&& ((psi_l0tos & 2) == 2)&& ((psi_l1tos & 2) == 2)&& ((psi_l2tos & 2) == 2)\"\n"
       ]
      },
      {
       "output_type": "stream",
       "stream": "stdout",
       "text": [
        "# Ostap.ZipShelve           INFO    Open DB: /home/sashab1/.ostap/cache/9ab47296e761233eacb972310877d052d55e039f8ad1bd315d3ae41a364b88c50cafa54235cf6130aef023c8b5c41cde754a73ec137f2cbbd76a8c722fecf3af.shelve\n"
       ]
      }
     ],
     "prompt_number": 3
    },
    {
     "cell_type": "heading",
     "level": 1,
     "metadata": {},
     "source": [
      "1D-Fit $B_u$"
     ]
    },
    {
     "cell_type": "code",
     "collapsed": false,
     "input": [
      "s1_Bu = Models.CB2_pdf(\n",
      "    'Bu1',\n",
      "    m_Bu.getMin(),\n",
      "    m_Bu.getMax(),\n",
      "    fixMass=5.28,\n",
      "    fixSigma=5.75e-3,\n",
      "    fixAlphaL=avg_mc(\"aL_Bu1\"),\n",
      "    fixAlphaR=avg_mc(\"aR_Bu1\"),\n",
      "    fixNL=avg_mc(\"nL_Bu1\"),\n",
      "    fixNR=avg_mc(\"nR_Bu1\"),\n",
      "    mass=m_Bu\n",
      ")\n",
      "\n",
      "bkg_Bu = Models.Bkg_pdf('BBu', mass=m_Bu, power=1)\n",
      "\n",
      "model_B = Models.Fit1D(\n",
      "    signal=s1_Bu,\n",
      "    background=bkg_Bu,\n",
      ")\n"
     ],
     "language": "python",
     "metadata": {},
     "outputs": [],
     "prompt_number": 4
    },
    {
     "cell_type": "code",
     "collapsed": false,
     "input": [
      "c1 = rootnotes.random_canvas()\n",
      "\n",
      "ru, fu = model_B.fitTo(ds_Bu, draw=True, nbins=nbin_Bu)\n",
      "\n",
      "\n",
      "model_B.signal.mean.release()\n",
      "model_B.signal.sigma.release()\n",
      "\n",
      "ru, fu = model_B.fitTo(ds_Bu, draw=True, nbins=nbin_Bu)\n",
      "\n",
      "fu.SetTitle(\"\")\n",
      "fu.SetXTitle(\"Inv.\\,mass(J/\\psi\\,KK\\pi), GeV/c^{2}}\")\n",
      "fu.SetYTitle(\"Events / %.1f MeV/c^{2}\" % binning_b)\n",
      "\n",
      "fu.Draw()\n",
      "\n",
      "\n",
      "c1"
     ],
     "language": "python",
     "metadata": {},
     "outputs": [
      {
       "output_type": "stream",
       "stream": "stdout",
       "text": [
        "# Ostap.FitBasic            ERROR   Fit is problematic:  sum ( 109830 +- 486.996 ) != 1189 \n"
       ]
      },
      {
       "metadata": {},
       "output_type": "pyout",
       "png": "[encoded data removed]",
       "prompt_number": 5,
       "text": [
        "<ROOT.TCanvas object (\"2233e4d3-e2be-49f6-abaa-c5a338311128\") at 0x73f5170>"
       ]
      }
     ],
     "prompt_number": 5
    },
    {
     "cell_type": "heading",
     "level": 1,
     "metadata": {},
     "source": [
      "1D-Fit $K^{*}(892)$"
     ]
    },
    {
     "cell_type": "code",
     "collapsed": false,
     "input": [
      "m = VE(1.02, 0.02**2)\n",
      "bw = cpp.Gaudi.Math.BreitWigner(m.value(), m.error(), 0.493, 0.139, 1, 1)\n",
      "\n",
      "\n",
      "s_Ks =  Models.BreitWigner_pdf(\n",
      "   \"Ks1\",\n",
      "   m_Kstar.getMin(),\n",
      "   m_Kstar.getMin(),\n",
      "   bw,\n",
      "   mass=m_Kstar,\n",
      "   mean        = mean_Kstar , \n",
      "   gamma       = width_Kstar)\n",
      "\n",
      "\n",
      "ps = cpp.Gaudi.Math.PhaseSpaceNL(low_kpi, high_kpi, 2, 4) \n",
      "bkg_Ks = Models.PSPol_pdf( 'Bkg' , m_Kstar, ps , 1 )\n",
      "# bkg_Ks =  Models.LASS_pdf(\n",
      "#     'BkgKs',\n",
      "#     m_Kstar.getMin(),\n",
      "#     m_Kstar.getMin(),\n",
      "#     mass     = m_Kstar\n",
      "# )\n",
      "\n",
      "\n",
      "\n",
      "model_Ks = Models.Fit1D(\n",
      "    signal=s_Ks,\n",
      "    background=bkg_Ks,\n",
      "    suffix='Ks'\n",
      ")\n",
      "\n",
      "model_Ks.signal.mean.fix(1.020)\n",
      "model_Ks.signal.gamma.fix(4.26e-2)\n"
     ],
     "language": "python",
     "metadata": {},
     "outputs": [
      {
       "metadata": {},
       "output_type": "pyout",
       "prompt_number": 6,
       "text": [
        "( 0.0426 +- 0 )"
       ]
      }
     ],
     "prompt_number": 6
    },
    {
     "cell_type": "code",
     "collapsed": false,
     "input": [
      "c1 = rootnotes.random_canvas(size=(1024,768))\n",
      "\n",
      "ru, fu = model_Ks.fitTo(ds_Bu, draw=True, nbins=nbin_Kstar)\n",
      "\n",
      "# model_Ks.signal.mean.release()\n",
      "# model_Ks.signal.gamma.release()\n",
      "\n",
      "# ru, fu = model_Ks.fitTo(ds_Bu, draw=True, nbins=nbin_Kstar)\n",
      "\n",
      "fu.SetTitle(\"\")\n",
      "fu.SetXTitle(\"Inv.\\,mass(K\\pi), GeV/c^{2}\")\n",
      "fu.SetYTitle(\"Events / %.1f MeV/c^{2}\" % binning_kstar)\n",
      "\n",
      "\n",
      "c1"
     ],
     "language": "python",
     "metadata": {},
     "outputs": [
      {
       "metadata": {},
       "output_type": "pyout",
       "png": "[encoded data removed]",
       "prompt_number": 7,
       "text": [
        "<ROOT.TCanvas object (\"eef47ed2-5465-4402-8670-e2a50178a3ec\") at 0xafd5a80>"
       ]
      }
     ],
     "prompt_number": 7
    },
    {
     "cell_type": "heading",
     "level": 1,
     "metadata": {},
     "source": [
      "Try fit 2D"
     ]
    },
    {
     "cell_type": "markdown",
     "metadata": {},
     "source": [
      "__Model__"
     ]
    },
    {
     "cell_type": "code",
     "collapsed": false,
     "input": [
      "low_kpi.fix(low_kpi.getVal())\n",
      "high_kpi.fix(high_kpi.getVal())\n",
      "\n",
      "bb = Models.ExpoPSPol2D_pdf(\n",
      "    'B2',\n",
      "    m_Bu,\n",
      "    m_Kstar,\n",
      "    ps,\n",
      "    nx=0, ny=1\n",
      ") \n",
      "\n",
      "model = Models.Fit2D(\n",
      "    signal_1=s1_Bu,\n",
      "    signal_2=s_Ks,\n",
      "    bkg1=bkg_Bu ,\n",
      "    bkg2=bkg_Ks,\n",
      "    bkg2D=bb\n",
      ")"
     ],
     "language": "python",
     "metadata": {},
     "outputs": [],
     "prompt_number": 8
    },
    {
     "cell_type": "markdown",
     "metadata": {},
     "source": [
      "__Fitting__"
     ]
    },
    {
     "cell_type": "code",
     "collapsed": false,
     "input": [
      "r = model.fitTo(ds_Bu, draw=False)"
     ],
     "language": "python",
     "metadata": {},
     "outputs": [],
     "prompt_number": 9
    },
    {
     "cell_type": "code",
     "collapsed": false,
     "input": [
      "ipython_tools.params_table(r[0])"
     ],
     "language": "python",
     "metadata": {},
     "outputs": [
      {
       "html": [
        "Fit status: <b>Full, accurate covariance matrix</b><br/>minNll: <b>-10576.6697621</b><br/><table><tr><th>Name</th> <th>Value</th> <th>Min</th> <th>Max</th> </tr><tr><th>B1B2</th> <th>( 905.74 +- 39.4749 )</th> <th>0.0</th> <th>1000000.0</th></tr><tr><th>phi1_BBu</th> <th>( -0.000903848 +- 0.546793 )</th> <th>-3.5</th> <th>3.5</th></tr><tr><th>phi1_Bkg</th> <th>( -0.787241 +- 0.485267 )</th> <th>-3.5</th> <th>3.5</th></tr><tr><th>B1S2</th> <th>( 98.4227 +- 26.1541 )</th> <th>0.0</th> <th>1000000.0</th></tr><tr><th>sigma_Bu1</th> <th>( 0.00494253 +- 0.000560708 )</th> <th>0.0</th> <th>0.0415692193817</th></tr><tr><th>phi_2d_1_B2</th> <th>( 0.041277 +- 0.0362491 )</th> <th>-3.5</th> <th>3.5</th></tr><tr><th>S1S2</th> <th>( 132.936 +- 18.9319 )</th> <th>0.0</th> <th>1000000.0</th></tr><tr><th>S1B2</th> <th>( 51.914 +- 18.9302 )</th> <th>0.0</th> <th>1000000.0</th></tr><tr><th>tau_BBu</th> <th>( 10.9115 +- 20.1402 )</th> <th>-307.011345733</th> <th>307.011345733</th></tr><tr><th>tau_B2</th> <th>( -7.98781 +- 1.22427 )</th> <th>-307.011345733</th> <th>307.011345733</th></tr><tr><th>mean_Bu1</th> <th>( 5.28142 +- 0.000627188 )</th> <th>5.22</th> <th>5.34</th></tr></table>"
       ],
       "metadata": {},
       "output_type": "pyout",
       "prompt_number": 10,
       "text": [
        "<IPython.core.display.HTML at 0x6217b50>"
       ]
      }
     ],
     "prompt_number": 10
    },
    {
     "cell_type": "heading",
     "level": 1,
     "metadata": {},
     "source": [
      "**Time to draw!**"
     ]
    },
    {
     "cell_type": "code",
     "collapsed": false,
     "input": [
      "c2 = rootnotes.random_canvas(size=(1024, 768))\n",
      "\n",
      "fu = model.draw1(dataset=ds_Bu, nbins=nbin_Bu, silent=False)\n",
      "fu.SetXTitle(\"Inv. mass(J/#psi KK#pi), GeV/c^{2}\")\n",
      "fu.SetYTitle(\"Events / %.1f MeV/c^{2}\" % binning_b)\n",
      "fu.SetTitle(\"\")\n",
      "\n",
      "legend = ROOT.TLegend(0.55, 0.65, 0.9, 0.9)\n",
      "legend.SetFillColor(ROOT.kWhite)\n",
      "legend.SetTextSize(0.023)\n",
      "\n",
      "\n",
      "legend.AddEntry(\"DATA\", \"Data\", \"P\")\n",
      "legend.AddEntry(\"TOTAL\", \"Total\", \"L\")\n",
      "legend.AddEntry(\"SS\", \"S_{1} #times S_{2}\", \"L\")\n",
      "legend.AddEntry(\"SB\", \"S_{1} #times B_{2}\", \"L\")\n",
      "legend.AddEntry(\"BS\", \"B_{1} #times S_{2}\", \"L\")\n",
      "legend.AddEntry(\"BB\", \"Nonfactorized background\", \"L\")\n",
      "\n",
      "\n",
      "fu.Draw()\n",
      "legend.Draw()\n",
      "legend.Draw()\n",
      "# c1.SetLogy()\n",
      "c2"
     ],
     "language": "python",
     "metadata": {},
     "outputs": [
      {
       "metadata": {},
       "output_type": "pyout",
       "png": "[encoded data removed]",
       "prompt_number": 13,
       "text": [
        "<ROOT.TCanvas object (\"0f48b111-93a6-4d1e-9c50-15a8b37f37f1\") at 0xb2bc2d0>"
       ]
      }
     ],
     "prompt_number": 13
    },
    {
     "cell_type": "code",
     "collapsed": false,
     "input": [
      "c2 = rootnotes.random_canvas(size=(1024,768))\n",
      "fu = model.draw2(dataset=ds_Bu, nbins=nbin_Kstar, silent=False)\n",
      "\n",
      "fu.SetXTitle(\"Inv. mass(K#pi), GeV/c^{2}}\")\n",
      "fu.SetYTitle(\"Events / %.1f MeV/c^{2}\" % binning_kstar)\n",
      "fu.SetTitle(\"\")\n",
      "\n",
      "legend = ROOT.TLegend(0.55, 0.65, 0.9, 0.9)\n",
      "legend.SetFillColor(ROOT.kWhite)\n",
      "legend.SetTextSize(0.023)\n",
      "\n",
      "\n",
      "legend.AddEntry(\"DATA\", \"Data \\,\", \"P\")\n",
      "legend.AddEntry(\"TOTAL\", \"Total \\,\", \"L\")\n",
      "legend.AddEntry(\"SS\", \"S_{1} #times S_{2}\", \"L\")\n",
      "legend.AddEntry(\"SB\", \"S_{1} #times B_{2}\", \"L\")\n",
      "legend.AddEntry(\"BS\", \"B_{1} #times S_{2}\", \"L\")\n",
      "legend.AddEntry(\"BB\", \"Nonfactorized \\, \\,background\", \"L\")\n",
      "\n",
      "\n",
      "\n",
      "\n",
      "fu.Draw()\n",
      "legend.Draw()\n",
      "fu.Draw()\n",
      "legend.Draw()\n",
      "# c2.SetLogy()\n",
      "\n",
      "# legend = ROOT.TLegend(0.75, 0.65, 0.86, 0.9)\n",
      "# legend.SetFillColor(ROOT.kWhite)\n",
      "# legend.AddEntry(\"data\", \"Data\", \"P\")\n",
      "\n",
      "# legend.AddEntry(model.sb_pdf, \"S x B\", \"L\")\n",
      "# legend.Draw()\n",
      "\n",
      "\n",
      "c2"
     ],
     "language": "python",
     "metadata": {},
     "outputs": [
      {
       "metadata": {},
       "output_type": "pyout",
       "png": "[encoded data removed]",
       "prompt_number": 12,
       "text": [
        "<ROOT.TCanvas object (\"d8680368-54f5-4fd5-b173-eeaf258339d7\") at 0xb27a490>"
       ]
      }
     ],
     "prompt_number": 12
    },
    {
     "cell_type": "code",
     "collapsed": false,
     "input": [],
     "language": "python",
     "metadata": {},
     "outputs": [],
     "prompt_number": 12
    }
   ],
   "metadata": {}
  }
 ]
}