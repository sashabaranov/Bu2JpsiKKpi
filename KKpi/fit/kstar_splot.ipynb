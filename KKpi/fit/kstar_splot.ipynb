{
 "metadata": {
  "name": "",
  "signature": "sha256:cf71cd43a599072bf952cdb272339ddd68aaee6ffe6c205173b4b21fc56701ae"
 },
 "nbformat": 3,
 "nbformat_minor": 0,
 "worksheets": [
  {
   "cells": [
    {
     "cell_type": "code",
     "collapsed": false,
     "input": [
      "from ostap import *\n",
      "from fit_rd import *\n",
      "\n",
      "import Ostap.FitModels as Models"
     ],
     "language": "python",
     "metadata": {},
     "outputs": [
      {
       "output_type": "stream",
       "stream": "stdout",
       "text": [
        "importing IPython notebook from fit_rd.ipynb\n",
        "# Ostap.PyRoUts             INFO    Zillions of decorations for ROOT   objects\n"
       ]
      },
      {
       "output_type": "stream",
       "stream": "stdout",
       "text": [
        "# setting LC_ALL to \"C\"\n",
        "DEFINE default storage type to be TTree! "
       ]
      },
      {
       "output_type": "stream",
       "stream": "stdout",
       "text": [
        "\n",
        "# data                      INFO    Selection 7: <Luminosity: ( 3082.18 +- 61.9831 )pb-1; #files: 27; Entries: 4020930>\n"
       ]
      },
      {
       "output_type": "stream",
       "stream": "stdout",
       "text": [
        "# data                      INFO    MC Pythia 6: <#files: 94; Entries: 28552>\n"
       ]
      },
      {
       "output_type": "stream",
       "stream": "stdout",
       "text": [
        "# data                      INFO    MC Pythia 8: <#files: 103; Entries: 29552>\n"
       ]
      },
      {
       "output_type": "stream",
       "stream": "stdout",
       "text": [
        "# Ostap.ZipShelve           INFO    Open DB: /home/sashab1/.ostap/cache/b0425926215796dcbf2188db197f68c67b930ce4b2a255baa30ce4e120383d405b8ad093e1b216bbab89a416421af1f6e571ebefc359005a8037e887bbf1fc6a.shelve\n"
       ]
      },
      {
       "output_type": "stream",
       "stream": "stderr",
       "text": [
        "TClass::TClass:0: RuntimeWarning: no dictionary for class stack<RooAbsArg*,deque<RooAbsArg*> > is available\n"
       ]
      }
     ],
     "prompt_number": 1
    },
    {
     "cell_type": "code",
     "collapsed": false,
     "input": [
      "m_Kstar = ROOT.RooRealVar('DTFm_kpi', 'mass(K \\pi)', 0.68, 1.28)\n",
      "nbin_Kstar = 30\n",
      "events_binning = (m_Kstar.getMax() - m_Kstar.getMin()) / nbin_Kstar * 1000\n",
      "\n",
      "# For Breit-Wigner\n",
      "mean_Kstar = ROOT.RooRealVar('mean_Kstar', 'mean(K*)', 0.85, 0.9)\n",
      "mean_Kstar.fix(0.892)\n",
      "\n",
      "width_Kstar = ROOT.RooRealVar('width_Kstar', 'width(Kstar0)', 0.0, 1.0)\n",
      "\n",
      "# PhaseSpace range\n",
      "low_kpi = ROOT.RooRealVar('low', 'low_KstarBg', 0.6, 0.7)\n",
      "low_kpi.fix(0.634)\n",
      "\n",
      "high_kpi = ROOT.RooRealVar('high', 'high_KstarBg', 1.3, 2.0)\n"
     ],
     "language": "python",
     "metadata": {},
     "outputs": [],
     "prompt_number": 6
    },
    {
     "cell_type": "code",
     "collapsed": false,
     "input": [
      "hist = ROOT.TH1F(hID(), '', nbin_Kstar, m_Kstar.getMin(), m_Kstar.getMax())\n",
      "hist.Sumw2()\n",
      "\n",
      "ds_Bu.project(hist, \"DTFm_kpi\", \"S_sw\")"
     ],
     "language": "python",
     "metadata": {},
     "outputs": [
      {
       "metadata": {},
       "output_type": "pyout",
       "prompt_number": 7,
       "text": [
        "2315L"
       ]
      }
     ],
     "prompt_number": 7
    },
    {
     "cell_type": "code",
     "collapsed": false,
     "input": [
      "m = VE(0.8916, 0.02**2)\n",
      "bw = cpp.Gaudi.Math.BreitWigner(m.value(), m.error(), 0.493, 0.139, 1, 1)\n",
      "\n",
      "\n",
      "s_Ks =  Models.BreitWigner_pdf(\n",
      "   \"Ks1\",\n",
      "   m_Kstar.getMin(),\n",
      "   m_Kstar.getMin(),\n",
      "   bw,\n",
      "   mass=m_Kstar,\n",
      "   mean        = mean_Kstar , \n",
      "   gamma       = width_Kstar)\n",
      "\n",
      "\n",
      "ps = cpp.Gaudi.Math.PhaseSpaceNL(low_kpi, high_kpi, 2, 4) \n",
      "\n",
      "\n",
      "model_Ks = Models.Fit1D(\n",
      "    signal=s_Ks,\n",
      "    background=Models.PSPol_pdf( 'Bkg' , m_Kstar, ps , 0 ),\n",
      "    suffix='Ks'\n",
      ")\n",
      "\n",
      "model_Ks.signal.mean.fix(0.89581)\n",
      "model_Ks.signal.gamma.fix(47.4e-3)"
     ],
     "language": "python",
     "metadata": {},
     "outputs": [
      {
       "metadata": {},
       "output_type": "pyout",
       "prompt_number": 8,
       "text": [
        "( 0.0474 +- 0 )"
       ]
      }
     ],
     "prompt_number": 8
    },
    {
     "cell_type": "code",
     "collapsed": false,
     "input": [
      "canvas = rootnotes.random_canvas(size=(1024, 768))\n",
      "\n",
      "r, f = model_Ks.fitHisto(hist, draw=True)\n",
      "\n",
      "model_Ks.signal.gamma.release()\n",
      "r, f = model_Ks.fitHisto(hist, draw=True)\n",
      "\n",
      "model_Ks.signal.mean.release()\n",
      "r, f = model_Ks.fitHisto(hist, draw=True)\n",
      "\n",
      "\n",
      "f.SetTitle(\"\")\n",
      "f.SetXTitle(\"Inv.\\,mass(K\\pi), GeV/c^{2}}\")\n",
      "f.SetYTitle(\"Events / %.1f MeV/c^{2}\" % events_binning)\n",
      "\n",
      "\n",
      "\n",
      "canvas"
     ],
     "language": "python",
     "metadata": {},
     "outputs": [
      {
       "metadata": {},
       "output_type": "pyout",
       "png": "[encoded data removed]",
       "prompt_number": 9,
       "text": [
        "<ROOT.TCanvas object (\"a37c5458-3cec-475d-abb5-22510e6fe96a\") at 0x7df6d10>"
       ]
      }
     ],
     "prompt_number": 9
    },
    {
     "cell_type": "code",
     "collapsed": false,
     "input": [
      "ipython_tools.params_table(r)"
     ],
     "language": "python",
     "metadata": {},
     "outputs": [
      {
       "html": [
        "Fit status: <b>Full, accurate covariance matrix</b><br/>minNll: <b>-1020.73135178</b><br/><table><tr><th>Name</th> <th>Value</th> <th>Min</th> <th>Max</th> </tr><tr><th>width_Kstar</th> <th>( 0.0473232 +- 0.00781192 )</th> <th>0.0</th> <th>1.0</th></tr><tr><th>mean_Kstar</th> <th>( 0.891111 +- 0.00320941 )</th> <th>0.85</th> <th>0.9</th></tr><tr><th>SKs</th> <th>( 137.96 +- 15.7945 )</th> <th>0.0</th> <th>1000000.0</th></tr><tr><th>BKs</th> <th>( 52.5941 +- 12.8095 )</th> <th>0.0</th> <th>1000000.0</th></tr></table>"
       ],
       "metadata": {},
       "output_type": "pyout",
       "prompt_number": 11,
       "text": [
        "<IPython.core.display.HTML at 0x779b6d0>"
       ]
      }
     ],
     "prompt_number": 11
    },
    {
     "cell_type": "code",
     "collapsed": false,
     "input": [],
     "language": "python",
     "metadata": {},
     "outputs": []
    }
   ],
   "metadata": {}
  }
 ]
}