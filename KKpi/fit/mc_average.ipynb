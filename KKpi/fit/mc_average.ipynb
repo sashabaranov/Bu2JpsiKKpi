{
 "metadata": {
  "name": "",
  "signature": "sha256:0db33d5d9a879e291791fd8e08309ceff797b2f56fed377111f99fb2c2960bad"
 },
 "nbformat": 3,
 "nbformat_minor": 0,
 "worksheets": [
  {
   "cells": [
    {
     "cell_type": "code",
     "collapsed": false,
     "input": [
      "from ostap import *\n",
      "\n",
      "from fit_mc_p6 import ru as ru_p6\n",
      "from fit_mc_p8 import ru as ru_p8"
     ],
     "language": "python",
     "metadata": {},
     "outputs": [],
     "prompt_number": 5
    },
    {
     "cell_type": "code",
     "collapsed": false,
     "input": [
      "def avg(*args):\n",
      "    return sum([float(_) for _ in args]) / len(args)\n",
      "\n",
      "def avg_mc(param_name):\n",
      "    global ru_p6, ru_p8\n",
      "    return avg(ru_p6(param_name)[0], ru_p8(param_name)[0])\n",
      "\n",
      "def delta_mc(param_name):\n",
      "    global ru_p6, ru_p8\n",
      "    return abs(float(ru_p6(param_name)[0] - ru_p8(param_name)[0])) / avg_mc(param_name)"
     ],
     "language": "python",
     "metadata": {},
     "outputs": [],
     "prompt_number": 6
    },
    {
     "cell_type": "code",
     "collapsed": false,
     "input": [
      "deltas = [\n",
      "    delta_mc(\"sigma_Bu1\"),\n",
      "    delta_mc(\"aL_Bu1\"),\n",
      "    delta_mc(\"aR_Bu1\"),\n",
      "    delta_mc(\"nL_Bu1\"),\n",
      "    delta_mc(\"nR_Bu1\"),\n",
      "]"
     ],
     "language": "python",
     "metadata": {},
     "outputs": [],
     "prompt_number": 7
    },
    {
     "cell_type": "code",
     "collapsed": false,
     "input": [
      "print deltas"
     ],
     "language": "python",
     "metadata": {},
     "outputs": [
      {
       "output_type": "stream",
       "stream": "stdout",
       "text": [
        "[0.041577509414553918, 0.045923753720209258, 0.15777699864105776, 0.12403129732213726, 0.4123788224857029]\n"
       ]
      }
     ],
     "prompt_number": 8
    },
    {
     "cell_type": "code",
     "collapsed": false,
     "input": [],
     "language": "python",
     "metadata": {},
     "outputs": []
    }
   ],
   "metadata": {}
  }
 ]
}