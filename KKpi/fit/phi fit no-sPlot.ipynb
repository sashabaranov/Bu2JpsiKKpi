{
 "metadata": {
  "name": "",
  "signature": "sha256:550e75c929cfd489ddab951c19bf00f787ab7854513b8818674d6ae185c66271"
 },
 "nbformat": 3,
 "nbformat_minor": 0,
 "worksheets": [
  {
   "cells": [
    {
     "cell_type": "heading",
     "level": 1,
     "metadata": {},
     "source": [
      "2D-fitting of $\\phi(1020)$ resonanse in $B_u \\to J/\\psi KK \\pi$"
     ]
    },
    {
     "cell_type": "markdown",
     "metadata": {},
     "source": [
      "__Import things:__"
     ]
    },
    {
     "cell_type": "code",
     "collapsed": false,
     "input": [
      "from tools import *\n",
      "import ROOT, random\n",
      "from   Ostap import *\n",
      "from   Ostap.PyRoUts import *\n",
      "import Ostap.FitModels as Models\n",
      "\n",
      "from ostap import rootnotes\n",
      "\n",
      "def variate(var, minval=None, maxval=None, startval=None):\n",
      "    if minval: var.setMin(minval)\n",
      "    if maxval: var.setMax(maxval)\n",
      "    if startval: var.setVal(startval)"
     ],
     "language": "python",
     "metadata": {},
     "outputs": [
      {
       "output_type": "stream",
       "stream": "stdout",
       "text": [
        "# Ostap Bender              INFO    Welcome to Ostap\n",
        "\n",
        " \n",
        "     .oooooo.                .                        \n",
        "    d8P'  `Y8b             .o8                        \n",
        "   888      888  .oooo.o .o888oo  .oooo.   oo.ooooo.  \n",
        "   888      888 d88(  \"8   888   `P  )88b   888' `88b \n",
        "   888      888 `\"Y88b.    888    .oP\"888   888   888 \n",
        "   `88b    d88' o.  )88b   888 . d8(  888   888   888 \n",
        "    `Y8bood8P'  8\"\"888P'   \"888\" `Y888\"\"8o  888bod8P' \n",
        "                                            888\n",
        "                                           o888o      \n",
        "\n"
       ]
      },
      {
       "output_type": "stream",
       "stream": "stdout",
       "text": [
        "# Ostap Bender              INFO     Simple interactive PyRoot-based analysis environment\n",
        "to provide access to zillions useful decorators for ROOT (and not only ROOT) objects&classes\n",
        "    \n",
        "    This file is a part of BENDER project:\n",
        "\n",
        "  ``Python-based Interactive Environment for Smart and Friendly Physics Analysis''\n",
        "\n",
        "The project has been designed with the kind help from Pere MATO and Andrey TSAREGORODTSEV. \n",
        "\n",
        "And it is based on the LoKi project:\n",
        " \n",
        "   ``C++ ToolKit for Smart and Friendly Physics Analysis''\n",
        "\n",
        "By usage of this code one clearly states the disagreement with the smear campaign \n",
        "of Dr.O.Callot et al.:\n",
        "\n",
        "   ``No Vanya's lines are allowed in LHCb/Gaudi software''\n",
        "\n"
       ]
      },
      {
       "output_type": "stream",
       "stream": "stdout",
       "text": [
        "# Ostap Bender              INFO    Set 'IsBatch' to be False \n"
       ]
      },
      {
       "output_type": "stream",
       "stream": "stdout",
       "text": [
        "# Ostap.PyRoUts             INFO    Zillions of decorations for ROOT   objects\n"
       ]
      },
      {
       "output_type": "stream",
       "stream": "stdout",
       "text": [
        "# setting LC_ALL to \"C\"\n"
       ]
      }
     ],
     "prompt_number": 1
    },
    {
     "cell_type": "markdown",
     "metadata": {},
     "source": [
      "__Define variables and their binning:__"
     ]
    },
    {
     "cell_type": "code",
     "collapsed": false,
     "input": [
      "# Bu meson\n",
      "m_Bu = ROOT.RooRealVar('DTFm_b', 'mass(J/psiKKpi)', 5.2, 5.36)\n",
      "nbin_Bu = 40\n",
      "binning_b = (m_Bu.getMax() - m_Bu.getMin()) / nbin_Bu * 1000\n",
      "\n",
      "\n",
      "# Resonanse\n",
      "m_Phi = ROOT.RooRealVar('DTFm_kk', 'mass(KK)', 0.986, 1.18)\n",
      "nbin_Phi = 20\n",
      "binning_phi = (m_Phi.getMax() - m_Phi.getMin()) / nbin_Phi * 1000\n",
      "\n",
      "\n",
      "# For Breit-Wigner\n",
      "mean_Phi = ROOT.RooRealVar('mean_Phi', 'mean(Phi)', 1.0, 1.1)\n",
      "mean_Phi.fix(1.02)\n",
      "\n",
      "width_Phi = ROOT.RooRealVar('width_Phi', 'width(Phi)', 0.0, 1.0)\n",
      "\n",
      "# PhaseSpace range\n",
      "low_kk = ROOT.RooRealVar('low', 'low_PhiBg', 0.9, 1.0)\n",
      "low_kk.fix(0.986)\n",
      "\n",
      "high_kk = ROOT.RooRealVar('high', 'high_PhiBg', 1.9, 2.1)\n",
      "\n",
      "selector_variables = [(m_Bu, lambda s: s.DTFm_b ), (m_Phi, lambda s: s.DTFm_kk )]"
     ],
     "language": "python",
     "metadata": {},
     "outputs": [],
     "prompt_number": 2
    },
    {
     "cell_type": "markdown",
     "metadata": {},
     "source": [
      "__Get dataset:__"
     ]
    },
    {
     "cell_type": "code",
     "collapsed": false,
     "input": [
      "from PyPAW.Selectors import SelectorWithVars\n",
      "\n",
      "from cuts import *\n",
      "from data import selection7\n",
      "\n",
      "tBu = selection7.data\n",
      "\n",
      "sel_Bu = SelectorWithVars(\n",
      "    variables=selector_variables,\n",
      "    selection=cuts_Bu\n",
      ")\n",
      "\n",
      "logger.info('Build RooFit dataset for B+ , it could take as long as 3-5 minutes')\n",
      "\n",
      "tBu.process(sel_Bu)\n",
      "\n",
      "\n",
      "ds_Bu = sel_Bu.dataset()\n",
      "ds_Bu.Print('v')"
     ],
     "language": "python",
     "metadata": {},
     "outputs": [
      {
       "output_type": "stream",
       "stream": "stdout",
       "text": [
        "DEFINE default storage type to be TTree! \n",
        "# data                      INFO    Selection 7: <Luminosity: ( 3082.18 +- 61.9831 ); #files: 27; Entries: 4020930>\n"
       ]
      },
      {
       "output_type": "stream",
       "stream": "stdout",
       "text": [
        "# data                      INFO    MC Pythia 6: <#files: 94; Entries: 28552>\n"
       ]
      },
      {
       "output_type": "stream",
       "stream": "stdout",
       "text": [
        "# data                      INFO    MC Pythia 8: <#files: 103; Entries: 29552>\n"
       ]
      },
      {
       "output_type": "stream",
       "stream": "stdout",
       "text": [
        "# cuts                      INFO    Build RooFit dataset for B+ , it could take as long as 3-5 minutes\n"
       ]
      },
      {
       "output_type": "stream",
       "stream": "stdout",
       "text": [
        "# Ostap.Selectors/ds_1000   INFO    TChain entries: 4020930\n"
       ]
      },
      {
       "output_type": "stream",
       "stream": "stdout",
       "text": [
        "[                                                                                ] 0% \r",
        "[ ######                                                                         ] 8%"
       ]
      },
      {
       "output_type": "stream",
       "stream": "stdout",
       "text": [
        " \r",
        "[ ###########                                                                    ] 15%"
       ]
      },
      {
       "output_type": "stream",
       "stream": "stdout",
       "text": [
        " \r",
        "[ #################                                                              ] 22%"
       ]
      },
      {
       "output_type": "stream",
       "stream": "stdout",
       "text": [
        " \r",
        "[ #######################                                                        ] 30%"
       ]
      },
      {
       "output_type": "stream",
       "stream": "stdout",
       "text": [
        " \r",
        "[ ###############################                                                ] 41%"
       ]
      },
      {
       "output_type": "stream",
       "stream": "stdout",
       "text": [
        " \r",
        "[ #######################################                                        ] 51%"
       ]
      },
      {
       "output_type": "stream",
       "stream": "stdout",
       "text": [
        " \r",
        "[ ###############################################                                ] 61%"
       ]
      },
      {
       "output_type": "stream",
       "stream": "stdout",
       "text": [
        " \r",
        "[ #######################################################                        ] 71%"
       ]
      },
      {
       "output_type": "stream",
       "stream": "stdout",
       "text": [
        " \r",
        "[ ##############################################################                 ] 80%"
       ]
      },
      {
       "output_type": "stream",
       "stream": "stdout",
       "text": [
        " \r",
        "[ #####################################################################          ] 89%"
       ]
      },
      {
       "output_type": "stream",
       "stream": "stdout",
       "text": [
        " \r",
        "[ ############################################################################   ] 98%"
       ]
      },
      {
       "output_type": "stream",
       "stream": "stdout",
       "text": [
        " \r",
        "[ ############################################################################## ] 100%"
       ]
      },
      {
       "output_type": "stream",
       "stream": "stdout",
       "text": [
        " \r",
        "[ ############################################################################## ] 100% \r\n",
        "# Ostap.Selectors/ds_1000   INFO    Events Processed/Total/Skept 5614/4020930/4895\n",
        "CUTS: \" DTFchi2ndof > 0&& DTFchi2ndof < 5&& DTFctau > 0.25&& pt_b > 4.&& pt_kaon[0] > 0.7 && pt_kaon[1] > 0.7&& pt_pion > 0.3&& m_jpsi    > 3.020 && m_jpsi    < 3.135&& minann_K  > 0.3 && minann_pi > 0.3&& ((psi_l0tos & 2) == 2)&& ((psi_l1tos & 2) == 2)&& ((psi_l2tos & 2) == 2)&& ann_pion > 0.15 && minann_K > 0.15 && MIPCHI2DV_k1 > 16. && MIPCHI2DV_k2 > 16. && MIPCHI2DV_pi > 16.\"\n"
       ]
      }
     ],
     "prompt_number": 3
    },
    {
     "cell_type": "heading",
     "level": 1,
     "metadata": {},
     "source": [
      "1D-Fit $B_u$"
     ]
    },
    {
     "cell_type": "code",
     "collapsed": false,
     "input": [
      "s1_Bu = Models.CB2_pdf(\n",
      "    'Bu1',\n",
      "    m_Bu.getMin(),\n",
      "    m_Bu.getMax(),\n",
      "    fixMass=5.2792e+0,\n",
      "    fixSigma=0.008499e+0,\n",
      "    fixAlphaL=2.1018e+00,\n",
      "    fixAlphaR=1.9818e+00,\n",
      "    fixNL=6.1464e-01,\n",
      "    fixNR=2.1291e+00,\n",
      "    mass=m_Bu\n",
      ")\n",
      "\n",
      "bkg_Bu = Models.Bkg_pdf('BBu', mass=m_Bu, power=4)\n",
      "\n",
      "model_B = Models.Fit1D(\n",
      "    signal=s1_Bu,\n",
      "    background=bkg_Bu,\n",
      ")"
     ],
     "language": "python",
     "metadata": {},
     "outputs": [],
     "prompt_number": 4
    },
    {
     "cell_type": "code",
     "collapsed": false,
     "input": [
      "c1 = rootnotes.random_canvas()\n",
      "\n",
      "ru, fu = model_B.fitTo(ds_Bu, draw=True, nbins=nbin_Bu)\n",
      "\n",
      "model_B.signal.mean.release()\n",
      "model_B.signal.sigma.release()\n",
      "\n",
      "ru, fu = model_B.fitTo(ds_Bu, draw=True, nbins=nbin_Bu)\n",
      "\n",
      "\n",
      "\n",
      "fu.SetXTitle(\"Inv.\\,mass(J/\\psi\\,KK\\pi), GeV/c^{2}}\")\n",
      "fu.SetYTitle(\"Events / %.1f MeV/c^{2}\" % binning_b)\n",
      "\n",
      "fu.Draw()\n",
      "\n",
      "\n",
      "c1"
     ],
     "language": "python",
     "metadata": {},
     "outputs": [
      {
       "metadata": {},
       "output_type": "pyout",
       "png": "[encoded data removed]",
       "prompt_number": 5,
       "text": [
        "<ROOT.TCanvas object (\"93410b0a-24b9-4d2d-be1b-692851673cfc\") at 0xa9b8630>"
       ]
      }
     ],
     "prompt_number": 5
    },
    {
     "cell_type": "heading",
     "level": 1,
     "metadata": {},
     "source": [
      "1D-Fit $\\phi(1020)$"
     ]
    },
    {
     "cell_type": "code",
     "collapsed": false,
     "input": [
      "m = VE(1.02, 0.02**2)\n",
      "bw = cpp.Gaudi.Math.BreitWigner(m.value(), m.error(), 0.493, 0.493, 1, 1)\n",
      "\n",
      "s_Phi =  Models.BreitWigner_pdf(\n",
      "   \"Phi1\",\n",
      "   m_Phi.getMin(),\n",
      "   m_Phi.getMax(),\n",
      "   bw,\n",
      "   mass=m_Phi,\n",
      "   mean=mean_Phi , \n",
      "   gamma=width_Phi\n",
      ")\n",
      "\n",
      "\n",
      "ps = cpp.Gaudi.Math.PhaseSpaceNL(low_kk, high_kk, 2, 4) \n",
      "\n",
      "bkg_Phi = Models.PSPol_pdf('F2' , m_Phi , ps , 1 ) \n",
      "\n",
      "model = Models.Fit1D(\n",
      "    signal=s_Phi,\n",
      "    background=bkg_Phi, \n",
      ")"
     ],
     "language": "python",
     "metadata": {},
     "outputs": [],
     "prompt_number": 6
    },
    {
     "cell_type": "code",
     "collapsed": false,
     "input": [
      "model.signal.mean.fix(1.020)\n",
      "model.signal.gamma.fix(4.26e-2)"
     ],
     "language": "python",
     "metadata": {},
     "outputs": [
      {
       "metadata": {},
       "output_type": "pyout",
       "prompt_number": 7,
       "text": [
        "( 0.0426 +- 0 )"
       ]
      }
     ],
     "prompt_number": 7
    },
    {
     "cell_type": "code",
     "collapsed": false,
     "input": [
      "c1 = rootnotes.random_canvas(size=(1024,768))\n",
      "\n",
      "ru, fu = model.fitTo(ds_Bu, draw=True)\n",
      "\n",
      "model.signal.mean.release()\n",
      "model.signal.gamma.release()\n",
      "\n",
      "ru, fu = model.fitTo(ds_Bu, draw=True)\n",
      "\n",
      "fu.SetXTitle(\"Inv.\\,mass(KK), GeV/c^{2}}\")\n",
      "fu.SetYTitle(\"Events / %.1f MeV/c^{2}\" % binning_phi)\n",
      "\n",
      "\n",
      "c1"
     ],
     "language": "python",
     "metadata": {},
     "outputs": [
      {
       "metadata": {},
       "output_type": "pyout",
       "png": "[encoded data removed]",
       "prompt_number": 8,
       "text": [
        "<ROOT.TCanvas object (\"4032775a-a0fe-4a89-bfb5-5e710f4571c7\") at 0xae03f30>"
       ]
      }
     ],
     "prompt_number": 8
    },
    {
     "cell_type": "code",
     "collapsed": false,
     "input": [
      "low_kk.fix(low_kk.getVal())\n",
      "high_kk.fix(high_kk.getVal())"
     ],
     "language": "python",
     "metadata": {},
     "outputs": [
      {
       "metadata": {},
       "output_type": "pyout",
       "prompt_number": 9,
       "text": [
        "( 2 +- 0 )"
       ]
      }
     ],
     "prompt_number": 9
    },
    {
     "cell_type": "heading",
     "level": 1,
     "metadata": {},
     "source": [
      "Try fit 2D"
     ]
    },
    {
     "cell_type": "markdown",
     "metadata": {},
     "source": [
      "__Fit models__"
     ]
    },
    {
     "cell_type": "code",
     "collapsed": false,
     "input": [
      "model = Models.Fit2D(\n",
      "    signal_1=s1_Bu,\n",
      "    signal_2=s_Phi,\n",
      "    bkg1=bkg_Bu,\n",
      "    bkg2=bkg_Phi, \n",
      "    bkg2D=Models.ExpoPSPol2D_pdf(\n",
      "        'B2',\n",
      "        m_Bu,\n",
      "        m_Phi,\n",
      "        ps,\n",
      "        nx=2, ny=2\n",
      "    ) ,\n",
      "#     components=[kkk, kpipi]\n",
      ")"
     ],
     "language": "python",
     "metadata": {},
     "outputs": [],
     "prompt_number": 10
    },
    {
     "cell_type": "markdown",
     "metadata": {},
     "source": [
      "Fitting\n",
      "---"
     ]
    },
    {
     "cell_type": "markdown",
     "metadata": {},
     "source": [
      "Fix variables:"
     ]
    },
    {
     "cell_type": "code",
     "collapsed": false,
     "input": [
      "r = model.fitTo(ds_Bu, draw=False)"
     ],
     "language": "python",
     "metadata": {},
     "outputs": [],
     "prompt_number": 11
    },
    {
     "cell_type": "heading",
     "level": 1,
     "metadata": {},
     "source": [
      "**Time to draw!**"
     ]
    },
    {
     "cell_type": "code",
     "collapsed": false,
     "input": [
      "c2 = rootnotes.random_canvas()\n",
      "\n",
      "\n",
      "import cProfile\n",
      "cProfile.run(\"fu = model.draw1(dataset=ds_Bu, nbins=nbin_Bu)\")\n",
      "\n",
      "fu.SetXTitle(\"Inv.\\,mass(J/\\psi\\,KK\\pi), GeV/c^{2}\")\n",
      "fu.SetYTitle(\"Events / %.1f MeV/c^{2}\" % binning_b)\n",
      "\n",
      "fu.Draw()\n",
      "\n",
      "# c1.SetLogy()\n",
      "c2"
     ],
     "language": "python",
     "metadata": {},
     "outputs": [
      {
       "output_type": "stream",
       "stream": "stdout",
       "text": [
        "         20 function calls in 289.952 seconds\n",
        "\n",
        "   Ordered by: standard name\n",
        "\n",
        "   ncalls  tottime  percall  cumtime  percall filename:lineno(function)\n",
        "        1    0.000    0.000  289.952  289.952 <string>:1(<module>)\n",
        "        1    0.000    0.000  289.952  289.952 FitBasic.py:844(draw1)\n",
        "        1  289.941  289.941  289.952  289.952 FitBasic.py:853(draw)\n",
        "        3    0.000    0.000    0.010    0.003 ROOT.py:444(__getattr2)\n",
        "        2    0.001    0.001    0.001    0.001 RooFitDeco.py:170(<lambda>)\n",
        "        2    0.000    0.000    0.001    0.001 RooFitDeco.py:173(<lambda>)\n",
        "        1    0.000    0.000    0.010    0.010 Utils.py:608(__init__)\n",
        "        1    0.000    0.000    0.000    0.000 Utils.py:633(__enter__)\n",
        "        1    0.000    0.000    0.000    0.000 Utils.py:644(__exit__)\n",
        "        1    0.000    0.000    0.000    0.000 Utils.py:659(__init__)\n",
        "        2    0.000    0.000    0.001    0.001 {len}\n",
        "        3    0.010    0.003    0.010    0.003 {libPyROOT.LookupRootEntity}\n",
        "        1    0.000    0.000    0.000    0.000 {method 'disable' of '_lsprof.Profiler' objects}\n",
        "\n",
        "\n"
       ]
      },
      {
       "metadata": {},
       "output_type": "pyout",
       "png": "[encoded data removed]",
       "prompt_number": 16,
       "text": [
        "<ROOT.TCanvas object (\"dce4f175-7ba0-40ae-b4ab-aedc206f2550\") at 0xaf87640>"
       ]
      }
     ],
     "prompt_number": 16
    },
    {
     "cell_type": "code",
     "collapsed": false,
     "input": [
      "c2 = rootnotes.random_canvas(size=(1024,768))\n",
      "cProfile.run(\"fu = model.draw2(dataset=ds_Bu, nbins=nbin_Phi)\")\n",
      "\n",
      "fu.SetXTitle(\"Inv.\\,mass(KK), GeV/c^{2}}\")\n",
      "fu.SetYTitle(\"Events / %.1f MeV/c^{2}\" % binning_phi)\n",
      "\n",
      "\n",
      "# legend = ROOT.TLegend(0.75, 0.65, 0.86, 0.9)\n",
      "# legend.SetFillColor(ROOT.kWhite)\n",
      "# legend.AddEntry(\"data\", \"Data\", \"P\")\n",
      "\n",
      "# legend.AddEntry(model.sb_pdf, \"S x B\", \"L\")\n",
      "# legend.Draw()\n",
      "\n",
      "\n",
      "c2"
     ],
     "language": "python",
     "metadata": {},
     "outputs": [
      {
       "output_type": "stream",
       "stream": "stdout",
       "text": [
        "         14 function calls in 132.367 seconds\n",
        "\n",
        "   Ordered by: standard name\n",
        "\n",
        "   ncalls  tottime  percall  cumtime  percall filename:lineno(function)\n",
        "        1    0.000    0.000  132.367  132.367 <string>:1(<module>)\n",
        "        1    0.000    0.000  132.367  132.367 FitBasic.py:848(draw2)\n",
        "        1  132.367  132.367  132.367  132.367 FitBasic.py:853(draw)\n",
        "        2    0.000    0.000    0.000    0.000 RooFitDeco.py:170(<lambda>)\n",
        "        2    0.000    0.000    0.000    0.000 RooFitDeco.py:173(<lambda>)\n",
        "        1    0.000    0.000    0.000    0.000 Utils.py:608(__init__)\n",
        "        1    0.000    0.000    0.000    0.000 Utils.py:633(__enter__)\n",
        "        1    0.000    0.000    0.000    0.000 Utils.py:644(__exit__)\n",
        "        1    0.000    0.000    0.000    0.000 Utils.py:659(__init__)\n",
        "        2    0.000    0.000    0.000    0.000 {len}\n",
        "        1    0.000    0.000    0.000    0.000 {method 'disable' of '_lsprof.Profiler' objects}\n",
        "\n",
        "\n"
       ]
      },
      {
       "metadata": {},
       "output_type": "pyout",
       "png": "[encoded data removed]",
       "prompt_number": 17,
       "text": [
        "<ROOT.TCanvas object (\"d4e050eb-4faa-4253-bddd-df89cbb3cb89\") at 0xb0a2450>"
       ]
      }
     ],
     "prompt_number": 17
    },
    {
     "cell_type": "code",
     "collapsed": false,
     "input": [
      "from IPython.display import HTML\n",
      "s = \"<table><tr><th>Name</th> <th>Value</th> <th>Min</th> <th>Max</th> </tr>\"\n",
      "\n",
      "\n",
      "for name, val in r[0].parameters().items():\n",
      "    s += \"<tr><th>{}</th> <th>{}</th> <th>{}</th> <th>{}</th> </tr>\".format(name, val[0], val[1].getMin(), val[1].getMax())\n",
      "\n",
      "s += \"</table>\"\n",
      "html = HTML(s); html"
     ],
     "language": "python",
     "metadata": {},
     "outputs": [
      {
       "html": [
        "<table><tr><th>Name</th> <th>Value</th> <th>Min</th> <th>Max</th> </tr><tr><th>phi_2d_5_B2</th> <th>( 0.463801 +- 0.586618 )</th> <th>-3.5</th> <th>3.5</th> </tr><tr><th>phi_2d_2_B2</th> <th>( -3.33979 +- 0.164074 )</th> <th>-3.5</th> <th>3.5</th> </tr><tr><th>mean_Phi</th> <th>( 1.01953 +- 0.000208507 )</th> <th>1.0</th> <th>1.1</th> </tr><tr><th>S1S2</th> <th>( 23.7795 +- 7.61948 )</th> <th>0.0</th> <th>1000000.0</th> </tr><tr><th>phi_2d_6_B2</th> <th>( 0.518309 +- 0.24332 )</th> <th>-3.5</th> <th>3.5</th> </tr><tr><th>phi1_BBu</th> <th>( 0.209035 +- 0.107503 )</th> <th>-3.5</th> <th>3.5</th> </tr><tr><th>phi_2d_3_B2</th> <th>( -2.16987 +- 0.199518 )</th> <th>-3.5</th> <th>3.5</th> </tr><tr><th>phi2_BBu</th> <th>( 0.523535 +- 0.135617 )</th> <th>-3.5</th> <th>3.5</th> </tr><tr><th>S1B2</th> <th>( 38.4312 +- 11.3873 )</th> <th>0.0</th> <th>1000000.0</th> </tr><tr><th>mean_Bu1</th> <th>( 5.28087 +- 0.00063067 )</th> <th>5.2</th> <th>5.36</th> </tr><tr><th>B1B2</th> <th>( 488.852 +- 25.9028 )</th> <th>0.0</th> <th>1000000.0</th> </tr><tr><th>phi_2d_7_B2</th> <th>( -0.209151 +- 0.117795 )</th> <th>-3.5</th> <th>3.5</th> </tr><tr><th>width_Phi</th> <th>( 0.00369418 +- 0.000537164 )</th> <th>0.0</th> <th>1.0</th> </tr><tr><th>tau_B2</th> <th>( -0.417975 +- 7.46262 )</th> <th>-230.258509299</th> <th>230.258509299</th> </tr><tr><th>phi3_BBu</th> <th>( 0.615543 +- 0.143251 )</th> <th>-3.5</th> <th>3.5</th> </tr><tr><th>B1S2</th> <th>( 167.929 +- 18.6409 )</th> <th>0.0</th> <th>1000000.0</th> </tr><tr><th>phi_2d_4_B2</th> <th>( 0.42377 +- 0.553346 )</th> <th>-3.5</th> <th>3.5</th> </tr><tr><th>phi1_F2</th> <th>( 0.0422212 +- 0.256304 )</th> <th>-3.5</th> <th>3.5</th> </tr><tr><th>phi_2d_8_B2</th> <th>( -0.0272932 +- 0.20528 )</th> <th>-3.5</th> <th>3.5</th> </tr><tr><th>phi4_BBu</th> <th>( 0.786735 +- 0.305935 )</th> <th>-3.5</th> <th>3.5</th> </tr><tr><th>sigma_Bu1</th> <th>( 0.00307006 +- 0.000870596 )</th> <th>0.0</th> <th>0.0554256258422</th> </tr><tr><th>phi_2d_1_B2</th> <th>( -0.158622 +- 0.117826 )</th> <th>-3.5</th> <th>3.5</th> </tr><tr><th>tau_BBu</th> <th>( -41.0161 +- 7.9544 )</th> <th>-230.258509299</th> <th>230.258509299</th> </tr></table>"
       ],
       "metadata": {},
       "output_type": "pyout",
       "prompt_number": 19,
       "text": [
        "<IPython.core.display.HTML at 0xb0ca210>"
       ]
      }
     ],
     "prompt_number": 19
    },
    {
     "cell_type": "code",
     "collapsed": false,
     "input": [
      "r[0]"
     ],
     "language": "python",
     "metadata": {},
     "outputs": [
      {
       "metadata": {},
       "output_type": "pyout",
       "prompt_number": 19,
       "text": [
        "RooFitResult"
       ]
      }
     ],
     "prompt_number": 19
    },
    {
     "cell_type": "code",
     "collapsed": false,
     "input": [
      "statuses = {\n",
      "    -1 : \"Unknown, matrix was externally provided\",\n",
      "    0  : \"Not calculated at all\",\n",
      "    1  : \"Approximation only, not accurate\",\n",
      "    2  : \"Full matrix, but forced positive-definite\",\n",
      "    3  : \"Full, accurate covariance matrix\"\n",
      "} # see http://root.cern.ch/root/html/src/RooFitResult.cxx.html\n",
      "\n",
      "print statuses[r[0].covQual()]"
     ],
     "language": "python",
     "metadata": {},
     "outputs": [
      {
       "output_type": "stream",
       "stream": "stdout",
       "text": [
        "Full, accurate covariance matrix\n"
       ]
      }
     ],
     "prompt_number": 20
    },
    {
     "cell_type": "code",
     "collapsed": false,
     "input": [],
     "language": "python",
     "metadata": {},
     "outputs": []
    }
   ],
   "metadata": {}
  }
 ]
}