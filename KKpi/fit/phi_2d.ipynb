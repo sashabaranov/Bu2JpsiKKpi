{
 "metadata": {
  "name": "",
  "signature": "sha256:c69905eaab5376628e31a57e31980abfac3da84b9bd452e1396e65113c66b903"
 },
 "nbformat": 3,
 "nbformat_minor": 0,
 "worksheets": [
  {
   "cells": [
    {
     "cell_type": "heading",
     "level": 1,
     "metadata": {},
     "source": [
      "2D-fitting of $\\phi(1020)$ resonanse in $B_u \\to J/\\psi KK \\pi$"
     ]
    },
    {
     "cell_type": "markdown",
     "metadata": {},
     "source": [
      "__Import things:__"
     ]
    },
    {
     "cell_type": "code",
     "collapsed": false,
     "input": [
      "import ROOT, random\n",
      "from   Ostap import *\n",
      "from   Ostap.PyRoUts import *\n",
      "import Ostap.FitModels as Models\n",
      "\n",
      "from ostap import rootnotes\n",
      "\n",
      "def variate(var, minval=None, maxval=None, startval=None):\n",
      "    if minval: var.setMin(minval)\n",
      "    if maxval: var.setMax(maxval)\n",
      "    if startval: var.setVal(startval)"
     ],
     "language": "python",
     "metadata": {},
     "outputs": [
      {
       "output_type": "stream",
       "stream": "stdout",
       "text": [
        "# Ostap.PyRoUts             INFO    Zillions of decorations for ROOT   objects\n"
       ]
      },
      {
       "output_type": "stream",
       "stream": "stdout",
       "text": [
        "# setting LC_ALL to \"C\"\n"
       ]
      }
     ],
     "prompt_number": 1
    },
    {
     "cell_type": "markdown",
     "metadata": {},
     "source": [
      "__Define variables and their binning:__"
     ]
    },
    {
     "cell_type": "code",
     "collapsed": false,
     "input": [
      "# Bu meson\n",
      "m_Bu = ROOT.RooRealVar('DTFm_b', 'mass(J/psiKKpi)', 5.22, 5.36)\n",
      "nbin_Bu = 40\n",
      "binning_b = (m_Bu.getMax() - m_Bu.getMin()) / nbin_Bu * 1000\n",
      "\n",
      "\n",
      "# Resonanse\n",
      "m_Phi = ROOT.RooRealVar('DTFm_kk', 'mass(KK)', 0.986, 1.186)\n",
      "nbin_Phi = 20\n",
      "binning_phi = (m_Phi.getMax() - m_Phi.getMin()) / nbin_Phi * 1000\n",
      "\n",
      "\n",
      "# For Breit-Wigner\n",
      "mean_Phi = ROOT.RooRealVar('mean_Phi', 'mean(Phi)', 1.0, 1.1)\n",
      "mean_Phi.fix(1.02)\n",
      "\n",
      "width_Phi = ROOT.RooRealVar('width_Phi', 'width(Phi)', 0.0, 1.0)\n",
      "\n",
      "# PhaseSpace range\n",
      "low_kk = ROOT.RooRealVar('low', 'low_PhiBg', 0.9, 1.0)\n",
      "low_kk.fix(0.986)\n",
      "\n",
      "high_kk = ROOT.RooRealVar('high', 'high_PhiBg', 1.9, 2.1)\n",
      "\n",
      "selector_variables = [(m_Bu, lambda s: s.DTFm_b ), (m_Phi, lambda s: s.DTFm_kk )]"
     ],
     "language": "python",
     "metadata": {},
     "outputs": [],
     "prompt_number": 2
    },
    {
     "cell_type": "markdown",
     "metadata": {},
     "source": [
      "__Get dataset:__"
     ]
    },
    {
     "cell_type": "code",
     "collapsed": false,
     "input": [
      "from Ostap.Selectors import SelectorWithVarsCached\n",
      "\n",
      "from cuts import *\n",
      "from data import selection7\n",
      "\n",
      "sel_Bu = SelectorWithVarsCached(\n",
      "    variables=selector_variables,\n",
      "    selection=cuts_Bu,\n",
      "    files=selection7.files\n",
      ")\n",
      "\n",
      "\n",
      "if not sel_Bu._loaded_from_cache:\n",
      "    selection7.chain.process(sel_Bu)\n",
      "\n",
      "\n",
      "ds_Bu = sel_Bu.dataset()\n",
      "ds_Bu.Print('v')"
     ],
     "language": "python",
     "metadata": {},
     "outputs": [
      {
       "output_type": "stream",
       "stream": "stdout",
       "text": [
        "DEFINE default storage type to be TTree! \n",
        "# data                      INFO    Selection 7: <Luminosity: ( 3082.18 +- 61.9831 )pb-1; #files: 27; Entries: 4020930>\n"
       ]
      },
      {
       "output_type": "stream",
       "stream": "stdout",
       "text": [
        "# data                      INFO    MC Pythia 6: <#files: 94; Entries: 28552>\n"
       ]
      },
      {
       "output_type": "stream",
       "stream": "stdout",
       "text": [
        "# data                      INFO    MC Pythia 8: <#files: 103; Entries: 29552>\n"
       ]
      },
      {
       "output_type": "stream",
       "stream": "stdout",
       "text": [
        "# Ostap.ZipShelve           INFO    Open DB: /home/sashab1/.ostap/cache/6f74ea0711b1b7184a8596b4038ad21e6fbe08fed7fb0fdcd3fa569f0c88a836f27869460cb31582752a2a5bea30895d6b3d91608b6697f24acf6e7ce33121e3.shelve\n"
       ]
      }
     ],
     "prompt_number": 3
    },
    {
     "cell_type": "heading",
     "level": 1,
     "metadata": {},
     "source": [
      "1D-Fit $B_u$"
     ]
    },
    {
     "cell_type": "code",
     "collapsed": false,
     "input": [
      "s1_Bu = Models.CB2_pdf(\n",
      "    'Bu1',\n",
      "    m_Bu.getMin(),\n",
      "    m_Bu.getMax(),\n",
      "    fixMass=5.2792e+0,\n",
      "    fixSigma=0.008499e+0,\n",
      "    fixAlphaL=2.1018e+00,\n",
      "    fixAlphaR=1.9818e+00,\n",
      "    fixNL=6.1464e-01,\n",
      "    fixNR=2.1291e+00,\n",
      "    mass=m_Bu\n",
      ")\n",
      "\n",
      "bkg_Bu = Models.Bkg_pdf('BBu', mass=m_Bu, power=2)\n",
      "\n",
      "model_B = Models.Fit1D(\n",
      "    signal=s1_Bu,\n",
      "    background=bkg_Bu,\n",
      ")"
     ],
     "language": "python",
     "metadata": {},
     "outputs": [],
     "prompt_number": 4
    },
    {
     "cell_type": "code",
     "collapsed": false,
     "input": [
      "c1 = rootnotes.random_canvas()\n",
      "\n",
      "ru, fu = model_B.fitTo(ds_Bu, draw=True, nbins=nbin_Bu)\n",
      "\n",
      "model_B.signal.mean.release()\n",
      "model_B.signal.sigma.release()\n",
      "\n",
      "ru, fu = model_B.fitTo(ds_Bu, draw=True, nbins=nbin_Bu)\n",
      "\n",
      "\n",
      "\n",
      "fu.SetXTitle(\"Inv.\\,mass(J/\\psi\\,KK\\pi), GeV/c^{2}}\")\n",
      "fu.SetYTitle(\"Events / %.1f MeV/c^{2}\" % binning_b)\n",
      "\n",
      "fu.Draw()\n",
      "\n",
      "\n",
      "c1"
     ],
     "language": "python",
     "metadata": {},
     "outputs": [
      {
       "metadata": {},
       "output_type": "pyout",
       "png": "[encoded data removed]",
       "prompt_number": 5,
       "text": [
        "<ROOT.TCanvas object (\"990dae5c-6d18-48e1-ae0a-f94af7915851\") at 0x7e14140>"
       ]
      }
     ],
     "prompt_number": 5
    },
    {
     "cell_type": "heading",
     "level": 1,
     "metadata": {},
     "source": [
      "1D-Fit $\\phi(1020)$"
     ]
    },
    {
     "cell_type": "code",
     "collapsed": false,
     "input": [
      "m = VE(1.02, 0.02**2)\n",
      "bw = cpp.Gaudi.Math.BreitWigner(m.value(), m.error(), 0.493, 0.493, 1, 1)\n",
      "\n",
      "s_Phi =  Models.BreitWigner_pdf(\n",
      "   \"Phi1\",\n",
      "   m_Phi.getMin(),\n",
      "   m_Phi.getMax(),\n",
      "   bw,\n",
      "   mass=m_Phi,\n",
      "   mean=mean_Phi , \n",
      "   gamma=width_Phi\n",
      ")\n",
      "\n",
      "\n",
      "ps = cpp.Gaudi.Math.PhaseSpaceNL(low_kk, high_kk, 2, 4) \n",
      "\n",
      "bkg_Phi = Models.PSPol_pdf('F2' , m_Phi , ps , 1 ) \n",
      "\n",
      "model = Models.Fit1D(\n",
      "    signal=s_Phi,\n",
      "    background=bkg_Phi, \n",
      ")"
     ],
     "language": "python",
     "metadata": {},
     "outputs": [],
     "prompt_number": 6
    },
    {
     "cell_type": "code",
     "collapsed": false,
     "input": [
      "model.signal.mean.fix(1.020)"
     ],
     "language": "python",
     "metadata": {},
     "outputs": [
      {
       "metadata": {},
       "output_type": "pyout",
       "prompt_number": 7,
       "text": [
        "( 1.02 +- 0 )"
       ]
      }
     ],
     "prompt_number": 7
    },
    {
     "cell_type": "code",
     "collapsed": false,
     "input": [
      "c1 = rootnotes.random_canvas(size=(1024,768))\n",
      "\n",
      "ru, fu = model.fitTo(ds_Bu, draw=True)\n",
      "\n",
      "model.signal.gamma.release()\n",
      "\n",
      "ru, fu = model.fitTo(ds_Bu, draw=True, nbins=nbin_Phi)\n",
      "\n",
      "fu.SetXTitle(\"Inv.\\,mass(KK), GeV/c^{2}}\")\n",
      "fu.SetYTitle(\"Events / %.1f MeV/c^{2}\" % binning_phi)\n",
      "\n",
      "\n",
      "c1"
     ],
     "language": "python",
     "metadata": {},
     "outputs": [
      {
       "ename": "AttributeError",
       "evalue": "'Fit2D' object has no attribute 'signal'",
       "output_type": "pyerr",
       "traceback": [
        "\u001b[1;31m---------------------------------------------------------------------------\u001b[0m\n\u001b[1;31mAttributeError\u001b[0m                            Traceback (most recent call last)",
        "\u001b[1;32m<ipython-input-15-263c60f12803>\u001b[0m in \u001b[0;36m<module>\u001b[1;34m()\u001b[0m\n\u001b[0;32m      3\u001b[0m \u001b[0mru\u001b[0m\u001b[1;33m,\u001b[0m \u001b[0mfu\u001b[0m \u001b[1;33m=\u001b[0m \u001b[0mmodel\u001b[0m\u001b[1;33m.\u001b[0m\u001b[0mfitTo\u001b[0m\u001b[1;33m(\u001b[0m\u001b[0mds_Bu\u001b[0m\u001b[1;33m,\u001b[0m \u001b[0mdraw\u001b[0m\u001b[1;33m=\u001b[0m\u001b[0mTrue\u001b[0m\u001b[1;33m)\u001b[0m\u001b[1;33m\u001b[0m\u001b[0m\n\u001b[0;32m      4\u001b[0m \u001b[1;33m\u001b[0m\u001b[0m\n\u001b[1;32m----> 5\u001b[1;33m \u001b[0mmodel\u001b[0m\u001b[1;33m.\u001b[0m\u001b[0msignal\u001b[0m\u001b[1;33m.\u001b[0m\u001b[0mgamma\u001b[0m\u001b[1;33m.\u001b[0m\u001b[0mrelease\u001b[0m\u001b[1;33m(\u001b[0m\u001b[1;33m)\u001b[0m\u001b[1;33m\u001b[0m\u001b[0m\n\u001b[0m\u001b[0;32m      6\u001b[0m \u001b[1;33m\u001b[0m\u001b[0m\n\u001b[0;32m      7\u001b[0m \u001b[0mru\u001b[0m\u001b[1;33m,\u001b[0m \u001b[0mfu\u001b[0m \u001b[1;33m=\u001b[0m \u001b[0mmodel\u001b[0m\u001b[1;33m.\u001b[0m\u001b[0mfitTo\u001b[0m\u001b[1;33m(\u001b[0m\u001b[0mds_Bu\u001b[0m\u001b[1;33m,\u001b[0m \u001b[0mdraw\u001b[0m\u001b[1;33m=\u001b[0m\u001b[0mTrue\u001b[0m\u001b[1;33m,\u001b[0m \u001b[0mnbins\u001b[0m\u001b[1;33m=\u001b[0m\u001b[0mnbin_Phi\u001b[0m\u001b[1;33m)\u001b[0m\u001b[1;33m\u001b[0m\u001b[0m\n",
        "\u001b[1;31mAttributeError\u001b[0m: 'Fit2D' object has no attribute 'signal'"
       ]
      }
     ],
     "prompt_number": 15
    },
    {
     "cell_type": "code",
     "collapsed": false,
     "input": [
      "low_kk.fix(low_kk.getVal())\n",
      "high_kk.fix(high_kk.getVal())"
     ],
     "language": "python",
     "metadata": {},
     "outputs": [
      {
       "metadata": {},
       "output_type": "pyout",
       "prompt_number": 9,
       "text": [
        "( 2 +- 0 )"
       ]
      }
     ],
     "prompt_number": 9
    },
    {
     "cell_type": "heading",
     "level": 1,
     "metadata": {},
     "source": [
      "Try fit 2D"
     ]
    },
    {
     "cell_type": "markdown",
     "metadata": {},
     "source": [
      "__Fit models__"
     ]
    },
    {
     "cell_type": "code",
     "collapsed": false,
     "input": [
      "model = Models.Fit2D(\n",
      "    signal_1=s1_Bu,\n",
      "    signal_2=s_Phi,\n",
      "    bkg1=bkg_Bu,\n",
      "    bkg2=bkg_Phi, \n",
      "    bkg2D=Models.ExpoPSPol2D_pdf(\n",
      "        'B2',\n",
      "        m_Bu,\n",
      "        m_Phi,\n",
      "        ps,\n",
      "        nx=2, ny=2\n",
      "    ) ,\n",
      "#     components=[kkk, kpipi]\n",
      ")"
     ],
     "language": "python",
     "metadata": {},
     "outputs": [],
     "prompt_number": 10
    },
    {
     "cell_type": "markdown",
     "metadata": {},
     "source": [
      "Fitting\n",
      "---"
     ]
    },
    {
     "cell_type": "markdown",
     "metadata": {},
     "source": [
      "Fix variables:"
     ]
    },
    {
     "cell_type": "code",
     "collapsed": false,
     "input": [
      "r = model.fitTo(ds_Bu, draw=False)"
     ],
     "language": "python",
     "metadata": {},
     "outputs": [],
     "prompt_number": 11
    },
    {
     "cell_type": "code",
     "collapsed": false,
     "input": [
      "from ostap import ipython_tools\n",
      "\n",
      "ipython_tools.params_table(r[0])"
     ],
     "language": "python",
     "metadata": {},
     "outputs": [
      {
       "html": [
        "Fit status: <b>Full, accurate covariance matrix</b><br/>minNll: <b>-6150.25756737</b><br/><table><tr><th>Name</th> <th>Value</th> <th>Min</th> <th>Max</th> </tr><tr><th>phi1_F2</th> <th>( 1.21827 +- 0.399555 )</th> <th>-3.5</th> <th>3.5</th></tr><tr><th>B1B2</th> <th>( 514.887 +- 27.0754 )</th> <th>0.0</th> <th>1000000.0</th></tr><tr><th>phi_2d_7_B2</th> <th>( -0.37393 +- 0.131279 )</th> <th>-3.5</th> <th>3.5</th></tr><tr><th>phi_2d_8_B2</th> <th>( -1.60902 +- 0.36424 )</th> <th>-3.5</th> <th>3.5</th></tr><tr><th>phi1_BBu</th> <th>( 0.323566 +- 0.102938 )</th> <th>-3.5</th> <th>3.5</th></tr><tr><th>phi_2d_3_B2</th> <th>( -0.272672 +- 0.184414 )</th> <th>-3.5</th> <th>3.5</th></tr><tr><th>width_Phi</th> <th>( 0.0037395 +- 0.000887279 )</th> <th>0.0</th> <th>1.0</th></tr><tr><th>tau_B2</th> <th>( 7.82751 +- 4.95288 )</th> <th>-263.152582056</th> <th>263.152582056</th></tr><tr><th>tau_BBu</th> <th>( -28.1023 +- 7.52922 )</th> <th>-263.152582056</th> <th>263.152582056</th></tr><tr><th>phi2_BBu</th> <th>( 0.786693 +- 0.200834 )</th> <th>-3.5</th> <th>3.5</th></tr><tr><th>phi_2d_2_B2</th> <th>( -0.253818 +- 0.11888 )</th> <th>-3.5</th> <th>3.5</th></tr><tr><th>B1S2</th> <th>( 89.5649 +- 16.3297 )</th> <th>0.0</th> <th>1000000.0</th></tr><tr><th>sigma_Bu1</th> <th>( 0.00227278 +- 0.00060303 )</th> <th>0.0</th> <th>0.0484974226119</th></tr><tr><th>phi_2d_1_B2</th> <th>( -0.302489 +- 0.0880336 )</th> <th>-3.5</th> <th>3.5</th></tr><tr><th>S1S2</th> <th>( 18.8151 +- 7.31341 )</th> <th>0.0</th> <th>1000000.0</th></tr><tr><th>S1B2</th> <th>( 40.7172 +- 10.6525 )</th> <th>0.0</th> <th>1000000.0</th></tr><tr><th>phi_2d_4_B2</th> <th>( 0.430706 +- 0.51983 )</th> <th>-3.5</th> <th>3.5</th></tr><tr><th>phi_2d_6_B2</th> <th>( 0.0953824 +- 0.162923 )</th> <th>-3.5</th> <th>3.5</th></tr><tr><th>phi_2d_5_B2</th> <th>( 0.462824 +- 0.502989 )</th> <th>-3.5</th> <th>3.5</th></tr><tr><th>mean_Bu1</th> <th>( 5.28039 +- 0.000515951 )</th> <th>5.22</th> <th>5.36</th></tr></table>"
       ],
       "metadata": {},
       "output_type": "pyout",
       "prompt_number": 12,
       "text": [
        "<IPython.core.display.HTML at 0x755de10>"
       ]
      }
     ],
     "prompt_number": 12
    },
    {
     "cell_type": "heading",
     "level": 1,
     "metadata": {},
     "source": [
      "**Time to draw!**"
     ]
    },
    {
     "cell_type": "code",
     "collapsed": false,
     "input": [
      "c2 = rootnotes.random_canvas(size=(1024, 768))\n",
      "\n",
      "fu = model.draw1(dataset=ds_Bu, nbins=nbin_Bu)\n",
      "\n",
      "fu.SetXTitle(\"Inv.\\,mass(J/\\psi\\,KK\\pi), GeV/c^{2}\")\n",
      "fu.SetYTitle(\"Events / %.1f MeV/c^{2}\" % binning_b)\n",
      "fu.SetTitle('')\n",
      "fu.Draw()\n",
      "\n",
      "# c1.SetLogy()\n",
      "c2"
     ],
     "language": "python",
     "metadata": {},
     "outputs": [
      {
       "metadata": {},
       "output_type": "pyout",
       "png": "[encoded data removed]",
       "prompt_number": 13,
       "text": [
        "<ROOT.TCanvas object (\"c49806ec-e9ae-4f34-a334-7f8ea1660eb9\") at 0x8431750>"
       ]
      }
     ],
     "prompt_number": 13
    },
    {
     "cell_type": "code",
     "collapsed": false,
     "input": [
      "c2 = rootnotes.random_canvas(size=(1024,768))\n",
      "fu = model.draw2(dataset=ds_Bu, nbins=nbin_Phi)\n",
      "\n",
      "fu.SetXTitle(\"Inv.\\,mass(KK), GeV/c^{2}}\")\n",
      "fu.SetYTitle(\"Events / %.1f MeV/c^{2}\" % binning_phi)\n",
      "fu.SetTitle(\"\")\n",
      "\n",
      "# legend = ROOT.TLegend(0.75, 0.65, 0.86, 0.9)\n",
      "# legend.SetFillColor(ROOT.kWhite)\n",
      "# legend.AddEntry(\"data\", \"Data\", \"P\")\n",
      "\n",
      "# legend.AddEntry(model.sb_pdf, \"S x B\", \"L\")\n",
      "# legend.Draw()\n",
      "\n",
      "\n",
      "c2"
     ],
     "language": "python",
     "metadata": {},
     "outputs": [
      {
       "metadata": {},
       "output_type": "pyout",
       "png": "[encoded data removed]",
       "prompt_number": 14,
       "text": [
        "<ROOT.TCanvas object (\"6f9c779d-6096-4c15-a280-8109cc188dd5\") at 0x850ebb0>"
       ]
      }
     ],
     "prompt_number": 14
    },
    {
     "cell_type": "code",
     "collapsed": false,
     "input": [],
     "language": "python",
     "metadata": {},
     "outputs": [],
     "prompt_number": 14
    }
   ],
   "metadata": {}
  }
 ]
}