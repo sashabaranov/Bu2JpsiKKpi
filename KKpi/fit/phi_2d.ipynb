{
 "metadata": {
  "name": "",
  "signature": "sha256:fbcf2ec25fa41b3717bd1f81bbbed5c66171ee062e89a0396c4de2c774788494"
 },
 "nbformat": 3,
 "nbformat_minor": 0,
 "worksheets": [
  {
   "cells": [
    {
     "cell_type": "heading",
     "level": 1,
     "metadata": {},
     "source": [
      "2D-fitting of $\\phi(1020)$ resonanse in $B_u \\to J/\\psi KK \\pi$"
     ]
    },
    {
     "cell_type": "markdown",
     "metadata": {},
     "source": [
      "__Import things:__"
     ]
    },
    {
     "cell_type": "code",
     "collapsed": false,
     "input": [
      "import ROOT, random\n",
      "from   Ostap import *\n",
      "from   Ostap.PyRoUts import *\n",
      "import Ostap.FitModels as Models\n",
      "\n",
      "from ostap import *\n",
      "from mc_average import *\n",
      "\n",
      "def variate(var, minval=None, maxval=None, startval=None):\n",
      "    if minval: var.setMin(minval)\n",
      "    if maxval: var.setMax(maxval)\n",
      "    if startval: var.setVal(startval)"
     ],
     "language": "python",
     "metadata": {},
     "outputs": [
      {
       "output_type": "stream",
       "stream": "stdout",
       "text": [
        "# Ostap.PyRoUts             INFO    Zillions of decorations for ROOT   objects\n"
       ]
      },
      {
       "output_type": "stream",
       "stream": "stdout",
       "text": [
        "# setting LC_ALL to \"C\"\n",
        "importing IPython notebook from mc_average.ipynb"
       ]
      },
      {
       "output_type": "stream",
       "stream": "stdout",
       "text": [
        "\n",
        "importing IPython notebook from fit_mc_p6.ipynb\n",
        "DEFINE default storage type to be TTree! \n",
        "# data                      INFO    Selection 7: <Luminosity: ( 3082.18 +- 61.9831 )pb-1; #files: 27; Entries: 4020930>\n"
       ]
      },
      {
       "output_type": "stream",
       "stream": "stdout",
       "text": [
        "# data                      INFO    MC Pythia 6: <#files: 94; Entries: 28552>\n"
       ]
      },
      {
       "output_type": "stream",
       "stream": "stdout",
       "text": [
        "# data                      INFO    MC Pythia 8: <#files: 103; Entries: 29552>\n"
       ]
      },
      {
       "output_type": "stream",
       "stream": "stdout",
       "text": [
        "# Ostap.ZipShelve           INFO    Open DB: /home/sashab1/.ostap/cache/369b81b132885b97bf5c495f0f1ef18b4c0640098695e9af02583a9b29d40206f497f7df494bb870b982d9bfa421dbed4443ac37e9c09b1fcf718d535f26d274.shelve\n"
       ]
      },
      {
       "output_type": "stream",
       "stream": "stdout",
       "text": [
        "importing IPython notebook from fit_mc_p8.ipynb\n",
        "# Ostap.ZipShelve           INFO    Open DB: /home/sashab1/.ostap/cache/00fcf3508771f77cf418c32f5f10977e7e7029fc033a1de790fea920369ec5cd0596ccbf7482d75d4da3d999c511b3fed4411b517df68507ab19a101f47164ec.shelve\n"
       ]
      },
      {
       "output_type": "stream",
       "stream": "stdout",
       "text": [
        "[0.04157750941455392, 0.04592375372020926, 0.15777699864105776, 0.12403129732213726, 0.4123788224857029]\n"
       ]
      }
     ],
     "prompt_number": 1
    },
    {
     "cell_type": "markdown",
     "metadata": {},
     "source": [
      "__Define variables and their binning:__"
     ]
    },
    {
     "cell_type": "code",
     "collapsed": false,
     "input": [
      "# Bu meson\n",
      "m_Bu = ROOT.RooRealVar('DTFm_b', 'mass(J/psiKKpi)', 5.22, 5.34)\n",
      "nbin_Bu = 30\n",
      "binning_b = (m_Bu.getMax() - m_Bu.getMin()) / nbin_Bu * 1000\n",
      "\n",
      "\n",
      "# Resonanse\n",
      "m_Phi = ROOT.RooRealVar('DTFm_kk', 'mass(KK)', 1.0, 1.1)\n",
      "nbin_Phi = 35\n",
      "binning_phi = (m_Phi.getMax() - m_Phi.getMin()) / nbin_Phi * 1000\n",
      "\n",
      "\n",
      "# For Breit-Wigner\n",
      "mean_Phi = ROOT.RooRealVar('mean_Phi', 'mean(Phi)', 1.0, 1.1)\n",
      "mean_Phi.fix(1.02)\n",
      "\n",
      "width_Phi = ROOT.RooRealVar('width_Phi', 'width(Phi)', 0.0, 1.0)\n",
      "\n",
      "# PhaseSpace range\n",
      "low_kk = ROOT.RooRealVar('low', 'low_PhiBg', 0.9, 1.0)\n",
      "low_kk.fix(0.986)\n",
      "\n",
      "high_kk = ROOT.RooRealVar('high', 'high_PhiBg', 1.9, 2.1)\n",
      "\n",
      "selector_variables = [(m_Bu, lambda s: s.DTFm_b ), (m_Phi, lambda s: s.DTFm_kk )]"
     ],
     "language": "python",
     "metadata": {},
     "outputs": [],
     "prompt_number": 2
    },
    {
     "cell_type": "markdown",
     "metadata": {},
     "source": [
      "__Get dataset:__"
     ]
    },
    {
     "cell_type": "code",
     "collapsed": false,
     "input": [
      "from Ostap.Selectors import SelectorWithVarsCached\n",
      "\n",
      "from cuts import *\n",
      "from data import selection7\n",
      "\n",
      "sel_Bu = SelectorWithVarsCached(\n",
      "    variables=selector_variables,\n",
      "    selection=cuts_Bu,\n",
      "    files=selection7.files\n",
      ")\n",
      "\n",
      "\n",
      "if not sel_Bu._loaded_from_cache:\n",
      "    selection7.chain.process(sel_Bu)\n",
      "\n",
      "\n",
      "ds_Bu = sel_Bu.dataset()\n",
      "ds_Bu.Print('v')"
     ],
     "language": "python",
     "metadata": {},
     "outputs": [
      {
       "output_type": "stream",
       "stream": "stdout",
       "text": [
        "# Ostap.Selectors/ds_1000   INFO    TChain entries: 4020930\n"
       ]
      },
      {
       "output_type": "stream",
       "stream": "stdout",
       "text": [
        "[                                                                                ] 0% \r",
        "[ ####                                                                           ] 6%"
       ]
      },
      {
       "output_type": "stream",
       "stream": "stdout",
       "text": [
        " \r",
        "[ ########                                                                       ] 11%"
       ]
      },
      {
       "output_type": "stream",
       "stream": "stdout",
       "text": [
        " \r",
        "[ #############                                                                  ] 17%"
       ]
      },
      {
       "output_type": "stream",
       "stream": "stdout",
       "text": [
        " \r",
        "[ #################                                                              ] 23%"
       ]
      },
      {
       "output_type": "stream",
       "stream": "stdout",
       "text": [
        " \r",
        "[ ######################                                                         ] 29%"
       ]
      },
      {
       "output_type": "stream",
       "stream": "stdout",
       "text": [
        " \r",
        "[ ############################                                                   ] 37%"
       ]
      },
      {
       "output_type": "stream",
       "stream": "stdout",
       "text": [
        " \r",
        "[ ###################################                                            ] 45%"
       ]
      },
      {
       "output_type": "stream",
       "stream": "stdout",
       "text": [
        " \r",
        "[ #########################################                                      ] 53%"
       ]
      },
      {
       "output_type": "stream",
       "stream": "stdout",
       "text": [
        " \r",
        "[ ###############################################                                ] 61%"
       ]
      },
      {
       "output_type": "stream",
       "stream": "stdout",
       "text": [
        " \r",
        "[ #####################################################                          ] 68%"
       ]
      },
      {
       "output_type": "stream",
       "stream": "stdout",
       "text": [
        " \r",
        "[ ###########################################################                    ] 76%"
       ]
      },
      {
       "output_type": "stream",
       "stream": "stdout",
       "text": [
        " \r",
        "[ ###############################################################                ] 82%"
       ]
      },
      {
       "output_type": "stream",
       "stream": "stdout",
       "text": [
        " \r",
        "[ ######################################################################         ] 90%"
       ]
      },
      {
       "output_type": "stream",
       "stream": "stdout",
       "text": [
        " \r",
        "[ ###########################################################################    ] 97%"
       ]
      },
      {
       "output_type": "stream",
       "stream": "stdout",
       "text": [
        " \r",
        "[ ############################################################################## ] 100%"
       ]
      },
      {
       "output_type": "stream",
       "stream": "stdout",
       "text": [
        " \r",
        "[ ############################################################################## ] 100% \r\n",
        "# Ostap.Selectors/ds_1000   INFO    Events Processed/Total/Skept 7213/4020930/6875\n",
        "CUTS: \" DTFchi2ndof > 0&& DTFchi2ndof < 5&& DTFctau > 0.25&& vchi2_b < 20&& pt_kaon[0] > 0.6 && pt_kaon[1] > 0.6&& pt_pion > 0.3&& m_jpsi    > 3.020 && m_jpsi    < 3.135&& minann_K  > 0.3&& ann_pion[0] > 0.3&& MIPCHI2DV_k1 > 12. && MIPCHI2DV_k2 > 12. && MIPCHI2DV_pi > 12.&& ((psi_l0tos & 2) == 2)&& ((psi_l1tos & 2) == 2)&& ((psi_l2tos & 2) == 2)\"\n"
       ]
      },
      {
       "output_type": "stream",
       "stream": "stdout",
       "text": [
        "# Ostap.ZipShelve           INFO    Open DB: /home/sashab1/.ostap/cache/bdbd09b2654cd5ede7deceec2820d9a7816222c139f31a1214e4b8a48401750eff2befec6a739d2006fbccb99d683ffe5dab37da7ad1d22681496d0d26e133cd.shelve\n"
       ]
      }
     ],
     "prompt_number": 3
    },
    {
     "cell_type": "heading",
     "level": 1,
     "metadata": {},
     "source": [
      "1D-Fit $B_u$"
     ]
    },
    {
     "cell_type": "code",
     "collapsed": false,
     "input": [
      "s1_Bu = Models.CB2_pdf(\n",
      "    'Bu1',\n",
      "    m_Bu.getMin(),\n",
      "    m_Bu.getMax(),\n",
      "    fixMass=5.28,\n",
      "    fixSigma=5.75e-3,\n",
      "    fixAlphaL=avg_mc(\"aL_Bu1\"),\n",
      "    fixAlphaR=avg_mc(\"aR_Bu1\"),\n",
      "    fixNL=avg_mc(\"nL_Bu1\"),\n",
      "    fixNR=avg_mc(\"nR_Bu1\"),\n",
      "    mass=m_Bu\n",
      ")\n",
      "\n",
      "bkg_Bu = Models.Bkg_pdf('BBu', mass=m_Bu, power=1)\n",
      "\n",
      "model_B = Models.Fit1D(\n",
      "    signal=s1_Bu,\n",
      "    background=bkg_Bu,\n",
      ")"
     ],
     "language": "python",
     "metadata": {},
     "outputs": [],
     "prompt_number": 4
    },
    {
     "cell_type": "code",
     "collapsed": false,
     "input": [
      "c1 = rootnotes.random_canvas()\n",
      "\n",
      "ru, fu = model_B.fitTo(ds_Bu, draw=True, nbins=nbin_Bu)\n",
      "\n",
      "model_B.signal.mean.release()\n",
      "model_B.signal.sigma.release()\n",
      "\n",
      "ru, fu = model_B.fitTo(ds_Bu, draw=True, nbins=nbin_Bu)\n",
      "\n",
      "\n",
      "fu.SetTitle(\"\")\n",
      "fu.SetXTitle(\"Inv.\\,mass(J/\\psi\\,KK\\pi), GeV/c^{2}}\")\n",
      "fu.SetYTitle(\"Events / %.1f MeV/c^{2}\" % binning_b)\n",
      "\n",
      "fu.Draw()\n",
      "\n",
      "\n",
      "c1"
     ],
     "language": "python",
     "metadata": {},
     "outputs": [
      {
       "output_type": "stream",
       "stream": "stdout",
       "text": [
        "# Ostap.FitBasic            ERROR   Fit is problematic:  sum ( 342.806 +- 21.9657 ) != 338 \n"
       ]
      },
      {
       "metadata": {},
       "output_type": "pyout",
       "png": "[encoded data removed]",
       "prompt_number": 5,
       "text": [
        "<ROOT.TCanvas object (\"d0541bf8-50d1-4ac5-8990-1804d4dc29a3\") at 0x709acc0>"
       ]
      }
     ],
     "prompt_number": 5
    },
    {
     "cell_type": "code",
     "collapsed": false,
     "input": [
      "ipython_tools.params_table(ru)"
     ],
     "language": "python",
     "metadata": {},
     "outputs": [
      {
       "html": [
        "Fit status: <b>Full, accurate covariance matrix</b><br/>minNll: <b>-2366.20344652</b><br/><table><tr><th>Name</th> <th>Value</th> <th>Min</th> <th>Max</th> </tr><tr><th>B</th> <th>( 308.128 +- 18.6669 )</th> <th>0.0</th> <th>1000000.0</th></tr><tr><th>phi1_BBu</th> <th>( -0.000108655 +- 0.200384 )</th> <th>-3.5</th> <th>3.5</th></tr><tr><th>S</th> <th>( 29.8723 +- 8.38663 )</th> <th>0.0</th> <th>1000000.0</th></tr><tr><th>sigma_Bu1</th> <th>( 0.00231743 +- 0.000669091 )</th> <th>0.0</th> <th>0.0415692193817</th></tr><tr><th>tau_BBu</th> <th>( -6.53157 +- 6.89401 )</th> <th>-307.011345733</th> <th>307.011345733</th></tr><tr><th>mean_Bu1</th> <th>( 5.28044 +- 0.000729894 )</th> <th>5.22</th> <th>5.34</th></tr></table>"
       ],
       "metadata": {},
       "output_type": "pyout",
       "prompt_number": 6,
       "text": [
        "<IPython.core.display.HTML at 0x3418f90>"
       ]
      }
     ],
     "prompt_number": 6
    },
    {
     "cell_type": "heading",
     "level": 1,
     "metadata": {},
     "source": [
      "1D-Fit $\\phi(1020)$"
     ]
    },
    {
     "cell_type": "code",
     "collapsed": false,
     "input": [
      "m = VE(1.02, 0.02**2)\n",
      "bw = cpp.Gaudi.Math.BreitWigner(m.value(), m.error(), 0.493, 0.493, 1, 1)\n",
      "\n",
      "s_Phi =  Models.BreitWigner_pdf(\n",
      "   \"Phi1\",\n",
      "   m_Phi.getMin(),\n",
      "   m_Phi.getMax(),\n",
      "   bw,\n",
      "   mass=m_Phi,\n",
      "   mean=mean_Phi , \n",
      "   gamma=width_Phi\n",
      ")\n",
      "\n",
      "\n",
      "ps = cpp.Gaudi.Math.PhaseSpaceNL(low_kk, high_kk, 2, 4) \n",
      "\n",
      "bkg_Phi = Models.PSPol_pdf('F2' , m_Phi , ps , 1 ) \n",
      "\n",
      "model = Models.Fit1D(\n",
      "    signal=s_Phi,\n",
      "    background=bkg_Phi, \n",
      ")\n",
      "\n",
      "model.signal.mean.fix(1.0194)\n",
      "model.signal.gamma.fix(4.26e-3)"
     ],
     "language": "python",
     "metadata": {},
     "outputs": [
      {
       "metadata": {},
       "output_type": "pyout",
       "prompt_number": 7,
       "text": [
        "( 0.00426 +- 0 )"
       ]
      }
     ],
     "prompt_number": 7
    },
    {
     "cell_type": "code",
     "collapsed": false,
     "input": [
      "c1 = rootnotes.random_canvas(size=(1024,768))\n",
      "\n",
      "ru, fu = model.fitTo(ds_Bu, draw=True, nbins=nbin_Phi)\n",
      "\n",
      "# model.signal.mean.release()\n",
      "# model.signal.gamma.release()\n",
      "ru, fu = model.fitTo(ds_Bu, draw=True, nbins=nbin_Phi)\n",
      "\n",
      "fu.SetTitle(\"\")\n",
      "fu.SetXTitle(\"Inv.\\,mass(KK), GeV/c^{2}}\")\n",
      "fu.SetYTitle(\"Events / %.1f MeV/c^{2}\" % binning_phi)\n",
      "\n",
      "\n",
      "c1"
     ],
     "language": "python",
     "metadata": {},
     "outputs": [
      {
       "metadata": {},
       "output_type": "pyout",
       "png": "[encoded data removed]",
       "prompt_number": 8,
       "text": [
        "<ROOT.TCanvas object (\"baf9ce53-7df5-453c-b269-3b37846fb000\") at 0xbae6d50>"
       ]
      }
     ],
     "prompt_number": 8
    },
    {
     "cell_type": "code",
     "collapsed": false,
     "input": [
      "ipython_tools.params_table(ru)"
     ],
     "language": "python",
     "metadata": {},
     "outputs": [
      {
       "html": [
        "Fit status: <b>Full, accurate covariance matrix</b><br/>minNll: <b>-2467.63483135</b><br/><table><tr><th>Name</th> <th>Value</th> <th>Min</th> <th>Max</th> </tr><tr><th>S</th> <th>( 98.7614 +- 13.6642 )</th> <th>0.0</th> <th>1000000.0</th></tr><tr><th>B</th> <th>( 239.241 +- 18.0884 )</th> <th>0.0</th> <th>1000000.0</th></tr><tr><th>phi1_F2</th> <th>( -0.139039 +- 0.0662432 )</th> <th>-3.5</th> <th>3.5</th></tr></table>"
       ],
       "metadata": {},
       "output_type": "pyout",
       "prompt_number": 9,
       "text": [
        "<IPython.core.display.HTML at 0x341a510>"
       ]
      }
     ],
     "prompt_number": 9
    },
    {
     "cell_type": "code",
     "collapsed": false,
     "input": [
      "# low_kk.fix(low_kk.getVal())\n",
      "# high_kk.fix(high_kk.getVal())"
     ],
     "language": "python",
     "metadata": {},
     "outputs": [],
     "prompt_number": 10
    },
    {
     "cell_type": "heading",
     "level": 1,
     "metadata": {},
     "source": [
      "Try fit 2D"
     ]
    },
    {
     "cell_type": "markdown",
     "metadata": {},
     "source": [
      "__Fit models__"
     ]
    },
    {
     "cell_type": "code",
     "collapsed": false,
     "input": [
      "model = Models.Fit2D(\n",
      "    signal_1=s1_Bu,\n",
      "    signal_2=s_Phi,\n",
      "    bkg1=bkg_Bu,\n",
      "    bkg2=bkg_Phi, \n",
      "    bkg2D=Models.ExpoPSPol2D_pdf(\n",
      "        'B2',\n",
      "        m_Bu,\n",
      "        m_Phi,\n",
      "        ps,\n",
      "        nx=1, ny=1\n",
      "    ) ,\n",
      "#     components=[kkk, kpipi]\n",
      ")"
     ],
     "language": "python",
     "metadata": {},
     "outputs": [],
     "prompt_number": 11
    },
    {
     "cell_type": "markdown",
     "metadata": {},
     "source": [
      "Fitting\n",
      "---"
     ]
    },
    {
     "cell_type": "markdown",
     "metadata": {},
     "source": [
      "Fix variables:"
     ]
    },
    {
     "cell_type": "code",
     "collapsed": false,
     "input": [
      "r = model.fitTo(ds_Bu, draw=False)"
     ],
     "language": "python",
     "metadata": {},
     "outputs": [],
     "prompt_number": 12
    },
    {
     "cell_type": "code",
     "collapsed": false,
     "input": [
      "from ostap import ipython_tools\n",
      "\n",
      "ipython_tools.params_table(r[0])"
     ],
     "language": "python",
     "metadata": {},
     "outputs": [
      {
       "html": [
        "Fit status: <b>Full, accurate covariance matrix</b><br/>minNll: <b>-3205.29868906</b><br/><table><tr><th>Name</th> <th>Value</th> <th>Min</th> <th>Max</th> </tr><tr><th>phi1_F2</th> <th>( 0.188837 +- 0.706216 )</th> <th>-3.5</th> <th>3.5</th></tr><tr><th>B1B2</th> <th>( 227.568 +- 18.4716 )</th> <th>0.0</th> <th>1000000.0</th></tr><tr><th>phi1_BBu</th> <th>( -0.00013804 +- 0.344553 )</th> <th>-3.5</th> <th>3.5</th></tr><tr><th>phi_2d_3_B2</th> <th>( -0.111228 +- 0.171789 )</th> <th>-3.5</th> <th>3.5</th></tr><tr><th>phi_2d_2_B2</th> <th>( 0.0698074 +- 0.236437 )</th> <th>-3.5</th> <th>3.5</th></tr><tr><th>B1S2</th> <th>( 80.8669 +- 13.3351 )</th> <th>0.0</th> <th>1000000.0</th></tr><tr><th>sigma_Bu1</th> <th>( 0.00229253 +- 0.000678979 )</th> <th>0.0</th> <th>0.0415692193817</th></tr><tr><th>phi_2d_1_B2</th> <th>( -0.128203 +- 0.224991 )</th> <th>-3.5</th> <th>3.5</th></tr><tr><th>S1S2</th> <th>( 18.495 +- 6.95216 )</th> <th>0.0</th> <th>1000000.0</th></tr><tr><th>S1B2</th> <th>( 11.0644 +- 7.63435 )</th> <th>0.0</th> <th>1000000.0</th></tr><tr><th>tau_BBu</th> <th>( -7.17483 +- 12.456 )</th> <th>-307.011345733</th> <th>307.011345733</th></tr><tr><th>tau_B2</th> <th>( -5.21272 +- 9.11026 )</th> <th>-307.011345733</th> <th>307.011345733</th></tr><tr><th>mean_Bu1</th> <th>( 5.28075 +- 0.000809605 )</th> <th>5.22</th> <th>5.34</th></tr></table>"
       ],
       "metadata": {},
       "output_type": "pyout",
       "prompt_number": 13,
       "text": [
        "<IPython.core.display.HTML at 0x341a210>"
       ]
      }
     ],
     "prompt_number": 13
    },
    {
     "cell_type": "heading",
     "level": 1,
     "metadata": {},
     "source": [
      "**Time to draw!**"
     ]
    },
    {
     "cell_type": "code",
     "collapsed": false,
     "input": [
      "c2 = rootnotes.random_canvas(size=(1024, 768))\n",
      "\n",
      "fu = model.draw1(dataset=ds_Bu, nbins=nbin_Bu)\n",
      "\n",
      "fu.SetXTitle(\"Inv.\\,mass(J/\\psi\\,KK\\pi), GeV/c^{2}\")\n",
      "fu.SetYTitle(\"Events / %.1f MeV/c^{2}\" % binning_b)\n",
      "fu.SetTitle('')\n",
      "\n",
      "legend = ROOT.TLegend(0.55, 0.65, 0.9, 0.9)\n",
      "legend.SetFillColor(ROOT.kWhite)\n",
      "legend.SetTextSize(0.023)\n",
      "\n",
      "\n",
      "legend.AddEntry(\"DATA\", \"Data\", \"P\")\n",
      "legend.AddEntry(\"TOTAL\", \"Total\", \"L\")\n",
      "legend.AddEntry(\"SS\", \"S_{1} #times S_{2}\", \"L\")\n",
      "legend.AddEntry(\"SB\", \"S_{1} #times B_{2}\", \"L\")\n",
      "legend.AddEntry(\"BS\", \"B_{1} #times S_{2}\", \"L\")\n",
      "legend.AddEntry(\"BB\", \"Nonfactorized background\", \"L\")\n",
      "\n",
      "\n",
      "fu.Draw()\n",
      "legend.Draw()\n",
      "# c1.SetLogy()\n",
      "c2"
     ],
     "language": "python",
     "metadata": {},
     "outputs": [
      {
       "metadata": {},
       "output_type": "pyout",
       "png": "[encoded data removed]",
       "prompt_number": 14,
       "text": [
        "<ROOT.TCanvas object (\"71ab7ad5-46bb-4905-901b-57ad2f59a3f4\") at 0xbe96b50>"
       ]
      }
     ],
     "prompt_number": 14
    },
    {
     "cell_type": "code",
     "collapsed": false,
     "input": [
      "c2 = rootnotes.random_canvas(size=(1024,768))\n",
      "fu = model.draw2(dataset=ds_Bu, nbins=nbin_Phi)\n",
      "\n",
      "fu.SetXTitle(\"Inv.\\,mass(KK), GeV/c^{2}}\")\n",
      "fu.SetYTitle(\"Events / %.1f MeV/c^{2}\" % binning_phi)\n",
      "fu.SetTitle(\"\")\n",
      "\n",
      "\n",
      "legend = ROOT.TLegend(0.55, 0.65, 0.9, 0.9)\n",
      "legend.SetFillColor(ROOT.kWhite)\n",
      "legend.SetTextSize(0.023)\n",
      "\n",
      "\n",
      "legend.AddEntry(\"DATA\", \"Data\", \"P\")\n",
      "legend.AddEntry(\"TOTAL\", \"Total\", \"L\")\n",
      "legend.AddEntry(\"SS\", \"S_{1} #times S_{2}\", \"L\")\n",
      "legend.AddEntry(\"SB\", \"S_{1} #times B_{2}\", \"L\")\n",
      "legend.AddEntry(\"BS\", \"B_{1} #times S_{2}\", \"L\")\n",
      "legend.AddEntry(\"BB\", \"Nonfactorized background\", \"L\")\n",
      "\n",
      "\n",
      "fu.Draw()\n",
      "legend.Draw()\n",
      "c2"
     ],
     "language": "python",
     "metadata": {},
     "outputs": [
      {
       "metadata": {},
       "output_type": "pyout",
       "png": "[encoded data removed]",
       "prompt_number": 15,
       "text": [
        "<ROOT.TCanvas object (\"f3da63ed-f7c0-4f9b-aaf5-6e5f4fbfb02e\") at 0xbe62060>"
       ]
      }
     ],
     "prompt_number": 15
    },
    {
     "cell_type": "code",
     "collapsed": false,
     "input": [],
     "language": "python",
     "metadata": {},
     "outputs": [],
     "prompt_number": 15
    }
   ],
   "metadata": {}
  }
 ]
}