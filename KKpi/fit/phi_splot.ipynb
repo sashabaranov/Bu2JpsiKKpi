{
 "metadata": {
  "name": "",
  "signature": "sha256:a886aed79b4da4a361a4385992dd39829e2fa21475d6d868011f2d653b88f129"
 },
 "nbformat": 3,
 "nbformat_minor": 0,
 "worksheets": [
  {
   "cells": [
    {
     "cell_type": "code",
     "collapsed": false,
     "input": [
      "from ostap import *\n",
      "from fit_rd import *\n",
      "\n",
      "import PyPAW.FitModels as Models"
     ],
     "language": "python",
     "metadata": {},
     "outputs": [
      {
       "output_type": "stream",
       "stream": "stdout",
       "text": [
        "importing IPython notebook from fit_rd.ipynb\n",
        "# Ostap.PyRoUts             INFO    Zillions of decorations for ROOT   objects\n"
       ]
      },
      {
       "output_type": "stream",
       "stream": "stdout",
       "text": [
        "# setting LC_ALL to \"C\"\n",
        "DEFINE default storage type to be TTree! "
       ]
      },
      {
       "output_type": "stream",
       "stream": "stdout",
       "text": [
        "\n",
        "# data                      INFO    Selection 7: <Luminosity: ( 3082.18 +- 61.9831 )pb-1; #files: 27; Entries: 4020930>\n"
       ]
      },
      {
       "output_type": "stream",
       "stream": "stdout",
       "text": [
        "# data                      INFO    MC Pythia 6: <#files: 94; Entries: 28552>\n"
       ]
      },
      {
       "output_type": "stream",
       "stream": "stdout",
       "text": [
        "# data                      INFO    MC Pythia 8: <#files: 103; Entries: 29552>\n"
       ]
      },
      {
       "output_type": "stream",
       "stream": "stdout",
       "text": [
        "# Ostap.ZipShelve           INFO    Open DB: /home/sashab1/.ostap/cache/b0425926215796dcbf2188db197f68c67b930ce4b2a255baa30ce4e120383d405b8ad093e1b216bbab89a416421af1f6e571ebefc359005a8037e887bbf1fc6a.shelve\n"
       ]
      },
      {
       "output_type": "stream",
       "stream": "stderr",
       "text": [
        "TClass::TClass:0: RuntimeWarning: no dictionary for class stack<RooAbsArg*,deque<RooAbsArg*> > is available\n"
       ]
      }
     ],
     "prompt_number": 1
    },
    {
     "cell_type": "code",
     "collapsed": false,
     "input": [
      "m_Phi = ROOT.RooRealVar('DTFm_kk', 'mass(KK)', 0.98, 1.08)\n",
      "nbin_Phi = 50\n",
      "events_binning = (m_Phi.getMax() - m_Phi.getMin()) / nbin_Phi * 1000\n",
      "\n",
      "\n",
      "# For Breit-Wigner\n",
      "mean_Phi = ROOT.RooRealVar('mean_Phi', 'mean(Phi)', 1.0, 1.1)\n",
      "mean_Phi.fix(1.02)\n",
      "\n",
      "width_Phi = ROOT.RooRealVar('width_Phi', 'width(Phi)', 0.0, 1.0)\n",
      "\n",
      "# PhaseSpace range\n",
      "low_kk = ROOT.RooRealVar('low', 'low_PhiBg', 0.9, 1.0)\n",
      "low_kk.fix(0.986)\n",
      "\n",
      "high_kk = ROOT.RooRealVar('high', 'high_PhiBg', 2.0, 2.1)\n"
     ],
     "language": "python",
     "metadata": {},
     "outputs": [],
     "prompt_number": 2
    },
    {
     "cell_type": "code",
     "collapsed": false,
     "input": [
      "hist = ROOT.TH1F(hID(), '', nbin_Phi, m_Phi.getMin(), m_Phi.getMax())\n",
      "hist.Sumw2()\n",
      "\n",
      "ds_Bu.project(hist, \"DTFm_kk\", \"S_sw\")"
     ],
     "language": "python",
     "metadata": {},
     "outputs": [
      {
       "metadata": {},
       "output_type": "pyout",
       "prompt_number": 3,
       "text": [
        "2315L"
       ]
      }
     ],
     "prompt_number": 3
    },
    {
     "cell_type": "code",
     "collapsed": false,
     "input": [
      "m = VE(1.02, 0.02**2)\n",
      "bw = cpp.Gaudi.Math.BreitWigner(m.value(), m.error(), 0.493, 0.493, 1, 1)\n",
      "\n",
      "\n",
      "s_Phi =  Models.BreitWigner_pdf(\n",
      "   \"Phi1\",\n",
      "   m_Phi.getMin(),\n",
      "   m_Phi.getMin(),\n",
      "   bw,\n",
      "   mass=m_Phi,\n",
      "   mean        = mean_Phi , \n",
      "   gamma       = width_Phi)\n",
      "\n",
      "\n",
      "ps = cpp.Gaudi.Math.PhaseSpaceNL(low_kk, high_kk, 2, 4) \n",
      "\n",
      "model_Phi = Models.Fit1D(\n",
      "    signal=s_Phi,\n",
      "    #background = Models.Bkg_pdf ( 'BPhi' , mass = m_Phi , power = 4 ) ,\n",
      "    background=Models.PSPol_pdf( 'Bkg' , m_Phi , ps , 0 ),\n",
      "#     background=Models.PhaseSpace_pdf(\n",
      "#         'BPhi', x=m_Phi, low=low_kk, high=high_kk, N=2, L=4, power=0),\n",
      "    suffix='Phi'\n",
      ")\n",
      "\n",
      "model_Phi.signal.mean.fix(1.020)\n",
      "model_Phi.signal.gamma.fix(0.02e-3)"
     ],
     "language": "python",
     "metadata": {},
     "outputs": [
      {
       "metadata": {},
       "output_type": "pyout",
       "prompt_number": 4,
       "text": [
        "( 2e-05 +- 0 )"
       ]
      }
     ],
     "prompt_number": 4
    },
    {
     "cell_type": "code",
     "collapsed": false,
     "input": [
      "canvas = rootnotes.random_canvas(size=(1024, 768))\n",
      "\n",
      "r, f = model_Phi.fitHisto(hist, draw=True)\n",
      "\n",
      "model_Phi.signal.gamma.release()\n",
      "# model_Phi.signal.gamma.setMin(1e-3)\n",
      "r, f = model_Phi.fitHisto(hist, draw=True)\n",
      "\n",
      "model_Phi.signal.mean.release()\n",
      "\n",
      "r, f = model_Phi.fitHisto(hist, draw=True)\n",
      "\n",
      "f.SetTitle('')\n",
      "f.SetXTitle(\"Inv.\\,mass(KK), GeV/c^{2}}\")\n",
      "f.SetYTitle(\"Events / %.1f MeV/c^{2}\" % events_binning)\n",
      "\n",
      "\n",
      "\n",
      "canvas"
     ],
     "language": "python",
     "metadata": {},
     "outputs": [
      {
       "metadata": {},
       "output_type": "pyout",
       "png": "[encoded data removed]",
       "prompt_number": 9,
       "text": [
        "<ROOT.TCanvas object (\"b5d36e4c-c159-4ac5-a932-8df6d90f2011\") at 0x94030f0>"
       ]
      }
     ],
     "prompt_number": 9
    },
    {
     "cell_type": "code",
     "collapsed": false,
     "input": [
      "ipython_tools.params_table(r)"
     ],
     "language": "python",
     "metadata": {},
     "outputs": [
      {
       "html": [
        "Fit status: <b>Full, accurate covariance matrix</b><br/>minNll: <b>-184.729282282</b><br/><table><tr><th>Name</th> <th>Value</th> <th>Min</th> <th>Max</th> </tr><tr><th>width_Phi</th> <th>( 0.00442847 +- 0.00138285 )</th> <th>0.0</th> <th>1.0</th></tr><tr><th>mean_Phi</th> <th>( 1.02154 +- 0.000577922 )</th> <th>1.0</th> <th>1.1</th></tr><tr><th>BPhi</th> <th>( 2.40363e-08 +- 0.088668 )</th> <th>0.0</th> <th>1000000.0</th></tr><tr><th>SPhi</th> <th>( 29.5919 +- 5.43984 )</th> <th>0.0</th> <th>1000000.0</th></tr></table>"
       ],
       "metadata": {},
       "output_type": "pyout",
       "prompt_number": 8,
       "text": [
        "<IPython.core.display.HTML at 0x8be1690>"
       ]
      }
     ],
     "prompt_number": 8
    },
    {
     "cell_type": "code",
     "collapsed": false,
     "input": [],
     "language": "python",
     "metadata": {},
     "outputs": []
    }
   ],
   "metadata": {}
  }
 ]
}