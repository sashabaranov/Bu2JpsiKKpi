{
 "metadata": {
  "name": "",
  "signature": "sha256:83fc341661129d46d1c1af70438b9077e66d2b5abef7cff6f596a243ce2f1ea4"
 },
 "nbformat": 3,
 "nbformat_minor": 0,
 "worksheets": [
  {
   "cells": [
    {
     "cell_type": "heading",
     "level": 1,
     "metadata": {},
     "source": [
      "2D-fitting of $\\psi(2S)$ resonanse in $B_u \\to J/\\psi K \\pi\\pi$"
     ]
    },
    {
     "cell_type": "markdown",
     "metadata": {},
     "source": [
      "Import things:"
     ]
    },
    {
     "cell_type": "code",
     "collapsed": false,
     "input": [
      "import ROOT, random\n",
      "from   Ostap import *\n",
      "from   Ostap.PyRoUts import *\n",
      "import Ostap.FitModels as Models\n",
      "\n",
      "from ostap import *\n",
      "from mc_average import *\n",
      "\n",
      "def variate(var, minval=None, maxval=None, startval=None):\n",
      "    if minval: var.setMin(minval)\n",
      "    if maxval: var.setMax(maxval)\n",
      "    if startval: var.setVal(startval)"
     ],
     "language": "python",
     "metadata": {},
     "outputs": [
      {
       "output_type": "stream",
       "stream": "stdout",
       "text": [
        "# Ostap.PyRoUts             INFO    Zillions of decorations for ROOT   objects\n"
       ]
      },
      {
       "output_type": "stream",
       "stream": "stdout",
       "text": [
        "# setting LC_ALL to \"C\"\n",
        "importing IPython notebook from mc_average.ipynb"
       ]
      },
      {
       "output_type": "stream",
       "stream": "stdout",
       "text": [
        "\n",
        "importing IPython notebook from fit_mc_pythia6.ipynb\n",
        "DEFINE default storage type to be TTree! \n",
        "# data                      INFO    Selection 7: <Luminosity: ( 3082.18 +- 61.9831 )pb-1; #files: 201; Entries: 14367852>\n"
       ]
      },
      {
       "output_type": "stream",
       "stream": "stdout",
       "text": [
        "# Ostap.ZipShelve           INFO    Open DB: /home/sashab1/.ostap/cache/b6312054b82f905767adfe205e8d48d6541d0c8c515642417a253a90bd1fc74db9f7e4a828280be7b73d0251682e63c2315f779113fd5c1bb2ea3ccabed9866d.shelve\n"
       ]
      },
      {
       "output_type": "stream",
       "stream": "stdout",
       "text": [
        "importing IPython notebook from fit_mc_pythia8.ipynb\n",
        "# Ostap.ZipShelve           INFO    Open DB: /home/sashab1/.ostap/cache/1f2de635d931dc29ff0a43571472c614c29e2e61b65818d8fe9dbcd806e1afdde8b667cfd6015c68763b2dfbe1d443a7f7779f8d9aad8f2f1ebffbe26672f934.shelve\n"
       ]
      },
      {
       "output_type": "stream",
       "stream": "stdout",
       "text": [
        "RooFitResult\n"
       ]
      }
     ],
     "prompt_number": 1
    },
    {
     "cell_type": "markdown",
     "metadata": {},
     "source": [
      "Define variables and their binning:"
     ]
    },
    {
     "cell_type": "code",
     "collapsed": false,
     "input": [
      "from variables import *\n",
      "\n",
      "# Resonanse\n",
      "m_R = ROOT.RooRealVar('m_R', '', 3.6, 3.75)\n",
      "nbin_R = 150\n",
      "binning_R = (m_R.getMax() - m_R.getMin()) / nbin_R * 1000\n",
      "\n",
      "selector_variables = [(m_Bu, lambda s: s.DTFm_b ), (m_R, lambda s: s.m134c2 )]"
     ],
     "language": "python",
     "metadata": {},
     "outputs": [],
     "prompt_number": 2
    },
    {
     "cell_type": "markdown",
     "metadata": {},
     "source": [
      "Get dataset:"
     ]
    },
    {
     "cell_type": "code",
     "collapsed": false,
     "input": [
      "from Ostap.Selectors import SelectorWithVarsCached\n",
      "\n",
      "from cuts import *\n",
      "from data import selection7\n",
      "\n",
      "sel_Bu = SelectorWithVarsCached(\n",
      "    variables=selector_variables,\n",
      "    selection=cuts_Bu,\n",
      "    files=selection7.files\n",
      ")\n",
      "\n",
      "if not sel_Bu._loaded_from_cache:\n",
      "    selection7.chain.process(sel_Bu)\n",
      "\n",
      "\n",
      "ds_Bu = sel_Bu.dataset()\n",
      "ds_Bu.Print('v')"
     ],
     "language": "python",
     "metadata": {},
     "outputs": [
      {
       "output_type": "stream",
       "stream": "stdout",
       "text": [
        "# Ostap.ZipShelve           INFO    Open DB: /home/sashab1/.ostap/cache/edd67e98a2275e5abce1db0aed12b9d70f9dd494ce1795adb5168a9d0c2dfaaa299baa8f83de34ec8243d6ee4291285a6ac527e937dbda848caa1edcb92230d9.shelve\n"
       ]
      }
     ],
     "prompt_number": 3
    },
    {
     "cell_type": "markdown",
     "metadata": {},
     "source": [
      "__Fit models__"
     ]
    },
    {
     "cell_type": "code",
     "collapsed": false,
     "input": [
      "s1_Bu = Models.CB2_pdf(\n",
      "    'Bu',\n",
      "    m_Bu.getMin(),\n",
      "    m_Bu.getMax(),\n",
      "    fixMass=5.2792e+0,\n",
      "    fixSigma=avg_mc(\"sigma_Bu1\"),\n",
      "    fixAlphaL=avg_mc(\"aL_Bu1\"),\n",
      "    fixAlphaR=avg_mc(\"aR_Bu1\"),\n",
      "    fixNL=avg_mc(\"nL_Bu1\"),\n",
      "    mass=m_Bu\n",
      ")\n",
      "\n",
      "s1_Bu.nR.setMax(20.0)\n",
      "s1_Bu.nR.fix(avg_mc(\"nR_Bu1\"))\n",
      "\n",
      "s1_Psi = Models.CB2_pdf(\n",
      "    'psi2s',\n",
      "    m_R.getMin(),\n",
      "    m_R.getMax(),\n",
      "    fixMass=3.686,\n",
      "    fixSigma=0.002201,\n",
      "    fixAlphaL=1.896,\n",
      "    fixAlphaR=1.584,\n",
      "    fixNL=0.912,\n",
      "    fixNR=8.8,\n",
      "    mass=m_R\n",
      ")\n",
      "\n",
      "\n",
      "\n",
      "ps = cpp.Gaudi.Math.PhaseSpaceNL( 3.096 + 2*0.139 ,\n",
      "                                  5.5   - 0.5     , 3 , 4 ) \n",
      "\n",
      "bb = Models.ExpoPSPol2D_pdf( 'B2' ,\n",
      "                               m_Bu ,\n",
      "                               m_R  ,\n",
      "                               ps   ,\n",
      "                               nx = 1 , ny = 1 ) \n",
      "\n",
      "variate(bb.tau, -20, 20, -5)\n",
      "\n",
      "model = Models.Fit2D(\n",
      "    signal_1 = s1_Bu   ,\n",
      "    signal_2 = s1_Psi  ,\n",
      "    bkg1=Models.Bkg_pdf('BBu', mass=m_Bu, power=1),\n",
      "    bkg2=Models.PSPol_pdf( 'F2' , m_R , ps , 0 ) , \n",
      "    bkg2D = bb,\n",
      ")"
     ],
     "language": "python",
     "metadata": {},
     "outputs": [],
     "prompt_number": 16
    },
    {
     "cell_type": "markdown",
     "metadata": {},
     "source": [
      "Fitting\n",
      "---"
     ]
    },
    {
     "cell_type": "markdown",
     "metadata": {},
     "source": [
      "Fix variables:"
     ]
    },
    {
     "cell_type": "code",
     "collapsed": false,
     "input": [
      "variate(model.bkg1.tau, -100, 5, 0)\n",
      "variate(model.ss, 8.5e+3, 20e+3, 9e+3)\n",
      "# variate(model.sb, 0, 1000, 250)\n",
      "model.sb.fix(0)\n",
      "variate(model.bb, 0, 5000, 350)\n",
      "\n",
      "model.bs.setMax(1000)\n",
      "\n",
      "# model.bkg1.tau.setVal(-4.1)\n",
      "# model.bkg2.tau.fix(0.0)\n",
      "# model.bkg2.phis[0].setVal(-1.0)"
     ],
     "language": "python",
     "metadata": {},
     "outputs": [],
     "prompt_number": 17
    },
    {
     "cell_type": "code",
     "collapsed": false,
     "input": [
      "r = model.fitTo(ds_Bu, draw=False)"
     ],
     "language": "python",
     "metadata": {},
     "outputs": [
      {
       "output_type": "stream",
       "stream": "stdout",
       "text": [
        "# Ostap.FitBasic            WARNING Fit2D.fitTo: covQual    is 2\n"
       ]
      }
     ],
     "prompt_number": 18
    },
    {
     "cell_type": "code",
     "collapsed": false,
     "input": [
      "variate(model.signal1.mean, 5.27, 5.30)\n",
      "model.signal1.mean.release()\n",
      "model.signal1.sigma.release()\n",
      "\n",
      "variate(model.signal2.mean, 3.6, 3.69)\n",
      "model.signal2.mean.release()\n",
      "model.signal2.sigma.release()"
     ],
     "language": "python",
     "metadata": {},
     "outputs": [
      {
       "metadata": {},
       "output_type": "pyout",
       "prompt_number": 19,
       "text": [
        "( 0.002201 +- 0 )"
       ]
      }
     ],
     "prompt_number": 19
    },
    {
     "cell_type": "code",
     "collapsed": false,
     "input": [
      "r = model.fitTo(ds_Bu, draw=False)"
     ],
     "language": "python",
     "metadata": {},
     "outputs": [],
     "prompt_number": 20
    },
    {
     "cell_type": "code",
     "collapsed": false,
     "input": [
      "model.signal1.aL.release()\n",
      "model.signal1.nL.release()\n",
      "r = model.fitTo(ds_Bu, draw=False)"
     ],
     "language": "python",
     "metadata": {},
     "outputs": [],
     "prompt_number": 21
    },
    {
     "cell_type": "heading",
     "level": 1,
     "metadata": {},
     "source": [
      "**Time to draw!**"
     ]
    },
    {
     "cell_type": "code",
     "collapsed": false,
     "input": [
      "c1 = rootnotes.random_canvas(size=(1024,768))\n",
      "fu = model.draw1(dataset=ds_Bu, nbins=nbin_Bu)\n",
      "fu.SetXTitle(\"Inv.\\,mass(J/\\psi\\,K\\pi\\pi), GeV/c^{2}}\")\n",
      "fu.SetYTitle(\"Events / %.1f MeV/c^{2}\" % binning_b)\n",
      "\n",
      "fu.Draw()\n",
      "\n",
      "c1.SetLogy()\n",
      "c1"
     ],
     "language": "python",
     "metadata": {},
     "outputs": [
      {
       "metadata": {},
       "output_type": "pyout",
       "png": "[encoded data removed]",
       "prompt_number": 22,
       "text": [
        "<ROOT.TCanvas object (\"18096f52-ca29-4181-810a-28760f9f1d14\") at 0x7d8faf0>"
       ]
      }
     ],
     "prompt_number": 22
    },
    {
     "cell_type": "code",
     "collapsed": false,
     "input": [
      "c2 = rootnotes.random_canvas(size=(1024,768))\n",
      "fu = model.draw2(dataset=ds_Bu, nbins=nbin_R)\n",
      "fu.SetXTitle(\"Inv.\\,mass(J/\\psi\\,\\pi\\pi), GeV/c^{2}}\")\n",
      "\n",
      "\n",
      "fu.SetYTitle(\"Events / %.1f MeV/c^{2}\" % binning_R)\n",
      "fu.Draw()\n",
      "c2.SetLogy()\n",
      "\n",
      "# legend = ROOT.TLegend(0.75, 0.65, 0.86, 0.9)\n",
      "# legend.SetFillColor(ROOT.kWhite)\n",
      "# legend.AddEntry(\"data\", \"Data\", \"P\")\n",
      "\n",
      "# legend.AddEntry(model.sb_pdf, \"S x B\", \"L\")\n",
      "# legend.Draw()\n",
      "\n",
      "\n",
      "c2"
     ],
     "language": "python",
     "metadata": {},
     "outputs": [
      {
       "metadata": {},
       "output_type": "pyout",
       "png": "[encoded data removed]",
       "prompt_number": 23,
       "text": [
        "<ROOT.TCanvas object (\"b9587577-fe4f-4bbb-89c9-02035f3e1f64\") at 0x7d805e0>"
       ]
      }
     ],
     "prompt_number": 23
    },
    {
     "cell_type": "code",
     "collapsed": false,
     "input": [
      "ipython_tools.params_table(r[0])"
     ],
     "language": "python",
     "metadata": {},
     "outputs": [
      {
       "html": [
        "Fit status: <b>Full, accurate covariance matrix</b><br/>minNll: <b>-150858.615791</b><br/><table><tr><th>Name</th> <th>Value</th> <th>Min</th> <th>Max</th> </tr><tr><th><font color=\"red\">mean_psi2s</font></th> <th>( 3.6864 +- 2.92679e-05 )</th> <th>3.6</th> <th>3.69</th></tr><tr><th>B1B2</th> <th>( 667.99 +- 29.4388 )</th> <th>0.0</th> <th>5000.0</th></tr><tr><th>phi1_BBu</th> <th>( 0.898258 +- 0.140649 )</th> <th>-3.5</th> <th>3.5</th></tr><tr><th>sigma_Bu</th> <th>( 0.00743211 +- 8.43923e-05 )</th> <th>0.0</th> <th>0.103923048454</th></tr><tr><th>phi_2d_3_B2</th> <th>( 1.59692 +- 0.0400743 )</th> <th>-3.5</th> <th>3.5</th></tr><tr><th>mean_Bu</th> <th>( 5.2808 +- 9.41238e-05 )</th> <th>5.27</th> <th>5.3</th></tr><tr><th>aL_Bu</th> <th>( 1.54471 +- 0.0761991 )</th> <th>0.0</th> <th>10.0</th></tr><tr><th>phi_2d_2_B2</th> <th>( 0.615485 +- 0.0251194 )</th> <th>-3.5</th> <th>3.5</th></tr><tr><th>B1S2</th> <th>( 41.8253 +- 21.2398 )</th> <th>0.0</th> <th>1000.0</th></tr><tr><th>phi_2d_1_B2</th> <th>( 0.583691 +- 0.0556173 )</th> <th>-3.5</th> <th>3.5</th></tr><tr><th>S1S2</th> <th>( 9151.2 +- 97.8145 )</th> <th>8500.0</th> <th>20000.0</th></tr><tr><th>tau_BBu</th> <th>( -29.2122 +- 17.4053 )</th> <th>-100.0</th> <th>5.0</th></tr><tr><th>sigma_psi2s</th> <th>( 0.00248159 +- 2.50755e-05 )</th> <th>0.0</th> <th>0.0519615242271</th></tr><tr><th>tau_B2</th> <th>( -14.183 +- 0.629164 )</th> <th>-20.0</th> <th>20.0</th></tr><tr><th>nL_Bu</th> <th>( 9.13815 +- 8.01377 )</th> <th>0.0</th> <th>10.0</th></tr></table>"
       ],
       "metadata": {},
       "output_type": "pyout",
       "prompt_number": 24,
       "text": [
        "<IPython.core.display.HTML at 0x7dc0bd0>"
       ]
      }
     ],
     "prompt_number": 24
    },
    {
     "cell_type": "code",
     "collapsed": false,
     "input": [],
     "language": "python",
     "metadata": {},
     "outputs": [],
     "prompt_number": 24
    }
   ],
   "metadata": {}
  }
 ]
}