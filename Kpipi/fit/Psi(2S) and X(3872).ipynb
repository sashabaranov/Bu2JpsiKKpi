{
 "metadata": {
  "name": "",
  "signature": "sha256:bf40cbb31e9494cea1b036c447b2da34ccf8726100031dca25389dfc8c8ee8fd"
 },
 "nbformat": 3,
 "nbformat_minor": 0,
 "worksheets": [
  {
   "cells": [
    {
     "cell_type": "heading",
     "level": 1,
     "metadata": {},
     "source": [
      "sPlot-fitting of $\\psi(2S)$ resonanse in $B_u \\to J/\\psi K \\pi\\pi$"
     ]
    },
    {
     "cell_type": "markdown",
     "metadata": {},
     "source": [
      "Import basic things:"
     ]
    },
    {
     "cell_type": "code",
     "collapsed": false,
     "input": [
      "import ROOT, random\n",
      "from   PyPAW import *\n",
      "from   PyPAW.PyRoUts import *\n",
      "import PyPAW.FitModels as Models"
     ],
     "language": "python",
     "metadata": {},
     "outputs": [
      {
       "output_type": "stream",
       "stream": "stdout",
       "text": [
        "# PyPAW.PyRoUts             INFO    Zillions of decorations for ROOT   objects\n"
       ]
      },
      {
       "output_type": "stream",
       "stream": "stdout",
       "text": [
        "# PyPAW.TreeDeco            INFO    Some useful decorations for Tree/Chain objects\n"
       ]
      },
      {
       "output_type": "stream",
       "stream": "stdout",
       "text": [
        "# PyPAW.MinuitDeco          INFO    Some useful decorations for (T)Minuit functions\n"
       ]
      },
      {
       "output_type": "stream",
       "stream": "stdout",
       "text": [
        "# PyPAW.RooFitDeco          INFO    Some useful decorations for RooFit objects\n"
       ]
      },
      {
       "output_type": "stream",
       "stream": "stdout",
       "text": [
        "# PyPAW.HTextDeco           INFO    Some useful decorations for Histo&Text objects\n"
       ]
      },
      {
       "output_type": "stream",
       "stream": "stdout",
       "text": [
        "# setting LC_ALL to \"C\"\n",
        "# PyPAW.HTextDeco           INFO    Histogram utilities from GaudiPython.HistoUtils\n"
       ]
      },
      {
       "output_type": "stream",
       "stream": "stdout",
       "text": [
        "# PyPAW.HParamDeco          INFO    Some parameterization utilities for Histo objects\n"
       ]
      },
      {
       "output_type": "stream",
       "stream": "stdout",
       "text": [
        "# PyPAW.HCmpDeco            INFO    Some specific comparison of histo-objects\n"
       ]
      },
      {
       "output_type": "stream",
       "stream": "stdout",
       "text": [
        "# PyPAW.MiscDeco            INFO    Some useful decorations for File/Canvas objects\n"
       ]
      }
     ],
     "prompt_number": 1
    },
    {
     "cell_type": "markdown",
     "metadata": {},
     "source": [
      "Variables to use:"
     ]
    },
    {
     "cell_type": "code",
     "collapsed": false,
     "input": [
      "# Bu meson\n",
      "m_Bu = ROOT.RooRealVar('m_Bu', 'mass(J/\\psi K \\pi \\pi)', 5.15, 5.4)\n",
      "nbin_Bu = 125\n",
      "binning_b = (m_Bu.getMax() - m_Bu.getMin()) / nbin_Bu * 1000\n",
      "\n",
      "\n",
      "# Resonanse\n",
      "m_R = ROOT.RooRealVar('m_R', 'mass(J/\\psi \\pi \\pi)', 3.6, 3.75)\n",
      "nbin_R = 150\n",
      "binning_R = (m_R.getMax() - m_R.getMin()) / nbin_Bu * 1000\n",
      "\n",
      "selector_variables = [(m_Bu, lambda s: s.DTFm_b ), (m_R, lambda s: s.m134c2 )]"
     ],
     "language": "python",
     "metadata": {},
     "outputs": [],
     "prompt_number": 2
    },
    {
     "cell_type": "markdown",
     "metadata": {},
     "source": [
      "Project tuple to RooFits dataset:"
     ]
    },
    {
     "cell_type": "code",
     "collapsed": false,
     "input": [
      "from cuts import cuts_Bu, prntCuts\n",
      "from data import selection7\n",
      "\n",
      "tBu = selection7.data\n",
      "\n",
      "from PyPAW.Selectors import SelectorWithVars\n",
      "\n",
      "sel_Bu = SelectorWithVars(\n",
      "    variables=selector_variables,\n",
      "    selection=cuts_Bu\n",
      ")\n",
      "\n",
      "tBu.process(sel_Bu)\n",
      "\n",
      "\n",
      "ds_Bu = sel_Bu.dataset()\n",
      "ds_Bu.Print('v')"
     ],
     "language": "python",
     "metadata": {},
     "outputs": [
      {
       "output_type": "stream",
       "stream": "stdout",
       "text": [
        "# PyPAW.ZipShelve           INFO    Simple generic (c)Pickle-based ``zipped''-database\n"
       ]
      },
      {
       "output_type": "stream",
       "stream": "stdout",
       "text": [
        "# PyPAW.shelve_ext          INFO    Decorate shelve.open method\n"
       ]
      },
      {
       "output_type": "stream",
       "stream": "stdout",
       "text": [
        "# PyPAW.shelve_ext          INFO    Add 'ls' method for shelve.Shelf class\n"
       ]
      },
      {
       "output_type": "stream",
       "stream": "stdout",
       "text": [
        "DEFINE default storage type to be TTree! \n",
        "# data                      INFO    Selection 7: <Luminosity: ( 3082.18 +- 61.9831 ); #files: 201; Entries: 14367852>\n"
       ]
      },
      {
       "output_type": "stream",
       "stream": "stdout",
       "text": [
        "# PyPAW.Selectors/ds_1000   INFO    TChain entries: 14367852\n"
       ]
      },
      {
       "output_type": "stream",
       "stream": "stdout",
       "text": [
        "[                                                                                ] 0% \r",
        "[                                                                                ] 1%"
       ]
      },
      {
       "output_type": "stream",
       "stream": "stdout",
       "text": [
        " \r",
        "[                                                                                ] 1%"
       ]
      },
      {
       "output_type": "stream",
       "stream": "stdout",
       "text": [
        " \r",
        "[ #                                                                              ] 2%"
       ]
      },
      {
       "output_type": "stream",
       "stream": "stdout",
       "text": [
        " \r",
        "[ #                                                                              ] 2%"
       ]
      },
      {
       "output_type": "stream",
       "stream": "stdout",
       "text": [
        " \r",
        "[ ##                                                                             ] 3%"
       ]
      },
      {
       "output_type": "stream",
       "stream": "stdout",
       "text": [
        " \r",
        "[ ##                                                                             ] 3%"
       ]
      },
      {
       "output_type": "stream",
       "stream": "stdout",
       "text": [
        " \r",
        "[ ###                                                                            ] 4%"
       ]
      },
      {
       "output_type": "stream",
       "stream": "stdout",
       "text": [
        " \r",
        "[ ###                                                                            ] 4%"
       ]
      },
      {
       "output_type": "stream",
       "stream": "stdout",
       "text": [
        " \r",
        "[ ###                                                                            ] 5%"
       ]
      },
      {
       "output_type": "stream",
       "stream": "stdout",
       "text": [
        " \r",
        "[ ###                                                                            ] 5%"
       ]
      },
      {
       "output_type": "stream",
       "stream": "stdout",
       "text": [
        " \r",
        "[ ####                                                                           ] 6%"
       ]
      },
      {
       "output_type": "stream",
       "stream": "stdout",
       "text": [
        " \r",
        "[ ####                                                                           ] 6%"
       ]
      },
      {
       "output_type": "stream",
       "stream": "stdout",
       "text": [
        " \r",
        "[ #####                                                                          ] 7%"
       ]
      },
      {
       "output_type": "stream",
       "stream": "stdout",
       "text": [
        " \r",
        "[ #####                                                                          ] 7%"
       ]
      },
      {
       "output_type": "stream",
       "stream": "stdout",
       "text": [
        " \r",
        "[ ######                                                                         ] 8%"
       ]
      },
      {
       "output_type": "stream",
       "stream": "stdout",
       "text": [
        " \r",
        "[ ######                                                                         ] 8%"
       ]
      },
      {
       "output_type": "stream",
       "stream": "stdout",
       "text": [
        " \r",
        "[ #######                                                                        ] 9%"
       ]
      },
      {
       "output_type": "stream",
       "stream": "stdout",
       "text": [
        " \r",
        "[ #######                                                                        ] 9%"
       ]
      },
      {
       "output_type": "stream",
       "stream": "stdout",
       "text": [
        " \r",
        "[ #######                                                                        ] 10%"
       ]
      },
      {
       "output_type": "stream",
       "stream": "stdout",
       "text": [
        " \r",
        "[ ########                                                                       ] 11%"
       ]
      },
      {
       "output_type": "stream",
       "stream": "stdout",
       "text": [
        " \r",
        "[ ########                                                                       ] 11%"
       ]
      },
      {
       "output_type": "stream",
       "stream": "stdout",
       "text": [
        " \r",
        "[ #########                                                                      ] 12%"
       ]
      },
      {
       "output_type": "stream",
       "stream": "stdout",
       "text": [
        " \r",
        "[ #########                                                                      ] 12%"
       ]
      },
      {
       "output_type": "stream",
       "stream": "stdout",
       "text": [
        " \r",
        "[ ##########                                                                     ] 13%"
       ]
      },
      {
       "output_type": "stream",
       "stream": "stdout",
       "text": [
        " \r",
        "[ ##########                                                                     ] 13%"
       ]
      },
      {
       "output_type": "stream",
       "stream": "stdout",
       "text": [
        " \r",
        "[ ##########                                                                     ] 14%"
       ]
      },
      {
       "output_type": "stream",
       "stream": "stdout",
       "text": [
        " \r",
        "[ ##########                                                                     ] 14%"
       ]
      },
      {
       "output_type": "stream",
       "stream": "stdout",
       "text": [
        " \r",
        "[ ###########                                                                    ] 15%"
       ]
      },
      {
       "output_type": "stream",
       "stream": "stdout",
       "text": [
        " \r",
        "[ ###########                                                                    ] 15%"
       ]
      },
      {
       "output_type": "stream",
       "stream": "stdout",
       "text": [
        " \r",
        "[ ############                                                                   ] 16%"
       ]
      },
      {
       "output_type": "stream",
       "stream": "stdout",
       "text": [
        " \r",
        "[ ############                                                                   ] 16%"
       ]
      },
      {
       "output_type": "stream",
       "stream": "stdout",
       "text": [
        " \r",
        "[ #############                                                                  ] 17%"
       ]
      },
      {
       "output_type": "stream",
       "stream": "stdout",
       "text": [
        " \r",
        "[ #############                                                                  ] 17%"
       ]
      },
      {
       "output_type": "stream",
       "stream": "stdout",
       "text": [
        " \r",
        "[ ##############                                                                 ] 18%"
       ]
      },
      {
       "output_type": "stream",
       "stream": "stdout",
       "text": [
        " \r",
        "[ ##############                                                                 ] 18%"
       ]
      },
      {
       "output_type": "stream",
       "stream": "stdout",
       "text": [
        " \r",
        "[ ##############                                                                 ] 19%"
       ]
      },
      {
       "output_type": "stream",
       "stream": "stdout",
       "text": [
        " \r",
        "[ ##############                                                                 ] 19%"
       ]
      },
      {
       "output_type": "stream",
       "stream": "stdout",
       "text": [
        " \r",
        "[ ###############                                                                ] 20%"
       ]
      },
      {
       "output_type": "stream",
       "stream": "stdout",
       "text": [
        " \r",
        "[ ################                                                               ] 21%"
       ]
      },
      {
       "output_type": "stream",
       "stream": "stdout",
       "text": [
        " \r",
        "[ ################                                                               ] 21%"
       ]
      },
      {
       "output_type": "stream",
       "stream": "stdout",
       "text": [
        " \r",
        "[ #################                                                              ] 22%"
       ]
      },
      {
       "output_type": "stream",
       "stream": "stdout",
       "text": [
        " \r",
        "[ #################                                                              ] 22%"
       ]
      },
      {
       "output_type": "stream",
       "stream": "stdout",
       "text": [
        " \r",
        "[ #################                                                              ] 23%"
       ]
      },
      {
       "output_type": "stream",
       "stream": "stdout",
       "text": [
        " \r",
        "[ #################                                                              ] 23%"
       ]
      },
      {
       "output_type": "stream",
       "stream": "stdout",
       "text": [
        " \r",
        "[ ##################                                                             ] 24%"
       ]
      },
      {
       "output_type": "stream",
       "stream": "stdout",
       "text": [
        " \r",
        "[ ##################                                                             ] 24%"
       ]
      },
      {
       "output_type": "stream",
       "stream": "stdout",
       "text": [
        " \r",
        "[ ###################                                                            ] 25%"
       ]
      },
      {
       "output_type": "stream",
       "stream": "stdout",
       "text": [
        " \r",
        "[ ###################                                                            ] 25%"
       ]
      },
      {
       "output_type": "stream",
       "stream": "stdout",
       "text": [
        " \r",
        "[ ####################                                                           ] 26%"
       ]
      },
      {
       "output_type": "stream",
       "stream": "stdout",
       "text": [
        " \r",
        "[ ####################                                                           ] 26%"
       ]
      },
      {
       "output_type": "stream",
       "stream": "stdout",
       "text": [
        " \r",
        "[ #####################                                                          ] 27%"
       ]
      },
      {
       "output_type": "stream",
       "stream": "stdout",
       "text": [
        " \r",
        "[ #####################                                                          ] 28%"
       ]
      },
      {
       "output_type": "stream",
       "stream": "stdout",
       "text": [
        " \r",
        "[ #####################                                                          ] 28%"
       ]
      },
      {
       "output_type": "stream",
       "stream": "stdout",
       "text": [
        " \r",
        "[ ######################                                                         ] 29%"
       ]
      },
      {
       "output_type": "stream",
       "stream": "stdout",
       "text": [
        " \r",
        "[ #######################                                                        ] 30%"
       ]
      },
      {
       "output_type": "stream",
       "stream": "stdout",
       "text": [
        " \r",
        "[ #######################                                                        ] 30%"
       ]
      },
      {
       "output_type": "stream",
       "stream": "stdout",
       "text": [
        " \r",
        "[ ########################                                                       ] 31%"
       ]
      },
      {
       "output_type": "stream",
       "stream": "stdout",
       "text": [
        " \r",
        "[ ########################                                                       ] 32%"
       ]
      },
      {
       "output_type": "stream",
       "stream": "stdout",
       "text": [
        " \r",
        "[ ########################                                                       ] 32%"
       ]
      },
      {
       "output_type": "stream",
       "stream": "stdout",
       "text": [
        " \r",
        "[ #########################                                                      ] 33%"
       ]
      },
      {
       "output_type": "stream",
       "stream": "stdout",
       "text": [
        " \r",
        "[ ##########################                                                     ] 34%"
       ]
      },
      {
       "output_type": "stream",
       "stream": "stdout",
       "text": [
        " \r",
        "[ ##########################                                                     ] 34%"
       ]
      },
      {
       "output_type": "stream",
       "stream": "stdout",
       "text": [
        " \r",
        "[ ###########################                                                    ] 35%"
       ]
      },
      {
       "output_type": "stream",
       "stream": "stdout",
       "text": [
        " \r",
        "[ ############################                                                   ] 36%"
       ]
      },
      {
       "output_type": "stream",
       "stream": "stdout",
       "text": [
        " \r",
        "[ ############################                                                   ] 36%"
       ]
      },
      {
       "output_type": "stream",
       "stream": "stdout",
       "text": [
        " \r",
        "[ ############################                                                   ] 37%"
       ]
      },
      {
       "output_type": "stream",
       "stream": "stdout",
       "text": [
        " \r",
        "[ ############################                                                   ] 37%"
       ]
      },
      {
       "output_type": "stream",
       "stream": "stdout",
       "text": [
        " \r",
        "[ #############################                                                  ] 38%"
       ]
      },
      {
       "output_type": "stream",
       "stream": "stdout",
       "text": [
        " \r",
        "[ ##############################                                                 ] 39%"
       ]
      },
      {
       "output_type": "stream",
       "stream": "stdout",
       "text": [
        " \r",
        "[ ###############################                                                ] 40%"
       ]
      },
      {
       "output_type": "stream",
       "stream": "stdout",
       "text": [
        " \r",
        "[ ###############################                                                ] 40%"
       ]
      },
      {
       "output_type": "stream",
       "stream": "stdout",
       "text": [
        " \r",
        "[ ###############################                                                ] 41%"
       ]
      },
      {
       "output_type": "stream",
       "stream": "stdout",
       "text": [
        " \r",
        "[ ################################                                               ] 42%"
       ]
      },
      {
       "output_type": "stream",
       "stream": "stdout",
       "text": [
        " \r",
        "[ ################################                                               ] 42%"
       ]
      },
      {
       "output_type": "stream",
       "stream": "stdout",
       "text": [
        " \r",
        "[ #################################                                              ] 43%"
       ]
      },
      {
       "output_type": "stream",
       "stream": "stdout",
       "text": [
        " \r",
        "[ ##################################                                             ] 44%"
       ]
      },
      {
       "output_type": "stream",
       "stream": "stdout",
       "text": [
        " \r",
        "[ ##################################                                             ] 44%"
       ]
      },
      {
       "output_type": "stream",
       "stream": "stdout",
       "text": [
        " \r",
        "[ ###################################                                            ] 45%"
       ]
      },
      {
       "output_type": "stream",
       "stream": "stdout",
       "text": [
        " \r",
        "[ ###################################                                            ] 46%"
       ]
      },
      {
       "output_type": "stream",
       "stream": "stdout",
       "text": [
        " \r",
        "[ ###################################                                            ] 46%"
       ]
      },
      {
       "output_type": "stream",
       "stream": "stdout",
       "text": [
        " \r",
        "[ ####################################                                           ] 47%"
       ]
      },
      {
       "output_type": "stream",
       "stream": "stdout",
       "text": [
        " \r",
        "[ #####################################                                          ] 48%"
       ]
      },
      {
       "output_type": "stream",
       "stream": "stdout",
       "text": [
        " \r",
        "[ #####################################                                          ] 48%"
       ]
      },
      {
       "output_type": "stream",
       "stream": "stdout",
       "text": [
        " \r",
        "[ ######################################                                         ] 49%"
       ]
      },
      {
       "output_type": "stream",
       "stream": "stdout",
       "text": [
        " \r",
        "[ #######################################                                        ] 50%"
       ]
      },
      {
       "output_type": "stream",
       "stream": "stdout",
       "text": [
        " \r",
        "[ #######################################                                        ] 50%"
       ]
      },
      {
       "output_type": "stream",
       "stream": "stdout",
       "text": [
        " \r",
        "[ #######################################                                        ] 51%"
       ]
      },
      {
       "output_type": "stream",
       "stream": "stdout",
       "text": [
        " \r",
        "[ ########################################                                       ] 52%"
       ]
      },
      {
       "output_type": "stream",
       "stream": "stdout",
       "text": [
        " \r",
        "[ #########################################                                      ] 53%"
       ]
      },
      {
       "output_type": "stream",
       "stream": "stdout",
       "text": [
        " \r",
        "[ #########################################                                      ] 53%"
       ]
      },
      {
       "output_type": "stream",
       "stream": "stdout",
       "text": [
        " \r",
        "[ ##########################################                                     ] 54%"
       ]
      },
      {
       "output_type": "stream",
       "stream": "stdout",
       "text": [
        " \r",
        "[ ##########################################                                     ] 54%"
       ]
      },
      {
       "output_type": "stream",
       "stream": "stdout",
       "text": [
        " \r",
        "[ ##########################################                                     ] 55%"
       ]
      },
      {
       "output_type": "stream",
       "stream": "stdout",
       "text": [
        " \r",
        "[ ###########################################                                    ] 56%"
       ]
      },
      {
       "output_type": "stream",
       "stream": "stdout",
       "text": [
        " \r",
        "[ ###########################################                                    ] 56%"
       ]
      },
      {
       "output_type": "stream",
       "stream": "stdout",
       "text": [
        " \r",
        "[ ############################################                                   ] 57%"
       ]
      },
      {
       "output_type": "stream",
       "stream": "stdout",
       "text": [
        " \r",
        "[ #############################################                                  ] 58%"
       ]
      },
      {
       "output_type": "stream",
       "stream": "stdout",
       "text": [
        " \r",
        "[ #############################################                                  ] 58%"
       ]
      },
      {
       "output_type": "stream",
       "stream": "stdout",
       "text": [
        " \r",
        "[ ##############################################                                 ] 59%"
       ]
      },
      {
       "output_type": "stream",
       "stream": "stdout",
       "text": [
        " \r",
        "[ ##############################################                                 ] 60%"
       ]
      },
      {
       "output_type": "stream",
       "stream": "stdout",
       "text": [
        " \r",
        "[ ##############################################                                 ] 60%"
       ]
      },
      {
       "output_type": "stream",
       "stream": "stdout",
       "text": [
        " \r",
        "[ ###############################################                                ] 61%"
       ]
      },
      {
       "output_type": "stream",
       "stream": "stdout",
       "text": [
        " \r",
        "[ ################################################                               ] 62%"
       ]
      },
      {
       "output_type": "stream",
       "stream": "stdout",
       "text": [
        " \r",
        "[ ################################################                               ] 62%"
       ]
      },
      {
       "output_type": "stream",
       "stream": "stdout",
       "text": [
        " \r",
        "[ #################################################                              ] 63%"
       ]
      },
      {
       "output_type": "stream",
       "stream": "stdout",
       "text": [
        " \r",
        "[ #################################################                              ] 64%"
       ]
      },
      {
       "output_type": "stream",
       "stream": "stdout",
       "text": [
        " \r",
        "[ #################################################                              ] 64%"
       ]
      },
      {
       "output_type": "stream",
       "stream": "stdout",
       "text": [
        " \r",
        "[ ##################################################                             ] 65%"
       ]
      },
      {
       "output_type": "stream",
       "stream": "stdout",
       "text": [
        " \r",
        "[ ###################################################                            ] 66%"
       ]
      },
      {
       "output_type": "stream",
       "stream": "stdout",
       "text": [
        " \r",
        "[ ###################################################                            ] 66%"
       ]
      },
      {
       "output_type": "stream",
       "stream": "stdout",
       "text": [
        " \r",
        "[ ####################################################                           ] 67%"
       ]
      },
      {
       "output_type": "stream",
       "stream": "stdout",
       "text": [
        " \r",
        "[ #####################################################                          ] 68%"
       ]
      },
      {
       "output_type": "stream",
       "stream": "stdout",
       "text": [
        " \r",
        "[ #####################################################                          ] 68%"
       ]
      },
      {
       "output_type": "stream",
       "stream": "stdout",
       "text": [
        " \r",
        "[ #####################################################                          ] 69%"
       ]
      },
      {
       "output_type": "stream",
       "stream": "stdout",
       "text": [
        " \r",
        "[ ######################################################                         ] 70%"
       ]
      },
      {
       "output_type": "stream",
       "stream": "stdout",
       "text": [
        " \r",
        "[ ######################################################                         ] 70%"
       ]
      },
      {
       "output_type": "stream",
       "stream": "stdout",
       "text": [
        " \r",
        "[ #######################################################                        ] 71%"
       ]
      },
      {
       "output_type": "stream",
       "stream": "stdout",
       "text": [
        " \r",
        "[ ########################################################                       ] 72%"
       ]
      },
      {
       "output_type": "stream",
       "stream": "stdout",
       "text": [
        " \r",
        "[ ########################################################                       ] 72%"
       ]
      },
      {
       "output_type": "stream",
       "stream": "stdout",
       "text": [
        " \r",
        "[ ########################################################                       ] 73%"
       ]
      },
      {
       "output_type": "stream",
       "stream": "stdout",
       "text": [
        " \r",
        "[ #########################################################                      ] 74%"
       ]
      },
      {
       "output_type": "stream",
       "stream": "stdout",
       "text": [
        " \r",
        "[ #########################################################                      ] 74%"
       ]
      },
      {
       "output_type": "stream",
       "stream": "stdout",
       "text": [
        " \r",
        "[ ##########################################################                     ] 75%"
       ]
      },
      {
       "output_type": "stream",
       "stream": "stdout",
       "text": [
        " \r",
        "[ ###########################################################                    ] 76%"
       ]
      },
      {
       "output_type": "stream",
       "stream": "stdout",
       "text": [
        " \r",
        "[ ###########################################################                    ] 76%"
       ]
      },
      {
       "output_type": "stream",
       "stream": "stdout",
       "text": [
        " \r",
        "[ ############################################################                   ] 77%"
       ]
      },
      {
       "output_type": "stream",
       "stream": "stdout",
       "text": [
        " \r",
        "[ ############################################################                   ] 78%"
       ]
      },
      {
       "output_type": "stream",
       "stream": "stdout",
       "text": [
        " \r",
        "[ ############################################################                   ] 78%"
       ]
      },
      {
       "output_type": "stream",
       "stream": "stdout",
       "text": [
        " \r",
        "[ #############################################################                  ] 79%"
       ]
      },
      {
       "output_type": "stream",
       "stream": "stdout",
       "text": [
        " \r",
        "[ ##############################################################                 ] 80%"
       ]
      },
      {
       "output_type": "stream",
       "stream": "stdout",
       "text": [
        " \r",
        "[ ##############################################################                 ] 80%"
       ]
      },
      {
       "output_type": "stream",
       "stream": "stdout",
       "text": [
        " \r",
        "[ ###############################################################                ] 81%"
       ]
      },
      {
       "output_type": "stream",
       "stream": "stdout",
       "text": [
        " \r",
        "[ ###############################################################                ] 82%"
       ]
      },
      {
       "output_type": "stream",
       "stream": "stdout",
       "text": [
        " \r",
        "[ ###############################################################                ] 82%"
       ]
      },
      {
       "output_type": "stream",
       "stream": "stdout",
       "text": [
        " \r",
        "[ ################################################################               ] 83%"
       ]
      },
      {
       "output_type": "stream",
       "stream": "stdout",
       "text": [
        " \r",
        "[ #################################################################              ] 84%"
       ]
      },
      {
       "output_type": "stream",
       "stream": "stdout",
       "text": [
        " \r",
        "[ #################################################################              ] 84%"
       ]
      },
      {
       "output_type": "stream",
       "stream": "stdout",
       "text": [
        " \r",
        "[ ##################################################################             ] 85%"
       ]
      },
      {
       "output_type": "stream",
       "stream": "stdout",
       "text": [
        " \r",
        "[ ###################################################################            ] 86%"
       ]
      },
      {
       "output_type": "stream",
       "stream": "stdout",
       "text": [
        " \r",
        "[ ###################################################################            ] 86%"
       ]
      },
      {
       "output_type": "stream",
       "stream": "stdout",
       "text": [
        " \r",
        "[ ###################################################################            ] 87%"
       ]
      },
      {
       "output_type": "stream",
       "stream": "stdout",
       "text": [
        " \r",
        "[ ####################################################################           ] 88%"
       ]
      },
      {
       "output_type": "stream",
       "stream": "stdout",
       "text": [
        " \r",
        "[ ####################################################################           ] 88%"
       ]
      },
      {
       "output_type": "stream",
       "stream": "stdout",
       "text": [
        " \r",
        "[ #####################################################################          ] 89%"
       ]
      },
      {
       "output_type": "stream",
       "stream": "stdout",
       "text": [
        " \r",
        "[ ######################################################################         ] 90%"
       ]
      },
      {
       "output_type": "stream",
       "stream": "stdout",
       "text": [
        " \r",
        "[ ######################################################################         ] 90%"
       ]
      },
      {
       "output_type": "stream",
       "stream": "stdout",
       "text": [
        " \r",
        "[ ######################################################################         ] 91%"
       ]
      },
      {
       "output_type": "stream",
       "stream": "stdout",
       "text": [
        " \r",
        "[ #######################################################################        ] 92%"
       ]
      },
      {
       "output_type": "stream",
       "stream": "stdout",
       "text": [
        " \r",
        "[ #######################################################################        ] 92%"
       ]
      },
      {
       "output_type": "stream",
       "stream": "stdout",
       "text": [
        " \r",
        "[ ########################################################################       ] 93%"
       ]
      },
      {
       "output_type": "stream",
       "stream": "stdout",
       "text": [
        " \r",
        "[ #########################################################################      ] 94%"
       ]
      },
      {
       "output_type": "stream",
       "stream": "stdout",
       "text": [
        " \r",
        "[ ##########################################################################     ] 95%"
       ]
      },
      {
       "output_type": "stream",
       "stream": "stdout",
       "text": [
        " \r",
        "[ ##########################################################################     ] 95%"
       ]
      },
      {
       "output_type": "stream",
       "stream": "stdout",
       "text": [
        " \r",
        "[ ##########################################################################     ] 96%"
       ]
      },
      {
       "output_type": "stream",
       "stream": "stdout",
       "text": [
        " \r",
        "[ ###########################################################################    ] 97%"
       ]
      },
      {
       "output_type": "stream",
       "stream": "stdout",
       "text": [
        " \r",
        "[ ###########################################################################    ] 97%"
       ]
      },
      {
       "output_type": "stream",
       "stream": "stdout",
       "text": [
        " \r",
        "[ ############################################################################   ] 98%"
       ]
      },
      {
       "output_type": "stream",
       "stream": "stdout",
       "text": [
        " \r",
        "[ #############################################################################  ] 99%"
       ]
      },
      {
       "output_type": "stream",
       "stream": "stdout",
       "text": [
        " \r",
        "[ #############################################################################  ] 99%"
       ]
      },
      {
       "output_type": "stream",
       "stream": "stdout",
       "text": [
        " \r",
        "[ ############################################################################## ] 100%"
       ]
      },
      {
       "output_type": "stream",
       "stream": "stdout",
       "text": [
        " \r",
        "[ ############################################################################## ] 100%"
       ]
      },
      {
       "output_type": "stream",
       "stream": "stdout",
       "text": [
        " \r",
        "[ ############################################################################## ] 100% \r\n",
        "# PyPAW.Selectors/ds_1000   INFO    Events Processed/Total/Skept 80061/14367852/70457\n",
        "CUTS: \" DTFchi2ndof > 0&& DTFchi2ndof < 5&& DTFctau > 0.25&& pt_b > 4.&& pt_pion[0] > 0.3 && pt_pion[1] > 0.3&& pt_kaon > 0.7&& m_jpsi    > 3.020 && m_jpsi    < 3.135&& minann_K  > 0.3 && minann_pi > 0.3&& ((psi_l0tos & 2) == 2)&& ((psi_l1tos & 2) == 2)&& ((psi_l2tos & 2) == 2)&& MIPCHI2DV_k > 16. && MIPCHI2DV_pi1 > 16. && MIPCHI2DV_pi2 > 16.\"\n"
       ]
      }
     ],
     "prompt_number": 3
    },
    {
     "cell_type": "markdown",
     "metadata": {},
     "source": [
      "Fit model \u2014 CB2 + exponent:"
     ]
    },
    {
     "cell_type": "code",
     "collapsed": false,
     "input": [
      "s1_Bu = Models.CB2_pdf(\n",
      "    'Bu1',\n",
      "    m_Bu.getMin(),\n",
      "    m_Bu.getMax(),\n",
      "    fixMass=5.2792e+0,\n",
      "    fixSigma=0.008499e+0,\n",
      "    fixAlphaL=1.89,\n",
      "    fixAlphaR=1.94,\n",
      "    fixNL=0.8,\n",
      "    fixNR=2.4,\n",
      "    mass=m_Bu\n",
      ")\n",
      "\n",
      "model_Bu = Models.Fit1D(\n",
      "    signal=s1_Bu,\n",
      "    background=Models.Bkg_pdf('BBu', mass=m_Bu), suffix='Bu'\n",
      ")"
     ],
     "language": "python",
     "metadata": {},
     "outputs": [],
     "prompt_number": 4
    },
    {
     "cell_type": "markdown",
     "metadata": {},
     "source": [
      "Fit and display images:"
     ]
    },
    {
     "cell_type": "code",
     "collapsed": false,
     "input": [
      "from ostap import rootnotes"
     ],
     "language": "python",
     "metadata": {},
     "outputs": [],
     "prompt_number": 5
    },
    {
     "cell_type": "code",
     "collapsed": false,
     "input": [
      "\n",
      "model_Bu.s.setMax(1.2 * len(ds_Bu))\n",
      "ru, fu = model_Bu.fitTo(ds_Bu, draw=True, nbins=nbin_Bu)\n",
      "\n",
      "model_Bu.signal.sigma.release()\n",
      "model_Bu.signal.mean.release()\n",
      "\n",
      "ru, fu = model_Bu.fitTo(ds_Bu, draw=True, nbins=nbin_Bu)\n",
      "\n",
      "model_Bu.signal.aL.release()\n",
      "model_Bu.signal.aR.release()\n",
      "ru, fu = model_Bu.fitTo(ds_Bu, draw=True, nbins=nbin_Bu)\n",
      "\n",
      "model_Bu.signal.nL.release()\n",
      "model_Bu.signal.nR.release()\n",
      "ru, fu = model_Bu.fitTo(ds_Bu, draw=True, nbins=nbin_Bu)"
     ],
     "language": "python",
     "metadata": {},
     "outputs": [],
     "prompt_number": 14
    },
    {
     "cell_type": "code",
     "collapsed": false,
     "input": [
      "c1 = rootnotes.random_canvas()\n",
      "\n",
      "fu.SetXTitle('Inv. mass(J/\\psi\\,K\\pi\\pi), GeV/c^2')\n",
      "fu.SetYTitle(\"Events / %.1f MeV/c^{2}\" % binning_b)\n",
      "\n",
      "fu.Draw()\n",
      "c1"
     ],
     "language": "python",
     "metadata": {},
     "outputs": [
      {
       "metadata": {},
       "output_type": "pyout",
       "png": "[encoded data removed]",
       "prompt_number": 15,
       "text": [
        "<ROOT.TCanvas object (\"43a56c1d-c71c-4a4a-a931-adad0a17307d\") at 0xa9e6dd0>"
       ]
      }
     ],
     "prompt_number": 15
    },
    {
     "cell_type": "code",
     "collapsed": false,
     "input": [
      "from IPython.display import HTML\n",
      "s = \"<table>\"\n",
      "\n",
      "\n",
      "for name, val in ru.parameters().items():\n",
      "    s += \"<tr><th>{}</th> <th>{}</th></tr>\".format(name, val[0])\n",
      "\n",
      "s += \"</table>\"\n",
      "html = HTML(s); html"
     ],
     "language": "python",
     "metadata": {},
     "outputs": [
      {
       "html": [
        "<table><tr><th>aR_Bu1</th> <th>( 1.66834 +- 0.119408 )</th></tr><tr><th>SBu</th> <th>( 9350.1 +- 101.13 )</th></tr><tr><th>aL_Bu1</th> <th>( 1.68311 +- 0.0863947 )</th></tr><tr><th>sigma_Bu1</th> <th>( 0.00759442 +- 0.000120328 )</th></tr><tr><th>nR_Bu1</th> <th>( 5.12513 +- 2.16187 )</th></tr><tr><th>nL_Bu1</th> <th>( 1.90977 +- 0.527839 )</th></tr><tr><th>BBu</th> <th>( 253.91 +- 33.6191 )</th></tr><tr><th>tau_BBu</th> <th>( -4.74064 +- 1.2005 )</th></tr><tr><th>mean_Bu1</th> <th>( 5.28073 +- 0.000102084 )</th></tr></table>"
       ],
       "metadata": {},
       "output_type": "pyout",
       "prompt_number": 17,
       "text": [
        "<IPython.core.display.HTML at 0x9696b50>"
       ]
      }
     ],
     "prompt_number": 17
    },
    {
     "cell_type": "markdown",
     "metadata": {},
     "source": [
      "\u0414\u0435\u043b\u0430\u0435\u043c sPlot:"
     ]
    },
    {
     "cell_type": "code",
     "collapsed": false,
     "input": [
      "model_Bu.sPlot(ds_Bu)"
     ],
     "language": "python",
     "metadata": {},
     "outputs": [
      {
       "metadata": {},
       "output_type": "pyout",
       "prompt_number": 16,
       "text": [
        "<ROOT.RooStats::SPlot object (\"sPlot_1000\") at 0xa9e55b0>"
       ]
      }
     ],
     "prompt_number": 16
    },
    {
     "cell_type": "markdown",
     "metadata": {},
     "source": [
      "\u0421\u043e\u0437\u0434\u0430\u0451\u043c \u0433\u0438\u0441\u0442\u043e\u0433\u0440\u0430\u043c\u043c\u0443 \u0438 \u043f\u0440\u043e\u0435\u0446\u0438\u0440\u0443\u0435\u043c \u043d\u0430 \u043d\u0435\u0451 \u043c\u0430\u0441\u0441\u0443 \u0441\u0438\u0441\u0442\u0435\u043c\u044b $J/\\psi \\pi\\pi$"
     ]
    },
    {
     "cell_type": "code",
     "collapsed": false,
     "input": [
      "h = ROOT.TH1F(\"h_R\", \"\", 75, 3.6, 3.92)\n",
      "h.SetMinimum(0.0)\n",
      "h.Sumw2()\n",
      "\n",
      "\n",
      "# for j in xrange(0, h.GetNbinsX()):\n",
      "#     h.SetBinContent(j, 0.0)\n",
      "#     h.SetBinError(j, 0.0)\n",
      "\n",
      "ds_Bu.project(h, \"m_R\", \"SBu_sw\")\n",
      "h.Sumw2()"
     ],
     "language": "python",
     "metadata": {},
     "outputs": [],
     "prompt_number": 18
    },
    {
     "cell_type": "markdown",
     "metadata": {},
     "source": [
      "\u041c\u043e\u0434\u0435\u043b\u044c \u0434\u043b\u044f \u0444\u0438\u0442\u0438\u0440\u043e\u0432\u0430\u043d\u0438\u044f \u0440\u0435\u0437\u043e\u043d\u0430\u043d\u0441\u043e\u0432"
     ]
    },
    {
     "cell_type": "code",
     "collapsed": false,
     "input": [
      "s1_Psi = Models.CB2_pdf(\n",
      "    'psi2s',\n",
      "    m_R.getMin(),\n",
      "    m_R.getMax(),\n",
      "    fixMass=3.686,\n",
      "    fixSigma=0.002201,\n",
      "    fixAlphaL=1.896,\n",
      "    fixAlphaR=1.584,\n",
      "    fixNL=0.912,\n",
      "    fixNR=8.8,\n",
      "    mass=m_R\n",
      ")\n",
      "\n",
      "bkg_psi = Models.PSNL_pdf(\"bkg\", m_R, 3, 4, 3.37606, 3.86973)\n",
      "model_Resonant = Models.Fit1D(\n",
      "    signal=s1_Psi,\n",
      "#     background=Models.Bkg_pdf('BRes', mass=m_R, power=1),\n",
      "    background=bkg_psi,\n",
      "    suffix='Res'\n",
      ")"
     ],
     "language": "python",
     "metadata": {},
     "outputs": [],
     "prompt_number": 31
    },
    {
     "cell_type": "markdown",
     "metadata": {},
     "source": [
      "\u0424\u0438\u0442\u0438\u0440\u0443\u0435\u043c \u0440\u0435\u0437\u043e\u043d\u0430\u043d\u0441\u044b:"
     ]
    },
    {
     "cell_type": "code",
     "collapsed": false,
     "input": [
      "r, f = model_Resonant.fitHisto(h, draw=True)\n",
      "model_Resonant.signal.mean.release()\n",
      "model_Resonant.signal.sigma.release()\n",
      "r, f = model_Resonant.fitHisto(h, draw=True)\n"
     ],
     "language": "python",
     "metadata": {},
     "outputs": [],
     "prompt_number": 32
    },
    {
     "cell_type": "code",
     "collapsed": false,
     "input": [
      "from IPython.display import HTML\n",
      "s = \"<table>\"\n",
      "\n",
      "\n",
      "for name, val in r.parameters().items():\n",
      "    s += \"<tr><th>{}</th> <th>{}</th></tr>\".format(name, val[0])\n",
      "\n",
      "s += \"</table>\"\n",
      "html = HTML(s); html"
     ],
     "language": "python",
     "metadata": {},
     "outputs": [
      {
       "html": [
        "<table><tr><th>mean_psi2s</th> <th>( 3.68639 +- 3.39752e-05 )</th></tr><tr><th>tau_BRes</th> <th>( -5.35197 +- 25.4711 )</th></tr><tr><th>phi1_BRes</th> <th>( 0.785428 +- 1.10307 )</th></tr><tr><th>sigma_psi2s</th> <th>( 0.00273233 +- 5.54875e-05 )</th></tr><tr><th>SRes</th> <th>( 9002.6 +- 151.949 )</th></tr><tr><th>BRes</th> <th>( 347.579 +- 120.643 )</th></tr></table>"
       ],
       "metadata": {},
       "output_type": "pyout",
       "prompt_number": 30,
       "text": [
        "<IPython.core.display.HTML at 0x9696710>"
       ]
      }
     ],
     "prompt_number": 30
    },
    {
     "cell_type": "code",
     "collapsed": false,
     "input": [
      "c2 = rootnotes.random_canvas()\n",
      "f.SetXTitle(\"Inv.\\, mass(J/\\psi \\pi \\pi), GeV/c^{2}\")\n",
      "f.Draw()\n",
      "f.SetAxisRange(1, 5500, 'Y')\n",
      "\n",
      "c2.SetLogy()\n",
      "c2"
     ],
     "language": "python",
     "metadata": {},
     "outputs": [
      {
       "metadata": {},
       "output_type": "pyout",
       "png": "[encoded data removed]",
       "prompt_number": 33,
       "text": [
        "<ROOT.TCanvas object (\"a28c321d-6e56-4e20-bdaf-9794edcbc996\") at 0xb1d0d90>"
       ]
      }
     ],
     "prompt_number": 33
    }
   ],
   "metadata": {}
  }
 ]
}