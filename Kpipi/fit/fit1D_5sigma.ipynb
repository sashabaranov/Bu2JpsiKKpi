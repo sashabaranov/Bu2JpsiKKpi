{
 "metadata": {
  "name": "",
  "signature": "sha256:81315ed516bd99e28a5b621b80dd434306437a0e42bbdbc2bc95e2c5ec58efd6"
 },
 "nbformat": 3,
 "nbformat_minor": 0,
 "worksheets": [
  {
   "cells": [
    {
     "cell_type": "heading",
     "level": 1,
     "metadata": {},
     "source": [
      "sPlot-fitting of $\\psi(2S)$ resonanse in $B_u \\to J/\\psi K \\pi\\pi$ - 5$\\sigma$ interval on $\\psi(2S)$ mass"
     ]
    },
    {
     "cell_type": "markdown",
     "metadata": {},
     "source": [
      "Import basic things:"
     ]
    },
    {
     "cell_type": "code",
     "collapsed": false,
     "input": [
      "import ROOT, random\n",
      "from   Ostap import *\n",
      "from   Ostap.PyRoUts import *\n",
      "import Ostap.FitModels as Models\n",
      "\n",
      "from ostap import *\n",
      "from mc_average import *"
     ],
     "language": "python",
     "metadata": {},
     "outputs": [
      {
       "output_type": "stream",
       "stream": "stdout",
       "text": [
        "importing IPython notebook from mc_average.ipynb\n",
        "importing IPython notebook from fit_mc_pythia6.ipynb\n",
        "# Ostap.ZipShelve           INFO    Open DB: /home/sashab1/.ostap/cache/e1c8ee543d3941a8ed845424a45ff121522d59ee4d89abd47f720aa567e20c623f6b50000e1a9323b58b70a730e89c041c650dc60c152729b7c1963e55bd9789.shelve\n"
       ]
      },
      {
       "output_type": "stream",
       "stream": "stdout",
       "text": [
        "importing IPython notebook from fit_mc_pythia8.ipynb\n",
        "# Ostap.ZipShelve           INFO    Open DB: /home/sashab1/.ostap/cache/ac93db826443c3a983193ccbdd4aadad8d281979b5300855e47940642294692c7c9017d94582a4bc3a5cdecd5c38adebad34343e8ee80f0eee988b3264a3cf88.shelve\n"
       ]
      },
      {
       "output_type": "stream",
       "stream": "stdout",
       "text": [
        "RooFitResult\n"
       ]
      }
     ],
     "prompt_number": 4
    },
    {
     "cell_type": "markdown",
     "metadata": {},
     "source": [
      "__Variables__"
     ]
    },
    {
     "cell_type": "code",
     "collapsed": false,
     "input": [
      "from variables import *\n",
      "\n",
      "# Resonanse\n",
      "m_R = ROOT.RooRealVar('m_R', '', 3.67, 3.70)\n",
      "nbin_R = 30\n",
      "binning_R = (m_R.getMax() - m_R.getMin()) / nbin_R * 1000\n",
      "\n",
      "selector_variables = [(m_Bu, lambda s: s.DTFm_b ), (m_R, lambda s: s.m134c2 )]"
     ],
     "language": "python",
     "metadata": {},
     "outputs": [],
     "prompt_number": 2
    },
    {
     "cell_type": "markdown",
     "metadata": {},
     "source": [
      "Project tuple to RooFits dataset:"
     ]
    },
    {
     "cell_type": "code",
     "collapsed": false,
     "input": [
      "from cuts import cuts_Bu, prntCuts\n",
      "from data import selection7\n",
      "\n",
      "from Ostap.Selectors import SelectorWithVarsCached\n",
      "\n",
      "sel_Bu = SelectorWithVarsCached(\n",
      "    variables=selector_variables,\n",
      "    selection=cuts_Bu,\n",
      "    files=selection7.files\n",
      ")\n",
      "\n",
      "if not sel_Bu._loaded_from_cache:\n",
      "    selection7.chain.process(sel_Bu)\n",
      "\n",
      "\n",
      "ds_Bu = sel_Bu.dataset()\n",
      "ds_Bu.Print('v')"
     ],
     "language": "python",
     "metadata": {},
     "outputs": [
      {
       "output_type": "stream",
       "stream": "stdout",
       "text": [
        "DEFINE default storage type to be TTree! \n",
        "# data                      INFO    Selection 7: <Luminosity: ( 3081.23 +- 61.9479 )pb-1; #files: 201; Entries: 14359922>\n"
       ]
      },
      {
       "output_type": "stream",
       "stream": "stdout",
       "text": [
        "# Ostap.Selectors/ds_1000   INFO    TChain entries: 14359922\n"
       ]
      },
      {
       "output_type": "stream",
       "stream": "stdout",
       "text": [
        "[                                                                                ] 0% \r",
        "[                                                                                ] 0%"
       ]
      },
      {
       "output_type": "stream",
       "stream": "stdout",
       "text": [
        " \r",
        "[                                                                                ] 1%"
       ]
      },
      {
       "output_type": "stream",
       "stream": "stdout",
       "text": [
        " \r",
        "[                                                                                ] 1%"
       ]
      },
      {
       "output_type": "stream",
       "stream": "stdout",
       "text": [
        " \r",
        "[ #                                                                              ] 2%"
       ]
      },
      {
       "output_type": "stream",
       "stream": "stdout",
       "text": [
        " \r",
        "[ #                                                                              ] 2%"
       ]
      },
      {
       "output_type": "stream",
       "stream": "stdout",
       "text": [
        " \r",
        "[ ##                                                                             ] 3%"
       ]
      },
      {
       "output_type": "stream",
       "stream": "stdout",
       "text": [
        " \r",
        "[ ##                                                                             ] 3%"
       ]
      },
      {
       "output_type": "stream",
       "stream": "stdout",
       "text": [
        " \r",
        "[ ###                                                                            ] 4%"
       ]
      },
      {
       "output_type": "stream",
       "stream": "stdout",
       "text": [
        " \r",
        "[ ###                                                                            ] 4%"
       ]
      },
      {
       "output_type": "stream",
       "stream": "stdout",
       "text": [
        " \r",
        "[ ###                                                                            ] 5%"
       ]
      },
      {
       "output_type": "stream",
       "stream": "stdout",
       "text": [
        " \r",
        "[ ###                                                                            ] 5%"
       ]
      },
      {
       "output_type": "stream",
       "stream": "stdout",
       "text": [
        " \r",
        "[ ###                                                                            ] 5%"
       ]
      },
      {
       "output_type": "stream",
       "stream": "stdout",
       "text": [
        " \r",
        "[ ####                                                                           ] 6%"
       ]
      },
      {
       "output_type": "stream",
       "stream": "stdout",
       "text": [
        " \r",
        "[ ####                                                                           ] 6%"
       ]
      },
      {
       "output_type": "stream",
       "stream": "stdout",
       "text": [
        " \r",
        "[ #####                                                                          ] 7%"
       ]
      },
      {
       "output_type": "stream",
       "stream": "stdout",
       "text": [
        " \r",
        "[ #####                                                                          ] 7%"
       ]
      },
      {
       "output_type": "stream",
       "stream": "stdout",
       "text": [
        " \r",
        "[ ######                                                                         ] 8%"
       ]
      },
      {
       "output_type": "stream",
       "stream": "stdout",
       "text": [
        " \r",
        "[ ######                                                                         ] 8%"
       ]
      },
      {
       "output_type": "stream",
       "stream": "stdout",
       "text": [
        " \r",
        "[ #######                                                                        ] 9%"
       ]
      },
      {
       "output_type": "stream",
       "stream": "stdout",
       "text": [
        " \r",
        "[ #######                                                                        ] 9%"
       ]
      },
      {
       "output_type": "stream",
       "stream": "stdout",
       "text": [
        " \r",
        "[ #######                                                                        ] 9%"
       ]
      },
      {
       "output_type": "stream",
       "stream": "stdout",
       "text": [
        " \r",
        "[ #######                                                                        ] 10%"
       ]
      },
      {
       "output_type": "stream",
       "stream": "stdout",
       "text": [
        " \r",
        "[ #######                                                                        ] 10%"
       ]
      },
      {
       "output_type": "stream",
       "stream": "stdout",
       "text": [
        " \r",
        "[ ########                                                                       ] 11%"
       ]
      },
      {
       "output_type": "stream",
       "stream": "stdout",
       "text": [
        " \r",
        "[ ########                                                                       ] 11%"
       ]
      },
      {
       "output_type": "stream",
       "stream": "stdout",
       "text": [
        " \r",
        "[ #########                                                                      ] 12%"
       ]
      },
      {
       "output_type": "stream",
       "stream": "stdout",
       "text": [
        " \r",
        "[ #########                                                                      ] 12%"
       ]
      },
      {
       "output_type": "stream",
       "stream": "stdout",
       "text": [
        " \r",
        "[ ##########                                                                     ] 13%"
       ]
      },
      {
       "output_type": "stream",
       "stream": "stdout",
       "text": [
        " \r",
        "[ ##########                                                                     ] 13%"
       ]
      },
      {
       "output_type": "stream",
       "stream": "stdout",
       "text": [
        " \r",
        "[ ##########                                                                     ] 14%"
       ]
      },
      {
       "output_type": "stream",
       "stream": "stdout",
       "text": [
        " \r",
        "[ ##########                                                                     ] 14%"
       ]
      },
      {
       "output_type": "stream",
       "stream": "stdout",
       "text": [
        " \r",
        "[ ##########                                                                     ] 14%"
       ]
      },
      {
       "output_type": "stream",
       "stream": "stdout",
       "text": [
        " \r",
        "[ ###########                                                                    ] 15%"
       ]
      },
      {
       "output_type": "stream",
       "stream": "stdout",
       "text": [
        " \r",
        "[ ###########                                                                    ] 15%"
       ]
      },
      {
       "output_type": "stream",
       "stream": "stdout",
       "text": [
        " \r",
        "[ ############                                                                   ] 16%"
       ]
      },
      {
       "output_type": "stream",
       "stream": "stdout",
       "text": [
        " \r",
        "[ ############                                                                   ] 16%"
       ]
      },
      {
       "output_type": "stream",
       "stream": "stdout",
       "text": [
        " \r",
        "[ #############                                                                  ] 17%"
       ]
      },
      {
       "output_type": "stream",
       "stream": "stdout",
       "text": [
        " \r",
        "[ #############                                                                  ] 17%"
       ]
      },
      {
       "output_type": "stream",
       "stream": "stdout",
       "text": [
        " \r",
        "[ #############                                                                  ] 17%"
       ]
      },
      {
       "output_type": "stream",
       "stream": "stdout",
       "text": [
        " \r",
        "[ ##############                                                                 ] 18%"
       ]
      },
      {
       "output_type": "stream",
       "stream": "stdout",
       "text": [
        " \r",
        "[ ##############                                                                 ] 18%"
       ]
      },
      {
       "output_type": "stream",
       "stream": "stdout",
       "text": [
        " \r",
        "[ ##############                                                                 ] 19%"
       ]
      },
      {
       "output_type": "stream",
       "stream": "stdout",
       "text": [
        " \r",
        "[ ##############                                                                 ] 19%"
       ]
      },
      {
       "output_type": "stream",
       "stream": "stdout",
       "text": [
        " \r",
        "[ ###############                                                                ] 20%"
       ]
      },
      {
       "output_type": "stream",
       "stream": "stdout",
       "text": [
        " \r",
        "[ ###############                                                                ] 20%"
       ]
      },
      {
       "output_type": "stream",
       "stream": "stdout",
       "text": [
        " \r",
        "[ ################                                                               ] 21%"
       ]
      },
      {
       "output_type": "stream",
       "stream": "stdout",
       "text": [
        " \r",
        "[ ################                                                               ] 21%"
       ]
      },
      {
       "output_type": "stream",
       "stream": "stdout",
       "text": [
        " \r",
        "[ ################                                                               ] 21%"
       ]
      },
      {
       "output_type": "stream",
       "stream": "stdout",
       "text": [
        " \r",
        "[ #################                                                              ] 22%"
       ]
      },
      {
       "output_type": "stream",
       "stream": "stdout",
       "text": [
        " \r",
        "[ #################                                                              ] 22%"
       ]
      },
      {
       "output_type": "stream",
       "stream": "stdout",
       "text": [
        " \r",
        "[ #################                                                              ] 23%"
       ]
      },
      {
       "output_type": "stream",
       "stream": "stdout",
       "text": [
        " \r",
        "[ #################                                                              ] 23%"
       ]
      },
      {
       "output_type": "stream",
       "stream": "stdout",
       "text": [
        " \r",
        "[ ##################                                                             ] 24%"
       ]
      },
      {
       "output_type": "stream",
       "stream": "stdout",
       "text": [
        " \r",
        "[ ##################                                                             ] 24%"
       ]
      },
      {
       "output_type": "stream",
       "stream": "stdout",
       "text": [
        " \r",
        "[ ##################                                                             ] 24%"
       ]
      },
      {
       "output_type": "stream",
       "stream": "stdout",
       "text": [
        " \r",
        "[ ###################                                                            ] 25%"
       ]
      },
      {
       "output_type": "stream",
       "stream": "stdout",
       "text": [
        " \r",
        "[ ###################                                                            ] 25%"
       ]
      },
      {
       "output_type": "stream",
       "stream": "stdout",
       "text": [
        " \r",
        "[ ####################                                                           ] 26%"
       ]
      },
      {
       "output_type": "stream",
       "stream": "stdout",
       "text": [
        " \r",
        "[ ####################                                                           ] 26%"
       ]
      },
      {
       "output_type": "stream",
       "stream": "stdout",
       "text": [
        " \r",
        "[ #####################                                                          ] 27%"
       ]
      },
      {
       "output_type": "stream",
       "stream": "stdout",
       "text": [
        " \r",
        "[ #####################                                                          ] 27%"
       ]
      },
      {
       "output_type": "stream",
       "stream": "stdout",
       "text": [
        " \r",
        "[ #####################                                                          ] 28%"
       ]
      },
      {
       "output_type": "stream",
       "stream": "stdout",
       "text": [
        " \r",
        "[ ######################                                                         ] 29%"
       ]
      },
      {
       "output_type": "stream",
       "stream": "stdout",
       "text": [
        " \r",
        "[ ######################                                                         ] 29%"
       ]
      },
      {
       "output_type": "stream",
       "stream": "stdout",
       "text": [
        " \r",
        "[ #######################                                                        ] 30%"
       ]
      },
      {
       "output_type": "stream",
       "stream": "stdout",
       "text": [
        " \r",
        "[ #######################                                                        ] 30%"
       ]
      },
      {
       "output_type": "stream",
       "stream": "stdout",
       "text": [
        " \r",
        "[ ########################                                                       ] 31%"
       ]
      },
      {
       "output_type": "stream",
       "stream": "stdout",
       "text": [
        " \r",
        "[ ########################                                                       ] 31%"
       ]
      },
      {
       "output_type": "stream",
       "stream": "stdout",
       "text": [
        " \r",
        "[ ########################                                                       ] 32%"
       ]
      },
      {
       "output_type": "stream",
       "stream": "stdout",
       "text": [
        " \r",
        "[ #########################                                                      ] 33%"
       ]
      },
      {
       "output_type": "stream",
       "stream": "stdout",
       "text": [
        " \r",
        "[ #########################                                                      ] 33%"
       ]
      },
      {
       "output_type": "stream",
       "stream": "stdout",
       "text": [
        " \r",
        "[ ##########################                                                     ] 34%"
       ]
      },
      {
       "output_type": "stream",
       "stream": "stdout",
       "text": [
        " \r",
        "[ ##########################                                                     ] 34%"
       ]
      },
      {
       "output_type": "stream",
       "stream": "stdout",
       "text": [
        " \r",
        "[ ###########################                                                    ] 35%"
       ]
      },
      {
       "output_type": "stream",
       "stream": "stdout",
       "text": [
        " \r",
        "[ ############################                                                   ] 36%"
       ]
      },
      {
       "output_type": "stream",
       "stream": "stdout",
       "text": [
        " \r",
        "[ ############################                                                   ] 36%"
       ]
      },
      {
       "output_type": "stream",
       "stream": "stdout",
       "text": [
        " \r",
        "[ ############################                                                   ] 37%"
       ]
      },
      {
       "output_type": "stream",
       "stream": "stdout",
       "text": [
        " \r",
        "[ ############################                                                   ] 37%"
       ]
      },
      {
       "output_type": "stream",
       "stream": "stdout",
       "text": [
        " \r",
        "[ #############################                                                  ] 38%"
       ]
      },
      {
       "output_type": "stream",
       "stream": "stdout",
       "text": [
        " \r",
        "[ ##############################                                                 ] 39%"
       ]
      },
      {
       "output_type": "stream",
       "stream": "stdout",
       "text": [
        " \r",
        "[ ##############################                                                 ] 39%"
       ]
      },
      {
       "output_type": "stream",
       "stream": "stdout",
       "text": [
        " \r",
        "[ ###############################                                                ] 40%"
       ]
      },
      {
       "output_type": "stream",
       "stream": "stdout",
       "text": [
        " \r",
        "[ ###############################                                                ] 40%"
       ]
      },
      {
       "output_type": "stream",
       "stream": "stdout",
       "text": [
        " \r",
        "[ ###############################                                                ] 41%"
       ]
      },
      {
       "output_type": "stream",
       "stream": "stdout",
       "text": [
        " \r",
        "[ ################################                                               ] 42%"
       ]
      },
      {
       "output_type": "stream",
       "stream": "stdout",
       "text": [
        " \r",
        "[ ################################                                               ] 42%"
       ]
      },
      {
       "output_type": "stream",
       "stream": "stdout",
       "text": [
        " \r",
        "[ #################################                                              ] 43%"
       ]
      },
      {
       "output_type": "stream",
       "stream": "stdout",
       "text": [
        " \r",
        "[ #################################                                              ] 43%"
       ]
      },
      {
       "output_type": "stream",
       "stream": "stdout",
       "text": [
        " \r",
        "[ ##################################                                             ] 44%"
       ]
      },
      {
       "output_type": "stream",
       "stream": "stdout",
       "text": [
        " \r",
        "[ ##################################                                             ] 44%"
       ]
      },
      {
       "output_type": "stream",
       "stream": "stdout",
       "text": [
        " \r",
        "[ ###################################                                            ] 45%"
       ]
      },
      {
       "output_type": "stream",
       "stream": "stdout",
       "text": [
        " \r",
        "[ ###################################                                            ] 46%"
       ]
      },
      {
       "output_type": "stream",
       "stream": "stdout",
       "text": [
        " \r",
        "[ ###################################                                            ] 46%"
       ]
      },
      {
       "output_type": "stream",
       "stream": "stdout",
       "text": [
        " \r",
        "[ ####################################                                           ] 47%"
       ]
      },
      {
       "output_type": "stream",
       "stream": "stdout",
       "text": [
        " \r",
        "[ #####################################                                          ] 48%"
       ]
      },
      {
       "output_type": "stream",
       "stream": "stdout",
       "text": [
        " \r",
        "[ #####################################                                          ] 48%"
       ]
      },
      {
       "output_type": "stream",
       "stream": "stdout",
       "text": [
        " \r",
        "[ ######################################                                         ] 49%"
       ]
      },
      {
       "output_type": "stream",
       "stream": "stdout",
       "text": [
        " \r",
        "[ ######################################                                         ] 49%"
       ]
      },
      {
       "output_type": "stream",
       "stream": "stdout",
       "text": [
        " \r",
        "[ #######################################                                        ] 50%"
       ]
      },
      {
       "output_type": "stream",
       "stream": "stdout",
       "text": [
        " \r",
        "[ #######################################                                        ] 50%"
       ]
      },
      {
       "output_type": "stream",
       "stream": "stdout",
       "text": [
        " \r",
        "[ #######################################                                        ] 51%"
       ]
      },
      {
       "output_type": "stream",
       "stream": "stdout",
       "text": [
        " \r",
        "[ ########################################                                       ] 52%"
       ]
      },
      {
       "output_type": "stream",
       "stream": "stdout",
       "text": [
        " \r",
        "[ ########################################                                       ] 52%"
       ]
      },
      {
       "output_type": "stream",
       "stream": "stdout",
       "text": [
        " \r",
        "[ #########################################                                      ] 53%"
       ]
      },
      {
       "output_type": "stream",
       "stream": "stdout",
       "text": [
        " \r",
        "[ #########################################                                      ] 53%"
       ]
      },
      {
       "output_type": "stream",
       "stream": "stdout",
       "text": [
        " \r",
        "[ ##########################################                                     ] 54%"
       ]
      },
      {
       "output_type": "stream",
       "stream": "stdout",
       "text": [
        " \r",
        "[ ##########################################                                     ] 55%"
       ]
      },
      {
       "output_type": "stream",
       "stream": "stdout",
       "text": [
        " \r",
        "[ ##########################################                                     ] 55%"
       ]
      },
      {
       "output_type": "stream",
       "stream": "stdout",
       "text": [
        " \r",
        "[ ###########################################                                    ] 56%"
       ]
      },
      {
       "output_type": "stream",
       "stream": "stdout",
       "text": [
        " \r",
        "[ ###########################################                                    ] 56%"
       ]
      },
      {
       "output_type": "stream",
       "stream": "stdout",
       "text": [
        " \r",
        "[ ############################################                                   ] 57%"
       ]
      },
      {
       "output_type": "stream",
       "stream": "stdout",
       "text": [
        " \r",
        "[ ############################################                                   ] 57%"
       ]
      },
      {
       "output_type": "stream",
       "stream": "stdout",
       "text": [
        " \r",
        "[ #############################################                                  ] 58%"
       ]
      },
      {
       "output_type": "stream",
       "stream": "stdout",
       "text": [
        " \r",
        "[ ##############################################                                 ] 59%"
       ]
      },
      {
       "output_type": "stream",
       "stream": "stdout",
       "text": [
        " \r",
        "[ ##############################################                                 ] 59%"
       ]
      },
      {
       "output_type": "stream",
       "stream": "stdout",
       "text": [
        " \r",
        "[ ##############################################                                 ] 60%"
       ]
      },
      {
       "output_type": "stream",
       "stream": "stdout",
       "text": [
        " \r",
        "[ ##############################################                                 ] 60%"
       ]
      },
      {
       "output_type": "stream",
       "stream": "stdout",
       "text": [
        " \r",
        "[ ###############################################                                ] 61%"
       ]
      },
      {
       "output_type": "stream",
       "stream": "stdout",
       "text": [
        " \r",
        "[ ################################################                               ] 62%"
       ]
      },
      {
       "output_type": "stream",
       "stream": "stdout",
       "text": [
        " \r",
        "[ ################################################                               ] 62%"
       ]
      },
      {
       "output_type": "stream",
       "stream": "stdout",
       "text": [
        " \r",
        "[ #################################################                              ] 63%"
       ]
      },
      {
       "output_type": "stream",
       "stream": "stdout",
       "text": [
        " \r",
        "[ #################################################                              ] 63%"
       ]
      },
      {
       "output_type": "stream",
       "stream": "stdout",
       "text": [
        " \r",
        "[ #################################################                              ] 64%"
       ]
      },
      {
       "output_type": "stream",
       "stream": "stdout",
       "text": [
        " \r",
        "[ ##################################################                             ] 65%"
       ]
      },
      {
       "output_type": "stream",
       "stream": "stdout",
       "text": [
        " \r",
        "[ ##################################################                             ] 65%"
       ]
      },
      {
       "output_type": "stream",
       "stream": "stdout",
       "text": [
        " \r",
        "[ ###################################################                            ] 66%"
       ]
      },
      {
       "output_type": "stream",
       "stream": "stdout",
       "text": [
        " \r",
        "[ ###################################################                            ] 66%"
       ]
      },
      {
       "output_type": "stream",
       "stream": "stdout",
       "text": [
        " \r",
        "[ ####################################################                           ] 67%"
       ]
      },
      {
       "output_type": "stream",
       "stream": "stdout",
       "text": [
        " \r",
        "[ ####################################################                           ] 67%"
       ]
      },
      {
       "output_type": "stream",
       "stream": "stdout",
       "text": [
        " \r",
        "[ #####################################################                          ] 68%"
       ]
      },
      {
       "output_type": "stream",
       "stream": "stdout",
       "text": [
        " \r",
        "[ #####################################################                          ] 69%"
       ]
      },
      {
       "output_type": "stream",
       "stream": "stdout",
       "text": [
        " \r",
        "[ #####################################################                          ] 69%"
       ]
      },
      {
       "output_type": "stream",
       "stream": "stdout",
       "text": [
        " \r",
        "[ ######################################################                         ] 70%"
       ]
      },
      {
       "output_type": "stream",
       "stream": "stdout",
       "text": [
        " \r",
        "[ ######################################################                         ] 70%"
       ]
      },
      {
       "output_type": "stream",
       "stream": "stdout",
       "text": [
        " \r",
        "[ #######################################################                        ] 71%"
       ]
      },
      {
       "output_type": "stream",
       "stream": "stdout",
       "text": [
        " \r",
        "[ #######################################################                        ] 71%"
       ]
      },
      {
       "output_type": "stream",
       "stream": "stdout",
       "text": [
        " \r",
        "[ ########################################################                       ] 72%"
       ]
      },
      {
       "output_type": "stream",
       "stream": "stdout",
       "text": [
        " \r",
        "[ ########################################################                       ] 73%"
       ]
      },
      {
       "output_type": "stream",
       "stream": "stdout",
       "text": [
        " \r",
        "[ ########################################################                       ] 73%"
       ]
      },
      {
       "output_type": "stream",
       "stream": "stdout",
       "text": [
        " \r",
        "[ #########################################################                      ] 74%"
       ]
      },
      {
       "output_type": "stream",
       "stream": "stdout",
       "text": [
        " \r",
        "[ #########################################################                      ] 74%"
       ]
      },
      {
       "output_type": "stream",
       "stream": "stdout",
       "text": [
        " \r",
        "[ ##########################################################                     ] 75%"
       ]
      },
      {
       "output_type": "stream",
       "stream": "stdout",
       "text": [
        " \r",
        "[ ##########################################################                     ] 75%"
       ]
      },
      {
       "output_type": "stream",
       "stream": "stdout",
       "text": [
        " \r",
        "[ ###########################################################                    ] 76%"
       ]
      },
      {
       "output_type": "stream",
       "stream": "stdout",
       "text": [
        " \r",
        "[ ############################################################                   ] 77%"
       ]
      },
      {
       "output_type": "stream",
       "stream": "stdout",
       "text": [
        " \r",
        "[ ############################################################                   ] 77%"
       ]
      },
      {
       "output_type": "stream",
       "stream": "stdout",
       "text": [
        " \r",
        "[ ############################################################                   ] 78%"
       ]
      },
      {
       "output_type": "stream",
       "stream": "stdout",
       "text": [
        " \r",
        "[ ############################################################                   ] 78%"
       ]
      },
      {
       "output_type": "stream",
       "stream": "stdout",
       "text": [
        " \r",
        "[ #############################################################                  ] 79%"
       ]
      },
      {
       "output_type": "stream",
       "stream": "stdout",
       "text": [
        " \r",
        "[ #############################################################                  ] 79%"
       ]
      },
      {
       "output_type": "stream",
       "stream": "stdout",
       "text": [
        " \r",
        "[ ##############################################################                 ] 80%"
       ]
      },
      {
       "output_type": "stream",
       "stream": "stdout",
       "text": [
        " \r",
        "[ ###############################################################                ] 81%"
       ]
      },
      {
       "output_type": "stream",
       "stream": "stdout",
       "text": [
        " \r",
        "[ ###############################################################                ] 81%"
       ]
      },
      {
       "output_type": "stream",
       "stream": "stdout",
       "text": [
        " \r",
        "[ ###############################################################                ] 82%"
       ]
      },
      {
       "output_type": "stream",
       "stream": "stdout",
       "text": [
        " \r",
        "[ ###############################################################                ] 82%"
       ]
      },
      {
       "output_type": "stream",
       "stream": "stdout",
       "text": [
        " \r",
        "[ ################################################################               ] 83%"
       ]
      },
      {
       "output_type": "stream",
       "stream": "stdout",
       "text": [
        " \r",
        "[ #################################################################              ] 84%"
       ]
      },
      {
       "output_type": "stream",
       "stream": "stdout",
       "text": [
        " \r",
        "[ #################################################################              ] 84%"
       ]
      },
      {
       "output_type": "stream",
       "stream": "stdout",
       "text": [
        " \r",
        "[ ##################################################################             ] 85%"
       ]
      },
      {
       "output_type": "stream",
       "stream": "stdout",
       "text": [
        " \r",
        "[ ##################################################################             ] 85%"
       ]
      },
      {
       "output_type": "stream",
       "stream": "stdout",
       "text": [
        " \r",
        "[ ###################################################################            ] 86%"
       ]
      },
      {
       "output_type": "stream",
       "stream": "stdout",
       "text": [
        " \r",
        "[ ###################################################################            ] 86%"
       ]
      },
      {
       "output_type": "stream",
       "stream": "stdout",
       "text": [
        " \r",
        "[ ###################################################################            ] 87%"
       ]
      },
      {
       "output_type": "stream",
       "stream": "stdout",
       "text": [
        " \r",
        "[ ####################################################################           ] 88%"
       ]
      },
      {
       "output_type": "stream",
       "stream": "stdout",
       "text": [
        " \r",
        "[ ####################################################################           ] 88%"
       ]
      },
      {
       "output_type": "stream",
       "stream": "stdout",
       "text": [
        " \r",
        "[ #####################################################################          ] 89%"
       ]
      },
      {
       "output_type": "stream",
       "stream": "stdout",
       "text": [
        " \r",
        "[ #####################################################################          ] 89%"
       ]
      },
      {
       "output_type": "stream",
       "stream": "stdout",
       "text": [
        " \r",
        "[ ######################################################################         ] 90%"
       ]
      },
      {
       "output_type": "stream",
       "stream": "stdout",
       "text": [
        " \r",
        "[ ######################################################################         ] 90%"
       ]
      },
      {
       "output_type": "stream",
       "stream": "stdout",
       "text": [
        " \r",
        "[ ######################################################################         ] 91%"
       ]
      },
      {
       "output_type": "stream",
       "stream": "stdout",
       "text": [
        " \r",
        "[ #######################################################################        ] 92%"
       ]
      },
      {
       "output_type": "stream",
       "stream": "stdout",
       "text": [
        " \r",
        "[ #######################################################################        ] 92%"
       ]
      },
      {
       "output_type": "stream",
       "stream": "stdout",
       "text": [
        " \r",
        "[ ########################################################################       ] 93%"
       ]
      },
      {
       "output_type": "stream",
       "stream": "stdout",
       "text": [
        " \r",
        "[ #########################################################################      ] 94%"
       ]
      },
      {
       "output_type": "stream",
       "stream": "stdout",
       "text": [
        " \r",
        "[ #########################################################################      ] 94%"
       ]
      },
      {
       "output_type": "stream",
       "stream": "stdout",
       "text": [
        " \r",
        "[ ##########################################################################     ] 95%"
       ]
      },
      {
       "output_type": "stream",
       "stream": "stdout",
       "text": [
        " \r",
        "[ ##########################################################################     ] 95%"
       ]
      },
      {
       "output_type": "stream",
       "stream": "stdout",
       "text": [
        " \r",
        "[ ##########################################################################     ] 96%"
       ]
      },
      {
       "output_type": "stream",
       "stream": "stdout",
       "text": [
        " \r",
        "[ ##########################################################################     ] 96%"
       ]
      },
      {
       "output_type": "stream",
       "stream": "stdout",
       "text": [
        " \r",
        "[ ###########################################################################    ] 97%"
       ]
      },
      {
       "output_type": "stream",
       "stream": "stdout",
       "text": [
        " \r",
        "[ ############################################################################   ] 98%"
       ]
      },
      {
       "output_type": "stream",
       "stream": "stdout",
       "text": [
        " \r",
        "[ ############################################################################   ] 98%"
       ]
      },
      {
       "output_type": "stream",
       "stream": "stdout",
       "text": [
        " \r",
        "[ #############################################################################  ] 99%"
       ]
      },
      {
       "output_type": "stream",
       "stream": "stdout",
       "text": [
        " \r",
        "[ ############################################################################## ] 100%"
       ]
      },
      {
       "output_type": "stream",
       "stream": "stdout",
       "text": [
        " \r",
        "[ ############################################################################## ] 100%"
       ]
      },
      {
       "output_type": "stream",
       "stream": "stdout",
       "text": [
        " \r",
        "[ ############################################################################## ] 100% \r\n",
        "# Ostap.Selectors/ds_1000   INFO    Events Processed/Total/Skept 92419/14359922/83220\n",
        "CUTS: \" DTFchi2ndof > 0&& DTFchi2ndof < 5&& DTFctau > 0.25&& vchi2_b < 20&& pt_pion[0] > 0.3 && pt_pion[1] > 0.3&& pt_kaon > 0.6&& m_jpsi    > 3.020 && m_jpsi    < 3.135&& minann_K  > 0.3 && minann_pi > 0.3&& MIPCHI2DV_k > 12. && MIPCHI2DV_pi1 > 12. && MIPCHI2DV_pi2 > 12.&& ((psi_l0tos & 2) == 2)&& ((psi_l1tos & 2) == 2)&& ((psi_l2tos & 2) == 2)\"\n"
       ]
      },
      {
       "output_type": "stream",
       "stream": "stdout",
       "text": [
        "# Ostap.ZipShelve           INFO    Open DB: /home/sashab1/.ostap/cache/94a1edb0bf7b1fe78f69d2352a50b4552b34d21046ac210e7908311ce2fa101c4331c32c487f93c21a5e069ed054b33f518a3d60556ab856841505d5fd3b687f.shelve\n"
       ]
      }
     ],
     "prompt_number": 3
    },
    {
     "cell_type": "markdown",
     "metadata": {},
     "source": [
      "__Fit model__"
     ]
    },
    {
     "cell_type": "code",
     "collapsed": false,
     "input": [
      "s1_Bu = Models.CB2_pdf(\n",
      "    'Bu1',\n",
      "    m_Bu.getMin(),\n",
      "    m_Bu.getMax(),\n",
      "    fixMass=5.2792e+0,\n",
      "    fixSigma=avg_mc(\"sigma_Bu1\"),\n",
      "    fixAlphaL=avg_mc(\"aL_Bu1\"),\n",
      "    fixAlphaR=avg_mc(\"aR_Bu1\"),\n",
      "    fixNL=avg_mc(\"nL_Bu1\"),\n",
      "    mass=m_Bu\n",
      ")\n",
      "\n",
      "s1_Bu.nR.setMax(20.0)\n",
      "s1_Bu.nR.fix(avg_mc(\"nR_Bu1\"))\n",
      "\n",
      "\n",
      "model_Bu = Models.Fit1D(\n",
      "    signal=s1_Bu,\n",
      "    background=Models.Bkg_pdf('BBu', mass=m_Bu, power=1), \n",
      "    suffix='Bu'\n",
      ")"
     ],
     "language": "python",
     "metadata": {},
     "outputs": [],
     "prompt_number": 5
    },
    {
     "cell_type": "markdown",
     "metadata": {},
     "source": [
      "__Fitting__"
     ]
    },
    {
     "cell_type": "code",
     "collapsed": false,
     "input": [
      "# model_Bu.background.tau.setMax(0)\n",
      "# model_Bu.background.tau.setMin(-5)\n",
      "# model_Bu.background.tau.setVal(-1)\n",
      "# model_Bu.s.setMax(1.2 * len(ds_Bu))\n",
      "\n",
      "# model_Bu.background.tau.fix(0)\n",
      "\n",
      "ru, fu = model_Bu.fitTo(ds_Bu, draw=True, nbins=nbin_Bu)\n",
      "\n",
      "model_Bu.signal.sigma.release()\n",
      "model_Bu.signal.mean.release()\n",
      "\n",
      "ru, fu = model_Bu.fitTo(ds_Bu, draw=True, nbins=nbin_Bu)\n",
      "\n",
      "# model_Bu.signal.aL.release()\n",
      "# model_Bu.signal.aR.release()\n",
      "# ru, fu = model_Bu.fitTo(ds_Bu, draw=True, nbins=nbin_Bu)\n",
      "\n",
      "# model_Bu.signal.nL.release()\n",
      "# model_Bu.signal.nR.release()\n",
      "# ru, fu = model_Bu.fitTo(ds_Bu, draw=True, nbins=nbin_Bu)"
     ],
     "language": "python",
     "metadata": {},
     "outputs": [],
     "prompt_number": 6
    },
    {
     "cell_type": "markdown",
     "metadata": {},
     "source": [
      "Fit plots\n",
      "---"
     ]
    },
    {
     "cell_type": "code",
     "collapsed": false,
     "input": [
      "c1 = rootnotes.random_canvas(size=(1024,768))\n",
      "\n",
      "fu.SetXTitle('Inv. mass(J/\\psi\\,K\\pi\\pi), GeV/c^2')\n",
      "fu.SetYTitle(\"Events / %.1f MeV/c^{2}\" % binning_b)\n",
      "\n",
      "fu.Draw()\n",
      "c1.SetLogy()\n",
      "c1"
     ],
     "language": "python",
     "metadata": {},
     "outputs": [
      {
       "metadata": {},
       "output_type": "pyout",
       "png": "[encoded data removed]",
       "prompt_number": 9,
       "text": [
        "<ROOT.TCanvas object (\"34183034-9605-4703-a23f-efd059df9a6b\") at 0x924b1e0>"
       ]
      }
     ],
     "prompt_number": 9
    },
    {
     "cell_type": "code",
     "collapsed": false,
     "input": [
      "c1 = rootnotes.random_canvas(size=(1024,768))\n",
      "\n",
      "fu.SetXTitle('Inv. mass(J/\\psi\\,K\\pi\\pi), GeV/c^2')\n",
      "fu.SetYTitle(\"Events / %.1f MeV/c^{2}\" % binning_b)\n",
      "\n",
      "y_axis = fu.GetYaxis()\n",
      "y_axis.SetTitleOffset(1.3)\n",
      "\n",
      "fu.Draw()\n",
      "\n",
      "# c1.SetLogy()\n",
      "c1"
     ],
     "language": "python",
     "metadata": {},
     "outputs": [
      {
       "metadata": {},
       "output_type": "pyout",
       "png": "[encoded data removed]",
       "prompt_number": 10,
       "text": [
        "<ROOT.TCanvas object (\"14ee335e-ce85-4069-8551-eff51bee5762\") at 0x924e4a0>"
       ]
      }
     ],
     "prompt_number": 10
    },
    {
     "cell_type": "markdown",
     "metadata": {},
     "source": [
      "Fit results\n",
      "---"
     ]
    },
    {
     "cell_type": "code",
     "collapsed": false,
     "input": [
      "ipython_tools.params_table(ru)"
     ],
     "language": "python",
     "metadata": {},
     "outputs": [
      {
       "html": [
        "Fit status: <b>Full, accurate covariance matrix</b><br/>minNll: <b>-104540.537297</b><br/><table><tr><th>Name</th> <th>Value</th> <th>Min</th> <th>Max</th> </tr><tr><th>phi1_BBu</th> <th>( -2.35679 +- 0.341479 )</th> <th>-3.5</th> <th>3.5</th></tr><tr><th>SBu</th> <th>( 9167.76 +- 96.1389 )</th> <th>0.0</th> <th>1000000.0</th></tr><tr><th>sigma_Bu1</th> <th>( 0.00756044 +- 7.2695e-05 )</th> <th>0.0</th> <th>0.103923048454</th></tr><tr><th>tau_BBu</th> <th>( -2.20271 +- 3.98552 )</th> <th>-122.804538293</th> <th>122.804538293</th></tr><tr><th>BBu</th> <th>( 31.3036 +- 10.3064 )</th> <th>0.0</th> <th>1000000.0</th></tr><tr><th>mean_Bu1</th> <th>( 5.28075 +- 8.67912e-05 )</th> <th>5.15</th> <th>5.45</th></tr></table>"
       ],
       "metadata": {},
       "output_type": "pyout",
       "prompt_number": 11,
       "text": [
        "<IPython.core.display.HTML at 0x695ed10>"
       ]
      }
     ],
     "prompt_number": 11
    },
    {
     "cell_type": "heading",
     "level": 1,
     "metadata": {},
     "source": [
      "Try Apolonios model"
     ]
    },
    {
     "cell_type": "code",
     "collapsed": false,
     "input": [
      "def variate(var, minval=None, maxval=None, startval=None):\n",
      "    if minval: var.setMin(minval)\n",
      "    if maxval: var.setMax(maxval)\n",
      "    if startval: var.setVal(startval)\n",
      "\n",
      "s1_Bu = Models.Apolonios_pdf(\n",
      "    'Bu1',\n",
      "    m_Bu.getMin(),\n",
      "    m_Bu.getMax(),\n",
      "    fixMass=5.2792e+0,\n",
      "    fixSigma=0.008499e+0,\n",
      "    fixAlpha=3.6,\n",
      "    fixN=0.08,\n",
      "    fixB=1.369,\n",
      "    mass=m_Bu\n",
      ")\n",
      "\n",
      "variate(s1_Bu.n, 0, 1000)\n",
      "variate(s1_Bu.b, 1e-8, 1000)\n",
      "# variate(s1_Bu.alpha, 3.0, 15, 3.5)\n",
      "\n",
      "model_Bu = Models.Fit1D(\n",
      "    signal=s1_Bu,\n",
      "    background=Models.Bkg_pdf('BBu', mass=m_Bu, power=0), \n",
      "    suffix='Bu'\n",
      ")"
     ],
     "language": "python",
     "metadata": {},
     "outputs": [],
     "prompt_number": 22
    },
    {
     "cell_type": "code",
     "collapsed": false,
     "input": [
      "model_Bu.s.setMax(1.2 * len(ds_Bu))\n",
      "\n",
      "ru, fu = model_Bu.fitTo(ds_Bu, draw=True, nbins=nbin_Bu)\n",
      "model_Bu.signal.sigma.release()\n",
      "model_Bu.signal.mean.release()\n",
      "ru, fu = model_Bu.fitTo(ds_Bu, draw=True, nbins=nbin_Bu)\n",
      "\n",
      "model_Bu.signal.b.release()\n",
      "ru, fu = model_Bu.fitTo(ds_Bu, draw=True, nbins=nbin_Bu)\n",
      "\n",
      "model_Bu.signal.n.release()\n",
      "ru, fu = model_Bu.fitTo(ds_Bu, draw=True, nbins=nbin_Bu)"
     ],
     "language": "python",
     "metadata": {},
     "outputs": [
      {
       "output_type": "stream",
       "stream": "stdout",
       "text": [
        "# Ostap.FitBasic            ERROR   Fit is problematic:  sum ( 9227.2 +- 96.9305 ) != 9203 \n"
       ]
      }
     ],
     "prompt_number": 23
    },
    {
     "cell_type": "code",
     "collapsed": false,
     "input": [
      "c1 = rootnotes.random_canvas(size=(1024, 768))\n",
      "\n",
      "fu.SetXTitle('Inv. mass(J/#psi K#pi#pi), GeV/c^2')\n",
      "fu.SetYTitle(\"Events / %.1f MeV/c^{2}\" % binning_b)\n",
      "\n",
      "fu.Draw()\n",
      "c1.SetLogy()\n",
      "c1"
     ],
     "language": "python",
     "metadata": {},
     "outputs": [
      {
       "metadata": {},
       "output_type": "pyout",
       "png": "[encoded data removed]",
       "prompt_number": 24,
       "text": [
        "<ROOT.TCanvas object (\"35118f20-5cae-4c78-bf48-f0e483d8cc51\") at 0x7397d00>"
       ]
      }
     ],
     "prompt_number": 24
    },
    {
     "cell_type": "code",
     "collapsed": false,
     "input": [
      "c1 = rootnotes.random_canvas(size=(1024, 768))\n",
      "\n",
      "fu.SetXTitle('Inv. mass(J/\\psi\\,K\\pi\\pi), GeV/c^2')\n",
      "fu.SetYTitle(\"Events / %.1f MeV/c^{2}\" % binning_b)\n",
      "\n",
      "fu.Draw()\n",
      "# c1.SetLogy()\n",
      "y_axis = fu.GetYaxis()\n",
      "y_axis.SetTitleOffset(1.3)\n",
      "c1"
     ],
     "language": "python",
     "metadata": {},
     "outputs": [
      {
       "metadata": {},
       "output_type": "pyout",
       "png": "[encoded data removed]",
       "prompt_number": 25,
       "text": [
        "<ROOT.TCanvas object (\"5933e1ec-1304-4486-8599-7c8a9bd34db1\") at 0x762b870>"
       ]
      }
     ],
     "prompt_number": 25
    },
    {
     "cell_type": "code",
     "collapsed": false,
     "input": [
      "ipython_tools.params_table(ru)"
     ],
     "language": "python",
     "metadata": {},
     "outputs": [
      {
       "html": [
        "Fit status: <b>Full, accurate covariance matrix</b><br/>minNll: <b>-104679.206072</b><br/><table><tr><th>Name</th> <th>Value</th> <th>Min</th> <th>Max</th> </tr><tr><th>nAp_Bu1</th> <th>( 0.72549 +- 0.283902 )</th> <th>0.0</th> <th>1000.0</th></tr><tr><th>SBu</th> <th>( 9123.59 +- 96.4331 )</th> <th>0.0</th> <th>11043.6</th></tr><tr><th>sigma_Bu1</th> <th>( 0.00726071 +- 0.0001594 )</th> <th>0.0</th> <th>0.103923048454</th></tr><tr><th>tau_BBu</th> <th>( -0.107918 +- 2.0116 )</th> <th>-122.804538293</th> <th>122.804538293</th></tr><tr><th>BBu</th> <th>( 79.5894 +- 16.016 )</th> <th>0.0</th> <th>1000000.0</th></tr><tr><th>mean_Bu1</th> <th>( 5.28068 +- 8.56642e-05 )</th> <th>5.15</th> <th>5.45</th></tr><tr><th>bAp_Bu1</th> <th>( 1.48119 +- 0.0410393 )</th> <th>1e-08</th> <th>1000.0</th></tr></table>"
       ],
       "metadata": {},
       "output_type": "pyout",
       "prompt_number": 26,
       "text": [
        "<IPython.core.display.HTML at 0x6599b50>"
       ]
      }
     ],
     "prompt_number": 26
    },
    {
     "cell_type": "code",
     "collapsed": false,
     "input": [
      "print ru"
     ],
     "language": "python",
     "metadata": {},
     "outputs": [
      {
       "output_type": "stream",
       "stream": "stdout",
       "text": [
        "RooFitResult\n"
       ]
      }
     ],
     "prompt_number": 12
    },
    {
     "cell_type": "code",
     "collapsed": false,
     "input": [],
     "language": "python",
     "metadata": {},
     "outputs": []
    }
   ],
   "metadata": {}
  }
 ]
}