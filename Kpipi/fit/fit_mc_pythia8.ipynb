{
 "metadata": {
  "name": "",
  "signature": "sha256:d62a8f1c1ff203b619119b16d9a140ed2122e44be7e9fad374ccc812480fca4c"
 },
 "nbformat": 3,
 "nbformat_minor": 0,
 "worksheets": [
  {
   "cells": [
    {
     "cell_type": "heading",
     "level": 1,
     "metadata": {},
     "source": [
      "$B_{u} \\to J/\\psi K\\pi\\pi$ MC Pythia8 fit"
     ]
    },
    {
     "cell_type": "markdown",
     "metadata": {},
     "source": [
      "__Basic imports__:"
     ]
    },
    {
     "cell_type": "code",
     "collapsed": false,
     "input": [
      "import ROOT, random\n",
      "from   Ostap import *\n",
      "from   Ostap.PyRoUts import *\n",
      "import Ostap.FitModels as Models\n",
      "\n",
      "from ostap import *"
     ],
     "language": "python",
     "metadata": {},
     "outputs": [
      {
       "output_type": "stream",
       "stream": "stdout",
       "text": [
        "# Ostap.PyRoUts             INFO    Zillions of decorations for ROOT   objects\n"
       ]
      },
      {
       "output_type": "stream",
       "stream": "stdout",
       "text": [
        "# setting LC_ALL to \"C\"\n"
       ]
      }
     ],
     "prompt_number": 1
    },
    {
     "cell_type": "markdown",
     "metadata": {},
     "source": [
      "__Variables__:"
     ]
    },
    {
     "cell_type": "code",
     "collapsed": false,
     "input": [
      "from variables import *"
     ],
     "language": "python",
     "metadata": {},
     "outputs": [],
     "prompt_number": 2
    },
    {
     "cell_type": "markdown",
     "metadata": {},
     "source": [
      "__Project nTuple to RooFit's dataset__"
     ]
    },
    {
     "cell_type": "code",
     "collapsed": false,
     "input": [
      "from cuts import *\n",
      "# from data import mc_Pythia6, mc_Pythia8, mc_total\n",
      "from Ostap.Data import Data\n",
      "\n",
      "def from_ganga(job_id):\n",
      "    import os\n",
      "    from glob import glob\n",
      "    prefix = \"$WORKDIR/gangadir/workspace/albarano/LocalXML/\"\n",
      "    pattern = prefix + str(job_id) + \"/*/output/*.root\"\n",
      "    return glob(os.path.expandvars(pattern))\n",
      "\n",
      "\n",
      "mc_files = {\n",
      "    '2011': {\n",
      "        'Pythia6': from_ganga(508) + from_ganga(509),\n",
      "#         'Pythia8': from_ganga(603) + from_ganga(604),\n",
      "#         'Pythia8': from_ganga(607) + from_ganga(608), # NO PT IN WG SELECTION\n",
      "        'Pythia8': from_ganga(620) + from_ganga(621), # NO PT&MIPCHI2DV IN WG SELECTION\n",
      "    },\n",
      "\n",
      "    '2012': {\n",
      "        'Pythia6': from_ganga(510) + from_ganga(511),\n",
      "        'Pythia8': from_ganga(601) + from_ganga(602),\n",
      "#         'Pythia8': from_ganga(605) + from_ganga(606), # NO PT IN WG SELECTION\n",
      "        'Pythia8': from_ganga(618) + from_ganga(619), # NO PT&MIPCHI2DV IN WG SELECTION\n",
      "    }\n",
      "}\n",
      "\n",
      "\n",
      "mc_Pythia6 = Data('Bplus/t', mc_files['2011']['Pythia6'] + mc_files['2012']['Pythia6'])\n",
      "mc_Pythia8 = Data('Bplus/t', mc_files['2011']['Pythia8'] + mc_files['2012']['Pythia8'])\n",
      "\n",
      "from Ostap.Selectors import  SelectorWithVars, SelectorWithVarsCached\n",
      "\n",
      "cuts = \"1.0\" + mctrue\n",
      "\n",
      "sel_Bu = SelectorWithVars(\n",
      "    variables=selector_variables,\n",
      "    selection=cuts + \"&& mcTrueB_psi\",\n",
      "#     files=mc_Pythia8.files\n",
      ")\n",
      "\n",
      "# if not sel_Bu._loaded_from_cache:\n",
      "mc_Pythia8.chain.process(sel_Bu)\n",
      "\n",
      "ds_Bu = sel_Bu.dataset()"
     ],
     "language": "python",
     "metadata": {},
     "outputs": [
      {
       "output_type": "stream",
       "stream": "stdout",
       "text": [
        "# Ostap.Selectors/ds_1000   INFO    TChain entries: 115439\n"
       ]
      },
      {
       "output_type": "stream",
       "stream": "stdout",
       "text": [
        "[                                                                                ] 0% \r",
        "[ #####                                                                          ] 7%"
       ]
      },
      {
       "output_type": "stream",
       "stream": "stdout",
       "text": [
        " \r",
        "[ ##########                                                                     ] 13%"
       ]
      },
      {
       "output_type": "stream",
       "stream": "stdout",
       "text": [
        " \r",
        "[ ###############                                                                ] 20%"
       ]
      },
      {
       "output_type": "stream",
       "stream": "stdout",
       "text": [
        " \r",
        "[ #####################                                                          ] 28%"
       ]
      },
      {
       "output_type": "stream",
       "stream": "stdout",
       "text": [
        " \r",
        "[ ##########################                                                     ] 34%"
       ]
      },
      {
       "output_type": "stream",
       "stream": "stdout",
       "text": [
        " \r",
        "[ ###############################                                                ] 41%"
       ]
      },
      {
       "output_type": "stream",
       "stream": "stdout",
       "text": [
        " \r",
        "[ ######################################                                         ] 49%"
       ]
      },
      {
       "output_type": "stream",
       "stream": "stdout",
       "text": [
        " \r",
        "[ ###########################################                                    ] 56%"
       ]
      },
      {
       "output_type": "stream",
       "stream": "stdout",
       "text": [
        " \r",
        "[ #################################################                              ] 64%"
       ]
      },
      {
       "output_type": "stream",
       "stream": "stdout",
       "text": [
        " \r",
        "[ #######################################################                        ] 71%"
       ]
      },
      {
       "output_type": "stream",
       "stream": "stdout",
       "text": [
        " \r",
        "[ #############################################################                  ] 79%"
       ]
      },
      {
       "output_type": "stream",
       "stream": "stdout",
       "text": [
        " \r",
        "[ ###################################################################            ] 86%"
       ]
      },
      {
       "output_type": "stream",
       "stream": "stdout",
       "text": [
        " \r",
        "[ ########################################################################       ] 93%"
       ]
      },
      {
       "output_type": "stream",
       "stream": "stdout",
       "text": [
        " \r",
        "[ ############################################################################## ] 100%"
       ]
      },
      {
       "output_type": "stream",
       "stream": "stdout",
       "text": [
        " \r",
        "[ ############################################################################## ] 100% \r\n",
        "# Ostap.Selectors/ds_1000   INFO    Events Processed/Total/Skept 6952/115439/5\n",
        "CUTS: \"1.0 && mcTrueB && mcTruePsi && mcTruePi1 && mcTruePi2 && mcTrueK && mcTrueMu1 && mcTrueMu2&& mcTrueB_psi\"\n"
       ]
      }
     ],
     "prompt_number": 7
    },
    {
     "cell_type": "code",
     "collapsed": false,
     "input": [
      "s1_Bu = Models.CB2_pdf(\n",
      "    'Bu1',\n",
      "    m_Bu.getMin(),\n",
      "    m_Bu.getMax(),\n",
      "    fixMass=5.2792e+0,\n",
      "    fixSigma=0.008499e+0,\n",
      "    fixAlphaL=2.1005,\n",
      "    fixAlphaR=1.8805,\n",
      "    fixNL=1.215,\n",
      "    fixNR=2.765,\n",
      "    mass=m_Bu\n",
      ")\n",
      "\n",
      "# def variate(var, minval=None, maxval=None, startval=None):\n",
      "#     if minval: var.setMin(minval)\n",
      "#     if maxval: var.setMax(maxval)\n",
      "#     if startval: var.setVal(startval)\n",
      "\n",
      "# s1_Bu = Models.Apolonios_pdf(\n",
      "#     'Bu1',\n",
      "#     m_Bu.getMin(),\n",
      "#     m_Bu.getMax(),\n",
      "#     fixMass=5.2792e+0,\n",
      "#     fixSigma=0.008499e+0,\n",
      "#     mass=m_Bu\n",
      "# )\n",
      "\n",
      "# variate(s1_Bu.n, 0, 1000)\n",
      "# variate(s1_Bu.b, 1e-8, 1000)\n",
      "# variate(s1_Bu.alpha, 3.0, 11)\n",
      "\n",
      "model_Bu = Models.Fit1D(\n",
      "    signal=s1_Bu,\n",
      "    background=Models.Bkg_pdf('BBu', mass=m_Bu), suffix='Bu'\n",
      ")\n",
      "\n",
      "model_Bu.b.fix(0)\n",
      "model_Bu.background.tau.fix(0)"
     ],
     "language": "python",
     "metadata": {},
     "outputs": [
      {
       "metadata": {},
       "output_type": "pyout",
       "prompt_number": 4,
       "text": [
        "( 0 +- 0 )"
       ]
      }
     ],
     "prompt_number": 4
    },
    {
     "cell_type": "code",
     "collapsed": false,
     "input": [
      "model_Bu.s.setMax(1.2 * len(ds_Bu))\n",
      "ru, fu = model_Bu.fitTo(ds_Bu, draw=True, nbins=nbin_Bu)\n",
      "\n",
      "model_Bu.signal.sigma.release()\n",
      "model_Bu.signal.mean.release()\n",
      "ru, fu = model_Bu.fitTo(ds_Bu, draw=True, nbins=nbin_Bu)\n",
      "\n",
      "model_Bu.signal.aR.release()\n",
      "model_Bu.signal.aL.release()\n",
      "# model_Bu.signal.alpha.release()\n",
      "ru, fu = model_Bu.fitTo(ds_Bu, draw=True, nbins=nbin_Bu)\n",
      "\n",
      "model_Bu.signal.nR.release()\n",
      "model_Bu.signal.nL.release()\n",
      "\n",
      "ru, fu = model_Bu.fitTo(ds_Bu, draw=True, nbins=nbin_Bu)"
     ],
     "language": "python",
     "metadata": {},
     "outputs": [],
     "prompt_number": 15
    },
    {
     "cell_type": "code",
     "collapsed": false,
     "input": [
      "canvas = rootnotes.random_canvas(size=(1024, 768))\n",
      "\n",
      "fu.SetXTitle(\"Inv. mass(J/#psi K#pi#pi), GeV/c^{2}\")\n",
      "fu.SetYTitle(\"Events / %.1f MeV/c^{2}\" % binning_b)\n",
      "\n",
      "fu.Draw()\n",
      "\n",
      "\n",
      "canvas.SetLogy()\n",
      "canvas"
     ],
     "language": "python",
     "metadata": {},
     "outputs": [
      {
       "metadata": {},
       "output_type": "pyout",
       "png": "[encoded data removed]",
       "prompt_number": 16,
       "text": [
        "<ROOT.TCanvas object (\"bdd1e584-4f24-402c-9f79-b1b48937a7b6\") at 0x9d31020>"
       ]
      }
     ],
     "prompt_number": 16
    },
    {
     "cell_type": "code",
     "collapsed": false,
     "input": [
      "ipython_tools.params_table(ru)"
     ],
     "language": "python",
     "metadata": {},
     "outputs": [
      {
       "html": [
        "Fit status: <b>Full, accurate covariance matrix</b><br/>minNll: <b>-29033.0437273</b><br/><table><tr><th>Name</th> <th>Value</th> <th>Min</th> <th>Max</th> </tr><tr><th>aR_Bu1</th> <th>( 2.02106 +- 0.219034 )</th> <th>0.0</th> <th>10.0</th></tr><tr><th>SBu</th> <th>( 2829.02 +- 53.1734 )</th> <th>0.0</th> <th>3394.8</th></tr><tr><th>aL_Bu1</th> <th>( 1.8374 +- 0.112516 )</th> <th>0.0</th> <th>10.0</th></tr><tr><th>sigma_Bu1</th> <th>( 0.00717487 +- 0.000160419 )</th> <th>0.0</th> <th>0.103923048454</th></tr><tr><th>nR_Bu1</th> <th>( 3.3964 +- 1.57995 )</th> <th>0.0</th> <th>10.0</th></tr><tr><th>nL_Bu1</th> <th>( 1.2804 +- 0.349633 )</th> <th>0.0</th> <th>10.0</th></tr><tr><th>mean_Bu1</th> <th>( 5.27981 +- 0.000159015 )</th> <th>5.15</th> <th>5.45</th></tr></table>"
       ],
       "metadata": {},
       "output_type": "pyout",
       "prompt_number": 17,
       "text": [
        "<IPython.core.display.HTML at 0x8ffad90>"
       ]
      }
     ],
     "prompt_number": 17
    },
    {
     "cell_type": "markdown",
     "metadata": {},
     "source": [
      "__Full efficiency__:"
     ]
    },
    {
     "cell_type": "code",
     "collapsed": false,
     "input": [
      "N_total = VE(1539996, 1539996)\n",
      "print ru(\"SBu\")[0] / N_total"
     ],
     "language": "python",
     "metadata": {},
     "outputs": [
      {
       "output_type": "stream",
       "stream": "stdout",
       "text": [
        "( 0.00183703 +- 3.456e-05 )\n"
       ]
      }
     ],
     "prompt_number": 18
    },
    {
     "cell_type": "markdown",
     "metadata": {},
     "source": [
      "__Summary table__:"
     ]
    },
    {
     "cell_type": "code",
     "collapsed": false,
     "input": [
      "N_rs = 22402.0\n",
      "\n",
      "values = [\n",
      "    # (channel name, expected, real)\n",
      "    (\"psi(2S)\", 0.2, 2832/N_rs),\n",
      "    (\"X(3872)\", 0.009, 189/N_rs),\n",
      "    (\"K*(892)\", 0.17, 4114/N_rs),\n",
      "    (\"rho\", 0.33, 8143/N_rs),\n",
      "    (\"K*(1430)\", 0.29, 7142/N_rs),\n",
      "    (\"K*(1270)_total\", 0.791, 19381/N_rs),\n",
      "]\n",
      "\n",
      "s = \"<table><tr><th>Channel</th> <th>Expected</th> <th>Real</th> <th>Ratio</th> </tr>\"\n",
      "\n",
      "for name, expected, real in values:\n",
      "    s += '<tr><th>%s</th> <th>%0.3f</th> <th>%0.3f</th> <th>%0.3f</th></tr>' % (name, expected, real, expected/real)\n",
      "\n",
      "s += \"</table>\"\n",
      "\n",
      "from IPython.display import HTML\n",
      "html = HTML(s)\n",
      "\n",
      "html\n",
      "\n",
      "\n"
     ],
     "language": "python",
     "metadata": {},
     "outputs": [
      {
       "html": [
        "<table><tr><th>Channel</th> <th>Expected</th> <th>Real</th> <th>Ratio</th> </tr><tr><th>psi(2S)</th> <th>0.200</th> <th>0.126</th> <th>1.582</th></tr><tr><th>X(3872)</th> <th>0.009</th> <th>0.008</th> <th>1.067</th></tr><tr><th>K*(892)</th> <th>0.170</th> <th>0.184</th> <th>0.926</th></tr><tr><th>rho</th> <th>0.330</th> <th>0.363</th> <th>0.908</th></tr><tr><th>K*(1430)</th> <th>0.290</th> <th>0.319</th> <th>0.910</th></tr><tr><th>K*(1270)_total</th> <th>0.791</th> <th>0.865</th> <th>0.914</th></tr></table>"
       ],
       "metadata": {},
       "output_type": "pyout",
       "prompt_number": 36,
       "text": [
        "<IPython.core.display.HTML at 0xa264950>"
       ]
      }
     ],
     "prompt_number": 36
    },
    {
     "cell_type": "code",
     "collapsed": false,
     "input": [],
     "language": "python",
     "metadata": {},
     "outputs": []
    }
   ],
   "metadata": {}
  }
 ]
}