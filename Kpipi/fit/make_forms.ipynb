{
 "metadata": {
  "name": "",
  "signature": "sha256:054b5cd5f972d640fb24ebcbfa3bc9d7a75edbf1536caa9e834ae30df5326cd6"
 },
 "nbformat": 3,
 "nbformat_minor": 0,
 "worksheets": [
  {
   "cells": [
    {
     "cell_type": "code",
     "collapsed": false,
     "input": [
      "from ostap import *\n",
      "from tools import *\n",
      "from data import mc_Pythia6, mc_Pythia8\n",
      "from fit_rd import *\n",
      "import shelve\n",
      "\n",
      "db = shelve.open('$KKpidir/fit/histos.shelve')"
     ],
     "language": "python",
     "metadata": {},
     "outputs": [
      {
       "output_type": "stream",
       "stream": "stdout",
       "text": [
        "# Ostap.PyRoUts             INFO    Zillions of decorations for ROOT   objects\n"
       ]
      },
      {
       "output_type": "stream",
       "stream": "stdout",
       "text": [
        "# setting LC_ALL to \"C\"\n",
        "DEFINE default storage type to be TTree! "
       ]
      },
      {
       "output_type": "stream",
       "stream": "stdout",
       "text": [
        "\n",
        "# data                      INFO    Selection 7: <Luminosity: ( 3081.23 +- 61.9479 )pb-1; #files: 201; Entries: 14359922>\n"
       ]
      },
      {
       "output_type": "stream",
       "stream": "stdout",
       "text": [
        "importing IPython notebook from fit_rd.ipynb\n",
        "importing IPython notebook from mc_average.ipynb\n",
        "importing IPython notebook from fit_mc_pythia6.ipynb\n",
        "# Ostap.ZipShelve           INFO    Open DB: /home/sashab1/.ostap/cache/e1c8ee543d3941a8ed845424a45ff121522d59ee4d89abd47f720aa567e20c623f6b50000e1a9323b58b70a730e89c041c650dc60c152729b7c1963e55bd9789.shelve\n"
       ]
      },
      {
       "output_type": "stream",
       "stream": "stdout",
       "text": [
        "importing IPython notebook from fit_mc_pythia8.ipynb\n",
        "# Ostap.ZipShelve           INFO    Open DB: /home/sashab1/.ostap/cache/ac93db826443c3a983193ccbdd4aadad8d281979b5300855e47940642294692c7c9017d94582a4bc3a5cdecd5c38adebad34343e8ee80f0eee988b3264a3cf88.shelve\n"
       ]
      },
      {
       "output_type": "stream",
       "stream": "stdout",
       "text": [
        "RooFitResult\n",
        "# Ostap.ZipShelve           INFO    Open DB: /home/sashab1/.ostap/cache/c56586a117127c1842eaedfdc41b665f075ae9d5043657fabf6db7984a01c2827a9dd10ee9d4c7462c7f78505e4a9c3e353b8c6ff36e22c4c6d40c61c691f058.shelve\n"
       ]
      },
      {
       "output_type": "stream",
       "stream": "stdout",
       "text": [
        " DTFchi2ndof > 0&& DTFchi2ndof < 5&& DTFctau > 0.25&& vchi2_b < 20&& pt_pion[0] > 0.3 && pt_pion[1] > 0.3&& pt_kaon > 0.6&& m_jpsi    > 3.020 && m_jpsi    < 3.135&& minann_K  > 0.3 && minann_pi > 0.3&& MIPCHI2DV_k > 12. && MIPCHI2DV_pi1 > 12. && MIPCHI2DV_pi2 > 12.&& ((psi_l0tos & 2) == 2)&& ((psi_l1tos & 2) == 2)&& ((psi_l2tos & 2) == 2)\n"
       ]
      },
      {
       "output_type": "stream",
       "stream": "stderr",
       "text": [
        "TClass::TClass:0: RuntimeWarning: no dictionary for class stack<RooAbsArg*,deque<RooAbsArg*> > is available\n"
       ]
      }
     ],
     "prompt_number": 1
    },
    {
     "cell_type": "markdown",
     "metadata": {},
     "source": [
      "Construct RD forms:"
     ]
    },
    {
     "cell_type": "code",
     "collapsed": false,
     "input": [
      "hists = [\n",
      "    (\"pi1\", \"mass_pi2ask\", \"SBu_sw\"),\n",
      "    (\"pi1_cuts\", \"mass_pi2ask\", \"SBu_sw && ann_pion_K > 0.1\"),\n",
      "]\n",
      "\n",
      "d = {\n",
      "    'RD': {param[0]: make_hist(ds_Bu, *param) for param in hists}\n",
      "}"
     ],
     "language": "python",
     "metadata": {},
     "outputs": [],
     "prompt_number": 2
    },
    {
     "cell_type": "markdown",
     "metadata": {},
     "source": [
      "Construct MC forms:"
     ]
    },
    {
     "cell_type": "code",
     "collapsed": false,
     "input": [
      "mass_cut = \"DTFm_b > 5.15 && DTFm_b < 5.45\"\n",
      "hists = [\n",
      "    [\"pi1\", \"mass_pi2ask\", mass_cut],\n",
      "    [\"pi1_cuts\", \"mass_pi2ask\", \"ann_pion_K[0] > 0.1 && \" + mass_cut],\n",
      "]\n",
      "\n",
      "d['MC'] = {}\n",
      "\n",
      "for param in hists:\n",
      "    default = param[0]\n",
      "\n",
      "    param[0] = \"p6_\" + default\n",
      "    d['MC'][param[0]] = make_hist_mc(mc_Pythia6.chain, *param)\n",
      "\n",
      "    param[0] = \"p8_\" + default\n",
      "    d['MC'][param[0]] = make_hist_mc(mc_Pythia8.chain, *param)\n"
     ],
     "language": "python",
     "metadata": {},
     "outputs": [],
     "prompt_number": 3
    },
    {
     "cell_type": "markdown",
     "metadata": {},
     "source": [
      "Write:"
     ]
    },
    {
     "cell_type": "code",
     "collapsed": false,
     "input": [
      "db['Kpipi'] = d\n",
      "\n",
      "db.sync()\n",
      "db.close()"
     ],
     "language": "python",
     "metadata": {},
     "outputs": [],
     "prompt_number": 4
    },
    {
     "cell_type": "code",
     "collapsed": false,
     "input": [
      "db = shelve.open('$KKpidir/fit/histos.shelve')"
     ],
     "language": "python",
     "metadata": {},
     "outputs": [],
     "prompt_number": 5
    },
    {
     "cell_type": "code",
     "collapsed": false,
     "input": [
      "print db"
     ],
     "language": "python",
     "metadata": {},
     "outputs": [
      {
       "output_type": "stream",
       "stream": "stdout",
       "text": [
        "{'Kpipi': {'RD': {'pi1': <ROOT.TH1F object (\"pi1\") at 0x9f23480>, 'pi1_cuts': <ROOT.TH1F object (\"pi1_cuts\") at 0x9f25f00>}, 'MC': {'p6_pi1_cuts': <ROOT.TH1F object (\"p6_pi1_cuts\") at 0x9f26a80>, 'p8_pi1_cuts': <ROOT.TH1F object (\"p8_pi1_cuts\") at 0x9f27600>, 'p6_pi1': <ROOT.TH1F object (\"p6_pi1\") at 0x9f28200>, 'p8_pi1': <ROOT.TH1F object (\"p8_pi1\") at 0x9efda20>}}, 'KKK': {'RD': {'k3': <ROOT.TH1F object (\"k3\") at 0x9f20430>, 'k1': <ROOT.TH1F object (\"k1\") at 0x9f21060>, 'k3_cuts': <ROOT.TH1F object (\"k3_cuts\") at 0x9f297c0>, 'k1_cuts': <ROOT.TH1F object (\"k1_cuts\") at 0x9f2a0e0>}, 'MC': {'p8_k3': <ROOT.TH1F object (\"p8_k3\") at 0x9f2aa00>, 'p8_k3_cuts': <ROOT.TH1F object (\"p8_k3_cuts\") at 0x9f21980>, 'p8_k1': <ROOT.TH1F object (\"p8_k1\") at 0x9f222a0>, 'p6_k1': <ROOT.TH1F object (\"p6_k1\") at 0x9f22bc0>, 'p6_k3': <ROOT.TH1F object (\"p6_k3\") at 0x9f28d70>, 'p8_k1_cuts': <ROOT.TH1F object (\"p8_k1_cuts\") at 0x9f24090>, 'p6_k1_cuts': <ROOT.TH1F object (\"p6_k1_cuts\") at 0x9f249b0>, 'p6_k3_cuts': <ROOT.TH1F object (\"p6_k3_cuts\") at 0x9f252d0>}}}\n"
       ]
      }
     ],
     "prompt_number": 6
    },
    {
     "cell_type": "code",
     "collapsed": false,
     "input": [
      "# histos = [(x, False) for x in db['Kpipi']['RD'].values()]\n",
      "histos = [(x, True) for x in db['Kpipi']['MC'].values()]\n",
      "# histos = sorted(a+b, key=lambda el: -el[0].GetMaximum())"
     ],
     "language": "python",
     "metadata": {},
     "outputs": [],
     "prompt_number": 7
    },
    {
     "cell_type": "code",
     "collapsed": false,
     "input": [
      "for el in histos:\n",
      "    h, MC = el\n",
      "    h.Sumw2()\n",
      "    h.Scale(1.0/h.Integral())\n",
      "    h.Smooth(200)\n",
      "\n",
      "histos = sorted(histos, key=lambda el: -el[0].GetMaximum())"
     ],
     "language": "python",
     "metadata": {},
     "outputs": [
      {
       "output_type": "stream",
       "stream": "stderr",
       "text": [
        "TH1F::Sumw2:0: RuntimeWarning: Sum of squares of weights structure already created\n",
        "TH1F::Sumw2:0: RuntimeWarning: Sum of squares of weights structure already created\n",
        "TH1F::Sumw2:0: RuntimeWarning: Sum of squares of weights structure already created\n",
        "TH1F::Sumw2:0: RuntimeWarning: Sum of squares of weights structure already created\n"
       ]
      }
     ],
     "prompt_number": 8
    },
    {
     "cell_type": "code",
     "collapsed": false,
     "input": [
      "titleX = '#Inv.\\,mass(J/\\psi\\,K\\pi\\pi) \\,\\, with \\,\\, misid, GeV/c^2'\n",
      "# titleY = \"Events / (%.1f \\, MeV/c^{2})\" % (histos[0][0].GetBinWidth(0) * 1000)\n",
      "titleY = \"Shape(normailzed)\""
     ],
     "language": "python",
     "metadata": {},
     "outputs": [],
     "prompt_number": 9
    },
    {
     "cell_type": "code",
     "collapsed": false,
     "input": [
      "canvas = rootnotes.random_canvas(size=(1024,768))\n",
      "\n",
      "legend = ROOT.TLegend(0.6, 0.7, 0.9, 0.9)\n",
      "legend.SetFillColor(ROOT.kWhite)\n",
      "\n",
      "\n",
      "\n",
      "for i, el in enumerate(histos):\n",
      "    h, MC = el\n",
      "    col = i + 1\n",
      "\n",
      "    y_axis = h.GetYaxis()\n",
      "    y_axis.SetTitleOffset(1.1)\n",
      "\n",
      "    h.SetLineWidth(3)\n",
      "    h.SetLineColor(col)\n",
      "    # h.SetFillColor(col)\n",
      "    h.SetMarkerColor(col)\n",
      "\n",
      "    h.SetXTitle(titleX)\n",
      "    h.SetYTitle(titleY)\n",
      "    h.SetStats(0)\n",
      "    y_axis = h.GetYaxis()\n",
      "    y_axis.SetTitleOffset(1.3)\n",
      "    \n",
      "    h.Draw('hist same c')\n",
      "    h.SetMarkerSize(0.01)\n",
      "    legend.AddEntry(h.GetName(), make_legend(h.GetName(), mc=MC), \"l\")\n",
      "\n",
      "legend.Draw()\n",
      "\n",
      "canvas"
     ],
     "language": "python",
     "metadata": {},
     "outputs": [
      {
       "metadata": {},
       "output_type": "pyout",
       "png": "[encoded data removed]",
       "prompt_number": 10,
       "text": [
        "<ROOT.TCanvas object (\"322f9b5b-1799-4a2b-b8f5-8269e38c599c\") at 0x9f8f970>"
       ]
      }
     ],
     "prompt_number": 10
    },
    {
     "cell_type": "code",
     "collapsed": false,
     "input": [
      "histos = [(x, False) for x in db['Kpipi']['RD'].values()]"
     ],
     "language": "python",
     "metadata": {},
     "outputs": [],
     "prompt_number": 11
    },
    {
     "cell_type": "code",
     "collapsed": false,
     "input": [
      "for el in histos:\n",
      "    h, MC = el\n",
      "    h.Sumw2()\n",
      "    h.Scale(1.0/h.Integral())\n",
      "    h.Smooth(200)\n",
      "\n",
      "histos = sorted(histos, key=lambda el: -el[0].GetMaximum())"
     ],
     "language": "python",
     "metadata": {},
     "outputs": [
      {
       "output_type": "stream",
       "stream": "stderr",
       "text": [
        "TH1F::Sumw2:0: RuntimeWarning: Sum of squares of weights structure already created\n",
        "TH1F::Sumw2:0: RuntimeWarning: Sum of squares of weights structure already created\n"
       ]
      }
     ],
     "prompt_number": 12
    },
    {
     "cell_type": "code",
     "collapsed": false,
     "input": [
      "canvas = rootnotes.random_canvas(size=(1024,768))\n",
      "\n",
      "legend = ROOT.TLegend(0.6, 0.7, 0.9, 0.9)\n",
      "legend.SetFillColor(ROOT.kWhite)\n",
      "\n",
      "\n",
      "\n",
      "for i, el in enumerate(histos):\n",
      "    h, MC = el\n",
      "    col = i + 1\n",
      "\n",
      "    y_axis = h.GetYaxis()\n",
      "    y_axis.SetTitleOffset(1.1)\n",
      "\n",
      "    h.SetLineWidth(3)\n",
      "    h.SetLineColor(col)\n",
      "    # h.SetFillColor(col)\n",
      "    h.SetMarkerColor(col)\n",
      "\n",
      "    h.SetXTitle(titleX)\n",
      "    h.SetYTitle(titleY)\n",
      "    h.SetStats(0)\n",
      "    y_axis = h.GetYaxis()\n",
      "    y_axis.SetTitleOffset(1.3)\n",
      "    \n",
      "    h.Draw('hist same c')\n",
      "    h.SetMarkerSize(0.01)\n",
      "    legend.AddEntry(h.GetName(), make_legend(h.GetName(), mc=MC), \"l\")\n",
      "\n",
      "legend.Draw()\n",
      "\n",
      "canvas"
     ],
     "language": "python",
     "metadata": {},
     "outputs": [
      {
       "metadata": {},
       "output_type": "pyout",
       "png": "[encoded data removed]",
       "prompt_number": 13,
       "text": [
        "<ROOT.TCanvas object (\"f2f9d61a-eb95-4c60-b114-22b649bae157\") at 0x9e47e30>"
       ]
      }
     ],
     "prompt_number": 13
    },
    {
     "cell_type": "code",
     "collapsed": false,
     "input": [],
     "language": "python",
     "metadata": {},
     "outputs": []
    }
   ],
   "metadata": {}
  }
 ]
}