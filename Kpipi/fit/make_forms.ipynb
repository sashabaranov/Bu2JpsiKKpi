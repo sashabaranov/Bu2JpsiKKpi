{
 "metadata": {
  "name": "",
  "signature": "sha256:d15f5e7da6d789a149c8f95296d119c82c43c2c3a82ed9e3755f308010efe5e5"
 },
 "nbformat": 3,
 "nbformat_minor": 0,
 "worksheets": [
  {
   "cells": [
    {
     "cell_type": "code",
     "collapsed": false,
     "input": [
      "import shelve\n",
      "from ostap import *\n",
      "from tools import *\n",
      "from data import mc_Pythia6, mc_Pythia8\n",
      "from fit_rd import *\n",
      "from cuts import cuts_mc\n",
      "\n",
      "db = shelve.open('$KKpidir/fit/histos.shelve')"
     ],
     "language": "python",
     "metadata": {},
     "outputs": [],
     "prompt_number": 91
    },
    {
     "cell_type": "markdown",
     "metadata": {},
     "source": [
      "Construct RD forms:"
     ]
    },
    {
     "cell_type": "code",
     "collapsed": false,
     "input": [
      "hists = [\n",
      "    (\"pi1\", \"mass_pi2ask\", \"SBu_sw\"),\n",
      "#     (\"pi1_cuts\", \"mass_pi2ask\", \"SBu_sw && ann_pion_K > 0.1\"),\n",
      "]\n",
      "\n",
      "d = {\n",
      "    'RD': {param[0]: make_hist(ds_Bu, *param) for param in hists}\n",
      "}"
     ],
     "language": "python",
     "metadata": {},
     "outputs": [
      {
       "output_type": "stream",
       "stream": "stderr",
       "text": [
        "TROOT::Append:0: RuntimeWarning: Replacing existing TH1: pi1 (Potential memory leak).\n"
       ]
      }
     ],
     "prompt_number": 115
    },
    {
     "cell_type": "markdown",
     "metadata": {},
     "source": [
      "Construct MC forms:"
     ]
    },
    {
     "cell_type": "code",
     "collapsed": false,
     "input": [
      "hists = [\n",
      "    [\"pi1\", \"mass_pi2ask\", cuts_mc],\n",
      "]\n",
      "\n",
      "d['MC'] = {}\n",
      "\n",
      "for param in hists:\n",
      "    default = param[0]\n",
      "\n",
      "    param[0] = \"p6_\" + default\n",
      "    d['MC'][param[0]] = make_hist_mc(mc_Pythia6.chain, *param)\n",
      "\n",
      "    param[0] = \"p8_\" + default\n",
      "    d['MC'][param[0]] = make_hist_mc(mc_Pythia8.chain, *param)\n"
     ],
     "language": "python",
     "metadata": {},
     "outputs": [],
     "prompt_number": 116
    },
    {
     "cell_type": "markdown",
     "metadata": {},
     "source": [
      "Write:"
     ]
    },
    {
     "cell_type": "code",
     "collapsed": false,
     "input": [
      "db['Kpipi'] = d\n",
      "\n",
      "db.sync()\n",
      "db.close()"
     ],
     "language": "python",
     "metadata": {},
     "outputs": [],
     "prompt_number": 117
    },
    {
     "cell_type": "code",
     "collapsed": false,
     "input": [
      "db = shelve.open('$KKpidir/fit/histos.shelve')"
     ],
     "language": "python",
     "metadata": {},
     "outputs": [],
     "prompt_number": 118
    },
    {
     "cell_type": "code",
     "collapsed": false,
     "input": [
      "titleX = 'Inv. mass(J/#psi K#pi#pi) with misid, GeV/c^{2}'\n",
      "# titleY = \"Events / (%.1f \\, MeV/c^{2})\" % (histos[0][0].GetBinWidth(0) * 1000)\n",
      "titleY = \"Shape(normailzed)\""
     ],
     "language": "python",
     "metadata": {},
     "outputs": [],
     "prompt_number": 126
    },
    {
     "cell_type": "code",
     "collapsed": false,
     "input": [
      "histos = [(x, True) for x in db['Kpipi']['MC'].values()] + [(x, False) for x in db['Kpipi']['RD'].values()]\n",
      "\n",
      "for el in histos:\n",
      "    h, MC = el\n",
      "    h.Sumw2()\n",
      "    h.Scale(1.0/h.Integral())\n",
      "    h.Smooth(5)\n",
      "\n",
      "histos = sorted(histos, key=lambda el: -el[0].GetMaximum())\n",
      "\n",
      "canvas = rootnotes.random_canvas(size=(1024,768))\n",
      "\n",
      "legend = ROOT.TLegend(0.6, 0.7, 0.9, 0.9)\n",
      "legend.SetFillColor(ROOT.kWhite)\n",
      "\n",
      "\n",
      "\n",
      "for i, el in enumerate(histos):\n",
      "    h, MC = el\n",
      "    col = i + 2\n",
      "\n",
      "    y_axis = h.GetYaxis()\n",
      "    y_axis.SetTitleOffset(1.1)\n",
      "\n",
      "    h.SetLineWidth(3)\n",
      "    h.SetLineColor(col)\n",
      "    # h.SetFillColor(col)\n",
      "    h.SetMarkerColor(col)\n",
      "\n",
      "    h.SetXTitle(titleX)\n",
      "    h.SetYTitle(titleY)\n",
      "    h.SetStats(0)\n",
      "    y_axis = h.GetYaxis()\n",
      "    y_axis.SetTitleOffset(1.3)\n",
      "    \n",
      "    h.Draw('hist same c ')\n",
      "    h.SetMarkerSize(0.01)\n",
      "    legend.AddEntry(h.GetName(), make_legend(h.GetName(), mc=MC), \"l\")\n",
      "\n",
      "legend.Draw()\n",
      "\n",
      "canvas"
     ],
     "language": "python",
     "metadata": {},
     "outputs": [
      {
       "output_type": "stream",
       "stream": "stderr",
       "text": [
        "TH1F::Sumw2:0: RuntimeWarning: Sum of squares of weights structure already created\n",
        "TH1F::Sumw2:0: RuntimeWarning: Sum of squares of weights structure already created\n",
        "TH1F::Sumw2:0: RuntimeWarning: Sum of squares of weights structure already created\n"
       ]
      },
      {
       "metadata": {},
       "output_type": "pyout",
       "png": "[encoded data removed]",
       "prompt_number": 128,
       "text": [
        "<ROOT.TCanvas object (\"915c3c12-6418-483c-b63d-fb8d6136178d\") at 0x8c3ac40>"
       ]
      }
     ],
     "prompt_number": 128
    },
    {
     "cell_type": "code",
     "collapsed": false,
     "input": [],
     "language": "python",
     "metadata": {},
     "outputs": []
    }
   ],
   "metadata": {}
  }
 ]
}