{
 "metadata": {
  "name": "",
  "signature": "sha256:7730bee3a3116fe884c7fb294fd19f003d1a1b358338b671a54fdd763fe6e85b"
 },
 "nbformat": 3,
 "nbformat_minor": 0,
 "worksheets": [
  {
   "cells": [
    {
     "cell_type": "code",
     "collapsed": false,
     "input": [
      "from ostap import *\n",
      "\n",
      "from fit_mc_pythia6 import ru as ru_p6\n",
      "from fit_mc_pythia8 import ru as ru_p8"
     ],
     "language": "python",
     "metadata": {},
     "outputs": [
      {
       "output_type": "stream",
       "stream": "stdout",
       "text": [
        "importing IPython notebook from fit_mc_pythia6.ipynb\n",
        "# Ostap.PyRoUts             INFO    Zillions of decorations for ROOT   objects\n"
       ]
      },
      {
       "output_type": "stream",
       "stream": "stdout",
       "text": [
        "# setting LC_ALL to \"C\"\n",
        "DEFINE default storage type to be TTree! "
       ]
      },
      {
       "output_type": "stream",
       "stream": "stdout",
       "text": [
        "\n",
        "# data                      INFO    Selection 7: <Luminosity: ( 3082.18 +- 61.9831 )pb-1; #files: 201; Entries: 14367852>\n"
       ]
      },
      {
       "output_type": "stream",
       "stream": "stdout",
       "text": [
        "# Ostap.ZipShelve           INFO    Open DB: /home/sashab1/.ostap/cache/b6312054b82f905767adfe205e8d48d6541d0c8c515642417a253a90bd1fc74db9f7e4a828280be7b73d0251682e63c2315f779113fd5c1bb2ea3ccabed9866d.shelve\n"
       ]
      },
      {
       "output_type": "stream",
       "stream": "stdout",
       "text": [
        "importing IPython notebook from fit_mc_pythia8.ipynb\n",
        "# Ostap.ZipShelve           INFO    Open DB: /home/sashab1/.ostap/cache/1f2de635d931dc29ff0a43571472c614c29e2e61b65818d8fe9dbcd806e1afdde8b667cfd6015c68763b2dfbe1d443a7f7779f8d9aad8f2f1ebffbe26672f934.shelve\n"
       ]
      },
      {
       "output_type": "stream",
       "stream": "stdout",
       "text": [
        "RooFitResult\n"
       ]
      },
      {
       "output_type": "stream",
       "stream": "stderr",
       "text": [
        "TClass::TClass:0: RuntimeWarning: no dictionary for class stack<RooAbsArg*,deque<RooAbsArg*> > is available\n"
       ]
      }
     ],
     "prompt_number": 2
    },
    {
     "cell_type": "code",
     "collapsed": false,
     "input": [
      "def avg(*args):\n",
      "    return sum([float(_) for _ in args]) / len(args)\n",
      "\n",
      "def avg_mc(param_name):\n",
      "    global ru_p6, ru_p8\n",
      "    return avg(ru_p6(param_name)[0], ru_p8(param_name)[0])\n",
      "\n",
      "def delta_mc(param_name):\n",
      "    global ru_p6, ru_p8\n",
      "    return abs(float(ru_p6(param_name)[0] - ru_p8(param_name)[0])) / avg_mc(param_name)"
     ],
     "language": "python",
     "metadata": {},
     "outputs": [],
     "prompt_number": 3
    },
    {
     "cell_type": "code",
     "collapsed": false,
     "input": [
      "deltas = [\n",
      "    delta_mc(\"sigma_Bu1\"),\n",
      "    delta_mc(\"aL_Bu1\"),\n",
      "    delta_mc(\"aR_Bu1\"),\n",
      "    delta_mc(\"nL_Bu1\"),\n",
      "    delta_mc(\"nR_Bu1\"),\n",
      "]"
     ],
     "language": "python",
     "metadata": {},
     "outputs": [],
     "prompt_number": 4
    }
   ],
   "metadata": {}
  }
 ]
}