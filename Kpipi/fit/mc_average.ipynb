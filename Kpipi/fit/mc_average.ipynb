{
 "metadata": {
  "name": "",
  "signature": "sha256:d98fe0567883c4fbff8e3108f93f6c3874df76fb53ee7374e72e91305ad8c865"
 },
 "nbformat": 3,
 "nbformat_minor": 0,
 "worksheets": [
  {
   "cells": [
    {
     "cell_type": "code",
     "collapsed": false,
     "input": [
      "from ostap import *\n",
      "\n",
      "from fit_mc_pythia6 import ru as ru_p6\n",
      "from fit_mc_pythia8 import ru as ru_p8"
     ],
     "language": "python",
     "metadata": {},
     "outputs": []
    },
    {
     "cell_type": "code",
     "collapsed": false,
     "input": [
      "def avg(*args):\n",
      "    return sum([float(_) for _ in args]) / len(args)\n",
      "\n",
      "def avg_mc(param_name):\n",
      "    global ru_p6, ru_p8\n",
      "    return avg(ru_p6(param_name)[0], ru_p8(param_name)[0])\n",
      "\n",
      "def delta_mc(param_name):\n",
      "    global ru_p6, ru_p8\n",
      "    return abs(float(ru_p6(param_name)[0] - ru_p8(param_name)[0])) / avg_mc(param_name)"
     ],
     "language": "python",
     "metadata": {},
     "outputs": []
    },
    {
     "cell_type": "code",
     "collapsed": false,
     "input": [
      "deltas = [\n",
      "    delta_mc(\"sigma_Bu1\"),\n",
      "    delta_mc(\"aL_Bu1\"),\n",
      "    delta_mc(\"aR_Bu1\"),\n",
      "    delta_mc(\"nL_Bu1\"),\n",
      "    delta_mc(\"nR_Bu1\"),\n",
      "]"
     ],
     "language": "python",
     "metadata": {},
     "outputs": []
    }
   ],
   "metadata": {}
  }
 ]
}