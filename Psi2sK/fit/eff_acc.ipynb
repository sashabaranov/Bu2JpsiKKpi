{
 "metadata": {
  "name": "",
  "signature": "sha256:b49ca588d52b0ef276c75763da5c0002aa27422e808e560ef44e1534642689b0"
 },
 "nbformat": 3,
 "nbformat_minor": 0,
 "worksheets": [
  {
   "cells": [
    {
     "cell_type": "heading",
     "level": 1,
     "metadata": {},
     "source": [
      "\u041f\u043e\u0434\u0441\u0447\u0451\u0442 \u044d\u0444\u0444\u0435\u043a\u0442\u0438\u0432\u043d\u043e\u0441\u0442\u0435\u0439 accpetance"
     ]
    },
    {
     "cell_type": "markdown",
     "metadata": {},
     "source": [
      "\u0414\u043b\u044f \u0432\u044b\u0447\u0438\u0441\u043b\u0435\u043d\u0438\u044f \u043e\u0448\u0438\u0431\u043e\u043a:"
     ]
    },
    {
     "cell_type": "code",
     "collapsed": false,
     "input": [
      "from LoKiCore.basic import Gaudi\n",
      "import LHCbMath.Types\n",
      " \n",
      "VE = Gaudi.Math.ValueWithError"
     ],
     "language": "python",
     "metadata": {},
     "outputs": [],
     "prompt_number": 1
    },
    {
     "cell_type": "heading",
     "level": 2,
     "metadata": {},
     "source": [
      "\u041d\u043e\u0440\u043c\u0438\u0440\u043e\u0432\u043e\u0447\u043d\u044b\u0439 \u043a\u0430\u043d\u0430\u043b"
     ]
    },
    {
     "cell_type": "markdown",
     "metadata": {},
     "source": [
      "\u0412 \u043a\u0430\u0447\u0435\u0441\u0442\u0432\u0435 \u043c\u043e\u043d\u0442\u0435-\u043a\u0430\u0440\u043b\u043e \u043d\u043e\u0440\u043c\u0438\u0440\u043e\u0432\u043e\u0447\u043d\u043e\u0433\u043e \u043a\u0430\u043d\u0430\u043b\u0430 \u0431\u044b\u043b\u0438 \u0432\u044b\u0431\u0440\u0430\u043d\u044b \u0441\u043b\u0435\u0434\u0443\u044e\u0449\u0438\u0435 \u0441\u044d\u043c\u043b\u044b(EventType = __12145020__):"
     ]
    },
    {
     "cell_type": "code",
     "collapsed": false,
     "input": [
      "samples_norm = [\n",
      "    ('/MC/2011/Beam3500GeV-2011-MagDown-Nu2-Pythia8/Sim08e/Digi13/Trig0x40760037/Reco14a/Stripping20r1NoPrescalingFlagged/12145020/ALLSTREAMS.DST', 'dddb-20130929', 'sim-20130522-vc-md100', 17, 253749),\n",
      "    ('/MC/2011/Beam3500GeV-2011-MagUp-Nu2-Pythia8/Sim08e/Digi13/Trig0x40760037/Reco14a/Stripping20r1NoPrescalingFlagged/12145020/ALLSTREAMS.DST', 'dddb-20130929', 'sim-20130522-vc-mu100', 18, 264013),\n",
      "    ('/MC/2012/Beam4000GeV-2012-MagUp-Nu2.5-Pythia8/Sim08e/Digi13/Trig0x409f0045/Reco14a/Stripping20NoPrescalingFlagged/12145020/ALLSTREAMS.DST', 'dddb-20130929-1', 'sim-20130522-1-vc-mu100', 29, 494224),\n",
      "    ('/MC/2012/Beam4000GeV-2012-MagDown-Nu2.5-Pythia8/Sim08e/Digi13/Trig0x409f0045/Reco14a/Stripping20NoPrescalingFlagged/12145020/ALLSTREAMS.DST', 'dddb-20130929-1', 'sim-20130522-1-vc-md100', 26, 444494),\n",
      "]"
     ],
     "language": "python",
     "metadata": {},
     "outputs": [],
     "prompt_number": 2
    },
    {
     "cell_type": "markdown",
     "metadata": {},
     "source": [
      "\u0421\u0443\u043c\u043c\u0430 \u043f\u043e \u043a\u043e\u043b\u0438\u0447\u0435\u0441\u0442\u0432\u0443 \u0441\u043e\u0431\u044b\u0442\u0438\u0439 \u0438\u0437 get_bookkeeping_info \u0440\u0430\u0432\u043d\u0430 1456480, \u043f\u0435\u0440\u0435\u043f\u0440\u043e\u0432\u0435\u0440\u0438\u043c \u0441 \u043f\u043e\u043c\u043e\u0449\u044c\u044e ganga."
     ]
    },
    {
     "cell_type": "markdown",
     "metadata": {},
     "source": [
      "\u0412 ganga \u0434\u0436\u043e\u0431\u044b \u0441\u0447\u0438\u0442\u0430\u043b\u0438\u0441\u044c \u0441 \u043e\u043f\u0446\u0438\u0435\u0439 `ignoremissing = False`, \u0441\u0434\u0435\u043b\u0430\u0435\u043c \u0434\u043e\u043f\u043e\u043b\u043d\u0438\u0442\u0435\u043b\u044c\u043d\u0443\u044e \u043f\u0440\u043e\u0432\u0435\u0440\u043a\u0443, \u0441\u0434\u0435\u043b\u0430\u0432 \u0445\u0438\u0442\u0440\u044b\u0439 grep \u043f\u043e `stdout` \u0434\u0436\u043e\u0431\u043e\u0432:\n",
      "```\n",
      "find job_id | grep stdout | xargs grep 'events processed' | grep -v 'INFO' >> nevt.norm\n",
      "```\n",
      "\n",
      "\u0412 \u0440\u0435\u0437\u0443\u043b\u044c\u0442\u0430\u0442\u0435 \u0441\u0443\u043c\u043c\u0438\u0440\u043e\u0432\u0430\u043d\u0438\u044f \u043f\u043e \u0432\u0441\u0435\u043c \u0434\u0436\u043e\u0431\u0430\u043c \u043f\u043e\u043b\u0443\u0447\u0430\u0435\u043c\n",
      "\n"
     ]
    },
    {
     "cell_type": "code",
     "collapsed": false,
     "input": [
      "N_gen_norm = VE(3673304, 3673304)"
     ],
     "language": "python",
     "metadata": {},
     "outputs": [],
     "prompt_number": 4
    },
    {
     "cell_type": "markdown",
     "metadata": {},
     "source": [
      "\u0420\u0435\u0437\u0443\u043b\u044c\u0442\u0430\u0442\u044b \u0440\u0430\u0441\u0441\u0445\u043e\u0434\u044f\u0442\u0441\u044f, \u0438 \u044f \u0441\u043a\u043b\u043e\u043d\u044f\u044e\u0441\u044c \u043a \u0442\u043e\u043c\u0443, \u0447\u0442\u043e \u0432 `stdout` \u043b\u0435\u0436\u0438\u0442 \u043f\u0440\u0430\u0432\u0438\u043b\u044c\u043d\u044b\u0439 \u0440\u0435\u0437\u0443\u043b\u044c\u0442\u0430\u0442"
     ]
    },
    {
     "cell_type": "markdown",
     "metadata": {},
     "source": [
      "\u0422\u0435\u043f\u0435\u0440\u044c \u043f\u0435\u0440\u0435\u0439\u0434\u0451\u043c \u043a $\\epsilon^{acc}$, \u043a\u043e\u0442\u043e\u0440\u044b\u0439 \u0432\u043e\u0437\u044c\u043c\u0451\u043c \u0438\u0437 c [\u044d\u0442\u043e\u0439](http://lhcb-release-area.web.cern.ch/LHCb-release-area/DOC/STATISTICS/SIM08STAT/index.shtml) \u0441\u0442\u0440\u0430\u043d\u0438\u0446\u044b(\u0438\u0437 \u043a\u043e\u043b\u043e\u043d\u043e\u043a \"Generator level cut efficiency\"), \u0437\u0430\u043f\u0438\u0448\u0435\u043c \u043f\u0430\u0440\u044b APPCONFIG-(\u044d\u0444\u0444\u0435\u043a\u0442\u0438\u0432\u043d\u043e\u0441\u0442\u044c, \u043e\u0448\u0438\u0431\u043a\u0430):"
     ]
    },
    {
     "cell_type": "code",
     "collapsed": false,
     "input": [
      "e_acceptance_norm = {\n",
      "    'Sim08-Beam3500GeV-md100-2011-nu2-Pythia8':   VE(0.15311, 0.00039**2), # http://lhcb-release-area.web.cern.ch/LHCb-release-area/DOC/STATISTICS/SIM08STAT/BandQ-WG/Generation_Sim08-Beam3500GeV-md100-2011-nu2-Pythia8.html#12145020\n",
      "    'Sim08-Beam3500GeV-mu100-2011-nu2-Pythia8':   VE(0.15390, 0.00039**2), # http://lhcb-release-area.web.cern.ch/LHCb-release-area/DOC/STATISTICS/SIM08STAT/BandQ-WG/Generation_Sim08-Beam3500GeV-mu100-2011-nu2-Pythia8.html#12145020\n",
      "    'Sim08-Beam4000GeV-mu100-2012-nu2.5-Pythia8': VE(0.1559 , 0.000393**2), # http://lhcb-release-area.web.cern.ch/LHCb-release-area/DOC/STATISTICS/SIM08STAT/BandQ-WG/Generation_Sim08-Beam4000GeV-mu100-2012-nu2.5-Pythia8.html#12145020\n",
      "    'Sim08-Beam4000GeV-md100-2012-nu2.5-Pythia8': VE(0.1562 , 0.000391**2), # http://lhcb-release-area.web.cern.ch/LHCb-release-area/DOC/STATISTICS/SIM08STAT/BandQ-WG/Generation_Sim08-Beam4000GeV-md100-2012-nu2.5-Pythia8.html#12145020\n",
      "}"
     ],
     "language": "python",
     "metadata": {},
     "outputs": [],
     "prompt_number": 5
    },
    {
     "cell_type": "heading",
     "level": 2,
     "metadata": {},
     "source": [
      "\u0421\u0438\u0433\u043d\u0430\u043b\u044c\u043d\u044b\u0439 \u043a\u0430\u043d\u0430\u043b"
     ]
    },
    {
     "cell_type": "markdown",
     "metadata": {},
     "source": [
      "\u0414\u043b\u044f \u0441\u0438\u0433\u043d\u0430\u043b\u044c\u043d\u043e\u0433\u043e \u043a\u0430\u043d\u0430\u043b\u0430 MC \u0431\u0440\u0430\u043b\u043e\u0441\u044c \u043a\u0430\u043a Pythia 6, \u0442\u0430\u043a \u0438 Pythia 8, \u043d\u043e \u0442\u0430\u043a \u043a\u0430\u043a \u0434\u043b\u044f \u0434\u043b\u044f \u043d\u043e\u0440\u043c\u0438\u0440\u043e\u0432\u043e\u0447\u043d\u043e\u0433\u043e \u0438\u0441\u043f\u043e\u043b\u044c\u0437\u0443\u0435\u0442\u0441\u044f Pythia 8, \u0442\u043e \u0432\u043e\u0437\u044c\u043c\u0451\u043c \u0442\u043e\u043b\u044c\u043a\u043e Pythia 8 \u0438 \u0434\u043b\u044f \u0441\u0438\u0433\u043d\u0430\u043b\u044c\u043d\u043e\u0433\u043e \u043a\u0430\u043d\u0430\u043b\u0430(EventType = __12245003__):"
     ]
    },
    {
     "cell_type": "code",
     "collapsed": false,
     "input": [
      "samples_sig = [\n",
      "    ('/MC/2011/Beam3500GeV-2011-MagDown-Nu2-Pythia8/Sim08b/Digi13/Trig0x40760037/Reco14a/Stripping20r1NoPrescalingFlagged/12245003/ALLSTREAMS.DST', 'Sim08-20130503', 'Sim08-20130503-vc-md100'),\n",
      "    ('/MC/2011/Beam3500GeV-2011-MagUp-Nu2-Pythia8/Sim08b/Digi13/Trig0x40760037/Reco14a/Stripping20r1NoPrescalingFlagged/12245003/ALLSTREAMS.DST', 'Sim08-20130503', 'Sim08-20130503-vc-mu100'),\n",
      "    ('/MC/2012/Beam4000GeV-2012-MagDown-Nu2.5-Pythia8/Sim08b/Digi13/Trig0x409f0045/Reco14a/Stripping20NoPrescalingFlagged/12245003/ALLSTREAMS.DST', 'Sim08-20130503-1', 'Sim08-20130503-1-vc-md100'),\n",
      "    ('/MC/2012/Beam4000GeV-2012-MagUp-Nu2.5-Pythia8/Sim08b/Digi13/Trig0x409f0045/Reco14a/Stripping20NoPrescalingFlagged/12245003/ALLSTREAMS.DST', 'Sim08-20130503-1', 'Sim08-20130503-1-vc-mu100'),\n",
      "]"
     ],
     "language": "python",
     "metadata": {},
     "outputs": [],
     "prompt_number": 6
    },
    {
     "cell_type": "markdown",
     "metadata": {},
     "source": [
      "\u0422\u0435\u043c \u0436\u0435 \u043c\u0435\u0442\u043e\u0434\u043e\u043c, \u0447\u0442\u043e \u0438 \u0434\u043b\u044f \u043d\u043e\u0440\u043c\u0438\u0440\u043e\u0432\u043e\u0447\u043d\u043e\u0433\u043e \u043a\u0430\u043d\u0430\u043b\u0430(`grep` \u0432 `gangadir`) \u043f\u043e\u0441\u0447\u0438\u0442\u0430\u0435\u043c \u043a\u043e\u043b\u0438\u0447\u0435\u0441\u0442\u0432\u043e \u0441\u0433\u0435\u043d\u0435\u0440\u0438\u0440\u043e\u0432\u0430\u043d\u043d\u044b\u0445 \u0441\u043e\u0431\u044b\u0442\u0438\u0439:"
     ]
    },
    {
     "cell_type": "code",
     "collapsed": false,
     "input": [
      "N_gen_sig = VE(1521498, 1521498)"
     ],
     "language": "python",
     "metadata": {},
     "outputs": [],
     "prompt_number": 7
    },
    {
     "cell_type": "code",
     "collapsed": false,
     "input": [
      "e_acceptance_sig = {\n",
      "    'Sim08-Beam3500GeV-md100-2011-nu2-Pythia8':   VE(0.15678, 0.00041**2), # http://lhcb-release-area.web.cern.ch/LHCb-release-area/DOC/STATISTICS/SIM08STAT/BandQ-WG/Generation_Sim08-Beam3500GeV-md100-2011-nu2-Pythia8.html#12245003\n",
      "    'Sim08-Beam3500GeV-mu100-2011-nu2-Pythia8':   VE(0.15713, 0.00039**2), # http://lhcb-release-area.web.cern.ch/LHCb-release-area/DOC/STATISTICS/SIM08STAT/BandQ-WG/Generation_Sim08-Beam3500GeV-mu100-2011-nu2-Pythia8.html#12245003\n",
      "    'Sim08-Beam4000GeV-mu100-2012-nu2.5-Pythia8': VE(0.16175 , 0.00060**2), # http://lhcb-release-area.web.cern.ch/LHCb-release-area/DOC/STATISTICS/SIM08STAT/BandQ-WG/Generation_Sim08-Beam4000GeV-mu100-2012-nu2.5-Pythia8.html#12245003\n",
      "    'Sim08-Beam4000GeV-md100-2012-nu2.5-Pythia8': VE(0.1609 , 0.0013**2), # http://lhcb-release-area.web.cern.ch/LHCb-release-area/DOC/STATISTICS/SIM08STAT/BandQ-WG/Generation_Sim08-Beam4000GeV-md100-2012-nu2.5-Pythia8.html#12245003\n",
      "}"
     ],
     "language": "python",
     "metadata": {},
     "outputs": [],
     "prompt_number": 8
    },
    {
     "cell_type": "heading",
     "level": 2,
     "metadata": {},
     "source": [
      "\u041e\u0442\u043d\u043e\u0448\u0435\u043d\u0438\u0435 \u044d\u0444\u0444\u0435\u043a\u0442\u0438\u0432\u043d\u043e\u0441\u0442\u0435\u0439"
     ]
    },
    {
     "cell_type": "markdown",
     "metadata": {},
     "source": [
      "\u041f\u043e\u0441\u043c\u043e\u0442\u0440\u0438\u043c \u043a\u0430\u043a \u0432\u0435\u0434\u0451\u0442 \u0441\u0435\u0431\u044f \u043e\u0442\u043d\u043e\u0448\u0435\u043d\u0438\u0435 \u044d\u0444\u0444\u0435\u043a\u0442\u0438\u0432\u043d\u043e\u0441\u0442\u0435\u0439 \u0438 \u043f\u043e\u043f\u0440\u043e\u0431\u0443\u0435\u043c\u043e \u043e\u0442\u0444\u0438\u0442\u0438\u0440\u043e\u0432\u0430\u0442\u044c \u0435\u0433\u043e \u043a\u043e\u043d\u0441\u0442\u0430\u043d\u0442\u043e\u0439:"
     ]
    },
    {
     "cell_type": "code",
     "collapsed": false,
     "input": [
      "# for k in e_acceptance_sig.keys():\n",
      "#     print k, (e_acceptance_sig[k] / e_acceptance_norm[k])"
     ],
     "language": "python",
     "metadata": {},
     "outputs": [],
     "prompt_number": 9
    },
    {
     "cell_type": "markdown",
     "metadata": {},
     "source": [
      "\u0421\u0440\u0435\u0434\u043d\u0435\u0435:"
     ]
    },
    {
     "cell_type": "code",
     "collapsed": false,
     "input": [
      "e_acc_ratio = sum([(e_acceptance_sig[k] / e_acceptance_norm[k]) for k in e_acceptance_sig.keys()]) / len(e_acceptance_sig)"
     ],
     "language": "python",
     "metadata": {},
     "outputs": [],
     "prompt_number": 11
    }
   ],
   "metadata": {}
  }
 ]
}