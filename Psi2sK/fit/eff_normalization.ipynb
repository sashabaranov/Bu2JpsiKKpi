{
 "metadata": {
  "name": "",
  "signature": "sha256:d7cb975a56cff9f477292a9cf5b93dbde2e8ab5f0bc57ad7cd3d42df6528042d"
 },
 "nbformat": 3,
 "nbformat_minor": 0,
 "worksheets": [
  {
   "cells": [
    {
     "cell_type": "heading",
     "level": 1,
     "metadata": {},
     "source": [
      "\u041f\u043e\u0434\u0441\u0447\u0451\u0442 $\\epsilon^{trig\\&reco\\&sel}$ \u0438 $\\epsilon^{reco\\&sel}$ \u0434\u043b\u044f \u043d\u043e\u0440\u043c\u0438\u0440\u043e\u0432\u043e\u0447\u043d\u043e\u0433\u043e \u043a\u0430\u043d\u0430\u043b\u0430 $B_{u} \\to (\\psi(2S) \\to J/\\psi \\pi \\pi) K$"
     ]
    },
    {
     "cell_type": "markdown",
     "metadata": {},
     "source": [
      "\u0411\u0430\u0437\u043e\u0432\u044b\u0435 \u0432\u0435\u0449\u0438:"
     ]
    },
    {
     "cell_type": "code",
     "collapsed": false,
     "input": [
      "import ROOT, random\n",
      "from   Ostap import *\n",
      "from   Ostap.PyRoUts import *\n",
      "from Ostap.Selectors import SelectorWithVarsCached\n",
      "\n",
      "import Ostap.FitModels as Models\n",
      "\n",
      "\n",
      "\n",
      "from ostap import *\n",
      "from data import *\n",
      "from cuts import *"
     ],
     "language": "python",
     "metadata": {},
     "outputs": [
      {
       "output_type": "stream",
       "stream": "stdout",
       "text": [
        "# Ostap.PyRoUts             INFO    Zillions of decorations for ROOT   objects\n"
       ]
      },
      {
       "output_type": "stream",
       "stream": "stdout",
       "text": [
        "# setting LC_ALL to \"C\"\n",
        "DEFINE default storage type to be TTree! "
       ]
      },
      {
       "output_type": "stream",
       "stream": "stdout",
       "text": [
        "\n"
       ]
      }
     ],
     "prompt_number": 1
    },
    {
     "cell_type": "code",
     "collapsed": false,
     "input": [
      "# Bu meson\n",
      "m_Bu = ROOT.RooRealVar('m_Bu', 'mass(J/#psi K #pi #pi)', 5.15, 5.45)\n",
      "nbin_Bu = 150\n",
      "binning_b = (m_Bu.getMax() - m_Bu.getMin()) / nbin_Bu * 1000\n",
      "selector_variables = [(m_Bu, lambda s: s.DTFm_b )]"
     ],
     "language": "python",
     "metadata": {},
     "outputs": [],
     "prompt_number": 2
    },
    {
     "cell_type": "heading",
     "level": 3,
     "metadata": {},
     "source": [
      "\u042d\u0444\u0444\u0435\u043a\u0442\u0438\u0432\u043d\u043e\u0441\u0442\u044c \u0440\u0435\u043a\u043e\u043d\u0441\u0442\u0440\u0443\u043a\u0446\u0438\u0438 \u0438 \u043e\u0442\u0431\u043e\u0440\u0430 $\\epsilon^{reco\\&sel}$"
     ]
    },
    {
     "cell_type": "code",
     "collapsed": false,
     "input": [
      "cuts_rs = cuts_ + mctrue\n",
      "\n",
      "for cut in prntCuts(cuts_rs):\n",
      "    print cut\n",
      "\n",
      "sel_Bu = SelectorWithVarsCached(\n",
      "    variables=selector_variables,\n",
      "    selection=cuts_rs,\n",
      "    files=mc_Pythia8.files\n",
      ")\n",
      "\n",
      "if not sel_Bu._loaded_from_cache:\n",
      "    mc_Pythia8.chain.process(sel_Bu)\n",
      "    \n",
      "ds_Bu = sel_Bu.dataset()"
     ],
     "language": "python",
     "metadata": {},
     "outputs": [
      {
       "output_type": "stream",
       "stream": "stdout",
       "text": [
        " DTFchi2ndof > 0\n",
        " DTFchi2ndof < 5\n",
        " DTFctau > 0.25\n",
        " vchi2_b < 20\n",
        " pt_pion[0] > 0.3 \n",
        " pt_pion[1] > 0.3\n",
        " pt_kaon > 0.6\n",
        " m_jpsi    > 3.020 \n",
        " m_jpsi    < 3.135\n",
        " minann_K  > 0.3 \n",
        " minann_pi > 0.3\n",
        " MIPCHI2DV_k > 12. \n",
        " MIPCHI2DV_pi1 > 12. \n",
        " MIPCHI2DV_pi2 > 12. \n",
        " mcTrueB \n",
        " mcTruePsi \n",
        " mcTruePi1 \n",
        " mcTruePi2 \n",
        " mcTrueK \n",
        " mcTrueMu1 \n",
        " mcTrueMu2\n",
        "# Ostap.ZipShelve           INFO    Open DB: /home/sashab1/.ostap/cache/31e3e88744ce3e535d5dcdfd3673d81639c30bb2e71043c10bca358a84f0c10a3df781db3a529c088e28837a0b2fcdc158478402b2f0eff9ae28fb89665505a6.shelve\n"
       ]
      }
     ],
     "prompt_number": 3
    },
    {
     "cell_type": "code",
     "collapsed": false,
     "input": [
      "s1_Bu = Models.CB2_pdf(\n",
      "    'Bu1',\n",
      "    m_Bu.getMin(),\n",
      "    m_Bu.getMax(),\n",
      "    fixMass=5.2792e+0,\n",
      "    fixSigma=0.008499e+0,\n",
      "    fixAlphaL=2.1005,\n",
      "    fixAlphaR=1.8805,\n",
      "    fixNL=1.215,\n",
      "    fixNR=2.765,\n",
      "    mass=m_Bu\n",
      ")\n",
      "\n",
      "\n",
      "model_Bu = Models.Fit1D(\n",
      "    signal=s1_Bu,\n",
      "    background=Models.Bkg_pdf('BBu', mass=m_Bu), suffix='Bu'\n",
      ")"
     ],
     "language": "python",
     "metadata": {},
     "outputs": [],
     "prompt_number": 4
    },
    {
     "cell_type": "code",
     "collapsed": false,
     "input": [
      "model_Bu.s.setMax(1.2 * len(ds_Bu))\n",
      "ru, fu = model_Bu.fitTo(ds_Bu, draw=True, nbins=nbin_Bu)\n",
      "\n",
      "model_Bu.signal.sigma.release()\n",
      "model_Bu.signal.mean.release()\n",
      "ru, fu = model_Bu.fitTo(ds_Bu, draw=True, nbins=nbin_Bu)\n",
      "\n",
      "model_Bu.signal.aR.release()\n",
      "model_Bu.signal.aL.release()\n",
      "ru, fu = model_Bu.fitTo(ds_Bu, draw=True, nbins=nbin_Bu)\n",
      "\n",
      "model_Bu.signal.nR.release()\n",
      "model_Bu.signal.nL.release()\n",
      "\n",
      "ru, fu = model_Bu.fitTo(ds_Bu, draw=True, nbins=nbin_Bu)"
     ],
     "language": "python",
     "metadata": {},
     "outputs": [],
     "prompt_number": 5
    },
    {
     "cell_type": "code",
     "collapsed": false,
     "input": [
      "canvas = rootnotes.random_canvas(size=(1024, 768))\n",
      "\n",
      "fu.SetTitle(\"\")\n",
      "fu.SetXTitle(\"Inv. mass(J/#psi K #pi#pi), GeV/c^{2}\")\n",
      "fu.SetYTitle(\"Events / %.1f MeV/c^{2}\" % binning_b)\n",
      "\n",
      "# fu.SetAxisRange(0.5, 5500, 'Y')\n",
      "\n",
      "fu.Draw()\n",
      "\n",
      "\n",
      "canvas.SetLogy()\n",
      "canvas"
     ],
     "language": "python",
     "metadata": {},
     "outputs": [
      {
       "metadata": {},
       "output_type": "pyout",
       "png": "[encoded data removed]",
       "prompt_number": 6,
       "text": [
        "<ROOT.TCanvas object (\"52bf3e46-f22b-43da-a1d9-3eaba2be8786\") at 0x878bd50>"
       ]
      }
     ],
     "prompt_number": 6
    },
    {
     "cell_type": "code",
     "collapsed": false,
     "input": [
      "ipython_tools.params_table(ru)"
     ],
     "language": "python",
     "metadata": {},
     "outputs": [
      {
       "html": [
        "Fit status: <b>Full, accurate covariance matrix</b><br/>minNll: <b>-461684.531315</b><br/><table><tr><th>Name</th> <th>Value</th> <th>Min</th> <th>Max</th> </tr><tr><th>aR_Bu1</th> <th>( 1.722 +- 0.0351361 )</th> <th>0.0</th> <th>10.0</th></tr><tr><th>SBu</th> <th>( 35814.6 +- 191.667 )</th> <th>0.0</th> <th>43138.8</th></tr><tr><th>aL_Bu1</th> <th>( 1.8438 +- 0.0387469 )</th> <th>0.0</th> <th>10.0</th></tr><tr><th>sigma_Bu1</th> <th>( 0.00667421 +- 4.55807e-05 )</th> <th>0.0</th> <th>0.103923048454</th></tr><tr><th>nR_Bu1</th> <th>( 9.99999 +- 0.638172 )</th> <th>0.0</th> <th>10.0</th></tr><tr><th>nL_Bu1</th> <th>( 1.16704 +- 0.138879 )</th> <th>0.0</th> <th>10.0</th></tr><tr><th>BBu</th> <th>( 134.831 +- 32.5083 )</th> <th>0.0</th> <th>1000000.0</th></tr><tr><th>tau_BBu</th> <th>( -5.12959 +- 1.86485 )</th> <th>-122.804538293</th> <th>122.804538293</th></tr><tr><th>mean_Bu1</th> <th>( 5.27973 +- 4.28514e-05 )</th> <th>5.15</th> <th>5.45</th></tr></table>"
       ],
       "metadata": {},
       "output_type": "pyout",
       "prompt_number": 7,
       "text": [
        "<IPython.core.display.HTML at 0x7e417d0>"
       ]
      }
     ],
     "prompt_number": 7
    },
    {
     "cell_type": "markdown",
     "metadata": {},
     "source": [
      "\u041e\u0442\u043b\u0438\u0447\u043d\u043e, \u0442\u0435\u043f\u0435\u0440\u044c \u043f\u043e\u0441\u0447\u0438\u0442\u0430\u0435\u043c \u0442\u0440\u0438\u0433\u0433\u0435\u0440\u043d\u0443\u044e \u044d\u0444\u0444\u0435\u043a\u0442\u0438\u0432\u043d\u043e\u0441\u0442\u044c:"
     ]
    },
    {
     "cell_type": "code",
     "collapsed": false,
     "input": [
      "from eff_acc import N_gen_norm\n",
      "print \" ---------------------------------- \"\n",
      "print \"Total number of generated events: \", N_gen_norm\n",
      "print \" ---------------------------------- \""
     ],
     "language": "python",
     "metadata": {},
     "outputs": [
      {
       "output_type": "stream",
       "stream": "stdout",
       "text": [
        "importing IPython notebook from eff_acc.ipynb\n",
        "Sim08-Beam4000GeV-md100-2012-nu2.5-Pythia8 ( 1.03009 +- 0.00871295 )\n",
        "Sim08-Beam3500GeV-mu100-2011-nu2-Pythia8 ( 1.02099 +- 0.00362158 )\n",
        "Sim08-Beam3500GeV-md100-2011-nu2-Pythia8 ( 1.02397 +- 0.00373813 )\n",
        "Sim08-Beam4000GeV-mu100-2012-nu2.5-Pythia8 ( 1.03752 +- 0.00465321 )\n",
        "( 1.02814 +- 0.00279125 )\n",
        " ---------------------------------- \n",
        "Total number of generated events:  ( 3.6733e+06 +- 1916.59 )\n",
        " ---------------------------------- \n"
       ]
      }
     ],
     "prompt_number": 8
    },
    {
     "cell_type": "code",
     "collapsed": false,
     "input": [
      "e_reco_sel = ru(\"SBu\")[0] /  N_gen_norm \n",
      "print e_reco_sel"
     ],
     "language": "python",
     "metadata": {},
     "outputs": [
      {
       "output_type": "stream",
       "stream": "stdout",
       "text": [
        "( 0.00974997 +- 5.24259e-05 )\n"
       ]
      }
     ],
     "prompt_number": 9
    },
    {
     "cell_type": "heading",
     "level": 2,
     "metadata": {},
     "source": [
      "\u041f\u043e\u043b\u043d\u0430\u044f \u044d\u0444\u0444\u0435\u043a\u0442\u0438\u0432\u043d\u043e\u0441\u0442\u044c $\\epsilon^{trig\\&reco\\&sel}$"
     ]
    },
    {
     "cell_type": "code",
     "collapsed": false,
     "input": [
      "cuts_full = cuts_mc\n",
      "\n",
      "for cut in prntCuts(cuts_full):\n",
      "    print cut"
     ],
     "language": "python",
     "metadata": {},
     "outputs": [
      {
       "output_type": "stream",
       "stream": "stdout",
       "text": [
        " DTFchi2ndof > 0\n",
        " DTFchi2ndof < 5\n",
        " DTFctau > 0.25\n",
        " vchi2_b < 20\n",
        " pt_pion[0] > 0.3 \n",
        " pt_pion[1] > 0.3\n",
        " pt_kaon > 0.6\n",
        " m_jpsi    > 3.020 \n",
        " m_jpsi    < 3.135\n",
        " minann_K  > 0.3 \n",
        " minann_pi > 0.3\n",
        " MIPCHI2DV_k > 12. \n",
        " MIPCHI2DV_pi1 > 12. \n",
        " MIPCHI2DV_pi2 > 12.\n",
        " ((psi_l0tos & 2) == 2)\n",
        " ((psi_l1tos & 2) == 2)\n",
        " ((psi_l2tos & 2) == 2) \n",
        " mcTrueB \n",
        " mcTruePsi \n",
        " mcTruePi1 \n",
        " mcTruePi2 \n",
        " mcTrueK \n",
        " mcTrueMu1 \n",
        " mcTrueMu2\n"
       ]
      }
     ],
     "prompt_number": 10
    },
    {
     "cell_type": "code",
     "collapsed": false,
     "input": [
      "sel_Bu = SelectorWithVarsCached(\n",
      "    variables=selector_variables,\n",
      "    selection=cuts_full,\n",
      "    files=mc_Pythia8.files\n",
      ")\n",
      "\n",
      "if not sel_Bu._loaded_from_cache:\n",
      "    mc_Pythia8.chain.process(sel_Bu)\n",
      "    \n",
      "ds_Bu = sel_Bu.dataset()"
     ],
     "language": "python",
     "metadata": {},
     "outputs": [
      {
       "output_type": "stream",
       "stream": "stdout",
       "text": [
        "# Ostap.ZipShelve           INFO    Open DB: /home/sashab1/.ostap/cache/cc2e852587ae01e1aff87dedf2a7b2d82334d6e05f3795efa32bc8f1090c82837222b5f671661dc72832c5316606c32031ff821fc5e03a7fcb4ce756d8fd56d9.shelve\n"
       ]
      }
     ],
     "prompt_number": 11
    },
    {
     "cell_type": "code",
     "collapsed": false,
     "input": [
      "ru_trig, fu_trig = model_Bu.fitTo(ds_Bu, draw=True, nbins=nbin_Bu)"
     ],
     "language": "python",
     "metadata": {},
     "outputs": [],
     "prompt_number": 12
    },
    {
     "cell_type": "code",
     "collapsed": false,
     "input": [
      "canvas = rootnotes.random_canvas(size=(1024, 768))\n",
      "\n",
      "fu_trig.SetTitle(\"\")\n",
      "fu_trig.SetXTitle(\"Inv. mass(J/#psi K #pi#pi), GeV/c^{2}\")\n",
      "fu_trig.SetYTitle(\"Events / %.1f MeV/c^{2}\" % binning_b)\n",
      "\n",
      "# fu.SetAxisRange(0.5, 5500, 'Y')\n",
      "\n",
      "fu_trig.Draw()\n",
      "\n",
      "\n",
      "canvas.SetLogy()\n",
      "canvas"
     ],
     "language": "python",
     "metadata": {},
     "outputs": [
      {
       "metadata": {},
       "output_type": "pyout",
       "png": "[encoded data removed]",
       "prompt_number": 13,
       "text": [
        "<ROOT.TCanvas object (\"95ca243e-35ce-47b0-8ab5-252ac0f0e7d9\") at 0x835fb10>"
       ]
      }
     ],
     "prompt_number": 13
    },
    {
     "cell_type": "code",
     "collapsed": false,
     "input": [
      "ipython_tools.params_table(ru_trig)"
     ],
     "language": "python",
     "metadata": {},
     "outputs": [
      {
       "html": [
        "Fit status: <b>Full, accurate covariance matrix</b><br/>minNll: <b>-419614.982392</b><br/><table><tr><th>Name</th> <th>Value</th> <th>Min</th> <th>Max</th> </tr><tr><th>aR_Bu1</th> <th>( 1.70122 +- 0.0333462 )</th> <th>0.0</th> <th>10.0</th></tr><tr><th>SBu</th> <th>( 32774.7 +- 183.413 )</th> <th>0.0</th> <th>43138.8</th></tr><tr><th>aL_Bu1</th> <th>( 1.82559 +- 0.0378604 )</th> <th>0.0</th> <th>10.0</th></tr><tr><th>sigma_Bu1</th> <th>( 0.00667017 +- 4.74653e-05 )</th> <th>0.0</th> <th>0.103923048454</th></tr><tr><th>nR_Bu1</th> <th>( 10 +- 0.516004 )</th> <th>0.0</th> <th>10.0</th></tr><tr><th>nL_Bu1</th> <th>( 1.25539 +- 0.146533 )</th> <th>0.0</th> <th>10.0</th></tr><tr><th>BBu</th> <th>( 126.058 +- 31.4917 )</th> <th>0.0</th> <th>1000000.0</th></tr><tr><th>tau_BBu</th> <th>( -5.26817 +- 1.9483 )</th> <th>-122.804538293</th> <th>122.804538293</th></tr><tr><th>mean_Bu1</th> <th>( 5.27971 +- 4.47638e-05 )</th> <th>5.15</th> <th>5.45</th></tr></table>"
       ],
       "metadata": {},
       "output_type": "pyout",
       "prompt_number": 14,
       "text": [
        "<IPython.core.display.HTML at 0x7e41810>"
       ]
      }
     ],
     "prompt_number": 14
    },
    {
     "cell_type": "code",
     "collapsed": false,
     "input": [
      "e_full = ru_trig(\"SBu\")[0] /  N_gen_norm \n",
      "print e_full"
     ],
     "language": "python",
     "metadata": {},
     "outputs": [
      {
       "output_type": "stream",
       "stream": "stdout",
       "text": [
        "( 0.00892241 +- 5.0148e-05 )\n"
       ]
      }
     ],
     "prompt_number": 15
    },
    {
     "cell_type": "heading",
     "level": 3,
     "metadata": {},
     "source": [
      "\u0422\u0440\u0438\u0433\u0433\u0435\u0440\u043d\u0430\u044f \u044d\u0444\u0444\u0435\u043a\u0442\u0438\u0432\u043d\u043e\u0441\u0442\u044c"
     ]
    },
    {
     "cell_type": "code",
     "collapsed": false,
     "input": [
      "e_trig = e_full / e_reco_sel\n",
      "\n",
      "print \"Norm:\"\n",
      "print \"Full:    \", e_full\n",
      "print \"Rec&Sel: \", e_reco_sel\n",
      "print \"Trigger: \", e_trig"
     ],
     "language": "python",
     "metadata": {},
     "outputs": [
      {
       "output_type": "stream",
       "stream": "stdout",
       "text": [
        "Norm:\n",
        "Full:     ( 0.00892241 +- 5.0148e-05 )\n",
        "Rec&Sel:  ( 0.00974997 +- 5.24259e-05 )\n",
        "Trigger:  ( 0.915122 +- 0.00711809 )\n"
       ]
      }
     ],
     "prompt_number": 16
    },
    {
     "cell_type": "code",
     "collapsed": false,
     "input": [],
     "language": "python",
     "metadata": {},
     "outputs": [],
     "prompt_number": 53
    }
   ],
   "metadata": {}
  }
 ]
}