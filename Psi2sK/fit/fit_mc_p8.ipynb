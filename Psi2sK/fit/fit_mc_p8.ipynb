{
 "metadata": {
  "name": "",
  "signature": "sha256:2cd17fd26e8210709f4a31f60bb543860d4a624dfcaa3abbdd02f99946831a4f"
 },
 "nbformat": 3,
 "nbformat_minor": 0,
 "worksheets": [
  {
   "cells": [
    {
     "cell_type": "heading",
     "level": 1,
     "metadata": {},
     "source": [
      "$B_{u} \\to J/\\psi KK\\pi$ MC Pythia8 fit"
     ]
    },
    {
     "cell_type": "markdown",
     "metadata": {},
     "source": [
      "__Basic imports__:"
     ]
    },
    {
     "cell_type": "code",
     "collapsed": false,
     "input": [
      "import ROOT, random\n",
      "from   Ostap import *\n",
      "from   Ostap.PyRoUts import *\n",
      "import Ostap.FitModels as Models\n",
      "\n",
      "from ostap import *"
     ],
     "language": "python",
     "metadata": {},
     "outputs": [
      {
       "output_type": "stream",
       "stream": "stdout",
       "text": [
        "# Ostap.PyRoUts             INFO    Zillions of decorations for ROOT   objects\n"
       ]
      },
      {
       "output_type": "stream",
       "stream": "stdout",
       "text": [
        "# setting LC_ALL to \"C\"\n"
       ]
      }
     ],
     "prompt_number": 1
    },
    {
     "cell_type": "markdown",
     "metadata": {},
     "source": [
      "__Variables__:"
     ]
    },
    {
     "cell_type": "code",
     "collapsed": false,
     "input": [
      "# Bu meson\n",
      "m_Bu = ROOT.RooRealVar('m_Bu', 'mass(J/#psi K #pi #pi)', 5.15, 5.45)\n",
      "nbin_Bu = 150\n",
      "binning_b = (m_Bu.getMax() - m_Bu.getMin()) / nbin_Bu * 1000\n",
      "\n",
      "# Psi(2s)\n",
      "m_Psi = ROOT.RooRealVar('m134c2', 'mass(J/#psi #pi #pi)', 3.666, 3.706)\n",
      "nbin_Psi = 40\n",
      "binning_psi = (m_Psi.getMax() - m_Psi.getMin()) / nbin_Psi * 1000\n",
      "\n",
      "\n",
      "selector_variables = [(m_Bu, lambda s: s.DTFm_b )] + [(m_Psi, lambda s: s.m134c2)]"
     ],
     "language": "python",
     "metadata": {},
     "outputs": [],
     "prompt_number": 2
    },
    {
     "cell_type": "markdown",
     "metadata": {},
     "source": [
      "__Project nTuple to RooFit's dataset__"
     ]
    },
    {
     "cell_type": "code",
     "collapsed": false,
     "input": [
      "from cuts import cuts_Bu, mctrue\n",
      "from data import mc_Pythia8\n",
      "\n",
      "from Ostap.Selectors import SelectorWithVarsCached\n",
      "\n",
      "cuts_Bu += mctrue\n",
      "\n",
      "sel_Bu = SelectorWithVarsCached(\n",
      "    variables=selector_variables,\n",
      "    selection=cuts_Bu,\n",
      "    files=mc_Pythia8.files\n",
      ")\n",
      "if not sel_Bu._loaded_from_cache:\n",
      "    mc_Pythia8.chain.process(sel_Bu)\n",
      "\n",
      "ds_Bu = sel_Bu.dataset()"
     ],
     "language": "python",
     "metadata": {},
     "outputs": [
      {
       "output_type": "stream",
       "stream": "stdout",
       "text": [
        "DEFINE default storage type to be TTree! \n",
        "# Ostap.ZipShelve           INFO    Open DB: /home/sashab1/.ostap/cache/ce8141a8d9080c70b66e373a8be4cd0ae1365fff3e2869e2d22961bcd1bdfd60a8a7cdb0d8c14e674392e56271a1436a48ce2b79976a879de61c7df5d944fb4e.shelve\n"
       ]
      }
     ],
     "prompt_number": 3
    },
    {
     "cell_type": "heading",
     "level": 2,
     "metadata": {},
     "source": [
      "Fit B"
     ]
    },
    {
     "cell_type": "code",
     "collapsed": false,
     "input": [
      "s1_Bu = Models.CB2_pdf(\n",
      "    'Bu1',\n",
      "    m_Bu.getMin(),\n",
      "    m_Bu.getMax(),\n",
      "    fixMass=5.2792e+0,\n",
      "    fixSigma=0.008499e+0,\n",
      "    fixAlphaL=2.1005,\n",
      "    fixAlphaR=1.8805,\n",
      "    fixNL=1.215,\n",
      "    fixNR=2.765,\n",
      "    mass=m_Bu\n",
      ")\n",
      "\n",
      "\n",
      "model_Bu = Models.Fit1D(\n",
      "    signal=s1_Bu,\n",
      "    background=Models.Bkg_pdf('BBu', mass=m_Bu), suffix='Bu'\n",
      ")\n",
      "\n",
      "model_Bu.b.fix(0)\n",
      "model_Bu.background.tau.fix(0)"
     ],
     "language": "python",
     "metadata": {},
     "outputs": [
      {
       "metadata": {},
       "output_type": "pyout",
       "prompt_number": 4,
       "text": [
        "( 0 +- 0 )"
       ]
      }
     ],
     "prompt_number": 4
    },
    {
     "cell_type": "code",
     "collapsed": false,
     "input": [
      "model_Bu.s.setMax(1.2 * len(ds_Bu))\n",
      "ru, fu = model_Bu.fitTo(ds_Bu, draw=True, nbins=nbin_Bu)\n",
      "\n",
      "model_Bu.signal.sigma.release()\n",
      "model_Bu.signal.mean.release()\n",
      "ru, fu = model_Bu.fitTo(ds_Bu, draw=True, nbins=nbin_Bu)\n",
      "\n",
      "model_Bu.signal.aR.release()\n",
      "model_Bu.signal.aL.release()\n",
      "ru, fu = model_Bu.fitTo(ds_Bu, draw=True, nbins=nbin_Bu)\n",
      "\n",
      "model_Bu.signal.nR.release()\n",
      "model_Bu.signal.nL.release()\n",
      "\n",
      "ru, fu = model_Bu.fitTo(ds_Bu, draw=True, nbins=nbin_Bu)"
     ],
     "language": "python",
     "metadata": {},
     "outputs": [],
     "prompt_number": 5
    },
    {
     "cell_type": "code",
     "collapsed": false,
     "input": [
      "canvas = rootnotes.random_canvas(size=(1024, 768))\n",
      "\n",
      "fu.SetXTitle(\"Inv.\\,mass(J/\\psi\\,K\\pi\\pi), GeV/c^{2}}\")\n",
      "fu.SetYTitle(\"Events / %.1f MeV/c^{2}\" % binning_b)\n",
      "\n",
      "# fu.SetAxisRange(0.5, 5500, 'Y')\n",
      "\n",
      "fu.Draw()\n",
      "\n",
      "\n",
      "canvas.SetLogy()\n",
      "canvas"
     ],
     "language": "python",
     "metadata": {},
     "outputs": []
    },
    {
     "cell_type": "code",
     "collapsed": false,
     "input": [
      "canvas = rootnotes.random_canvas(size=(1024, 768))\n",
      "\n",
      "fu.SetXTitle(\"Inv.\\,mass(J/\\psi\\,K\\pi\\pi), GeV/c^{2}}\")\n",
      "fu.SetYTitle(\"Events / %.1f MeV/c^{2}\" % binning_b)\n",
      "\n",
      "y_axis = fu.GetYaxis()\n",
      "y_axis.SetTitleOffset(1.3)\n",
      "fu.Draw()\n",
      "\n",
      "canvas"
     ],
     "language": "python",
     "metadata": {},
     "outputs": [
      {
       "metadata": {},
       "output_type": "pyout",
       "png": "[encoded data removed]",
       "prompt_number": 7,
       "text": [
        "<ROOT.TCanvas object (\"ac72bed0-85ea-4893-98aa-155becf86519\") at 0x7258420>"
       ]
      }
     ],
     "prompt_number": 7
    },
    {
     "cell_type": "code",
     "collapsed": false,
     "input": [
      "ipython_tools.params_table(ru)"
     ],
     "language": "python",
     "metadata": {},
     "outputs": [
      {
       "html": [
        "Fit status: <b>Full, accurate covariance matrix</b><br/>minNll: <b>-415951.577934</b><br/><table><tr><th>Name</th> <th>Value</th> <th>Min</th> <th>Max</th> </tr><tr><th>aR_Bu1</th> <th>( 2.03942 +- 0.0579041 )</th> <th>0.0</th> <th>10.0</th></tr><tr><th>SBu</th> <th>( 32506.3 +- 180.292 )</th> <th>0.0</th> <th>39007.2</th></tr><tr><th>aL_Bu1</th> <th>( 1.94595 +- 0.0424613 )</th> <th>0.0</th> <th>10.0</th></tr><tr><th>sigma_Bu1</th> <th>( 0.00680444 +- 4.63617e-05 )</th> <th>0.0</th> <th>0.103923048454</th></tr><tr><th>nR_Bu1</th> <th>( 2.8939 +- 0.335171 )</th> <th>0.0</th> <th>10.0</th></tr><tr><th>nL_Bu1</th> <th>( 1.53919 +- 0.142329 )</th> <th>0.0</th> <th>10.0</th></tr><tr><th>mean_Bu1</th> <th>( 5.27973 +- 4.42528e-05 )</th> <th>5.15</th> <th>5.45</th></tr></table>"
       ],
       "metadata": {},
       "output_type": "pyout",
       "prompt_number": 8,
       "text": [
        "<IPython.core.display.HTML at 0x672ead0>"
       ]
      }
     ],
     "prompt_number": 8
    },
    {
     "cell_type": "heading",
     "level": 2,
     "metadata": {},
     "source": [
      "Fit $\\psi(2S)$"
     ]
    },
    {
     "cell_type": "code",
     "collapsed": false,
     "input": [
      "s1_Psi = Models.CB2_pdf(\n",
      "    'psi2s',\n",
      "    m_Psi.getMin(),\n",
      "    m_Psi.getMax(),\n",
      "    fixMass=3.686,\n",
      "    fixSigma=0.002201,\n",
      "    fixAlphaL=1.896,\n",
      "    fixAlphaR=1.584,\n",
      "    fixNL=0.912,\n",
      "    fixNR=8.8,\n",
      "    mass=m_Psi\n",
      ")\n",
      "\n",
      "bkg_psi = Models.PSNL_pdf(\"bkg\", m_Psi, 3, 4, 3.096 + 2*0.139, 5.45   - 0.5)\n",
      "model_Psi = Models.Fit1D(\n",
      "    signal=s1_Psi,\n",
      "    background=Models.Bkg_pdf('PsiBkg', mass=m_Psi, power=0),\n",
      "#     background=bkg_psi,\n",
      "    suffix='Res'\n",
      ")\n",
      "\n",
      "model_Psi.background.tau.fix(0)\n",
      "model_Psi.b.fix(0)\n",
      "\n",
      "s1_Psi.nR.setMax(20.0)"
     ],
     "language": "python",
     "metadata": {},
     "outputs": [],
     "prompt_number": 13
    },
    {
     "cell_type": "code",
     "collapsed": false,
     "input": [
      "model_Bu.s.setMax(1.2 * len(ds_Bu))\n",
      "ru, fu = model_Psi.fitTo(ds_Bu, draw=True, nbins=nbin_Psi)\n",
      "\n",
      "model_Psi.signal.sigma.release()\n",
      "model_Psi.signal.mean.release()\n",
      "ru, fu = model_Psi.fitTo(ds_Bu, draw=True, nbins=nbin_Psi)\n",
      "\n",
      "model_Psi.signal.aR.release()\n",
      "model_Psi.signal.aL.release()\n",
      "ru, fu = model_Psi.fitTo(ds_Bu, draw=True, nbins=nbin_Psi)\n",
      "\n",
      "model_Psi.signal.nR.release()\n",
      "model_Psi.signal.nL.release()\n",
      "\n",
      "ru, fu = model_Psi.fitTo(ds_Bu, draw=True, nbins=nbin_Psi)\n"
     ],
     "language": "python",
     "metadata": {},
     "outputs": [],
     "prompt_number": 14
    },
    {
     "cell_type": "code",
     "collapsed": false,
     "input": [
      "canvas = rootnotes.random_canvas(size=(1024, 768))\n",
      "\n",
      "fu.SetTitle(\"\")\n",
      "fu.SetXTitle(\"Inv. mass(J/#psi #pi #pi), GeV/c^{2}\")\n",
      "fu.SetYTitle(\"Events / %.1f MeV/c^{2}\" % binning_psi)\n",
      "\n",
      "# fu.SetAxisRange(0.5, 5500, 'Y')\n",
      "\n",
      "fu.Draw()\n",
      "\n",
      "\n",
      "canvas.SetLogy()\n",
      "canvas"
     ],
     "language": "python",
     "metadata": {},
     "outputs": [
      {
       "metadata": {},
       "output_type": "pyout",
       "png": "[encoded data removed]",
       "prompt_number": 15,
       "text": [
        "<ROOT.TCanvas object (\"7e6a7248-e8c7-487b-9c31-7404d7a79107\") at 0x69893d0>"
       ]
      }
     ],
     "prompt_number": 15
    },
    {
     "cell_type": "code",
     "collapsed": false,
     "input": [
      "ipython_tools.params_table(ru)"
     ],
     "language": "python",
     "metadata": {},
     "outputs": [
      {
       "html": [
        "Fit status: <b>Full, accurate covariance matrix</b><br/>minNll: <b>-451631.436994</b><br/><table><tr><th>Name</th> <th>Value</th> <th>Min</th> <th>Max</th> </tr><tr><th>aR_psi2s</th> <th>( 1.57865 +- 0.0502046 )</th> <th>0.0</th> <th>10.0</th></tr><tr><th>nL_psi2s</th> <th>( 1.20609 +- 0.159984 )</th> <th>0.0</th> <th>10.0</th></tr><tr><th>nR_psi2s</th> <th>( 11.9058 +- 2.74198 )</th> <th>0.0</th> <th>20.0</th></tr><tr><th>mean_psi2s</th> <th>( 3.68634 +- 1.53348e-05 )</th> <th>3.666</th> <th>3.706</th></tr><tr><th>sigma_psi2s</th> <th>( 0.00217837 +- 1.7265e-05 )</th> <th>0.0</th> <th>0.0138564064606</th></tr><tr><th>SRes</th> <th>( 32506 +- 180.294 )</th> <th>0.0</th> <th>1000000.0</th></tr><tr><th>aL_psi2s</th> <th>( 1.82537 +- 0.0444442 )</th> <th>0.0</th> <th>10.0</th></tr></table>"
       ],
       "metadata": {},
       "output_type": "pyout",
       "prompt_number": 17,
       "text": [
        "<IPython.core.display.HTML at 0x682a750>"
       ]
      }
     ],
     "prompt_number": 17
    },
    {
     "cell_type": "code",
     "collapsed": false,
     "input": [],
     "language": "python",
     "metadata": {},
     "outputs": [],
     "prompt_number": 12
    }
   ],
   "metadata": {}
  }
 ]
}